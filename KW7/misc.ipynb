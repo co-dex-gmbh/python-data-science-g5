{
 "cells": [
  {
   "cell_type": "code",
   "execution_count": 2,
   "metadata": {},
   "outputs": [
    {
     "data": {
      "text/html": [
       "<div>\n",
       "<style scoped>\n",
       "    .dataframe tbody tr th:only-of-type {\n",
       "        vertical-align: middle;\n",
       "    }\n",
       "\n",
       "    .dataframe tbody tr th {\n",
       "        vertical-align: top;\n",
       "    }\n",
       "\n",
       "    .dataframe thead th {\n",
       "        text-align: right;\n",
       "    }\n",
       "</style>\n",
       "<table border=\"1\" class=\"dataframe\">\n",
       "  <thead>\n",
       "    <tr style=\"text-align: right;\">\n",
       "      <th></th>\n",
       "      <th>date</th>\n",
       "      <th>title</th>\n",
       "      <th>location</th>\n",
       "      <th>link</th>\n",
       "      <th>details</th>\n",
       "      <th>number</th>\n",
       "    </tr>\n",
       "  </thead>\n",
       "  <tbody>\n",
       "    <tr>\n",
       "      <th>0</th>\n",
       "      <td>05.02.2025 11:10 Uhr</td>\n",
       "      <td>Sachbeschädigung an einem Wahlkreisbüro</td>\n",
       "      <td>Neukölln</td>\n",
       "      <td>/polizei/polizeimeldungen/2025/pressemitteilun...</td>\n",
       "      <td>Gestern Abend wurden in Gropiusstadt Farbschmi...</td>\n",
       "      <td>323.0</td>\n",
       "    </tr>\n",
       "    <tr>\n",
       "      <th>1</th>\n",
       "      <td>05.02.2025 09:31 Uhr</td>\n",
       "      <td>Arbeitsunfall bei Tatortermittlungen – Krimina...</td>\n",
       "      <td>Neukölln</td>\n",
       "      <td>/polizei/polizeimeldungen/2025/pressemitteilun...</td>\n",
       "      <td>Gestern Mittag verletzte sich ein Kriminalpoli...</td>\n",
       "      <td>322.0</td>\n",
       "    </tr>\n",
       "    <tr>\n",
       "      <th>2</th>\n",
       "      <td>05.02.2025 09:26 Uhr</td>\n",
       "      <td>Wahlkampfhelfer attackiert</td>\n",
       "      <td>Tempelhof-Schöneberg</td>\n",
       "      <td>/polizei/polizeimeldungen/2025/pressemitteilun...</td>\n",
       "      <td>Gestern Abend wurden zwei Wahlkampfhelfer eine...</td>\n",
       "      <td>321.0</td>\n",
       "    </tr>\n",
       "    <tr>\n",
       "      <th>3</th>\n",
       "      <td>04.02.2025 14:59 Uhr</td>\n",
       "      <td>Zwei Jugendliche beschädigen 17 Wahlplakate</td>\n",
       "      <td>Tempelhof-Schöneberg</td>\n",
       "      <td>/polizei/polizeimeldungen/2025/pressemitteilun...</td>\n",
       "      <td>In der vergangenen Nacht beschädigten zwei Jug...</td>\n",
       "      <td>320.0</td>\n",
       "    </tr>\n",
       "    <tr>\n",
       "      <th>4</th>\n",
       "      <td>04.02.2025 14:56 Uhr</td>\n",
       "      <td>Polizisten angegriffen - Festnahme</td>\n",
       "      <td>Friedrichshain-Kreuzberg</td>\n",
       "      <td>/polizei/polizeimeldungen/2025/pressemitteilun...</td>\n",
       "      <td>Gestern Mittag griff ein Mann in Kreuzberg zwe...</td>\n",
       "      <td>319.0</td>\n",
       "    </tr>\n",
       "  </tbody>\n",
       "</table>\n",
       "</div>"
      ],
      "text/plain": [
       "                   date                                              title  \\\n",
       "0  05.02.2025 11:10 Uhr            Sachbeschädigung an einem Wahlkreisbüro   \n",
       "1  05.02.2025 09:31 Uhr  Arbeitsunfall bei Tatortermittlungen – Krimina...   \n",
       "2  05.02.2025 09:26 Uhr                         Wahlkampfhelfer attackiert   \n",
       "3  04.02.2025 14:59 Uhr        Zwei Jugendliche beschädigen 17 Wahlplakate   \n",
       "4  04.02.2025 14:56 Uhr                 Polizisten angegriffen - Festnahme   \n",
       "\n",
       "                   location  \\\n",
       "0                  Neukölln   \n",
       "1                  Neukölln   \n",
       "2      Tempelhof-Schöneberg   \n",
       "3      Tempelhof-Schöneberg   \n",
       "4  Friedrichshain-Kreuzberg   \n",
       "\n",
       "                                                link  \\\n",
       "0  /polizei/polizeimeldungen/2025/pressemitteilun...   \n",
       "1  /polizei/polizeimeldungen/2025/pressemitteilun...   \n",
       "2  /polizei/polizeimeldungen/2025/pressemitteilun...   \n",
       "3  /polizei/polizeimeldungen/2025/pressemitteilun...   \n",
       "4  /polizei/polizeimeldungen/2025/pressemitteilun...   \n",
       "\n",
       "                                             details  number  \n",
       "0  Gestern Abend wurden in Gropiusstadt Farbschmi...   323.0  \n",
       "1  Gestern Mittag verletzte sich ein Kriminalpoli...   322.0  \n",
       "2  Gestern Abend wurden zwei Wahlkampfhelfer eine...   321.0  \n",
       "3  In der vergangenen Nacht beschädigten zwei Jug...   320.0  \n",
       "4  Gestern Mittag griff ein Mann in Kreuzberg zwe...   319.0  "
      ]
     },
     "execution_count": 2,
     "metadata": {},
     "output_type": "execute_result"
    }
   ],
   "source": [
    "import pandas as pd\n",
    "\n",
    "# Load the police reports list as a DataFrame\n",
    "df_police_reports = pd.read_json('police_reports.json')\n",
    "\n",
    "# Display the first few records to verify\n",
    "df_police_reports.head()"
   ]
  },
  {
   "cell_type": "code",
   "execution_count": 5,
   "metadata": {},
   "outputs": [
    {
     "name": "stderr",
     "output_type": "stream",
     "text": [
      "Device set to use mps:0\n"
     ]
    },
    {
     "name": "stdout",
     "output_type": "stream",
     "text": [
      "{'sequence': 'Ein Mann wurde gestern bei einem Messerangriff in Berlin tödlich verletzt.', 'labels': ['tödlicher Angriff', 'keine Gefahr'], 'scores': [0.9936944246292114, 0.006305558141320944]}\n"
     ]
    }
   ],
   "source": [
    "from transformers import pipeline\n",
    "classifier = pipeline(\"zero-shot-classification\",\n",
    "                      model=\"facebook/bart-large-mnli\")\n",
    "text = \"Ein Mann wurde gestern bei einem Messerangriff in Berlin tödlich verletzt.\"\n",
    "labels = [\"tödlicher Angriff\", \"keine Gefahr\"]\n",
    "result = classifier(text, labels)\n",
    "print(result)"
   ]
  },
  {
   "cell_type": "code",
   "execution_count": 9,
   "metadata": {},
   "outputs": [
    {
     "name": "stdout",
     "output_type": "stream",
     "text": [
      "                                               details  \\\n",
      "0    Gestern Abend wurden in Gropiusstadt Farbschmi...   \n",
      "1    Gestern Mittag verletzte sich ein Kriminalpoli...   \n",
      "2    Gestern Abend wurden zwei Wahlkampfhelfer eine...   \n",
      "3    In der vergangenen Nacht beschädigten zwei Jug...   \n",
      "4    Gestern Mittag griff ein Mann in Kreuzberg zwe...   \n",
      "..                                                 ...   \n",
      "114  In der vergangenen Nacht wurden Polizeikräfte ...   \n",
      "115  Gestern Abend nahmen Einsatzkräfte in Neukölln...   \n",
      "116  Gestern Nachmittag bedrohte ein Mann mehrere K...   \n",
      "117  Gemeinsame Meldung Polizei Berlin, Hauptzollam...   \n",
      "118  Wegen eines Vorfalls in Wedding ermittelt seit...   \n",
      "\n",
      "                                        classification  \n",
      "0    {'sequence': 'Gestern Abend wurden in Gropiuss...  \n",
      "1    {'sequence': 'Gestern Mittag verletzte sich ei...  \n",
      "2    {'sequence': 'Gestern Abend wurden zwei Wahlka...  \n",
      "3    {'sequence': 'In der vergangenen Nacht beschäd...  \n",
      "4    {'sequence': 'Gestern Mittag griff ein Mann in...  \n",
      "..                                                 ...  \n",
      "114  {'sequence': 'In der vergangenen Nacht wurden ...  \n",
      "115  {'sequence': 'Gestern Abend nahmen Einsatzkräf...  \n",
      "116  {'sequence': 'Gestern Nachmittag bedrohte ein ...  \n",
      "117  {'sequence': 'Gemeinsame Meldung Polizei Berli...  \n",
      "118  {'sequence': 'Wegen eines Vorfalls in Wedding ...  \n",
      "\n",
      "[119 rows x 2 columns]\n"
     ]
    }
   ],
   "source": [
    "# Apply the classifier to the 'details' column\n",
    "df_police_reports[['tödlicher Angriff', 'keine Gefahr']] = df_police_reports['details'].apply(lambda x: pd.Series(classifier(x, labels)['scores']))\n",
    "\n",
    "# Display the dataframe with the new classification column\n",
    "print(df_police_reports[['details', 'classification']])"
   ]
  },
  {
   "cell_type": "code",
   "execution_count": 17,
   "metadata": {},
   "outputs": [],
   "source": [
    "df_police_reports.loc[df_police_reports['tödlicher Angriff'] >\n",
    "                      0.8, \"details\"].to_csv('tödliche_angriffe.csv', index=False)"
   ]
  },
  {
   "cell_type": "code",
   "execution_count": 24,
   "metadata": {},
   "outputs": [
    {
     "data": {
      "text/plain": [
       "Brennendes"
      ]
     },
     "execution_count": 24,
     "metadata": {},
     "output_type": "execute_result"
    }
   ],
   "source": [
    "word = \"Brennendes\"\n",
    "\n",
    "import spacy\n",
    "\n",
    "\n",
    "nlp = spacy.load(\"de_core_news_lg\")\n",
    "nlp.add_pipe(\"sentencizer\")\n",
    "\n",
    "\n",
    "doc = nlp(word)\n",
    "\n",
    "\n",
    "doc"
   ]
  },
  {
   "cell_type": "code",
   "execution_count": null,
   "metadata": {},
   "outputs": [],
   "source": []
  },
  {
   "cell_type": "code",
   "execution_count": 9,
   "metadata": {},
   "outputs": [
    {
     "name": "stdout",
     "output_type": "stream",
     "text": [
      "Brennendes: NOUN\n"
     ]
    }
   ],
   "source": [
    "\n",
    "token = doc[0]\n",
    "print(f'{token.text}: {token.pos_}')"
   ]
  },
  {
   "cell_type": "code",
   "execution_count": 11,
   "metadata": {},
   "outputs": [
    {
     "name": "stdout",
     "output_type": "stream",
     "text": [
      "Brennendes Brennendes NOUN NN ROOT Xxxxx True False\n"
     ]
    }
   ],
   "source": [
    "print(token.text, token.lemma_, token.pos_, token.tag_, token.dep_,\n",
    "            token.shape_, token.is_alpha, token.is_stop)"
   ]
  },
  {
   "cell_type": "code",
   "execution_count": 14,
   "metadata": {},
   "outputs": [
    {
     "name": "stdout",
     "output_type": "stream",
     "text": [
      "True\n"
     ]
    }
   ],
   "source": [
    "print(token.is_sent_start)"
   ]
  },
  {
   "cell_type": "code",
   "execution_count": 21,
   "metadata": {},
   "outputs": [
    {
     "data": {
      "text/plain": [
       "True"
      ]
     },
     "execution_count": 21,
     "metadata": {},
     "output_type": "execute_result"
    }
   ],
   "source": [
    "token.is_title"
   ]
  },
  {
   "cell_type": "code",
   "execution_count": null,
   "metadata": {},
   "outputs": [],
   "source": []
  }
 ],
 "metadata": {
  "kernelspec": {
   "display_name": "venv",
   "language": "python",
   "name": "python3"
  },
  "language_info": {
   "codemirror_mode": {
    "name": "ipython",
    "version": 3
   },
   "file_extension": ".py",
   "mimetype": "text/x-python",
   "name": "python",
   "nbconvert_exporter": "python",
   "pygments_lexer": "ipython3",
   "version": "3.11.10"
  }
 },
 "nbformat": 4,
 "nbformat_minor": 2
}
