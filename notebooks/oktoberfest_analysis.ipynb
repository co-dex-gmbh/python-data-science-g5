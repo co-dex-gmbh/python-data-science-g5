{
 "cells": [
  {
   "cell_type": "markdown",
   "metadata": {},
   "source": [
    "# Oktoberfest\n",
    "\n",
    "## Hypothesen\n",
    "- Bierpreis und Brathähnchenpreis korrelieren\n",
    "- Absatz korreliert mit dem Preis (höherer Preis -> weniger Absatz oder weniger Absatz -> höherer Preis)\n",
    "- Der Bierkonsum je Person hat abgenommen\n",
    "- Die Besucherzahlen sind gestiegen\n",
    "- Bier ist auch inflationsbereinigt teurer geworden -> Inflationsdaten suchen\n",
    "- Der Preis von Bier ist stärker als der von Hähnchen gestiegen\n",
    "- Der Bierpreis steigt propotional mit dem BIP -> BIP herausfinden"
   ]
  },
  {
   "cell_type": "markdown",
   "metadata": {},
   "source": [
    "er Datensatz Oktoberfest umfasst derzeit die jährlichen Zahlen zu Dauer des Oktoberfestes, Besucherzahlen gesamt, Besucherzahlen täglich, Bierpreise, Bierkonsum, Brathähnchenpreise, Brathähnchenkonsum. * jahr * dauer * besucher_gesamt (in Millionen) * besucher_tag (in 1000) * bier_preis (1 Liter) * bier_konsum (in Hektoliter) * hendl_preis * hendl_konsum "
   ]
  },
  {
   "cell_type": "code",
   "execution_count": 2,
   "metadata": {},
   "outputs": [
    {
     "data": {
      "text/html": [
       "<div>\n",
       "<style scoped>\n",
       "    .dataframe tbody tr th:only-of-type {\n",
       "        vertical-align: middle;\n",
       "    }\n",
       "\n",
       "    .dataframe tbody tr th {\n",
       "        vertical-align: top;\n",
       "    }\n",
       "\n",
       "    .dataframe thead th {\n",
       "        text-align: right;\n",
       "    }\n",
       "</style>\n",
       "<table border=\"1\" class=\"dataframe\">\n",
       "  <thead>\n",
       "    <tr style=\"text-align: right;\">\n",
       "      <th></th>\n",
       "      <th>jahr</th>\n",
       "      <th>dauer</th>\n",
       "      <th>besucher_gesamt</th>\n",
       "      <th>besucher_tag</th>\n",
       "      <th>bier_preis</th>\n",
       "      <th>bier_konsum</th>\n",
       "      <th>hendl_preis</th>\n",
       "      <th>hendl_konsum</th>\n",
       "    </tr>\n",
       "  </thead>\n",
       "  <tbody>\n",
       "    <tr>\n",
       "      <th>0</th>\n",
       "      <td>1985</td>\n",
       "      <td>16</td>\n",
       "      <td>7.1</td>\n",
       "      <td>444</td>\n",
       "      <td>3.20</td>\n",
       "      <td>54541</td>\n",
       "      <td>4.77</td>\n",
       "      <td>629520</td>\n",
       "    </tr>\n",
       "    <tr>\n",
       "      <th>1</th>\n",
       "      <td>1986</td>\n",
       "      <td>16</td>\n",
       "      <td>6.7</td>\n",
       "      <td>419</td>\n",
       "      <td>3.30</td>\n",
       "      <td>53807</td>\n",
       "      <td>3.92</td>\n",
       "      <td>698137</td>\n",
       "    </tr>\n",
       "    <tr>\n",
       "      <th>2</th>\n",
       "      <td>1987</td>\n",
       "      <td>16</td>\n",
       "      <td>6.5</td>\n",
       "      <td>406</td>\n",
       "      <td>3.37</td>\n",
       "      <td>51842</td>\n",
       "      <td>3.98</td>\n",
       "      <td>732859</td>\n",
       "    </tr>\n",
       "    <tr>\n",
       "      <th>3</th>\n",
       "      <td>1988</td>\n",
       "      <td>16</td>\n",
       "      <td>5.7</td>\n",
       "      <td>356</td>\n",
       "      <td>3.45</td>\n",
       "      <td>50951</td>\n",
       "      <td>4.19</td>\n",
       "      <td>720139</td>\n",
       "    </tr>\n",
       "    <tr>\n",
       "      <th>4</th>\n",
       "      <td>1989</td>\n",
       "      <td>16</td>\n",
       "      <td>6.2</td>\n",
       "      <td>388</td>\n",
       "      <td>3.60</td>\n",
       "      <td>51241</td>\n",
       "      <td>4.22</td>\n",
       "      <td>775674</td>\n",
       "    </tr>\n",
       "    <tr>\n",
       "      <th>5</th>\n",
       "      <td>1990</td>\n",
       "      <td>16</td>\n",
       "      <td>6.7</td>\n",
       "      <td>419</td>\n",
       "      <td>3.77</td>\n",
       "      <td>54300</td>\n",
       "      <td>4.47</td>\n",
       "      <td>750947</td>\n",
       "    </tr>\n",
       "    <tr>\n",
       "      <th>6</th>\n",
       "      <td>1991</td>\n",
       "      <td>16</td>\n",
       "      <td>6.4</td>\n",
       "      <td>400</td>\n",
       "      <td>4.21</td>\n",
       "      <td>54686</td>\n",
       "      <td>4.81</td>\n",
       "      <td>807710</td>\n",
       "    </tr>\n",
       "    <tr>\n",
       "      <th>7</th>\n",
       "      <td>1992</td>\n",
       "      <td>16</td>\n",
       "      <td>5.9</td>\n",
       "      <td>369</td>\n",
       "      <td>4.42</td>\n",
       "      <td>48888</td>\n",
       "      <td>5.11</td>\n",
       "      <td>725612</td>\n",
       "    </tr>\n",
       "    <tr>\n",
       "      <th>8</th>\n",
       "      <td>1993</td>\n",
       "      <td>16</td>\n",
       "      <td>6.5</td>\n",
       "      <td>406</td>\n",
       "      <td>4.71</td>\n",
       "      <td>51933</td>\n",
       "      <td>5.25</td>\n",
       "      <td>733517</td>\n",
       "    </tr>\n",
       "    <tr>\n",
       "      <th>9</th>\n",
       "      <td>1994</td>\n",
       "      <td>16</td>\n",
       "      <td>6.6</td>\n",
       "      <td>413</td>\n",
       "      <td>4.89</td>\n",
       "      <td>52108</td>\n",
       "      <td>5.39</td>\n",
       "      <td>663135</td>\n",
       "    </tr>\n",
       "    <tr>\n",
       "      <th>10</th>\n",
       "      <td>1995</td>\n",
       "      <td>16</td>\n",
       "      <td>6.7</td>\n",
       "      <td>419</td>\n",
       "      <td>5.15</td>\n",
       "      <td>50162</td>\n",
       "      <td>5.54</td>\n",
       "      <td>628890</td>\n",
       "    </tr>\n",
       "    <tr>\n",
       "      <th>11</th>\n",
       "      <td>1996</td>\n",
       "      <td>16</td>\n",
       "      <td>6.9</td>\n",
       "      <td>431</td>\n",
       "      <td>5.24</td>\n",
       "      <td>52622</td>\n",
       "      <td>5.45</td>\n",
       "      <td>595580</td>\n",
       "    </tr>\n",
       "    <tr>\n",
       "      <th>12</th>\n",
       "      <td>1997</td>\n",
       "      <td>16</td>\n",
       "      <td>6.4</td>\n",
       "      <td>400</td>\n",
       "      <td>5.45</td>\n",
       "      <td>55891</td>\n",
       "      <td>5.38</td>\n",
       "      <td>699562</td>\n",
       "    </tr>\n",
       "    <tr>\n",
       "      <th>13</th>\n",
       "      <td>1998</td>\n",
       "      <td>16</td>\n",
       "      <td>6.5</td>\n",
       "      <td>406</td>\n",
       "      <td>5.60</td>\n",
       "      <td>54782</td>\n",
       "      <td>5.34</td>\n",
       "      <td>603746</td>\n",
       "    </tr>\n",
       "    <tr>\n",
       "      <th>14</th>\n",
       "      <td>1999</td>\n",
       "      <td>16</td>\n",
       "      <td>6.5</td>\n",
       "      <td>406</td>\n",
       "      <td>5.80</td>\n",
       "      <td>60054</td>\n",
       "      <td>5.38</td>\n",
       "      <td>609661</td>\n",
       "    </tr>\n",
       "    <tr>\n",
       "      <th>15</th>\n",
       "      <td>2000</td>\n",
       "      <td>18</td>\n",
       "      <td>6.9</td>\n",
       "      <td>383</td>\n",
       "      <td>6.35</td>\n",
       "      <td>64591</td>\n",
       "      <td>7.85</td>\n",
       "      <td>681242</td>\n",
       "    </tr>\n",
       "    <tr>\n",
       "      <th>16</th>\n",
       "      <td>2001</td>\n",
       "      <td>16</td>\n",
       "      <td>5.5</td>\n",
       "      <td>344</td>\n",
       "      <td>6.47</td>\n",
       "      <td>48698</td>\n",
       "      <td>8.12</td>\n",
       "      <td>351705</td>\n",
       "    </tr>\n",
       "    <tr>\n",
       "      <th>17</th>\n",
       "      <td>2002</td>\n",
       "      <td>16</td>\n",
       "      <td>5.9</td>\n",
       "      <td>369</td>\n",
       "      <td>6.75</td>\n",
       "      <td>57614</td>\n",
       "      <td>8.10</td>\n",
       "      <td>459259</td>\n",
       "    </tr>\n",
       "    <tr>\n",
       "      <th>18</th>\n",
       "      <td>2003</td>\n",
       "      <td>16</td>\n",
       "      <td>6.3</td>\n",
       "      <td>394</td>\n",
       "      <td>6.75</td>\n",
       "      <td>62294</td>\n",
       "      <td>8.14</td>\n",
       "      <td>487487</td>\n",
       "    </tr>\n",
       "    <tr>\n",
       "      <th>19</th>\n",
       "      <td>2004</td>\n",
       "      <td>16</td>\n",
       "      <td>5.9</td>\n",
       "      <td>369</td>\n",
       "      <td>7.02</td>\n",
       "      <td>61163</td>\n",
       "      <td>8.28</td>\n",
       "      <td>481649</td>\n",
       "    </tr>\n",
       "    <tr>\n",
       "      <th>20</th>\n",
       "      <td>2005</td>\n",
       "      <td>17</td>\n",
       "      <td>6.1</td>\n",
       "      <td>359</td>\n",
       "      <td>7.15</td>\n",
       "      <td>61772</td>\n",
       "      <td>8.35</td>\n",
       "      <td>479610</td>\n",
       "    </tr>\n",
       "    <tr>\n",
       "      <th>21</th>\n",
       "      <td>2006</td>\n",
       "      <td>18</td>\n",
       "      <td>6.5</td>\n",
       "      <td>361</td>\n",
       "      <td>7.42</td>\n",
       "      <td>68617</td>\n",
       "      <td>8.50</td>\n",
       "      <td>494135</td>\n",
       "    </tr>\n",
       "    <tr>\n",
       "      <th>22</th>\n",
       "      <td>2007</td>\n",
       "      <td>16</td>\n",
       "      <td>6.2</td>\n",
       "      <td>388</td>\n",
       "      <td>7.85</td>\n",
       "      <td>69406</td>\n",
       "      <td>8.87</td>\n",
       "      <td>521872</td>\n",
       "    </tr>\n",
       "    <tr>\n",
       "      <th>23</th>\n",
       "      <td>2008</td>\n",
       "      <td>16</td>\n",
       "      <td>6.0</td>\n",
       "      <td>375</td>\n",
       "      <td>8.25</td>\n",
       "      <td>64922</td>\n",
       "      <td>9.06</td>\n",
       "      <td>459356</td>\n",
       "    </tr>\n",
       "    <tr>\n",
       "      <th>24</th>\n",
       "      <td>2009</td>\n",
       "      <td>16</td>\n",
       "      <td>5.7</td>\n",
       "      <td>356</td>\n",
       "      <td>8.53</td>\n",
       "      <td>66436</td>\n",
       "      <td>9.18</td>\n",
       "      <td>488137</td>\n",
       "    </tr>\n",
       "    <tr>\n",
       "      <th>25</th>\n",
       "      <td>2010</td>\n",
       "      <td>17</td>\n",
       "      <td>6.4</td>\n",
       "      <td>376</td>\n",
       "      <td>8.79</td>\n",
       "      <td>71000</td>\n",
       "      <td>9.60</td>\n",
       "      <td>505901</td>\n",
       "    </tr>\n",
       "    <tr>\n",
       "      <th>26</th>\n",
       "      <td>2011</td>\n",
       "      <td>17</td>\n",
       "      <td>6.9</td>\n",
       "      <td>406</td>\n",
       "      <td>9.09</td>\n",
       "      <td>79225</td>\n",
       "      <td>9.83</td>\n",
       "      <td>522821</td>\n",
       "    </tr>\n",
       "    <tr>\n",
       "      <th>27</th>\n",
       "      <td>2012</td>\n",
       "      <td>16</td>\n",
       "      <td>6.4</td>\n",
       "      <td>400</td>\n",
       "      <td>9.41</td>\n",
       "      <td>74025</td>\n",
       "      <td>10.07</td>\n",
       "      <td>508958</td>\n",
       "    </tr>\n",
       "    <tr>\n",
       "      <th>28</th>\n",
       "      <td>2013</td>\n",
       "      <td>16</td>\n",
       "      <td>6.4</td>\n",
       "      <td>400</td>\n",
       "      <td>9.78</td>\n",
       "      <td>77031</td>\n",
       "      <td>11.10</td>\n",
       "      <td>482361</td>\n",
       "    </tr>\n",
       "    <tr>\n",
       "      <th>29</th>\n",
       "      <td>2014</td>\n",
       "      <td>16</td>\n",
       "      <td>6.3</td>\n",
       "      <td>394</td>\n",
       "      <td>9.98</td>\n",
       "      <td>76808</td>\n",
       "      <td>10.49</td>\n",
       "      <td>509420</td>\n",
       "    </tr>\n",
       "    <tr>\n",
       "      <th>30</th>\n",
       "      <td>2015</td>\n",
       "      <td>16</td>\n",
       "      <td>5.9</td>\n",
       "      <td>369</td>\n",
       "      <td>10.27</td>\n",
       "      <td>75134</td>\n",
       "      <td>10.75</td>\n",
       "      <td>503510</td>\n",
       "    </tr>\n",
       "    <tr>\n",
       "      <th>31</th>\n",
       "      <td>2016</td>\n",
       "      <td>17</td>\n",
       "      <td>5.6</td>\n",
       "      <td>329</td>\n",
       "      <td>10.57</td>\n",
       "      <td>66231</td>\n",
       "      <td>11.00</td>\n",
       "      <td>366876</td>\n",
       "    </tr>\n",
       "    <tr>\n",
       "      <th>32</th>\n",
       "      <td>2017</td>\n",
       "      <td>18</td>\n",
       "      <td>6.2</td>\n",
       "      <td>344</td>\n",
       "      <td>10.87</td>\n",
       "      <td>77836</td>\n",
       "      <td>11.41</td>\n",
       "      <td>466747</td>\n",
       "    </tr>\n",
       "    <tr>\n",
       "      <th>33</th>\n",
       "      <td>2018</td>\n",
       "      <td>16</td>\n",
       "      <td>6.3</td>\n",
       "      <td>394</td>\n",
       "      <td>11.30</td>\n",
       "      <td>78705</td>\n",
       "      <td>11.67</td>\n",
       "      <td>436492</td>\n",
       "    </tr>\n",
       "    <tr>\n",
       "      <th>34</th>\n",
       "      <td>2019</td>\n",
       "      <td>16</td>\n",
       "      <td>6.3</td>\n",
       "      <td>394</td>\n",
       "      <td>11.71</td>\n",
       "      <td>78502</td>\n",
       "      <td>12.15</td>\n",
       "      <td>434998</td>\n",
       "    </tr>\n",
       "    <tr>\n",
       "      <th>35</th>\n",
       "      <td>2022</td>\n",
       "      <td>17</td>\n",
       "      <td>5.7</td>\n",
       "      <td>335</td>\n",
       "      <td>13.45</td>\n",
       "      <td>71340</td>\n",
       "      <td>13.96</td>\n",
       "      <td>313636</td>\n",
       "    </tr>\n",
       "    <tr>\n",
       "      <th>36</th>\n",
       "      <td>2023</td>\n",
       "      <td>18</td>\n",
       "      <td>7.2</td>\n",
       "      <td>400</td>\n",
       "      <td>14.33</td>\n",
       "      <td>74418</td>\n",
       "      <td>15.89</td>\n",
       "      <td>396141</td>\n",
       "    </tr>\n",
       "  </tbody>\n",
       "</table>\n",
       "</div>"
      ],
      "text/plain": [
       "    jahr  dauer  besucher_gesamt  besucher_tag  bier_preis  bier_konsum  \\\n",
       "0   1985     16              7.1           444        3.20        54541   \n",
       "1   1986     16              6.7           419        3.30        53807   \n",
       "2   1987     16              6.5           406        3.37        51842   \n",
       "3   1988     16              5.7           356        3.45        50951   \n",
       "4   1989     16              6.2           388        3.60        51241   \n",
       "5   1990     16              6.7           419        3.77        54300   \n",
       "6   1991     16              6.4           400        4.21        54686   \n",
       "7   1992     16              5.9           369        4.42        48888   \n",
       "8   1993     16              6.5           406        4.71        51933   \n",
       "9   1994     16              6.6           413        4.89        52108   \n",
       "10  1995     16              6.7           419        5.15        50162   \n",
       "11  1996     16              6.9           431        5.24        52622   \n",
       "12  1997     16              6.4           400        5.45        55891   \n",
       "13  1998     16              6.5           406        5.60        54782   \n",
       "14  1999     16              6.5           406        5.80        60054   \n",
       "15  2000     18              6.9           383        6.35        64591   \n",
       "16  2001     16              5.5           344        6.47        48698   \n",
       "17  2002     16              5.9           369        6.75        57614   \n",
       "18  2003     16              6.3           394        6.75        62294   \n",
       "19  2004     16              5.9           369        7.02        61163   \n",
       "20  2005     17              6.1           359        7.15        61772   \n",
       "21  2006     18              6.5           361        7.42        68617   \n",
       "22  2007     16              6.2           388        7.85        69406   \n",
       "23  2008     16              6.0           375        8.25        64922   \n",
       "24  2009     16              5.7           356        8.53        66436   \n",
       "25  2010     17              6.4           376        8.79        71000   \n",
       "26  2011     17              6.9           406        9.09        79225   \n",
       "27  2012     16              6.4           400        9.41        74025   \n",
       "28  2013     16              6.4           400        9.78        77031   \n",
       "29  2014     16              6.3           394        9.98        76808   \n",
       "30  2015     16              5.9           369       10.27        75134   \n",
       "31  2016     17              5.6           329       10.57        66231   \n",
       "32  2017     18              6.2           344       10.87        77836   \n",
       "33  2018     16              6.3           394       11.30        78705   \n",
       "34  2019     16              6.3           394       11.71        78502   \n",
       "35  2022     17              5.7           335       13.45        71340   \n",
       "36  2023     18              7.2           400       14.33        74418   \n",
       "\n",
       "    hendl_preis  hendl_konsum  \n",
       "0          4.77        629520  \n",
       "1          3.92        698137  \n",
       "2          3.98        732859  \n",
       "3          4.19        720139  \n",
       "4          4.22        775674  \n",
       "5          4.47        750947  \n",
       "6          4.81        807710  \n",
       "7          5.11        725612  \n",
       "8          5.25        733517  \n",
       "9          5.39        663135  \n",
       "10         5.54        628890  \n",
       "11         5.45        595580  \n",
       "12         5.38        699562  \n",
       "13         5.34        603746  \n",
       "14         5.38        609661  \n",
       "15         7.85        681242  \n",
       "16         8.12        351705  \n",
       "17         8.10        459259  \n",
       "18         8.14        487487  \n",
       "19         8.28        481649  \n",
       "20         8.35        479610  \n",
       "21         8.50        494135  \n",
       "22         8.87        521872  \n",
       "23         9.06        459356  \n",
       "24         9.18        488137  \n",
       "25         9.60        505901  \n",
       "26         9.83        522821  \n",
       "27        10.07        508958  \n",
       "28        11.10        482361  \n",
       "29        10.49        509420  \n",
       "30        10.75        503510  \n",
       "31        11.00        366876  \n",
       "32        11.41        466747  \n",
       "33        11.67        436492  \n",
       "34        12.15        434998  \n",
       "35        13.96        313636  \n",
       "36        15.89        396141  "
      ]
     },
     "execution_count": 2,
     "metadata": {},
     "output_type": "execute_result"
    }
   ],
   "source": [
    "import pandas as pd\n",
    "\n",
    "data = pd.read_csv(\"../datasets/oktoberfest/Oktoberfest.csv\")\n",
    "data"
   ]
  },
  {
   "cell_type": "markdown",
   "metadata": {},
   "source": [
    "## Bierpreis und Brathähnchenpreis korrelieren\n",
    "\n",
    "**Lösungsideen**:\n",
    "1. Korrelationsmatrix (vielleicht zu viele Informationen)\n",
    "2. Korrelation zwischen Bierpreis und Brathähnchenpreis\n",
    "3. Headmap (vielleicht zu viele Informationen)\n",
    "4. Linienplot von Bierpreis zu Brathähnchenpreis"
   ]
  },
  {
   "cell_type": "code",
   "execution_count": 3,
   "metadata": {},
   "outputs": [
    {
     "data": {
      "text/html": [
       "<div>\n",
       "<style scoped>\n",
       "    .dataframe tbody tr th:only-of-type {\n",
       "        vertical-align: middle;\n",
       "    }\n",
       "\n",
       "    .dataframe tbody tr th {\n",
       "        vertical-align: top;\n",
       "    }\n",
       "\n",
       "    .dataframe thead th {\n",
       "        text-align: right;\n",
       "    }\n",
       "</style>\n",
       "<table border=\"1\" class=\"dataframe\">\n",
       "  <thead>\n",
       "    <tr style=\"text-align: right;\">\n",
       "      <th></th>\n",
       "      <th>jahr</th>\n",
       "      <th>dauer</th>\n",
       "      <th>besucher_gesamt</th>\n",
       "      <th>besucher_tag</th>\n",
       "      <th>bier_preis</th>\n",
       "      <th>bier_konsum</th>\n",
       "      <th>hendl_preis</th>\n",
       "      <th>hendl_konsum</th>\n",
       "    </tr>\n",
       "  </thead>\n",
       "  <tbody>\n",
       "    <tr>\n",
       "      <th>jahr</th>\n",
       "      <td>1.000000</td>\n",
       "      <td>0.431585</td>\n",
       "      <td>-0.224676</td>\n",
       "      <td>-0.464461</td>\n",
       "      <td>0.987373</td>\n",
       "      <td>0.891805</td>\n",
       "      <td>0.972099</td>\n",
       "      <td>-0.849738</td>\n",
       "    </tr>\n",
       "    <tr>\n",
       "      <th>dauer</th>\n",
       "      <td>0.431585</td>\n",
       "      <td>1.000000</td>\n",
       "      <td>0.207552</td>\n",
       "      <td>-0.379872</td>\n",
       "      <td>0.451416</td>\n",
       "      <td>0.417834</td>\n",
       "      <td>0.486183</td>\n",
       "      <td>-0.320696</td>\n",
       "    </tr>\n",
       "    <tr>\n",
       "      <th>besucher_gesamt</th>\n",
       "      <td>-0.224676</td>\n",
       "      <td>0.207552</td>\n",
       "      <td>1.000000</td>\n",
       "      <td>0.825458</td>\n",
       "      <td>-0.172882</td>\n",
       "      <td>0.003398</td>\n",
       "      <td>-0.167549</td>\n",
       "      <td>0.369292</td>\n",
       "    </tr>\n",
       "    <tr>\n",
       "      <th>besucher_tag</th>\n",
       "      <td>-0.464461</td>\n",
       "      <td>-0.379872</td>\n",
       "      <td>0.825458</td>\n",
       "      <td>1.000000</td>\n",
       "      <td>-0.427588</td>\n",
       "      <td>-0.239164</td>\n",
       "      <td>-0.443895</td>\n",
       "      <td>0.535306</td>\n",
       "    </tr>\n",
       "    <tr>\n",
       "      <th>bier_preis</th>\n",
       "      <td>0.987373</td>\n",
       "      <td>0.451416</td>\n",
       "      <td>-0.172882</td>\n",
       "      <td>-0.427588</td>\n",
       "      <td>1.000000</td>\n",
       "      <td>0.873294</td>\n",
       "      <td>0.987088</td>\n",
       "      <td>-0.830647</td>\n",
       "    </tr>\n",
       "    <tr>\n",
       "      <th>bier_konsum</th>\n",
       "      <td>0.891805</td>\n",
       "      <td>0.417834</td>\n",
       "      <td>0.003398</td>\n",
       "      <td>-0.239164</td>\n",
       "      <td>0.873294</td>\n",
       "      <td>1.000000</td>\n",
       "      <td>0.861783</td>\n",
       "      <td>-0.645371</td>\n",
       "    </tr>\n",
       "    <tr>\n",
       "      <th>hendl_preis</th>\n",
       "      <td>0.972099</td>\n",
       "      <td>0.486183</td>\n",
       "      <td>-0.167549</td>\n",
       "      <td>-0.443895</td>\n",
       "      <td>0.987088</td>\n",
       "      <td>0.861783</td>\n",
       "      <td>1.000000</td>\n",
       "      <td>-0.852913</td>\n",
       "    </tr>\n",
       "    <tr>\n",
       "      <th>hendl_konsum</th>\n",
       "      <td>-0.849738</td>\n",
       "      <td>-0.320696</td>\n",
       "      <td>0.369292</td>\n",
       "      <td>0.535306</td>\n",
       "      <td>-0.830647</td>\n",
       "      <td>-0.645371</td>\n",
       "      <td>-0.852913</td>\n",
       "      <td>1.000000</td>\n",
       "    </tr>\n",
       "  </tbody>\n",
       "</table>\n",
       "</div>"
      ],
      "text/plain": [
       "                     jahr     dauer  besucher_gesamt  besucher_tag  \\\n",
       "jahr             1.000000  0.431585        -0.224676     -0.464461   \n",
       "dauer            0.431585  1.000000         0.207552     -0.379872   \n",
       "besucher_gesamt -0.224676  0.207552         1.000000      0.825458   \n",
       "besucher_tag    -0.464461 -0.379872         0.825458      1.000000   \n",
       "bier_preis       0.987373  0.451416        -0.172882     -0.427588   \n",
       "bier_konsum      0.891805  0.417834         0.003398     -0.239164   \n",
       "hendl_preis      0.972099  0.486183        -0.167549     -0.443895   \n",
       "hendl_konsum    -0.849738 -0.320696         0.369292      0.535306   \n",
       "\n",
       "                 bier_preis  bier_konsum  hendl_preis  hendl_konsum  \n",
       "jahr               0.987373     0.891805     0.972099     -0.849738  \n",
       "dauer              0.451416     0.417834     0.486183     -0.320696  \n",
       "besucher_gesamt   -0.172882     0.003398    -0.167549      0.369292  \n",
       "besucher_tag      -0.427588    -0.239164    -0.443895      0.535306  \n",
       "bier_preis         1.000000     0.873294     0.987088     -0.830647  \n",
       "bier_konsum        0.873294     1.000000     0.861783     -0.645371  \n",
       "hendl_preis        0.987088     0.861783     1.000000     -0.852913  \n",
       "hendl_konsum      -0.830647    -0.645371    -0.852913      1.000000  "
      ]
     },
     "execution_count": 3,
     "metadata": {},
     "output_type": "execute_result"
    }
   ],
   "source": [
    "# Korrelationsmatrix\n",
    "data.corr()"
   ]
  },
  {
   "cell_type": "code",
   "execution_count": 4,
   "metadata": {},
   "outputs": [
    {
     "name": "stdout",
     "output_type": "stream",
     "text": [
      "0.9870883467867277\n",
      "0.9870883467867279\n"
     ]
    },
    {
     "data": {
      "text/html": [
       "<div>\n",
       "<style scoped>\n",
       "    .dataframe tbody tr th:only-of-type {\n",
       "        vertical-align: middle;\n",
       "    }\n",
       "\n",
       "    .dataframe tbody tr th {\n",
       "        vertical-align: top;\n",
       "    }\n",
       "\n",
       "    .dataframe thead th {\n",
       "        text-align: right;\n",
       "    }\n",
       "</style>\n",
       "<table border=\"1\" class=\"dataframe\">\n",
       "  <thead>\n",
       "    <tr style=\"text-align: right;\">\n",
       "      <th></th>\n",
       "      <th>bier_preis</th>\n",
       "      <th>hendl_preis</th>\n",
       "    </tr>\n",
       "  </thead>\n",
       "  <tbody>\n",
       "    <tr>\n",
       "      <th>bier_preis</th>\n",
       "      <td>1.000000</td>\n",
       "      <td>0.987088</td>\n",
       "    </tr>\n",
       "    <tr>\n",
       "      <th>hendl_preis</th>\n",
       "      <td>0.987088</td>\n",
       "      <td>1.000000</td>\n",
       "    </tr>\n",
       "  </tbody>\n",
       "</table>\n",
       "</div>"
      ],
      "text/plain": [
       "             bier_preis  hendl_preis\n",
       "bier_preis     1.000000     0.987088\n",
       "hendl_preis    0.987088     1.000000"
      ]
     },
     "execution_count": 4,
     "metadata": {},
     "output_type": "execute_result"
    }
   ],
   "source": [
    "# 3 Varianten:\n",
    "\n",
    "print(data[\"bier_preis\"].corr(data[\"hendl_preis\"])) # *\n",
    "print(data.corr()[\"hendl_preis\"][\"bier_preis\"]) # Kann rechenintensiv werden\n",
    "data[[\"bier_preis\", \"hendl_preis\"]].corr() # *"
   ]
  },
  {
   "cell_type": "code",
   "execution_count": 5,
   "metadata": {},
   "outputs": [
    {
     "data": {
      "text/html": [
       "<svg  width=\"550\" height=\"55\"><rect x=\"0\" y=\"0\" width=\"55\" height=\"55\" style=\"fill:#1f77b4;stroke-width:2;stroke:rgb(255,255,255)\"/><rect x=\"55\" y=\"0\" width=\"55\" height=\"55\" style=\"fill:#ff7f0e;stroke-width:2;stroke:rgb(255,255,255)\"/><rect x=\"110\" y=\"0\" width=\"55\" height=\"55\" style=\"fill:#2ca02c;stroke-width:2;stroke:rgb(255,255,255)\"/><rect x=\"165\" y=\"0\" width=\"55\" height=\"55\" style=\"fill:#d62728;stroke-width:2;stroke:rgb(255,255,255)\"/><rect x=\"220\" y=\"0\" width=\"55\" height=\"55\" style=\"fill:#9467bd;stroke-width:2;stroke:rgb(255,255,255)\"/><rect x=\"275\" y=\"0\" width=\"55\" height=\"55\" style=\"fill:#8c564b;stroke-width:2;stroke:rgb(255,255,255)\"/><rect x=\"330\" y=\"0\" width=\"55\" height=\"55\" style=\"fill:#e377c2;stroke-width:2;stroke:rgb(255,255,255)\"/><rect x=\"385\" y=\"0\" width=\"55\" height=\"55\" style=\"fill:#7f7f7f;stroke-width:2;stroke:rgb(255,255,255)\"/><rect x=\"440\" y=\"0\" width=\"55\" height=\"55\" style=\"fill:#bcbd22;stroke-width:2;stroke:rgb(255,255,255)\"/><rect x=\"495\" y=\"0\" width=\"55\" height=\"55\" style=\"fill:#17becf;stroke-width:2;stroke:rgb(255,255,255)\"/></svg>"
      ],
      "text/plain": [
       "[(0.12156862745098039, 0.4666666666666667, 0.7058823529411765),\n",
       " (1.0, 0.4980392156862745, 0.054901960784313725),\n",
       " (0.17254901960784313, 0.6274509803921569, 0.17254901960784313),\n",
       " (0.8392156862745098, 0.15294117647058825, 0.1568627450980392),\n",
       " (0.5803921568627451, 0.403921568627451, 0.7411764705882353),\n",
       " (0.5490196078431373, 0.33725490196078434, 0.29411764705882354),\n",
       " (0.8901960784313725, 0.4666666666666667, 0.7607843137254902),\n",
       " (0.4980392156862745, 0.4980392156862745, 0.4980392156862745),\n",
       " (0.7372549019607844, 0.7411764705882353, 0.13333333333333333),\n",
       " (0.09019607843137255, 0.7450980392156863, 0.8117647058823529)]"
      ]
     },
     "execution_count": 5,
     "metadata": {},
     "output_type": "execute_result"
    }
   ],
   "source": [
    "import seaborn as sns\n",
    "\n",
    "sns.color_palette()"
   ]
  },
  {
   "cell_type": "code",
   "execution_count": 6,
   "metadata": {},
   "outputs": [
    {
     "data": {
      "text/plain": [
       "<Axes: >"
      ]
     },
     "execution_count": 6,
     "metadata": {},
     "output_type": "execute_result"
    },
    {
     "data": {
      "image/png": "[encoded data removed]",
      "text/plain": [
       "<Figure size 640x480 with 2 Axes>"
      ]
     },
     "metadata": {},
     "output_type": "display_data"
    }
   ],
   "source": [
    "# Heatmap\n",
    "bier_haendl_corr = data[[\"bier_preis\", \"hendl_preis\"]].corr()\n",
    "sns.heatmap(bier_haendl_corr, cmap=\"coolwarm\", annot=True, vmin=0.2, vmax=1)"
   ]
  },
  {
   "cell_type": "code",
   "execution_count": 7,
   "metadata": {},
   "outputs": [
    {
     "data": {
      "text/html": [
       "<style type=\"text/css\">\n",
       "#T_03702_row0_col0, #T_03702_row1_col1, #T_03702_row2_col2, #T_03702_row3_col3, #T_03702_row4_col4, #T_03702_row5_col5, #T_03702_row6_col6, #T_03702_row7_col7 {\n",
       "  background-color: #b40426;\n",
       "  color: #f1f1f1;\n",
       "}\n",
       "#T_03702_row0_col1 {\n",
       "  background-color: #f0cdbb;\n",
       "  color: #000000;\n",
       "}\n",
       "#T_03702_row0_col2, #T_03702_row0_col3, #T_03702_row0_col7, #T_03702_row3_col1, #T_03702_row6_col7, #T_03702_row7_col0, #T_03702_row7_col4, #T_03702_row7_col5, #T_03702_row7_col6 {\n",
       "  background-color: #3b4cc0;\n",
       "  color: #f1f1f1;\n",
       "}\n",
       "#T_03702_row0_col4, #T_03702_row4_col0, #T_03702_row4_col6, #T_03702_row6_col4 {\n",
       "  background-color: #b50927;\n",
       "  color: #f1f1f1;\n",
       "}\n",
       "#T_03702_row0_col5 {\n",
       "  background-color: #cb3e38;\n",
       "  color: #f1f1f1;\n",
       "}\n",
       "#T_03702_row0_col6, #T_03702_row6_col0 {\n",
       "  background-color: #b8122a;\n",
       "  color: #f1f1f1;\n",
       "}\n",
       "#T_03702_row1_col0 {\n",
       "  background-color: #f7af91;\n",
       "  color: #000000;\n",
       "}\n",
       "#T_03702_row1_col2 {\n",
       "  background-color: #b1cbfc;\n",
       "  color: #000000;\n",
       "}\n",
       "#T_03702_row1_col3 {\n",
       "  background-color: #4b64d5;\n",
       "  color: #f1f1f1;\n",
       "}\n",
       "#T_03702_row1_col4 {\n",
       "  background-color: #f7ac8e;\n",
       "  color: #000000;\n",
       "}\n",
       "#T_03702_row1_col5 {\n",
       "  background-color: #f6bea4;\n",
       "  color: #000000;\n",
       "}\n",
       "#T_03702_row1_col6 {\n",
       "  background-color: #f6a586;\n",
       "  color: #000000;\n",
       "}\n",
       "#T_03702_row1_col7 {\n",
       "  background-color: #9abbff;\n",
       "  color: #000000;\n",
       "}\n",
       "#T_03702_row2_col0 {\n",
       "  background-color: #abc8fd;\n",
       "  color: #000000;\n",
       "}\n",
       "#T_03702_row2_col1 {\n",
       "  background-color: #c9d7f0;\n",
       "  color: #000000;\n",
       "}\n",
       "#T_03702_row2_col3 {\n",
       "  background-color: #dc5d4a;\n",
       "  color: #f1f1f1;\n",
       "}\n",
       "#T_03702_row2_col4 {\n",
       "  background-color: #b2ccfb;\n",
       "  color: #000000;\n",
       "}\n",
       "#T_03702_row2_col5 {\n",
       "  background-color: #bed2f6;\n",
       "  color: #000000;\n",
       "}\n",
       "#T_03702_row2_col6 {\n",
       "  background-color: #b6cefa;\n",
       "  color: #000000;\n",
       "}\n",
       "#T_03702_row2_col7 {\n",
       "  background-color: #f7ba9f;\n",
       "  color: #000000;\n",
       "}\n",
       "#T_03702_row3_col0 {\n",
       "  background-color: #7ea1fa;\n",
       "  color: #f1f1f1;\n",
       "}\n",
       "#T_03702_row3_col2 {\n",
       "  background-color: #e26952;\n",
       "  color: #f1f1f1;\n",
       "}\n",
       "#T_03702_row3_col4, #T_03702_row3_col6 {\n",
       "  background-color: #82a6fb;\n",
       "  color: #f1f1f1;\n",
       "}\n",
       "#T_03702_row3_col5 {\n",
       "  background-color: #8caffe;\n",
       "  color: #000000;\n",
       "}\n",
       "#T_03702_row3_col7 {\n",
       "  background-color: #f49a7b;\n",
       "  color: #000000;\n",
       "}\n",
       "#T_03702_row4_col1 {\n",
       "  background-color: #f2cab5;\n",
       "  color: #000000;\n",
       "}\n",
       "#T_03702_row4_col2, #T_03702_row7_col1 {\n",
       "  background-color: #465ecf;\n",
       "  color: #f1f1f1;\n",
       "}\n",
       "#T_03702_row4_col3 {\n",
       "  background-color: #4257c9;\n",
       "  color: #f1f1f1;\n",
       "}\n",
       "#T_03702_row4_col5, #T_03702_row5_col6 {\n",
       "  background-color: #cf453c;\n",
       "  color: #f1f1f1;\n",
       "}\n",
       "#T_03702_row4_col7, #T_03702_row6_col3 {\n",
       "  background-color: #3e51c5;\n",
       "  color: #f1f1f1;\n",
       "}\n",
       "#T_03702_row5_col0 {\n",
       "  background-color: #c83836;\n",
       "  color: #f1f1f1;\n",
       "}\n",
       "#T_03702_row5_col1 {\n",
       "  background-color: #efcfbf;\n",
       "  color: #000000;\n",
       "}\n",
       "#T_03702_row5_col2 {\n",
       "  background-color: #7699f6;\n",
       "  color: #f1f1f1;\n",
       "}\n",
       "#T_03702_row5_col3 {\n",
       "  background-color: #6b8df0;\n",
       "  color: #f1f1f1;\n",
       "}\n",
       "#T_03702_row5_col4 {\n",
       "  background-color: #cc403a;\n",
       "  color: #f1f1f1;\n",
       "}\n",
       "#T_03702_row5_col7 {\n",
       "  background-color: #5d7ce6;\n",
       "  color: #f1f1f1;\n",
       "}\n",
       "#T_03702_row6_col1 {\n",
       "  background-color: #f5c4ac;\n",
       "  color: #000000;\n",
       "}\n",
       "#T_03702_row6_col2 {\n",
       "  background-color: #485fd1;\n",
       "  color: #f1f1f1;\n",
       "}\n",
       "#T_03702_row6_col5 {\n",
       "  background-color: #d1493f;\n",
       "  color: #f1f1f1;\n",
       "}\n",
       "#T_03702_row7_col2 {\n",
       "  background-color: #d9dce1;\n",
       "  color: #000000;\n",
       "}\n",
       "#T_03702_row7_col3 {\n",
       "  background-color: #f7b396;\n",
       "  color: #000000;\n",
       "}\n",
       "</style>\n",
       "<table id=\"T_03702\">\n",
       "  <thead>\n",
       "    <tr>\n",
       "      <th class=\"blank level0\" >&nbsp;</th>\n",
       "      <th id=\"T_03702_level0_col0\" class=\"col_heading level0 col0\" >jahr</th>\n",
       "      <th id=\"T_03702_level0_col1\" class=\"col_heading level0 col1\" >dauer</th>\n",
       "      <th id=\"T_03702_level0_col2\" class=\"col_heading level0 col2\" >besucher_gesamt</th>\n",
       "      <th id=\"T_03702_level0_col3\" class=\"col_heading level0 col3\" >besucher_tag</th>\n",
       "      <th id=\"T_03702_level0_col4\" class=\"col_heading level0 col4\" >bier_preis</th>\n",
       "      <th id=\"T_03702_level0_col5\" class=\"col_heading level0 col5\" >bier_konsum</th>\n",
       "      <th id=\"T_03702_level0_col6\" class=\"col_heading level0 col6\" >hendl_preis</th>\n",
       "      <th id=\"T_03702_level0_col7\" class=\"col_heading level0 col7\" >hendl_konsum</th>\n",
       "    </tr>\n",
       "  </thead>\n",
       "  <tbody>\n",
       "    <tr>\n",
       "      <th id=\"T_03702_level0_row0\" class=\"row_heading level0 row0\" >jahr</th>\n",
       "      <td id=\"T_03702_row0_col0\" class=\"data row0 col0\" >1.000000</td>\n",
       "      <td id=\"T_03702_row0_col1\" class=\"data row0 col1\" >0.432000</td>\n",
       "      <td id=\"T_03702_row0_col2\" class=\"data row0 col2\" >-0.225000</td>\n",
       "      <td id=\"T_03702_row0_col3\" class=\"data row0 col3\" >-0.464000</td>\n",
       "      <td id=\"T_03702_row0_col4\" class=\"data row0 col4\" >0.987000</td>\n",
       "      <td id=\"T_03702_row0_col5\" class=\"data row0 col5\" >0.892000</td>\n",
       "      <td id=\"T_03702_row0_col6\" class=\"data row0 col6\" >0.972000</td>\n",
       "      <td id=\"T_03702_row0_col7\" class=\"data row0 col7\" >-0.850000</td>\n",
       "    </tr>\n",
       "    <tr>\n",
       "      <th id=\"T_03702_level0_row1\" class=\"row_heading level0 row1\" >dauer</th>\n",
       "      <td id=\"T_03702_row1_col0\" class=\"data row1 col0\" >0.432000</td>\n",
       "      <td id=\"T_03702_row1_col1\" class=\"data row1 col1\" >1.000000</td>\n",
       "      <td id=\"T_03702_row1_col2\" class=\"data row1 col2\" >0.208000</td>\n",
       "      <td id=\"T_03702_row1_col3\" class=\"data row1 col3\" >-0.380000</td>\n",
       "      <td id=\"T_03702_row1_col4\" class=\"data row1 col4\" >0.451000</td>\n",
       "      <td id=\"T_03702_row1_col5\" class=\"data row1 col5\" >0.418000</td>\n",
       "      <td id=\"T_03702_row1_col6\" class=\"data row1 col6\" >0.486000</td>\n",
       "      <td id=\"T_03702_row1_col7\" class=\"data row1 col7\" >-0.321000</td>\n",
       "    </tr>\n",
       "    <tr>\n",
       "      <th id=\"T_03702_level0_row2\" class=\"row_heading level0 row2\" >besucher_gesamt</th>\n",
       "      <td id=\"T_03702_row2_col0\" class=\"data row2 col0\" >-0.225000</td>\n",
       "      <td id=\"T_03702_row2_col1\" class=\"data row2 col1\" >0.208000</td>\n",
       "      <td id=\"T_03702_row2_col2\" class=\"data row2 col2\" >1.000000</td>\n",
       "      <td id=\"T_03702_row2_col3\" class=\"data row2 col3\" >0.825000</td>\n",
       "      <td id=\"T_03702_row2_col4\" class=\"data row2 col4\" >-0.173000</td>\n",
       "      <td id=\"T_03702_row2_col5\" class=\"data row2 col5\" >0.003000</td>\n",
       "      <td id=\"T_03702_row2_col6\" class=\"data row2 col6\" >-0.168000</td>\n",
       "      <td id=\"T_03702_row2_col7\" class=\"data row2 col7\" >0.369000</td>\n",
       "    </tr>\n",
       "    <tr>\n",
       "      <th id=\"T_03702_level0_row3\" class=\"row_heading level0 row3\" >besucher_tag</th>\n",
       "      <td id=\"T_03702_row3_col0\" class=\"data row3 col0\" >-0.464000</td>\n",
       "      <td id=\"T_03702_row3_col1\" class=\"data row3 col1\" >-0.380000</td>\n",
       "      <td id=\"T_03702_row3_col2\" class=\"data row3 col2\" >0.825000</td>\n",
       "      <td id=\"T_03702_row3_col3\" class=\"data row3 col3\" >1.000000</td>\n",
       "      <td id=\"T_03702_row3_col4\" class=\"data row3 col4\" >-0.428000</td>\n",
       "      <td id=\"T_03702_row3_col5\" class=\"data row3 col5\" >-0.239000</td>\n",
       "      <td id=\"T_03702_row3_col6\" class=\"data row3 col6\" >-0.444000</td>\n",
       "      <td id=\"T_03702_row3_col7\" class=\"data row3 col7\" >0.535000</td>\n",
       "    </tr>\n",
       "    <tr>\n",
       "      <th id=\"T_03702_level0_row4\" class=\"row_heading level0 row4\" >bier_preis</th>\n",
       "      <td id=\"T_03702_row4_col0\" class=\"data row4 col0\" >0.987000</td>\n",
       "      <td id=\"T_03702_row4_col1\" class=\"data row4 col1\" >0.451000</td>\n",
       "      <td id=\"T_03702_row4_col2\" class=\"data row4 col2\" >-0.173000</td>\n",
       "      <td id=\"T_03702_row4_col3\" class=\"data row4 col3\" >-0.428000</td>\n",
       "      <td id=\"T_03702_row4_col4\" class=\"data row4 col4\" >1.000000</td>\n",
       "      <td id=\"T_03702_row4_col5\" class=\"data row4 col5\" >0.873000</td>\n",
       "      <td id=\"T_03702_row4_col6\" class=\"data row4 col6\" >0.987000</td>\n",
       "      <td id=\"T_03702_row4_col7\" class=\"data row4 col7\" >-0.831000</td>\n",
       "    </tr>\n",
       "    <tr>\n",
       "      <th id=\"T_03702_level0_row5\" class=\"row_heading level0 row5\" >bier_konsum</th>\n",
       "      <td id=\"T_03702_row5_col0\" class=\"data row5 col0\" >0.892000</td>\n",
       "      <td id=\"T_03702_row5_col1\" class=\"data row5 col1\" >0.418000</td>\n",
       "      <td id=\"T_03702_row5_col2\" class=\"data row5 col2\" >0.003000</td>\n",
       "      <td id=\"T_03702_row5_col3\" class=\"data row5 col3\" >-0.239000</td>\n",
       "      <td id=\"T_03702_row5_col4\" class=\"data row5 col4\" >0.873000</td>\n",
       "      <td id=\"T_03702_row5_col5\" class=\"data row5 col5\" >1.000000</td>\n",
       "      <td id=\"T_03702_row5_col6\" class=\"data row5 col6\" >0.862000</td>\n",
       "      <td id=\"T_03702_row5_col7\" class=\"data row5 col7\" >-0.645000</td>\n",
       "    </tr>\n",
       "    <tr>\n",
       "      <th id=\"T_03702_level0_row6\" class=\"row_heading level0 row6\" >hendl_preis</th>\n",
       "      <td id=\"T_03702_row6_col0\" class=\"data row6 col0\" >0.972000</td>\n",
       "      <td id=\"T_03702_row6_col1\" class=\"data row6 col1\" >0.486000</td>\n",
       "      <td id=\"T_03702_row6_col2\" class=\"data row6 col2\" >-0.168000</td>\n",
       "      <td id=\"T_03702_row6_col3\" class=\"data row6 col3\" >-0.444000</td>\n",
       "      <td id=\"T_03702_row6_col4\" class=\"data row6 col4\" >0.987000</td>\n",
       "      <td id=\"T_03702_row6_col5\" class=\"data row6 col5\" >0.862000</td>\n",
       "      <td id=\"T_03702_row6_col6\" class=\"data row6 col6\" >1.000000</td>\n",
       "      <td id=\"T_03702_row6_col7\" class=\"data row6 col7\" >-0.853000</td>\n",
       "    </tr>\n",
       "    <tr>\n",
       "      <th id=\"T_03702_level0_row7\" class=\"row_heading level0 row7\" >hendl_konsum</th>\n",
       "      <td id=\"T_03702_row7_col0\" class=\"data row7 col0\" >-0.850000</td>\n",
       "      <td id=\"T_03702_row7_col1\" class=\"data row7 col1\" >-0.321000</td>\n",
       "      <td id=\"T_03702_row7_col2\" class=\"data row7 col2\" >0.369000</td>\n",
       "      <td id=\"T_03702_row7_col3\" class=\"data row7 col3\" >0.535000</td>\n",
       "      <td id=\"T_03702_row7_col4\" class=\"data row7 col4\" >-0.831000</td>\n",
       "      <td id=\"T_03702_row7_col5\" class=\"data row7 col5\" >-0.645000</td>\n",
       "      <td id=\"T_03702_row7_col6\" class=\"data row7 col6\" >-0.853000</td>\n",
       "      <td id=\"T_03702_row7_col7\" class=\"data row7 col7\" >1.000000</td>\n",
       "    </tr>\n",
       "  </tbody>\n",
       "</table>\n"
      ],
      "text/plain": [
       "<pandas.io.formats.style.Styler at 0x17854f3d0>"
      ]
     },
     "execution_count": 7,
     "metadata": {},
     "output_type": "execute_result"
    }
   ],
   "source": [
    "corr = data.corr().round(3)\n",
    "corr.style.background_gradient(cmap='coolwarm')"
   ]
  },
  {
   "cell_type": "code",
   "execution_count": 8,
   "metadata": {},
   "outputs": [
    {
     "data": {
      "text/plain": [
       "<matplotlib.collections.PathCollection at 0x178658b90>"
      ]
     },
     "execution_count": 8,
     "metadata": {},
     "output_type": "execute_result"
    },
    {
     "data": {
      "image/png": "[encoded data removed]",
      "text/plain": [
       "<Figure size 640x480 with 1 Axes>"
      ]
     },
     "metadata": {},
     "output_type": "display_data"
    }
   ],
   "source": [
    "# Linienplot Hähnchenpreis zu Bierpreis\n",
    "import matplotlib.pyplot as plt\n",
    "\n",
    "# Variante 1\n",
    "plt.plot(data[\"bier_preis\"], data[\"hendl_preis\"])\n",
    "plt.scatter(data[\"bier_preis\"], data[\"hendl_preis\"], color=\"grey\", marker=\"*\", s=100)"
   ]
  },
  {
   "cell_type": "code",
   "execution_count": 9,
   "metadata": {},
   "outputs": [
    {
     "data": {
      "text/plain": [
       "[<matplotlib.lines.Line2D at 0x1786dd210>]"
      ]
     },
     "execution_count": 9,
     "metadata": {},
     "output_type": "execute_result"
    },
    {
     "data": {
      "image/png": "[encoded data removed]",
      "text/plain": [
       "<Figure size 640x480 with 1 Axes>"
      ]
     },
     "metadata": {},
     "output_type": "display_data"
    }
   ],
   "source": [
    "plt.plot(data['jahr'], data['bier_preis'], label='Bierpreis', marker='o')\n",
    "plt.plot(data['jahr'], data['hendl_preis'], label='Hendlpreis', marker='o')"
   ]
  },
  {
   "cell_type": "code",
   "execution_count": 10,
   "metadata": {},
   "outputs": [
    {
     "data": {
      "text/plain": [
       "<Axes: xlabel='bier_preis', ylabel='hendl_preis'>"
      ]
     },
     "execution_count": 10,
     "metadata": {},
     "output_type": "execute_result"
    },
    {
     "data": {
      "image/png": "[encoded data removed]",
      "text/plain": [
       "<Figure size 640x480 with 1 Axes>"
      ]
     },
     "metadata": {},
     "output_type": "display_data"
    }
   ],
   "source": [
    "# Variante 2\n",
    "\n",
    "sns.lineplot(data, x=\"bier_preis\", y=\"hendl_preis\")\n",
    "sns.scatterplot(data, x=\"bier_preis\", y=\"hendl_preis\")"
   ]
  },
  {
   "cell_type": "code",
   "execution_count": 11,
   "metadata": {},
   "outputs": [
    {
     "data": {
      "text/plain": [
       "<Axes: xlabel='bier_preis'>"
      ]
     },
     "execution_count": 11,
     "metadata": {},
     "output_type": "execute_result"
    },
    {
     "data": {
      "image/png": "[encoded data removed]",
      "text/plain": [
       "<Figure size 640x480 with 1 Axes>"
      ]
     },
     "metadata": {},
     "output_type": "display_data"
    }
   ],
   "source": [
    "# Variante 3 (begrenzt sinnvoll)\n",
    "\n",
    "data[[\"bier_preis\", \"hendl_preis\"]].plot.line(\"bier_preis\", \"hendl_preis\")"
   ]
  },
  {
   "cell_type": "code",
   "execution_count": 12,
   "metadata": {},
   "outputs": [
    {
     "data": {
      "application/vnd.plotly.v1+json": {
       "config": {
        "plotlyServerURL": "https://plot.ly"
       },
       "data": [
        {
         "hovertemplate": "bier_preis=%{x}<br>hendl_preis=%{y}<extra></extra>",
         "legendgroup": "",
         "line": {
          "color": "#636efa",
          "dash": "solid"
         },
         "marker": {
          "symbol": "circle"
         },
         "mode": "lines",
         "name": "",
         "orientation": "v",
         "showlegend": false,
         "type": "scatter",
         "x": [
          3.2,
          3.3,
          3.37,
          3.45,
          3.6,
          3.77,
          4.21,
          4.42,
          4.71,
          4.89,
          5.15,
          5.24,
          5.45,
          5.6,
          5.8,
          6.35,
          6.47,
          6.75,
          6.75,
          7.02,
          7.15,
          7.42,
          7.85,
          8.25,
          8.53,
          8.79,
          9.09,
          9.41,
          9.78,
          9.98,
          10.27,
          10.57,
          10.87,
          11.3,
          11.71,
          13.45,
          14.33
         ],
         "xaxis": "x",
         "y": [
          4.77,
          3.92,
          3.98,
          4.19,
          4.22,
          4.47,
          4.81,
          5.11,
          5.25,
          5.39,
          5.54,
          5.45,
          5.38,
          5.34,
          5.38,
          7.85,
          8.12,
          8.1,
          8.14,
          8.28,
          8.35,
          8.5,
          8.87,
          9.06,
          9.18,
          9.6,
          9.83,
          10.07,
          11.1,
          10.49,
          10.75,
          11,
          11.41,
          11.67,
          12.15,
          13.96,
          15.89
         ],
         "yaxis": "y"
        }
       ],
       "layout": {
        "legend": {
         "tracegroupgap": 0
        },
        "margin": {
         "t": 60
        },
        "template": {
         "data": {
          "bar": [
           {
            "error_x": {
             "color": "#2a3f5f"
            },
            "error_y": {
             "color": "#2a3f5f"
            },
            "marker": {
             "line": {
              "color": "#E5ECF6",
              "width": 0.5
             },
             "pattern": {
              "fillmode": "overlay",
              "size": 10,
              "solidity": 0.2
             }
            },
            "type": "bar"
           }
          ],
          "barpolar": [
           {
            "marker": {
             "line": {
              "color": "#E5ECF6",
              "width": 0.5
             },
             "pattern": {
              "fillmode": "overlay",
              "size": 10,
              "solidity": 0.2
             }
            },
            "type": "barpolar"
           }
          ],
          "carpet": [
           {
            "aaxis": {
             "endlinecolor": "#2a3f5f",
             "gridcolor": "white",
             "linecolor": "white",
             "minorgridcolor": "white",
             "startlinecolor": "#2a3f5f"
            },
            "baxis": {
             "endlinecolor": "#2a3f5f",
             "gridcolor": "white",
             "linecolor": "white",
             "minorgridcolor": "white",
             "startlinecolor": "#2a3f5f"
            },
            "type": "carpet"
           }
          ],
          "choropleth": [
           {
            "colorbar": {
             "outlinewidth": 0,
             "ticks": ""
            },
            "type": "choropleth"
           }
          ],
          "contour": [
           {
            "colorbar": {
             "outlinewidth": 0,
             "ticks": ""
            },
            "colorscale": [
             [
              0,
              "#0d0887"
             ],
             [
              0.1111111111111111,
              "#46039f"
             ],
             [
              0.2222222222222222,
              "#7201a8"
             ],
             [
              0.3333333333333333,
              "#9c179e"
             ],
             [
              0.4444444444444444,
              "#bd3786"
             ],
             [
              0.5555555555555556,
              "#d8576b"
             ],
             [
              0.6666666666666666,
              "#ed7953"
             ],
             [
              0.7777777777777778,
              "#fb9f3a"
             ],
             [
              0.8888888888888888,
              "#fdca26"
             ],
             [
              1,
              "#f0f921"
             ]
            ],
            "type": "contour"
           }
          ],
          "contourcarpet": [
           {
            "colorbar": {
             "outlinewidth": 0,
             "ticks": ""
            },
            "type": "contourcarpet"
           }
          ],
          "heatmap": [
           {
            "colorbar": {
             "outlinewidth": 0,
             "ticks": ""
            },
            "colorscale": [
             [
              0,
              "#0d0887"
             ],
             [
              0.1111111111111111,
              "#46039f"
             ],
             [
              0.2222222222222222,
              "#7201a8"
             ],
             [
              0.3333333333333333,
              "#9c179e"
             ],
             [
              0.4444444444444444,
              "#bd3786"
             ],
             [
              0.5555555555555556,
              "#d8576b"
             ],
             [
              0.6666666666666666,
              "#ed7953"
             ],
             [
              0.7777777777777778,
              "#fb9f3a"
             ],
             [
              0.8888888888888888,
              "#fdca26"
             ],
             [
              1,
              "#f0f921"
             ]
            ],
            "type": "heatmap"
           }
          ],
          "heatmapgl": [
           {
            "colorbar": {
             "outlinewidth": 0,
             "ticks": ""
            },
            "colorscale": [
             [
              0,
              "#0d0887"
             ],
             [
              0.1111111111111111,
              "#46039f"
             ],
             [
              0.2222222222222222,
              "#7201a8"
             ],
             [
              0.3333333333333333,
              "#9c179e"
             ],
             [
              0.4444444444444444,
              "#bd3786"
             ],
             [
              0.5555555555555556,
              "#d8576b"
             ],
             [
              0.6666666666666666,
              "#ed7953"
             ],
             [
              0.7777777777777778,
              "#fb9f3a"
             ],
             [
              0.8888888888888888,
              "#fdca26"
             ],
             [
              1,
              "#f0f921"
             ]
            ],
            "type": "heatmapgl"
           }
          ],
          "histogram": [
           {
            "marker": {
             "pattern": {
              "fillmode": "overlay",
              "size": 10,
              "solidity": 0.2
             }
            },
            "type": "histogram"
           }
          ],
          "histogram2d": [
           {
            "colorbar": {
             "outlinewidth": 0,
             "ticks": ""
            },
            "colorscale": [
             [
              0,
              "#0d0887"
             ],
             [
              0.1111111111111111,
              "#46039f"
             ],
             [
              0.2222222222222222,
              "#7201a8"
             ],
             [
              0.3333333333333333,
              "#9c179e"
             ],
             [
              0.4444444444444444,
              "#bd3786"
             ],
             [
              0.5555555555555556,
              "#d8576b"
             ],
             [
              0.6666666666666666,
              "#ed7953"
             ],
             [
              0.7777777777777778,
              "#fb9f3a"
             ],
             [
              0.8888888888888888,
              "#fdca26"
             ],
             [
              1,
              "#f0f921"
             ]
            ],
            "type": "histogram2d"
           }
          ],
          "histogram2dcontour": [
           {
            "colorbar": {
             "outlinewidth": 0,
             "ticks": ""
            },
            "colorscale": [
             [
              0,
              "#0d0887"
             ],
             [
              0.1111111111111111,
              "#46039f"
             ],
             [
              0.2222222222222222,
              "#7201a8"
             ],
             [
              0.3333333333333333,
              "#9c179e"
             ],
             [
              0.4444444444444444,
              "#bd3786"
             ],
             [
              0.5555555555555556,
              "#d8576b"
             ],
             [
              0.6666666666666666,
              "#ed7953"
             ],
             [
              0.7777777777777778,
              "#fb9f3a"
             ],
             [
              0.8888888888888888,
              "#fdca26"
             ],
             [
              1,
              "#f0f921"
             ]
            ],
            "type": "histogram2dcontour"
           }
          ],
          "mesh3d": [
           {
            "colorbar": {
             "outlinewidth": 0,
             "ticks": ""
            },
            "type": "mesh3d"
           }
          ],
          "parcoords": [
           {
            "line": {
             "colorbar": {
              "outlinewidth": 0,
              "ticks": ""
             }
            },
            "type": "parcoords"
           }
          ],
          "pie": [
           {
            "automargin": true,
            "type": "pie"
           }
          ],
          "scatter": [
           {
            "fillpattern": {
             "fillmode": "overlay",
             "size": 10,
             "solidity": 0.2
            },
            "type": "scatter"
           }
          ],
          "scatter3d": [
           {
            "line": {
             "colorbar": {
              "outlinewidth": 0,
              "ticks": ""
             }
            },
            "marker": {
             "colorbar": {
              "outlinewidth": 0,
              "ticks": ""
             }
            },
            "type": "scatter3d"
           }
          ],
          "scattercarpet": [
           {
            "marker": {
             "colorbar": {
              "outlinewidth": 0,
              "ticks": ""
             }
            },
            "type": "scattercarpet"
           }
          ],
          "scattergeo": [
           {
            "marker": {
             "colorbar": {
              "outlinewidth": 0,
              "ticks": ""
             }
            },
            "type": "scattergeo"
           }
          ],
          "scattergl": [
           {
            "marker": {
             "colorbar": {
              "outlinewidth": 0,
              "ticks": ""
             }
            },
            "type": "scattergl"
           }
          ],
          "scattermapbox": [
           {
            "marker": {
             "colorbar": {
              "outlinewidth": 0,
              "ticks": ""
             }
            },
            "type": "scattermapbox"
           }
          ],
          "scatterpolar": [
           {
            "marker": {
             "colorbar": {
              "outlinewidth": 0,
              "ticks": ""
             }
            },
            "type": "scatterpolar"
           }
          ],
          "scatterpolargl": [
           {
            "marker": {
             "colorbar": {
              "outlinewidth": 0,
              "ticks": ""
             }
            },
            "type": "scatterpolargl"
           }
          ],
          "scatterternary": [
           {
            "marker": {
             "colorbar": {
              "outlinewidth": 0,
              "ticks": ""
             }
            },
            "type": "scatterternary"
           }
          ],
          "surface": [
           {
            "colorbar": {
             "outlinewidth": 0,
             "ticks": ""
            },
            "colorscale": [
             [
              0,
              "#0d0887"
             ],
             [
              0.1111111111111111,
              "#46039f"
             ],
             [
              0.2222222222222222,
              "#7201a8"
             ],
             [
              0.3333333333333333,
              "#9c179e"
             ],
             [
              0.4444444444444444,
              "#bd3786"
             ],
             [
              0.5555555555555556,
              "#d8576b"
             ],
             [
              0.6666666666666666,
              "#ed7953"
             ],
             [
              0.7777777777777778,
              "#fb9f3a"
             ],
             [
              0.8888888888888888,
              "#fdca26"
             ],
             [
              1,
              "#f0f921"
             ]
            ],
            "type": "surface"
           }
          ],
          "table": [
           {
            "cells": {
             "fill": {
              "color": "#EBF0F8"
             },
             "line": {
              "color": "white"
             }
            },
            "header": {
             "fill": {
              "color": "#C8D4E3"
             },
             "line": {
              "color": "white"
             }
            },
            "type": "table"
           }
          ]
         },
         "layout": {
          "annotationdefaults": {
           "arrowcolor": "#2a3f5f",
           "arrowhead": 0,
           "arrowwidth": 1
          },
          "autotypenumbers": "strict",
          "coloraxis": {
           "colorbar": {
            "outlinewidth": 0,
            "ticks": ""
           }
          },
          "colorscale": {
           "diverging": [
            [
             0,
             "#8e0152"
            ],
            [
             0.1,
             "#c51b7d"
            ],
            [
             0.2,
             "#de77ae"
            ],
            [
             0.3,
             "#f1b6da"
            ],
            [
             0.4,
             "#fde0ef"
            ],
            [
             0.5,
             "#f7f7f7"
            ],
            [
             0.6,
             "#e6f5d0"
            ],
            [
             0.7,
             "#b8e186"
            ],
            [
             0.8,
             "#7fbc41"
            ],
            [
             0.9,
             "#4d9221"
            ],
            [
             1,
             "#276419"
            ]
           ],
           "sequential": [
            [
             0,
             "#0d0887"
            ],
            [
             0.1111111111111111,
             "#46039f"
            ],
            [
             0.2222222222222222,
             "#7201a8"
            ],
            [
             0.3333333333333333,
             "#9c179e"
            ],
            [
             0.4444444444444444,
             "#bd3786"
            ],
            [
             0.5555555555555556,
             "#d8576b"
            ],
            [
             0.6666666666666666,
             "#ed7953"
            ],
            [
             0.7777777777777778,
             "#fb9f3a"
            ],
            [
             0.8888888888888888,
             "#fdca26"
            ],
            [
             1,
             "#f0f921"
            ]
           ],
           "sequentialminus": [
            [
             0,
             "#0d0887"
            ],
            [
             0.1111111111111111,
             "#46039f"
            ],
            [
             0.2222222222222222,
             "#7201a8"
            ],
            [
             0.3333333333333333,
             "#9c179e"
            ],
            [
             0.4444444444444444,
             "#bd3786"
            ],
            [
             0.5555555555555556,
             "#d8576b"
            ],
            [
             0.6666666666666666,
             "#ed7953"
            ],
            [
             0.7777777777777778,
             "#fb9f3a"
            ],
            [
             0.8888888888888888,
             "#fdca26"
            ],
            [
             1,
             "#f0f921"
            ]
           ]
          },
          "colorway": [
           "#636efa",
           "#EF553B",
           "#00cc96",
           "#ab63fa",
           "#FFA15A",
           "#19d3f3",
           "#FF6692",
           "#B6E880",
           "#FF97FF",
           "#FECB52"
          ],
          "font": {
           "color": "#2a3f5f"
          },
          "geo": {
           "bgcolor": "white",
           "lakecolor": "white",
           "landcolor": "#E5ECF6",
           "showlakes": true,
           "showland": true,
           "subunitcolor": "white"
          },
          "hoverlabel": {
           "align": "left"
          },
          "hovermode": "closest",
          "mapbox": {
           "style": "light"
          },
          "paper_bgcolor": "white",
          "plot_bgcolor": "#E5ECF6",
          "polar": {
           "angularaxis": {
            "gridcolor": "white",
            "linecolor": "white",
            "ticks": ""
           },
           "bgcolor": "#E5ECF6",
           "radialaxis": {
            "gridcolor": "white",
            "linecolor": "white",
            "ticks": ""
           }
          },
          "scene": {
           "xaxis": {
            "backgroundcolor": "#E5ECF6",
            "gridcolor": "white",
            "gridwidth": 2,
            "linecolor": "white",
            "showbackground": true,
            "ticks": "",
            "zerolinecolor": "white"
           },
           "yaxis": {
            "backgroundcolor": "#E5ECF6",
            "gridcolor": "white",
            "gridwidth": 2,
            "linecolor": "white",
            "showbackground": true,
            "ticks": "",
            "zerolinecolor": "white"
           },
           "zaxis": {
            "backgroundcolor": "#E5ECF6",
            "gridcolor": "white",
            "gridwidth": 2,
            "linecolor": "white",
            "showbackground": true,
            "ticks": "",
            "zerolinecolor": "white"
           }
          },
          "shapedefaults": {
           "line": {
            "color": "#2a3f5f"
           }
          },
          "ternary": {
           "aaxis": {
            "gridcolor": "white",
            "linecolor": "white",
            "ticks": ""
           },
           "baxis": {
            "gridcolor": "white",
            "linecolor": "white",
            "ticks": ""
           },
           "bgcolor": "#E5ECF6",
           "caxis": {
            "gridcolor": "white",
            "linecolor": "white",
            "ticks": ""
           }
          },
          "title": {
           "x": 0.05
          },
          "xaxis": {
           "automargin": true,
           "gridcolor": "white",
           "linecolor": "white",
           "ticks": "",
           "title": {
            "standoff": 15
           },
           "zerolinecolor": "white",
           "zerolinewidth": 2
          },
          "yaxis": {
           "automargin": true,
           "gridcolor": "white",
           "linecolor": "white",
           "ticks": "",
           "title": {
            "standoff": 15
           },
           "zerolinecolor": "white",
           "zerolinewidth": 2
          }
         }
        },
        "xaxis": {
         "anchor": "y",
         "domain": [
          0,
          1
         ],
         "title": {
          "text": "bier_preis"
         }
        },
        "yaxis": {
         "anchor": "x",
         "domain": [
          0,
          1
         ],
         "title": {
          "text": "hendl_preis"
         }
        }
       }
      }
     },
     "metadata": {},
     "output_type": "display_data"
    }
   ],
   "source": [
    "import plotly.express as px\n",
    "\n",
    "px.line(data, \"bier_preis\", \"hendl_preis\")"
   ]
  },
  {
   "cell_type": "code",
   "execution_count": 13,
   "metadata": {},
   "outputs": [
    {
     "data": {
      "application/vnd.plotly.v1+json": {
       "config": {
        "plotlyServerURL": "https://plot.ly"
       },
       "data": [
        {
         "hovertemplate": "variable=bier_preis<br>jahr=%{x}<br>value=%{y}<extra></extra>",
         "legendgroup": "bier_preis",
         "line": {
          "color": "#636efa",
          "dash": "solid"
         },
         "marker": {
          "symbol": "circle"
         },
         "mode": "lines",
         "name": "bier_preis",
         "orientation": "v",
         "showlegend": true,
         "type": "scatter",
         "x": [
          1985,
          1986,
          1987,
          1988,
          1989,
          1990,
          1991,
          1992,
          1993,
          1994,
          1995,
          1996,
          1997,
          1998,
          1999,
          2000,
          2001,
          2002,
          2003,
          2004,
          2005,
          2006,
          2007,
          2008,
          2009,
          2010,
          2011,
          2012,
          2013,
          2014,
          2015,
          2016,
          2017,
          2018,
          2019,
          2022,
          2023
         ],
         "xaxis": "x",
         "y": [
          3.2,
          3.3,
          3.37,
          3.45,
          3.6,
          3.77,
          4.21,
          4.42,
          4.71,
          4.89,
          5.15,
          5.24,
          5.45,
          5.6,
          5.8,
          6.35,
          6.47,
          6.75,
          6.75,
          7.02,
          7.15,
          7.42,
          7.85,
          8.25,
          8.53,
          8.79,
          9.09,
          9.41,
          9.78,
          9.98,
          10.27,
          10.57,
          10.87,
          11.3,
          11.71,
          13.45,
          14.33
         ],
         "yaxis": "y"
        },
        {
         "hovertemplate": "variable=hendl_preis<br>jahr=%{x}<br>value=%{y}<extra></extra>",
         "legendgroup": "hendl_preis",
         "line": {
          "color": "#EF553B",
          "dash": "solid"
         },
         "marker": {
          "symbol": "circle"
         },
         "mode": "lines",
         "name": "hendl_preis",
         "orientation": "v",
         "showlegend": true,
         "type": "scatter",
         "x": [
          1985,
          1986,
          1987,
          1988,
          1989,
          1990,
          1991,
          1992,
          1993,
          1994,
          1995,
          1996,
          1997,
          1998,
          1999,
          2000,
          2001,
          2002,
          2003,
          2004,
          2005,
          2006,
          2007,
          2008,
          2009,
          2010,
          2011,
          2012,
          2013,
          2014,
          2015,
          2016,
          2017,
          2018,
          2019,
          2022,
          2023
         ],
         "xaxis": "x",
         "y": [
          4.77,
          3.92,
          3.98,
          4.19,
          4.22,
          4.47,
          4.81,
          5.11,
          5.25,
          5.39,
          5.54,
          5.45,
          5.38,
          5.34,
          5.38,
          7.85,
          8.12,
          8.1,
          8.14,
          8.28,
          8.35,
          8.5,
          8.87,
          9.06,
          9.18,
          9.6,
          9.83,
          10.07,
          11.1,
          10.49,
          10.75,
          11,
          11.41,
          11.67,
          12.15,
          13.96,
          15.89
         ],
         "yaxis": "y"
        }
       ],
       "layout": {
        "legend": {
         "title": {
          "text": "variable"
         },
         "tracegroupgap": 0
        },
        "margin": {
         "t": 60
        },
        "template": {
         "data": {
          "bar": [
           {
            "error_x": {
             "color": "#f2f5fa"
            },
            "error_y": {
             "color": "#f2f5fa"
            },
            "marker": {
             "line": {
              "color": "rgb(17,17,17)",
              "width": 0.5
             },
             "pattern": {
              "fillmode": "overlay",
              "size": 10,
              "solidity": 0.2
             }
            },
            "type": "bar"
           }
          ],
          "barpolar": [
           {
            "marker": {
             "line": {
              "color": "rgb(17,17,17)",
              "width": 0.5
             },
             "pattern": {
              "fillmode": "overlay",
              "size": 10,
              "solidity": 0.2
             }
            },
            "type": "barpolar"
           }
          ],
          "carpet": [
           {
            "aaxis": {
             "endlinecolor": "#A2B1C6",
             "gridcolor": "#506784",
             "linecolor": "#506784",
             "minorgridcolor": "#506784",
             "startlinecolor": "#A2B1C6"
            },
            "baxis": {
             "endlinecolor": "#A2B1C6",
             "gridcolor": "#506784",
             "linecolor": "#506784",
             "minorgridcolor": "#506784",
             "startlinecolor": "#A2B1C6"
            },
            "type": "carpet"
           }
          ],
          "choropleth": [
           {
            "colorbar": {
             "outlinewidth": 0,
             "ticks": ""
            },
            "type": "choropleth"
           }
          ],
          "contour": [
           {
            "colorbar": {
             "outlinewidth": 0,
             "ticks": ""
            },
            "colorscale": [
             [
              0,
              "#0d0887"
             ],
             [
              0.1111111111111111,
              "#46039f"
             ],
             [
              0.2222222222222222,
              "#7201a8"
             ],
             [
              0.3333333333333333,
              "#9c179e"
             ],
             [
              0.4444444444444444,
              "#bd3786"
             ],
             [
              0.5555555555555556,
              "#d8576b"
             ],
             [
              0.6666666666666666,
              "#ed7953"
             ],
             [
              0.7777777777777778,
              "#fb9f3a"
             ],
             [
              0.8888888888888888,
              "#fdca26"
             ],
             [
              1,
              "#f0f921"
             ]
            ],
            "type": "contour"
           }
          ],
          "contourcarpet": [
           {
            "colorbar": {
             "outlinewidth": 0,
             "ticks": ""
            },
            "type": "contourcarpet"
           }
          ],
          "heatmap": [
           {
            "colorbar": {
             "outlinewidth": 0,
             "ticks": ""
            },
            "colorscale": [
             [
              0,
              "#0d0887"
             ],
             [
              0.1111111111111111,
              "#46039f"
             ],
             [
              0.2222222222222222,
              "#7201a8"
             ],
             [
              0.3333333333333333,
              "#9c179e"
             ],
             [
              0.4444444444444444,
              "#bd3786"
             ],
             [
              0.5555555555555556,
              "#d8576b"
             ],
             [
              0.6666666666666666,
              "#ed7953"
             ],
             [
              0.7777777777777778,
              "#fb9f3a"
             ],
             [
              0.8888888888888888,
              "#fdca26"
             ],
             [
              1,
              "#f0f921"
             ]
            ],
            "type": "heatmap"
           }
          ],
          "heatmapgl": [
           {
            "colorbar": {
             "outlinewidth": 0,
             "ticks": ""
            },
            "colorscale": [
             [
              0,
              "#0d0887"
             ],
             [
              0.1111111111111111,
              "#46039f"
             ],
             [
              0.2222222222222222,
              "#7201a8"
             ],
             [
              0.3333333333333333,
              "#9c179e"
             ],
             [
              0.4444444444444444,
              "#bd3786"
             ],
             [
              0.5555555555555556,
              "#d8576b"
             ],
             [
              0.6666666666666666,
              "#ed7953"
             ],
             [
              0.7777777777777778,
              "#fb9f3a"
             ],
             [
              0.8888888888888888,
              "#fdca26"
             ],
             [
              1,
              "#f0f921"
             ]
            ],
            "type": "heatmapgl"
           }
          ],
          "histogram": [
           {
            "marker": {
             "pattern": {
              "fillmode": "overlay",
              "size": 10,
              "solidity": 0.2
             }
            },
            "type": "histogram"
           }
          ],
          "histogram2d": [
           {
            "colorbar": {
             "outlinewidth": 0,
             "ticks": ""
            },
            "colorscale": [
             [
              0,
              "#0d0887"
             ],
             [
              0.1111111111111111,
              "#46039f"
             ],
             [
              0.2222222222222222,
              "#7201a8"
             ],
             [
              0.3333333333333333,
              "#9c179e"
             ],
             [
              0.4444444444444444,
              "#bd3786"
             ],
             [
              0.5555555555555556,
              "#d8576b"
             ],
             [
              0.6666666666666666,
              "#ed7953"
             ],
             [
              0.7777777777777778,
              "#fb9f3a"
             ],
             [
              0.8888888888888888,
              "#fdca26"
             ],
             [
              1,
              "#f0f921"
             ]
            ],
            "type": "histogram2d"
           }
          ],
          "histogram2dcontour": [
           {
            "colorbar": {
             "outlinewidth": 0,
             "ticks": ""
            },
            "colorscale": [
             [
              0,
              "#0d0887"
             ],
             [
              0.1111111111111111,
              "#46039f"
             ],
             [
              0.2222222222222222,
              "#7201a8"
             ],
             [
              0.3333333333333333,
              "#9c179e"
             ],
             [
              0.4444444444444444,
              "#bd3786"
             ],
             [
              0.5555555555555556,
              "#d8576b"
             ],
             [
              0.6666666666666666,
              "#ed7953"
             ],
             [
              0.7777777777777778,
              "#fb9f3a"
             ],
             [
              0.8888888888888888,
              "#fdca26"
             ],
             [
              1,
              "#f0f921"
             ]
            ],
            "type": "histogram2dcontour"
           }
          ],
          "mesh3d": [
           {
            "colorbar": {
             "outlinewidth": 0,
             "ticks": ""
            },
            "type": "mesh3d"
           }
          ],
          "parcoords": [
           {
            "line": {
             "colorbar": {
              "outlinewidth": 0,
              "ticks": ""
             }
            },
            "type": "parcoords"
           }
          ],
          "pie": [
           {
            "automargin": true,
            "type": "pie"
           }
          ],
          "scatter": [
           {
            "marker": {
             "line": {
              "color": "#283442"
             }
            },
            "type": "scatter"
           }
          ],
          "scatter3d": [
           {
            "line": {
             "colorbar": {
              "outlinewidth": 0,
              "ticks": ""
             }
            },
            "marker": {
             "colorbar": {
              "outlinewidth": 0,
              "ticks": ""
             }
            },
            "type": "scatter3d"
           }
          ],
          "scattercarpet": [
           {
            "marker": {
             "colorbar": {
              "outlinewidth": 0,
              "ticks": ""
             }
            },
            "type": "scattercarpet"
           }
          ],
          "scattergeo": [
           {
            "marker": {
             "colorbar": {
              "outlinewidth": 0,
              "ticks": ""
             }
            },
            "type": "scattergeo"
           }
          ],
          "scattergl": [
           {
            "marker": {
             "line": {
              "color": "#283442"
             }
            },
            "type": "scattergl"
           }
          ],
          "scattermapbox": [
           {
            "marker": {
             "colorbar": {
              "outlinewidth": 0,
              "ticks": ""
             }
            },
            "type": "scattermapbox"
           }
          ],
          "scatterpolar": [
           {
            "marker": {
             "colorbar": {
              "outlinewidth": 0,
              "ticks": ""
             }
            },
            "type": "scatterpolar"
           }
          ],
          "scatterpolargl": [
           {
            "marker": {
             "colorbar": {
              "outlinewidth": 0,
              "ticks": ""
             }
            },
            "type": "scatterpolargl"
           }
          ],
          "scatterternary": [
           {
            "marker": {
             "colorbar": {
              "outlinewidth": 0,
              "ticks": ""
             }
            },
            "type": "scatterternary"
           }
          ],
          "surface": [
           {
            "colorbar": {
             "outlinewidth": 0,
             "ticks": ""
            },
            "colorscale": [
             [
              0,
              "#0d0887"
             ],
             [
              0.1111111111111111,
              "#46039f"
             ],
             [
              0.2222222222222222,
              "#7201a8"
             ],
             [
              0.3333333333333333,
              "#9c179e"
             ],
             [
              0.4444444444444444,
              "#bd3786"
             ],
             [
              0.5555555555555556,
              "#d8576b"
             ],
             [
              0.6666666666666666,
              "#ed7953"
             ],
             [
              0.7777777777777778,
              "#fb9f3a"
             ],
             [
              0.8888888888888888,
              "#fdca26"
             ],
             [
              1,
              "#f0f921"
             ]
            ],
            "type": "surface"
           }
          ],
          "table": [
           {
            "cells": {
             "fill": {
              "color": "#506784"
             },
             "line": {
              "color": "rgb(17,17,17)"
             }
            },
            "header": {
             "fill": {
              "color": "#2a3f5f"
             },
             "line": {
              "color": "rgb(17,17,17)"
             }
            },
            "type": "table"
           }
          ]
         },
         "layout": {
          "annotationdefaults": {
           "arrowcolor": "#f2f5fa",
           "arrowhead": 0,
           "arrowwidth": 1
          },
          "autotypenumbers": "strict",
          "coloraxis": {
           "colorbar": {
            "outlinewidth": 0,
            "ticks": ""
           }
          },
          "colorscale": {
           "diverging": [
            [
             0,
             "#8e0152"
            ],
            [
             0.1,
             "#c51b7d"
            ],
            [
             0.2,
             "#de77ae"
            ],
            [
             0.3,
             "#f1b6da"
            ],
            [
             0.4,
             "#fde0ef"
            ],
            [
             0.5,
             "#f7f7f7"
            ],
            [
             0.6,
             "#e6f5d0"
            ],
            [
             0.7,
             "#b8e186"
            ],
            [
             0.8,
             "#7fbc41"
            ],
            [
             0.9,
             "#4d9221"
            ],
            [
             1,
             "#276419"
            ]
           ],
           "sequential": [
            [
             0,
             "#0d0887"
            ],
            [
             0.1111111111111111,
             "#46039f"
            ],
            [
             0.2222222222222222,
             "#7201a8"
            ],
            [
             0.3333333333333333,
             "#9c179e"
            ],
            [
             0.4444444444444444,
             "#bd3786"
            ],
            [
             0.5555555555555556,
             "#d8576b"
            ],
            [
             0.6666666666666666,
             "#ed7953"
            ],
            [
             0.7777777777777778,
             "#fb9f3a"
            ],
            [
             0.8888888888888888,
             "#fdca26"
            ],
            [
             1,
             "#f0f921"
            ]
           ],
           "sequentialminus": [
            [
             0,
             "#0d0887"
            ],
            [
             0.1111111111111111,
             "#46039f"
            ],
            [
             0.2222222222222222,
             "#7201a8"
            ],
            [
             0.3333333333333333,
             "#9c179e"
            ],
            [
             0.4444444444444444,
             "#bd3786"
            ],
            [
             0.5555555555555556,
             "#d8576b"
            ],
            [
             0.6666666666666666,
             "#ed7953"
            ],
            [
             0.7777777777777778,
             "#fb9f3a"
            ],
            [
             0.8888888888888888,
             "#fdca26"
            ],
            [
             1,
             "#f0f921"
            ]
           ]
          },
          "colorway": [
           "#636efa",
           "#EF553B",
           "#00cc96",
           "#ab63fa",
           "#FFA15A",
           "#19d3f3",
           "#FF6692",
           "#B6E880",
           "#FF97FF",
           "#FECB52"
          ],
          "font": {
           "color": "#f2f5fa"
          },
          "geo": {
           "bgcolor": "rgb(17,17,17)",
           "lakecolor": "rgb(17,17,17)",
           "landcolor": "rgb(17,17,17)",
           "showlakes": true,
           "showland": true,
           "subunitcolor": "#506784"
          },
          "hoverlabel": {
           "align": "left"
          },
          "hovermode": "closest",
          "mapbox": {
           "style": "dark"
          },
          "paper_bgcolor": "rgb(17,17,17)",
          "plot_bgcolor": "rgb(17,17,17)",
          "polar": {
           "angularaxis": {
            "gridcolor": "#506784",
            "linecolor": "#506784",
            "ticks": ""
           },
           "bgcolor": "rgb(17,17,17)",
           "radialaxis": {
            "gridcolor": "#506784",
            "linecolor": "#506784",
            "ticks": ""
           }
          },
          "scene": {
           "xaxis": {
            "backgroundcolor": "rgb(17,17,17)",
            "gridcolor": "#506784",
            "gridwidth": 2,
            "linecolor": "#506784",
            "showbackground": true,
            "ticks": "",
            "zerolinecolor": "#C8D4E3"
           },
           "yaxis": {
            "backgroundcolor": "rgb(17,17,17)",
            "gridcolor": "#506784",
            "gridwidth": 2,
            "linecolor": "#506784",
            "showbackground": true,
            "ticks": "",
            "zerolinecolor": "#C8D4E3"
           },
           "zaxis": {
            "backgroundcolor": "rgb(17,17,17)",
            "gridcolor": "#506784",
            "gridwidth": 2,
            "linecolor": "#506784",
            "showbackground": true,
            "ticks": "",
            "zerolinecolor": "#C8D4E3"
           }
          },
          "shapedefaults": {
           "line": {
            "color": "#f2f5fa"
           }
          },
          "sliderdefaults": {
           "bgcolor": "#C8D4E3",
           "bordercolor": "rgb(17,17,17)",
           "borderwidth": 1,
           "tickwidth": 0
          },
          "ternary": {
           "aaxis": {
            "gridcolor": "#506784",
            "linecolor": "#506784",
            "ticks": ""
           },
           "baxis": {
            "gridcolor": "#506784",
            "linecolor": "#506784",
            "ticks": ""
           },
           "bgcolor": "rgb(17,17,17)",
           "caxis": {
            "gridcolor": "#506784",
            "linecolor": "#506784",
            "ticks": ""
           }
          },
          "title": {
           "x": 0.05
          },
          "updatemenudefaults": {
           "bgcolor": "#506784",
           "borderwidth": 0
          },
          "xaxis": {
           "automargin": true,
           "gridcolor": "#283442",
           "linecolor": "#506784",
           "ticks": "",
           "title": {
            "standoff": 15
           },
           "zerolinecolor": "#283442",
           "zerolinewidth": 2
          },
          "yaxis": {
           "automargin": true,
           "gridcolor": "#283442",
           "linecolor": "#506784",
           "ticks": "",
           "title": {
            "standoff": 15
           },
           "zerolinecolor": "#283442",
           "zerolinewidth": 2
          }
         }
        },
        "xaxis": {
         "anchor": "y",
         "domain": [
          0,
          1
         ],
         "title": {
          "text": "jahr"
         }
        },
        "yaxis": {
         "anchor": "x",
         "domain": [
          0,
          1
         ],
         "title": {
          "text": "value"
         }
        }
       }
      }
     },
     "metadata": {},
     "output_type": "display_data"
    }
   ],
   "source": [
    "px.line(data, \"jahr\", [\"bier_preis\", \"hendl_preis\"], template=\"plotly_dark\")"
   ]
  },
  {
   "cell_type": "markdown",
   "metadata": {},
   "source": [
    "## Absatz(Bierkonsum) korreliert mit dem Preis (höherer Preis -> weniger Absatz oder weniger Absatz -> höherer Preis)\n",
    "\n",
    "***Wir untersuchen erst Bier, dann Hähnchen***\n",
    "\n",
    "**Lösungsideen**:\n",
    "1. Korrelation zwischen Absatz und Konsum getrennt für Bier und Haendl\n",
    "2. Scatterplot für visuelle Darstellung\n",
    "3. Weitere Variable einführen, um Absatz und Besucherzahl in ein Verhältnis zu setzen (z. B. Absatz/ 1k Besucher)\n",
    "4. Weitere Variable einführen, um Bierkonsum bzw. Haendlkonsum je Besucher zu berücksichtigen\n",
    "5. Weitere"
   ]
  },
  {
   "cell_type": "code",
   "execution_count": 14,
   "metadata": {},
   "outputs": [
    {
     "data": {
      "text/plain": [
       "np.float64(0.8732944709875232)"
      ]
     },
     "execution_count": 14,
     "metadata": {},
     "output_type": "execute_result"
    }
   ],
   "source": [
    "# Korrelation zwischen Absatz und Konsum für Bier\n",
    "\n",
    "bier_correlation = data['bier_preis'].corr(data['bier_konsum'])\n",
    "bier_correlation"
   ]
  },
  {
   "cell_type": "code",
   "execution_count": 15,
   "metadata": {},
   "outputs": [
    {
     "data": {
      "text/plain": [
       "np.float64(0.8785323174440623)"
      ]
     },
     "execution_count": 15,
     "metadata": {},
     "output_type": "execute_result"
    }
   ],
   "source": [
    "# kombinieren mit 4.\n",
    "data[\"l_bier_pro_besucher\"] = (\n",
    "    data[\"bier_konsum\"] * 100)/(data[\"besucher_gesamt\"] * 1000000)\n",
    "data['bier_preis'].corr(data[\"l_bier_pro_besucher\"])"
   ]
  },
  {
   "cell_type": "code",
   "execution_count": 16,
   "metadata": {},
   "outputs": [
    {
     "data": {
      "application/vnd.plotly.v1+json": {
       "config": {
        "plotlyServerURL": "https://plot.ly"
       },
       "data": [
        {
         "hovertemplate": "variable=l_bier_pro_besucher<br>jahr=%{x}<br>value=%{y}<extra></extra>",
         "legendgroup": "l_bier_pro_besucher",
         "line": {
          "color": "#636efa",
          "dash": "solid"
         },
         "marker": {
          "symbol": "circle"
         },
         "mode": "lines",
         "name": "l_bier_pro_besucher",
         "orientation": "v",
         "showlegend": true,
         "type": "scatter",
         "x": [
          1985,
          1986,
          1987,
          1988,
          1989,
          1990,
          1991,
          1992,
          1993,
          1994,
          1995,
          1996,
          1997,
          1998,
          1999,
          2000,
          2001,
          2002,
          2003,
          2004,
          2005,
          2006,
          2007,
          2008,
          2009,
          2010,
          2011,
          2012,
          2013,
          2014,
          2015,
          2016,
          2017,
          2018,
          2019,
          2022,
          2023
         ],
         "xaxis": "x",
         "y": [
          0.7681830985915493,
          0.803089552238806,
          0.7975692307692308,
          0.8938771929824562,
          0.8264677419354839,
          0.8104477611940298,
          0.85446875,
          0.8286101694915254,
          0.7989692307692308,
          0.7895151515151515,
          0.7486865671641791,
          0.7626376811594203,
          0.873296875,
          0.8428,
          0.9239076923076923,
          0.9361014492753623,
          0.8854181818181818,
          0.9765084745762712,
          0.9887936507936508,
          1.0366610169491526,
          1.0126557377049181,
          1.055646153846154,
          1.1194516129032257,
          1.0820333333333334,
          1.1655438596491228,
          1.109375,
          1.1481884057971015,
          1.156640625,
          1.203609375,
          1.2191746031746031,
          1.273457627118644,
          1.1826964285714285,
          1.2554193548387096,
          1.2492857142857143,
          1.246063492063492,
          1.2515789473684211,
          1.0335833333333333
         ],
         "yaxis": "y"
        },
        {
         "hovertemplate": "variable=bier_preis<br>jahr=%{x}<br>value=%{y}<extra></extra>",
         "legendgroup": "bier_preis",
         "line": {
          "color": "#EF553B",
          "dash": "solid"
         },
         "marker": {
          "symbol": "circle"
         },
         "mode": "lines",
         "name": "bier_preis",
         "orientation": "v",
         "showlegend": true,
         "type": "scatter",
         "x": [
          1985,
          1986,
          1987,
          1988,
          1989,
          1990,
          1991,
          1992,
          1993,
          1994,
          1995,
          1996,
          1997,
          1998,
          1999,
          2000,
          2001,
          2002,
          2003,
          2004,
          2005,
          2006,
          2007,
          2008,
          2009,
          2010,
          2011,
          2012,
          2013,
          2014,
          2015,
          2016,
          2017,
          2018,
          2019,
          2022,
          2023
         ],
         "xaxis": "x",
         "y": [
          3.2,
          3.3,
          3.37,
          3.45,
          3.6,
          3.77,
          4.21,
          4.42,
          4.71,
          4.89,
          5.15,
          5.24,
          5.45,
          5.6,
          5.8,
          6.35,
          6.47,
          6.75,
          6.75,
          7.02,
          7.15,
          7.42,
          7.85,
          8.25,
          8.53,
          8.79,
          9.09,
          9.41,
          9.78,
          9.98,
          10.27,
          10.57,
          10.87,
          11.3,
          11.71,
          13.45,
          14.33
         ],
         "yaxis": "y2"
        }
       ],
       "layout": {
        "legend": {
         "title": {
          "text": "variable"
         },
         "tracegroupgap": 0
        },
        "margin": {
         "t": 60
        },
        "template": {
         "data": {
          "bar": [
           {
            "error_x": {
             "color": "#f2f5fa"
            },
            "error_y": {
             "color": "#f2f5fa"
            },
            "marker": {
             "line": {
              "color": "rgb(17,17,17)",
              "width": 0.5
             },
             "pattern": {
              "fillmode": "overlay",
              "size": 10,
              "solidity": 0.2
             }
            },
            "type": "bar"
           }
          ],
          "barpolar": [
           {
            "marker": {
             "line": {
              "color": "rgb(17,17,17)",
              "width": 0.5
             },
             "pattern": {
              "fillmode": "overlay",
              "size": 10,
              "solidity": 0.2
             }
            },
            "type": "barpolar"
           }
          ],
          "carpet": [
           {
            "aaxis": {
             "endlinecolor": "#A2B1C6",
             "gridcolor": "#506784",
             "linecolor": "#506784",
             "minorgridcolor": "#506784",
             "startlinecolor": "#A2B1C6"
            },
            "baxis": {
             "endlinecolor": "#A2B1C6",
             "gridcolor": "#506784",
             "linecolor": "#506784",
             "minorgridcolor": "#506784",
             "startlinecolor": "#A2B1C6"
            },
            "type": "carpet"
           }
          ],
          "choropleth": [
           {
            "colorbar": {
             "outlinewidth": 0,
             "ticks": ""
            },
            "type": "choropleth"
           }
          ],
          "contour": [
           {
            "colorbar": {
             "outlinewidth": 0,
             "ticks": ""
            },
            "colorscale": [
             [
              0,
              "#0d0887"
             ],
             [
              0.1111111111111111,
              "#46039f"
             ],
             [
              0.2222222222222222,
              "#7201a8"
             ],
             [
              0.3333333333333333,
              "#9c179e"
             ],
             [
              0.4444444444444444,
              "#bd3786"
             ],
             [
              0.5555555555555556,
              "#d8576b"
             ],
             [
              0.6666666666666666,
              "#ed7953"
             ],
             [
              0.7777777777777778,
              "#fb9f3a"
             ],
             [
              0.8888888888888888,
              "#fdca26"
             ],
             [
              1,
              "#f0f921"
             ]
            ],
            "type": "contour"
           }
          ],
          "contourcarpet": [
           {
            "colorbar": {
             "outlinewidth": 0,
             "ticks": ""
            },
            "type": "contourcarpet"
           }
          ],
          "heatmap": [
           {
            "colorbar": {
             "outlinewidth": 0,
             "ticks": ""
            },
            "colorscale": [
             [
              0,
              "#0d0887"
             ],
             [
              0.1111111111111111,
              "#46039f"
             ],
             [
              0.2222222222222222,
              "#7201a8"
             ],
             [
              0.3333333333333333,
              "#9c179e"
             ],
             [
              0.4444444444444444,
              "#bd3786"
             ],
             [
              0.5555555555555556,
              "#d8576b"
             ],
             [
              0.6666666666666666,
              "#ed7953"
             ],
             [
              0.7777777777777778,
              "#fb9f3a"
             ],
             [
              0.8888888888888888,
              "#fdca26"
             ],
             [
              1,
              "#f0f921"
             ]
            ],
            "type": "heatmap"
           }
          ],
          "heatmapgl": [
           {
            "colorbar": {
             "outlinewidth": 0,
             "ticks": ""
            },
            "colorscale": [
             [
              0,
              "#0d0887"
             ],
             [
              0.1111111111111111,
              "#46039f"
             ],
             [
              0.2222222222222222,
              "#7201a8"
             ],
             [
              0.3333333333333333,
              "#9c179e"
             ],
             [
              0.4444444444444444,
              "#bd3786"
             ],
             [
              0.5555555555555556,
              "#d8576b"
             ],
             [
              0.6666666666666666,
              "#ed7953"
             ],
             [
              0.7777777777777778,
              "#fb9f3a"
             ],
             [
              0.8888888888888888,
              "#fdca26"
             ],
             [
              1,
              "#f0f921"
             ]
            ],
            "type": "heatmapgl"
           }
          ],
          "histogram": [
           {
            "marker": {
             "pattern": {
              "fillmode": "overlay",
              "size": 10,
              "solidity": 0.2
             }
            },
            "type": "histogram"
           }
          ],
          "histogram2d": [
           {
            "colorbar": {
             "outlinewidth": 0,
             "ticks": ""
            },
            "colorscale": [
             [
              0,
              "#0d0887"
             ],
             [
              0.1111111111111111,
              "#46039f"
             ],
             [
              0.2222222222222222,
              "#7201a8"
             ],
             [
              0.3333333333333333,
              "#9c179e"
             ],
             [
              0.4444444444444444,
              "#bd3786"
             ],
             [
              0.5555555555555556,
              "#d8576b"
             ],
             [
              0.6666666666666666,
              "#ed7953"
             ],
             [
              0.7777777777777778,
              "#fb9f3a"
             ],
             [
              0.8888888888888888,
              "#fdca26"
             ],
             [
              1,
              "#f0f921"
             ]
            ],
            "type": "histogram2d"
           }
          ],
          "histogram2dcontour": [
           {
            "colorbar": {
             "outlinewidth": 0,
             "ticks": ""
            },
            "colorscale": [
             [
              0,
              "#0d0887"
             ],
             [
              0.1111111111111111,
              "#46039f"
             ],
             [
              0.2222222222222222,
              "#7201a8"
             ],
             [
              0.3333333333333333,
              "#9c179e"
             ],
             [
              0.4444444444444444,
              "#bd3786"
             ],
             [
              0.5555555555555556,
              "#d8576b"
             ],
             [
              0.6666666666666666,
              "#ed7953"
             ],
             [
              0.7777777777777778,
              "#fb9f3a"
             ],
             [
              0.8888888888888888,
              "#fdca26"
             ],
             [
              1,
              "#f0f921"
             ]
            ],
            "type": "histogram2dcontour"
           }
          ],
          "mesh3d": [
           {
            "colorbar": {
             "outlinewidth": 0,
             "ticks": ""
            },
            "type": "mesh3d"
           }
          ],
          "parcoords": [
           {
            "line": {
             "colorbar": {
              "outlinewidth": 0,
              "ticks": ""
             }
            },
            "type": "parcoords"
           }
          ],
          "pie": [
           {
            "automargin": true,
            "type": "pie"
           }
          ],
          "scatter": [
           {
            "marker": {
             "line": {
              "color": "#283442"
             }
            },
            "type": "scatter"
           }
          ],
          "scatter3d": [
           {
            "line": {
             "colorbar": {
              "outlinewidth": 0,
              "ticks": ""
             }
            },
            "marker": {
             "colorbar": {
              "outlinewidth": 0,
              "ticks": ""
             }
            },
            "type": "scatter3d"
           }
          ],
          "scattercarpet": [
           {
            "marker": {
             "colorbar": {
              "outlinewidth": 0,
              "ticks": ""
             }
            },
            "type": "scattercarpet"
           }
          ],
          "scattergeo": [
           {
            "marker": {
             "colorbar": {
              "outlinewidth": 0,
              "ticks": ""
             }
            },
            "type": "scattergeo"
           }
          ],
          "scattergl": [
           {
            "marker": {
             "line": {
              "color": "#283442"
             }
            },
            "type": "scattergl"
           }
          ],
          "scattermapbox": [
           {
            "marker": {
             "colorbar": {
              "outlinewidth": 0,
              "ticks": ""
             }
            },
            "type": "scattermapbox"
           }
          ],
          "scatterpolar": [
           {
            "marker": {
             "colorbar": {
              "outlinewidth": 0,
              "ticks": ""
             }
            },
            "type": "scatterpolar"
           }
          ],
          "scatterpolargl": [
           {
            "marker": {
             "colorbar": {
              "outlinewidth": 0,
              "ticks": ""
             }
            },
            "type": "scatterpolargl"
           }
          ],
          "scatterternary": [
           {
            "marker": {
             "colorbar": {
              "outlinewidth": 0,
              "ticks": ""
             }
            },
            "type": "scatterternary"
           }
          ],
          "surface": [
           {
            "colorbar": {
             "outlinewidth": 0,
             "ticks": ""
            },
            "colorscale": [
             [
              0,
              "#0d0887"
             ],
             [
              0.1111111111111111,
              "#46039f"
             ],
             [
              0.2222222222222222,
              "#7201a8"
             ],
             [
              0.3333333333333333,
              "#9c179e"
             ],
             [
              0.4444444444444444,
              "#bd3786"
             ],
             [
              0.5555555555555556,
              "#d8576b"
             ],
             [
              0.6666666666666666,
              "#ed7953"
             ],
             [
              0.7777777777777778,
              "#fb9f3a"
             ],
             [
              0.8888888888888888,
              "#fdca26"
             ],
             [
              1,
              "#f0f921"
             ]
            ],
            "type": "surface"
           }
          ],
          "table": [
           {
            "cells": {
             "fill": {
              "color": "#506784"
             },
             "line": {
              "color": "rgb(17,17,17)"
             }
            },
            "header": {
             "fill": {
              "color": "#2a3f5f"
             },
             "line": {
              "color": "rgb(17,17,17)"
             }
            },
            "type": "table"
           }
          ]
         },
         "layout": {
          "annotationdefaults": {
           "arrowcolor": "#f2f5fa",
           "arrowhead": 0,
           "arrowwidth": 1
          },
          "autotypenumbers": "strict",
          "coloraxis": {
           "colorbar": {
            "outlinewidth": 0,
            "ticks": ""
           }
          },
          "colorscale": {
           "diverging": [
            [
             0,
             "#8e0152"
            ],
            [
             0.1,
             "#c51b7d"
            ],
            [
             0.2,
             "#de77ae"
            ],
            [
             0.3,
             "#f1b6da"
            ],
            [
             0.4,
             "#fde0ef"
            ],
            [
             0.5,
             "#f7f7f7"
            ],
            [
             0.6,
             "#e6f5d0"
            ],
            [
             0.7,
             "#b8e186"
            ],
            [
             0.8,
             "#7fbc41"
            ],
            [
             0.9,
             "#4d9221"
            ],
            [
             1,
             "#276419"
            ]
           ],
           "sequential": [
            [
             0,
             "#0d0887"
            ],
            [
             0.1111111111111111,
             "#46039f"
            ],
            [
             0.2222222222222222,
             "#7201a8"
            ],
            [
             0.3333333333333333,
             "#9c179e"
            ],
            [
             0.4444444444444444,
             "#bd3786"
            ],
            [
             0.5555555555555556,
             "#d8576b"
            ],
            [
             0.6666666666666666,
             "#ed7953"
            ],
            [
             0.7777777777777778,
             "#fb9f3a"
            ],
            [
             0.8888888888888888,
             "#fdca26"
            ],
            [
             1,
             "#f0f921"
            ]
           ],
           "sequentialminus": [
            [
             0,
             "#0d0887"
            ],
            [
             0.1111111111111111,
             "#46039f"
            ],
            [
             0.2222222222222222,
             "#7201a8"
            ],
            [
             0.3333333333333333,
             "#9c179e"
            ],
            [
             0.4444444444444444,
             "#bd3786"
            ],
            [
             0.5555555555555556,
             "#d8576b"
            ],
            [
             0.6666666666666666,
             "#ed7953"
            ],
            [
             0.7777777777777778,
             "#fb9f3a"
            ],
            [
             0.8888888888888888,
             "#fdca26"
            ],
            [
             1,
             "#f0f921"
            ]
           ]
          },
          "colorway": [
           "#636efa",
           "#EF553B",
           "#00cc96",
           "#ab63fa",
           "#FFA15A",
           "#19d3f3",
           "#FF6692",
           "#B6E880",
           "#FF97FF",
           "#FECB52"
          ],
          "font": {
           "color": "#f2f5fa"
          },
          "geo": {
           "bgcolor": "rgb(17,17,17)",
           "lakecolor": "rgb(17,17,17)",
           "landcolor": "rgb(17,17,17)",
           "showlakes": true,
           "showland": true,
           "subunitcolor": "#506784"
          },
          "hoverlabel": {
           "align": "left"
          },
          "hovermode": "closest",
          "mapbox": {
           "style": "dark"
          },
          "paper_bgcolor": "rgb(17,17,17)",
          "plot_bgcolor": "rgb(17,17,17)",
          "polar": {
           "angularaxis": {
            "gridcolor": "#506784",
            "linecolor": "#506784",
            "ticks": ""
           },
           "bgcolor": "rgb(17,17,17)",
           "radialaxis": {
            "gridcolor": "#506784",
            "linecolor": "#506784",
            "ticks": ""
           }
          },
          "scene": {
           "xaxis": {
            "backgroundcolor": "rgb(17,17,17)",
            "gridcolor": "#506784",
            "gridwidth": 2,
            "linecolor": "#506784",
            "showbackground": true,
            "ticks": "",
            "zerolinecolor": "#C8D4E3"
           },
           "yaxis": {
            "backgroundcolor": "rgb(17,17,17)",
            "gridcolor": "#506784",
            "gridwidth": 2,
            "linecolor": "#506784",
            "showbackground": true,
            "ticks": "",
            "zerolinecolor": "#C8D4E3"
           },
           "zaxis": {
            "backgroundcolor": "rgb(17,17,17)",
            "gridcolor": "#506784",
            "gridwidth": 2,
            "linecolor": "#506784",
            "showbackground": true,
            "ticks": "",
            "zerolinecolor": "#C8D4E3"
           }
          },
          "shapedefaults": {
           "line": {
            "color": "#f2f5fa"
           }
          },
          "sliderdefaults": {
           "bgcolor": "#C8D4E3",
           "bordercolor": "rgb(17,17,17)",
           "borderwidth": 1,
           "tickwidth": 0
          },
          "ternary": {
           "aaxis": {
            "gridcolor": "#506784",
            "linecolor": "#506784",
            "ticks": ""
           },
           "baxis": {
            "gridcolor": "#506784",
            "linecolor": "#506784",
            "ticks": ""
           },
           "bgcolor": "rgb(17,17,17)",
           "caxis": {
            "gridcolor": "#506784",
            "linecolor": "#506784",
            "ticks": ""
           }
          },
          "title": {
           "x": 0.05
          },
          "updatemenudefaults": {
           "bgcolor": "#506784",
           "borderwidth": 0
          },
          "xaxis": {
           "automargin": true,
           "gridcolor": "#283442",
           "linecolor": "#506784",
           "ticks": "",
           "title": {
            "standoff": 15
           },
           "zerolinecolor": "#283442",
           "zerolinewidth": 2
          },
          "yaxis": {
           "automargin": true,
           "gridcolor": "#283442",
           "linecolor": "#506784",
           "ticks": "",
           "title": {
            "standoff": 15
           },
           "zerolinecolor": "#283442",
           "zerolinewidth": 2
          }
         }
        },
        "xaxis": {
         "anchor": "y",
         "domain": [
          0,
          1
         ],
         "title": {
          "text": "jahr"
         }
        },
        "yaxis": {
         "anchor": "x",
         "domain": [
          0,
          1
         ],
         "title": {
          "text": "Liter Bier pro Besucher"
         }
        },
        "yaxis2": {
         "overlaying": "y",
         "side": "right",
         "title": {
          "text": "Bierpreis"
         }
        }
       }
      }
     },
     "metadata": {},
     "output_type": "display_data"
    }
   ],
   "source": [
    "fig = px.line(data, x=\"jahr\", y=[\"l_bier_pro_besucher\", \"bier_preis\"], template=\"plotly_dark\")\n",
    "fig.update_layout(\n",
    "    yaxis2=dict(\n",
    "        title=\"Bierpreis\",\n",
    "        overlaying='y',\n",
    "        side='right'\n",
    "    ),\n",
    "    yaxis=dict(\n",
    "        title=\"Liter Bier pro Besucher\"\n",
    "    )\n",
    ")\n",
    "fig.update_traces(yaxis=\"y2\", selector=dict(name=\"bier_preis\"))\n",
    "fig.show()"
   ]
  },
  {
   "cell_type": "code",
   "execution_count": 17,
   "metadata": {},
   "outputs": [
    {
     "data": {
      "image/png": "[encoded data removed]",
      "text/plain": [
       "<Figure size 640x480 with 2 Axes>"
      ]
     },
     "metadata": {},
     "output_type": "display_data"
    }
   ],
   "source": [
    "\n",
    "data['budget_haendl'] = (data['hendl_preis'] * data['hendl_konsum']) / (data['besucher_gesamt'] * 1000000)\n",
    "data['budget_bier'] = (data['bier_preis'] * (data['bier_konsum'] * 100)) / (data['besucher_gesamt'] * 1000000)\n",
    "data['budget_gesamt'] = data['budget_haendl'] + data['budget_bier']\n",
    "\n",
    "fig, ax1 = plt.subplots()\n",
    "\n",
    "ax2 = ax1.twinx()\n",
    "sns.lineplot(data=data, x='jahr', y='budget_haendl', ax=ax1, label='Budget Hendl')\n",
    "sns.lineplot(data=data, x='jahr', y='budget_bier', ax=ax2, label='Budget Bier', color='orange')\n",
    "\n",
    "ax1.set_ylabel('Budget Hendl')\n",
    "ax2.set_ylabel('Budget Bier')\n",
    "ax1.legend(loc='upper left')\n",
    "ax2.legend(loc='upper right')\n",
    "plt.show()"
   ]
  },
  {
   "cell_type": "code",
   "execution_count": 18,
   "metadata": {},
   "outputs": [
    {
     "data": {
      "application/vnd.plotly.v1+json": {
       "config": {
        "plotlyServerURL": "https://plot.ly"
       },
       "data": [
        {
         "hovertemplate": "variable=hendl_konsum<br>jahr=%{x}<br>value=%{y}<extra></extra>",
         "legendgroup": "hendl_konsum",
         "line": {
          "color": "#636efa",
          "dash": "solid"
         },
         "marker": {
          "symbol": "circle"
         },
         "mode": "lines",
         "name": "hendl_konsum",
         "orientation": "v",
         "showlegend": true,
         "type": "scatter",
         "x": [
          1985,
          1986,
          1987,
          1988,
          1989,
          1990,
          1991,
          1992,
          1993,
          1994,
          1995,
          1996,
          1997,
          1998,
          1999,
          2000,
          2001,
          2002,
          2003,
          2004,
          2005,
          2006,
          2007,
          2008,
          2009,
          2010,
          2011,
          2012,
          2013,
          2014,
          2015,
          2016,
          2017,
          2018,
          2019,
          2022,
          2023
         ],
         "xaxis": "x",
         "y": [
          629520,
          698137,
          732859,
          720139,
          775674,
          750947,
          807710,
          725612,
          733517,
          663135,
          628890,
          595580,
          699562,
          603746,
          609661,
          681242,
          351705,
          459259,
          487487,
          481649,
          479610,
          494135,
          521872,
          459356,
          488137,
          505901,
          522821,
          508958,
          482361,
          509420,
          503510,
          366876,
          466747,
          436492,
          434998,
          313636,
          396141
         ],
         "yaxis": "y"
        },
        {
         "hovertemplate": "variable=bier_konsum_l<br>jahr=%{x}<br>value=%{y}<extra></extra>",
         "legendgroup": "bier_konsum_l",
         "line": {
          "color": "#EF553B",
          "dash": "solid"
         },
         "marker": {
          "symbol": "circle"
         },
         "mode": "lines",
         "name": "bier_konsum_l",
         "orientation": "v",
         "showlegend": true,
         "type": "scatter",
         "x": [
          1985,
          1986,
          1987,
          1988,
          1989,
          1990,
          1991,
          1992,
          1993,
          1994,
          1995,
          1996,
          1997,
          1998,
          1999,
          2000,
          2001,
          2002,
          2003,
          2004,
          2005,
          2006,
          2007,
          2008,
          2009,
          2010,
          2011,
          2012,
          2013,
          2014,
          2015,
          2016,
          2017,
          2018,
          2019,
          2022,
          2023
         ],
         "xaxis": "x",
         "y": [
          5454100,
          5380700,
          5184200,
          5095100,
          5124100,
          5430000,
          5468600,
          4888800,
          5193300,
          5210800,
          5016200,
          5262200,
          5589100,
          5478200,
          6005400,
          6459100,
          4869800,
          5761400,
          6229400,
          6116300,
          6177200,
          6861700,
          6940600,
          6492200,
          6643600,
          7100000,
          7922500,
          7402500,
          7703100,
          7680800,
          7513400,
          6623100,
          7783600,
          7870500,
          7850200,
          7134000,
          7441800
         ],
         "yaxis": "y"
        }
       ],
       "layout": {
        "legend": {
         "title": {
          "text": "variable"
         },
         "tracegroupgap": 0
        },
        "margin": {
         "t": 60
        },
        "template": {
         "data": {
          "bar": [
           {
            "error_x": {
             "color": "#f2f5fa"
            },
            "error_y": {
             "color": "#f2f5fa"
            },
            "marker": {
             "line": {
              "color": "rgb(17,17,17)",
              "width": 0.5
             },
             "pattern": {
              "fillmode": "overlay",
              "size": 10,
              "solidity": 0.2
             }
            },
            "type": "bar"
           }
          ],
          "barpolar": [
           {
            "marker": {
             "line": {
              "color": "rgb(17,17,17)",
              "width": 0.5
             },
             "pattern": {
              "fillmode": "overlay",
              "size": 10,
              "solidity": 0.2
             }
            },
            "type": "barpolar"
           }
          ],
          "carpet": [
           {
            "aaxis": {
             "endlinecolor": "#A2B1C6",
             "gridcolor": "#506784",
             "linecolor": "#506784",
             "minorgridcolor": "#506784",
             "startlinecolor": "#A2B1C6"
            },
            "baxis": {
             "endlinecolor": "#A2B1C6",
             "gridcolor": "#506784",
             "linecolor": "#506784",
             "minorgridcolor": "#506784",
             "startlinecolor": "#A2B1C6"
            },
            "type": "carpet"
           }
          ],
          "choropleth": [
           {
            "colorbar": {
             "outlinewidth": 0,
             "ticks": ""
            },
            "type": "choropleth"
           }
          ],
          "contour": [
           {
            "colorbar": {
             "outlinewidth": 0,
             "ticks": ""
            },
            "colorscale": [
             [
              0,
              "#0d0887"
             ],
             [
              0.1111111111111111,
              "#46039f"
             ],
             [
              0.2222222222222222,
              "#7201a8"
             ],
             [
              0.3333333333333333,
              "#9c179e"
             ],
             [
              0.4444444444444444,
              "#bd3786"
             ],
             [
              0.5555555555555556,
              "#d8576b"
             ],
             [
              0.6666666666666666,
              "#ed7953"
             ],
             [
              0.7777777777777778,
              "#fb9f3a"
             ],
             [
              0.8888888888888888,
              "#fdca26"
             ],
             [
              1,
              "#f0f921"
             ]
            ],
            "type": "contour"
           }
          ],
          "contourcarpet": [
           {
            "colorbar": {
             "outlinewidth": 0,
             "ticks": ""
            },
            "type": "contourcarpet"
           }
          ],
          "heatmap": [
           {
            "colorbar": {
             "outlinewidth": 0,
             "ticks": ""
            },
            "colorscale": [
             [
              0,
              "#0d0887"
             ],
             [
              0.1111111111111111,
              "#46039f"
             ],
             [
              0.2222222222222222,
              "#7201a8"
             ],
             [
              0.3333333333333333,
              "#9c179e"
             ],
             [
              0.4444444444444444,
              "#bd3786"
             ],
             [
              0.5555555555555556,
              "#d8576b"
             ],
             [
              0.6666666666666666,
              "#ed7953"
             ],
             [
              0.7777777777777778,
              "#fb9f3a"
             ],
             [
              0.8888888888888888,
              "#fdca26"
             ],
             [
              1,
              "#f0f921"
             ]
            ],
            "type": "heatmap"
           }
          ],
          "heatmapgl": [
           {
            "colorbar": {
             "outlinewidth": 0,
             "ticks": ""
            },
            "colorscale": [
             [
              0,
              "#0d0887"
             ],
             [
              0.1111111111111111,
              "#46039f"
             ],
             [
              0.2222222222222222,
              "#7201a8"
             ],
             [
              0.3333333333333333,
              "#9c179e"
             ],
             [
              0.4444444444444444,
              "#bd3786"
             ],
             [
              0.5555555555555556,
              "#d8576b"
             ],
             [
              0.6666666666666666,
              "#ed7953"
             ],
             [
              0.7777777777777778,
              "#fb9f3a"
             ],
             [
              0.8888888888888888,
              "#fdca26"
             ],
             [
              1,
              "#f0f921"
             ]
            ],
            "type": "heatmapgl"
           }
          ],
          "histogram": [
           {
            "marker": {
             "pattern": {
              "fillmode": "overlay",
              "size": 10,
              "solidity": 0.2
             }
            },
            "type": "histogram"
           }
          ],
          "histogram2d": [
           {
            "colorbar": {
             "outlinewidth": 0,
             "ticks": ""
            },
            "colorscale": [
             [
              0,
              "#0d0887"
             ],
             [
              0.1111111111111111,
              "#46039f"
             ],
             [
              0.2222222222222222,
              "#7201a8"
             ],
             [
              0.3333333333333333,
              "#9c179e"
             ],
             [
              0.4444444444444444,
              "#bd3786"
             ],
             [
              0.5555555555555556,
              "#d8576b"
             ],
             [
              0.6666666666666666,
              "#ed7953"
             ],
             [
              0.7777777777777778,
              "#fb9f3a"
             ],
             [
              0.8888888888888888,
              "#fdca26"
             ],
             [
              1,
              "#f0f921"
             ]
            ],
            "type": "histogram2d"
           }
          ],
          "histogram2dcontour": [
           {
            "colorbar": {
             "outlinewidth": 0,
             "ticks": ""
            },
            "colorscale": [
             [
              0,
              "#0d0887"
             ],
             [
              0.1111111111111111,
              "#46039f"
             ],
             [
              0.2222222222222222,
              "#7201a8"
             ],
             [
              0.3333333333333333,
              "#9c179e"
             ],
             [
              0.4444444444444444,
              "#bd3786"
             ],
             [
              0.5555555555555556,
              "#d8576b"
             ],
             [
              0.6666666666666666,
              "#ed7953"
             ],
             [
              0.7777777777777778,
              "#fb9f3a"
             ],
             [
              0.8888888888888888,
              "#fdca26"
             ],
             [
              1,
              "#f0f921"
             ]
            ],
            "type": "histogram2dcontour"
           }
          ],
          "mesh3d": [
           {
            "colorbar": {
             "outlinewidth": 0,
             "ticks": ""
            },
            "type": "mesh3d"
           }
          ],
          "parcoords": [
           {
            "line": {
             "colorbar": {
              "outlinewidth": 0,
              "ticks": ""
             }
            },
            "type": "parcoords"
           }
          ],
          "pie": [
           {
            "automargin": true,
            "type": "pie"
           }
          ],
          "scatter": [
           {
            "marker": {
             "line": {
              "color": "#283442"
             }
            },
            "type": "scatter"
           }
          ],
          "scatter3d": [
           {
            "line": {
             "colorbar": {
              "outlinewidth": 0,
              "ticks": ""
             }
            },
            "marker": {
             "colorbar": {
              "outlinewidth": 0,
              "ticks": ""
             }
            },
            "type": "scatter3d"
           }
          ],
          "scattercarpet": [
           {
            "marker": {
             "colorbar": {
              "outlinewidth": 0,
              "ticks": ""
             }
            },
            "type": "scattercarpet"
           }
          ],
          "scattergeo": [
           {
            "marker": {
             "colorbar": {
              "outlinewidth": 0,
              "ticks": ""
             }
            },
            "type": "scattergeo"
           }
          ],
          "scattergl": [
           {
            "marker": {
             "line": {
              "color": "#283442"
             }
            },
            "type": "scattergl"
           }
          ],
          "scattermapbox": [
           {
            "marker": {
             "colorbar": {
              "outlinewidth": 0,
              "ticks": ""
             }
            },
            "type": "scattermapbox"
           }
          ],
          "scatterpolar": [
           {
            "marker": {
             "colorbar": {
              "outlinewidth": 0,
              "ticks": ""
             }
            },
            "type": "scatterpolar"
           }
          ],
          "scatterpolargl": [
           {
            "marker": {
             "colorbar": {
              "outlinewidth": 0,
              "ticks": ""
             }
            },
            "type": "scatterpolargl"
           }
          ],
          "scatterternary": [
           {
            "marker": {
             "colorbar": {
              "outlinewidth": 0,
              "ticks": ""
             }
            },
            "type": "scatterternary"
           }
          ],
          "surface": [
           {
            "colorbar": {
             "outlinewidth": 0,
             "ticks": ""
            },
            "colorscale": [
             [
              0,
              "#0d0887"
             ],
             [
              0.1111111111111111,
              "#46039f"
             ],
             [
              0.2222222222222222,
              "#7201a8"
             ],
             [
              0.3333333333333333,
              "#9c179e"
             ],
             [
              0.4444444444444444,
              "#bd3786"
             ],
             [
              0.5555555555555556,
              "#d8576b"
             ],
             [
              0.6666666666666666,
              "#ed7953"
             ],
             [
              0.7777777777777778,
              "#fb9f3a"
             ],
             [
              0.8888888888888888,
              "#fdca26"
             ],
             [
              1,
              "#f0f921"
             ]
            ],
            "type": "surface"
           }
          ],
          "table": [
           {
            "cells": {
             "fill": {
              "color": "#506784"
             },
             "line": {
              "color": "rgb(17,17,17)"
             }
            },
            "header": {
             "fill": {
              "color": "#2a3f5f"
             },
             "line": {
              "color": "rgb(17,17,17)"
             }
            },
            "type": "table"
           }
          ]
         },
         "layout": {
          "annotationdefaults": {
           "arrowcolor": "#f2f5fa",
           "arrowhead": 0,
           "arrowwidth": 1
          },
          "autotypenumbers": "strict",
          "coloraxis": {
           "colorbar": {
            "outlinewidth": 0,
            "ticks": ""
           }
          },
          "colorscale": {
           "diverging": [
            [
             0,
             "#8e0152"
            ],
            [
             0.1,
             "#c51b7d"
            ],
            [
             0.2,
             "#de77ae"
            ],
            [
             0.3,
             "#f1b6da"
            ],
            [
             0.4,
             "#fde0ef"
            ],
            [
             0.5,
             "#f7f7f7"
            ],
            [
             0.6,
             "#e6f5d0"
            ],
            [
             0.7,
             "#b8e186"
            ],
            [
             0.8,
             "#7fbc41"
            ],
            [
             0.9,
             "#4d9221"
            ],
            [
             1,
             "#276419"
            ]
           ],
           "sequential": [
            [
             0,
             "#0d0887"
            ],
            [
             0.1111111111111111,
             "#46039f"
            ],
            [
             0.2222222222222222,
             "#7201a8"
            ],
            [
             0.3333333333333333,
             "#9c179e"
            ],
            [
             0.4444444444444444,
             "#bd3786"
            ],
            [
             0.5555555555555556,
             "#d8576b"
            ],
            [
             0.6666666666666666,
             "#ed7953"
            ],
            [
             0.7777777777777778,
             "#fb9f3a"
            ],
            [
             0.8888888888888888,
             "#fdca26"
            ],
            [
             1,
             "#f0f921"
            ]
           ],
           "sequentialminus": [
            [
             0,
             "#0d0887"
            ],
            [
             0.1111111111111111,
             "#46039f"
            ],
            [
             0.2222222222222222,
             "#7201a8"
            ],
            [
             0.3333333333333333,
             "#9c179e"
            ],
            [
             0.4444444444444444,
             "#bd3786"
            ],
            [
             0.5555555555555556,
             "#d8576b"
            ],
            [
             0.6666666666666666,
             "#ed7953"
            ],
            [
             0.7777777777777778,
             "#fb9f3a"
            ],
            [
             0.8888888888888888,
             "#fdca26"
            ],
            [
             1,
             "#f0f921"
            ]
           ]
          },
          "colorway": [
           "#636efa",
           "#EF553B",
           "#00cc96",
           "#ab63fa",
           "#FFA15A",
           "#19d3f3",
           "#FF6692",
           "#B6E880",
           "#FF97FF",
           "#FECB52"
          ],
          "font": {
           "color": "#f2f5fa"
          },
          "geo": {
           "bgcolor": "rgb(17,17,17)",
           "lakecolor": "rgb(17,17,17)",
           "landcolor": "rgb(17,17,17)",
           "showlakes": true,
           "showland": true,
           "subunitcolor": "#506784"
          },
          "hoverlabel": {
           "align": "left"
          },
          "hovermode": "closest",
          "mapbox": {
           "style": "dark"
          },
          "paper_bgcolor": "rgb(17,17,17)",
          "plot_bgcolor": "rgb(17,17,17)",
          "polar": {
           "angularaxis": {
            "gridcolor": "#506784",
            "linecolor": "#506784",
            "ticks": ""
           },
           "bgcolor": "rgb(17,17,17)",
           "radialaxis": {
            "gridcolor": "#506784",
            "linecolor": "#506784",
            "ticks": ""
           }
          },
          "scene": {
           "xaxis": {
            "backgroundcolor": "rgb(17,17,17)",
            "gridcolor": "#506784",
            "gridwidth": 2,
            "linecolor": "#506784",
            "showbackground": true,
            "ticks": "",
            "zerolinecolor": "#C8D4E3"
           },
           "yaxis": {
            "backgroundcolor": "rgb(17,17,17)",
            "gridcolor": "#506784",
            "gridwidth": 2,
            "linecolor": "#506784",
            "showbackground": true,
            "ticks": "",
            "zerolinecolor": "#C8D4E3"
           },
           "zaxis": {
            "backgroundcolor": "rgb(17,17,17)",
            "gridcolor": "#506784",
            "gridwidth": 2,
            "linecolor": "#506784",
            "showbackground": true,
            "ticks": "",
            "zerolinecolor": "#C8D4E3"
           }
          },
          "shapedefaults": {
           "line": {
            "color": "#f2f5fa"
           }
          },
          "sliderdefaults": {
           "bgcolor": "#C8D4E3",
           "bordercolor": "rgb(17,17,17)",
           "borderwidth": 1,
           "tickwidth": 0
          },
          "ternary": {
           "aaxis": {
            "gridcolor": "#506784",
            "linecolor": "#506784",
            "ticks": ""
           },
           "baxis": {
            "gridcolor": "#506784",
            "linecolor": "#506784",
            "ticks": ""
           },
           "bgcolor": "rgb(17,17,17)",
           "caxis": {
            "gridcolor": "#506784",
            "linecolor": "#506784",
            "ticks": ""
           }
          },
          "title": {
           "x": 0.05
          },
          "updatemenudefaults": {
           "bgcolor": "#506784",
           "borderwidth": 0
          },
          "xaxis": {
           "automargin": true,
           "gridcolor": "#283442",
           "linecolor": "#506784",
           "ticks": "",
           "title": {
            "standoff": 15
           },
           "zerolinecolor": "#283442",
           "zerolinewidth": 2
          },
          "yaxis": {
           "automargin": true,
           "gridcolor": "#283442",
           "linecolor": "#506784",
           "ticks": "",
           "title": {
            "standoff": 15
           },
           "zerolinecolor": "#283442",
           "zerolinewidth": 2
          }
         }
        },
        "xaxis": {
         "anchor": "y",
         "domain": [
          0,
          1
         ],
         "title": {
          "text": "jahr"
         }
        },
        "yaxis": {
         "anchor": "x",
         "domain": [
          0,
          1
         ],
         "title": {
          "text": "value"
         }
        }
       }
      }
     },
     "metadata": {},
     "output_type": "display_data"
    }
   ],
   "source": [
    "data[\"bier_konsum_l\"] = data[\"bier_konsum\"] * 100\n",
    "\n",
    "fig = px.line(data, x=\"jahr\", y=[\n",
    "              \"hendl_konsum\", \"bier_konsum_l\"], template=\"plotly_dark\")\n",
    "# fig.update_layout(\n",
    "#      yaxis=dict(\n",
    "#         title=\"Anzahl verkaufte Hähnchen\"\n",
    "#     ),\n",
    "#     yaxis2=dict(\n",
    "#         title=\"Liter Bier\",\n",
    "#         overlaying='y',\n",
    "#         side='right'\n",
    "#     ) \n",
    "# )\n",
    "# fig.update_traces(yaxis=\"y2\", selector=dict(name=\"bier_konsum_l\"))\n",
    "fig.show()"
   ]
  },
  {
   "cell_type": "code",
   "execution_count": 19,
   "metadata": {},
   "outputs": [
    {
     "data": {
      "text/html": [
       "<div>\n",
       "<style scoped>\n",
       "    .dataframe tbody tr th:only-of-type {\n",
       "        vertical-align: middle;\n",
       "    }\n",
       "\n",
       "    .dataframe tbody tr th {\n",
       "        vertical-align: top;\n",
       "    }\n",
       "\n",
       "    .dataframe thead th {\n",
       "        text-align: right;\n",
       "    }\n",
       "</style>\n",
       "<table border=\"1\" class=\"dataframe\">\n",
       "  <thead>\n",
       "    <tr style=\"text-align: right;\">\n",
       "      <th></th>\n",
       "      <th>Jahr</th>\n",
       "      <th>Deutschland</th>\n",
       "      <th>Ø EU</th>\n",
       "      <th>Ø USA</th>\n",
       "      <th>Ø Welt</th>\n",
       "    </tr>\n",
       "  </thead>\n",
       "  <tbody>\n",
       "    <tr>\n",
       "      <th>0</th>\n",
       "      <td>2023</td>\n",
       "      <td>5,95</td>\n",
       "      <td>6,30</td>\n",
       "      <td>4,12</td>\n",
       "      <td>5,69</td>\n",
       "    </tr>\n",
       "    <tr>\n",
       "      <th>1</th>\n",
       "      <td>2022</td>\n",
       "      <td>6,87</td>\n",
       "      <td>8,83</td>\n",
       "      <td>8,00</td>\n",
       "      <td>7,97</td>\n",
       "    </tr>\n",
       "    <tr>\n",
       "      <th>2</th>\n",
       "      <td>2021</td>\n",
       "      <td>3,07</td>\n",
       "      <td>2,55</td>\n",
       "      <td>4,70</td>\n",
       "      <td>3,47</td>\n",
       "    </tr>\n",
       "    <tr>\n",
       "      <th>3</th>\n",
       "      <td>2020</td>\n",
       "      <td>0,14</td>\n",
       "      <td>0,48</td>\n",
       "      <td>1,23</td>\n",
       "      <td>1,92</td>\n",
       "    </tr>\n",
       "    <tr>\n",
       "      <th>4</th>\n",
       "      <td>2019</td>\n",
       "      <td>1,45</td>\n",
       "      <td>1,63</td>\n",
       "      <td>1,81</td>\n",
       "      <td>2,21</td>\n",
       "    </tr>\n",
       "    <tr>\n",
       "      <th>...</th>\n",
       "      <td>...</td>\n",
       "      <td>...</td>\n",
       "      <td>...</td>\n",
       "      <td>...</td>\n",
       "      <td>...</td>\n",
       "    </tr>\n",
       "    <tr>\n",
       "      <th>59</th>\n",
       "      <td>1964</td>\n",
       "      <td>2,34</td>\n",
       "      <td>3,42</td>\n",
       "      <td>1,28</td>\n",
       "      <td>n/a</td>\n",
       "    </tr>\n",
       "    <tr>\n",
       "      <th>60</th>\n",
       "      <td>1963</td>\n",
       "      <td>2,97</td>\n",
       "      <td>2,92</td>\n",
       "      <td>1,24</td>\n",
       "      <td>n/a</td>\n",
       "    </tr>\n",
       "    <tr>\n",
       "      <th>61</th>\n",
       "      <td>1962</td>\n",
       "      <td>2,84</td>\n",
       "      <td>3,55</td>\n",
       "      <td>1,20</td>\n",
       "      <td>n/a</td>\n",
       "    </tr>\n",
       "    <tr>\n",
       "      <th>62</th>\n",
       "      <td>1961</td>\n",
       "      <td>2,29</td>\n",
       "      <td>2,08</td>\n",
       "      <td>1,07</td>\n",
       "      <td>n/a</td>\n",
       "    </tr>\n",
       "    <tr>\n",
       "      <th>63</th>\n",
       "      <td>1960</td>\n",
       "      <td>1,54</td>\n",
       "      <td>1,74</td>\n",
       "      <td>1,46</td>\n",
       "      <td>n/a</td>\n",
       "    </tr>\n",
       "  </tbody>\n",
       "</table>\n",
       "<p>64 rows × 5 columns</p>\n",
       "</div>"
      ],
      "text/plain": [
       "    Jahr Deutschland  Ø EU Ø USA Ø Welt\n",
       "0   2023        5,95  6,30  4,12   5,69\n",
       "1   2022        6,87  8,83  8,00   7,97\n",
       "2   2021        3,07  2,55  4,70   3,47\n",
       "3   2020        0,14  0,48  1,23   1,92\n",
       "4   2019        1,45  1,63  1,81   2,21\n",
       "..   ...         ...   ...   ...    ...\n",
       "59  1964        2,34  3,42  1,28    n/a\n",
       "60  1963        2,97  2,92  1,24    n/a\n",
       "61  1962        2,84  3,55  1,20    n/a\n",
       "62  1961        2,29  2,08  1,07    n/a\n",
       "63  1960        1,54  1,74  1,46    n/a\n",
       "\n",
       "[64 rows x 5 columns]"
      ]
     },
     "execution_count": 19,
     "metadata": {},
     "output_type": "execute_result"
    }
   ],
   "source": [
    "inflation = pd.read_csv(\"../datasets/oktoberfest/inflation.csv\", sep=\"\\t\", decimal=\",\", converters={'Deutschland': lambda x: x.replace(' %', ''), 'Ø EU': lambda x: x.replace(' %', ''), 'Ø USA': lambda x: x.replace(' %', ''), 'Ø Welt': lambda x: x.replace(' %', '')})\n",
    "inflation\n"
   ]
  },
  {
   "cell_type": "code",
   "execution_count": 20,
   "metadata": {},
   "outputs": [],
   "source": [
    "data['budget_haendl'] = (\n",
    "    data['hendl_preis'] * data['hendl_konsum']) / (data['besucher_gesamt'] * 1000000)\n",
    "data['budget_bier'] = (data['bier_preis'] * (data['bier_konsum']\n",
    "                       * 100)) / (data['besucher_gesamt'] * 1000000)\n",
    "data['budget_gesamt'] = data['budget_haendl'] + data['budget_bier']\n",
    "\n",
    "# Wir Skalieren mit der kommulativen Inflation\n",
    "# Wir geheh von einer avg Inflation von 2% aus\n",
    "\n",
    "# 1985 = 1\n",
    "# 1985 = 1.02\n",
    "# 1985 = 1.02 * 1.02 = 1.02 ^2\n",
    "# 1985 = 1.02 * 1.02 = 1.02 ^3\n",
    "# ...\n",
    "# 1985 * 1.02 n"
   ]
  },
  {
   "cell_type": "code",
   "execution_count": 21,
   "metadata": {},
   "outputs": [
    {
     "data": {
      "text/html": [
       "<div>\n",
       "<style scoped>\n",
       "    .dataframe tbody tr th:only-of-type {\n",
       "        vertical-align: middle;\n",
       "    }\n",
       "\n",
       "    .dataframe tbody tr th {\n",
       "        vertical-align: top;\n",
       "    }\n",
       "\n",
       "    .dataframe thead th {\n",
       "        text-align: right;\n",
       "    }\n",
       "</style>\n",
       "<table border=\"1\" class=\"dataframe\">\n",
       "  <thead>\n",
       "    <tr style=\"text-align: right;\">\n",
       "      <th></th>\n",
       "      <th>jahr</th>\n",
       "      <th>inflation_2%</th>\n",
       "    </tr>\n",
       "  </thead>\n",
       "  <tbody>\n",
       "    <tr>\n",
       "      <th>0</th>\n",
       "      <td>1985</td>\n",
       "      <td>1.000000</td>\n",
       "    </tr>\n",
       "    <tr>\n",
       "      <th>1</th>\n",
       "      <td>1986</td>\n",
       "      <td>1.020000</td>\n",
       "    </tr>\n",
       "    <tr>\n",
       "      <th>2</th>\n",
       "      <td>1987</td>\n",
       "      <td>1.040400</td>\n",
       "    </tr>\n",
       "    <tr>\n",
       "      <th>3</th>\n",
       "      <td>1988</td>\n",
       "      <td>1.061208</td>\n",
       "    </tr>\n",
       "    <tr>\n",
       "      <th>4</th>\n",
       "      <td>1989</td>\n",
       "      <td>1.082432</td>\n",
       "    </tr>\n",
       "  </tbody>\n",
       "</table>\n",
       "</div>"
      ],
      "text/plain": [
       "   jahr  inflation_2%\n",
       "0  1985      1.000000\n",
       "1  1986      1.020000\n",
       "2  1987      1.040400\n",
       "3  1988      1.061208\n",
       "4  1989      1.082432"
      ]
     },
     "execution_count": 21,
     "metadata": {},
     "output_type": "execute_result"
    }
   ],
   "source": [
    "toal_years = data[\"jahr\"].max() - data[\"jahr\"].min()\n",
    "inflation = [1.02 ** n for n in range(toal_years + 1)]\n",
    "\n",
    "df_inflation = pd.DataFrame({\"jahr\": range(1985, 2024), \"inflation_2%\": inflation })\n",
    "df_inflation.head()"
   ]
  },
  {
   "cell_type": "code",
   "execution_count": 22,
   "metadata": {},
   "outputs": [
    {
     "data": {
      "text/html": [
       "<div>\n",
       "<style scoped>\n",
       "    .dataframe tbody tr th:only-of-type {\n",
       "        vertical-align: middle;\n",
       "    }\n",
       "\n",
       "    .dataframe tbody tr th {\n",
       "        vertical-align: top;\n",
       "    }\n",
       "\n",
       "    .dataframe thead th {\n",
       "        text-align: right;\n",
       "    }\n",
       "</style>\n",
       "<table border=\"1\" class=\"dataframe\">\n",
       "  <thead>\n",
       "    <tr style=\"text-align: right;\">\n",
       "      <th></th>\n",
       "      <th>jahr</th>\n",
       "      <th>dauer</th>\n",
       "      <th>besucher_gesamt</th>\n",
       "      <th>besucher_tag</th>\n",
       "      <th>bier_preis</th>\n",
       "      <th>bier_konsum</th>\n",
       "      <th>hendl_preis</th>\n",
       "      <th>hendl_konsum</th>\n",
       "      <th>l_bier_pro_besucher</th>\n",
       "      <th>budget_haendl</th>\n",
       "      <th>budget_bier</th>\n",
       "      <th>budget_gesamt</th>\n",
       "      <th>bier_konsum_l</th>\n",
       "      <th>inflation_2%</th>\n",
       "    </tr>\n",
       "  </thead>\n",
       "  <tbody>\n",
       "    <tr>\n",
       "      <th>0</th>\n",
       "      <td>1985</td>\n",
       "      <td>16</td>\n",
       "      <td>7.1</td>\n",
       "      <td>444</td>\n",
       "      <td>3.20</td>\n",
       "      <td>54541</td>\n",
       "      <td>4.77</td>\n",
       "      <td>629520</td>\n",
       "      <td>0.768183</td>\n",
       "      <td>0.422931</td>\n",
       "      <td>2.458186</td>\n",
       "      <td>2.881117</td>\n",
       "      <td>5454100</td>\n",
       "      <td>1.000000</td>\n",
       "    </tr>\n",
       "    <tr>\n",
       "      <th>1</th>\n",
       "      <td>1986</td>\n",
       "      <td>16</td>\n",
       "      <td>6.7</td>\n",
       "      <td>419</td>\n",
       "      <td>3.30</td>\n",
       "      <td>53807</td>\n",
       "      <td>3.92</td>\n",
       "      <td>698137</td>\n",
       "      <td>0.803090</td>\n",
       "      <td>0.408462</td>\n",
       "      <td>2.650196</td>\n",
       "      <td>3.058658</td>\n",
       "      <td>5380700</td>\n",
       "      <td>1.020000</td>\n",
       "    </tr>\n",
       "    <tr>\n",
       "      <th>2</th>\n",
       "      <td>1987</td>\n",
       "      <td>16</td>\n",
       "      <td>6.5</td>\n",
       "      <td>406</td>\n",
       "      <td>3.37</td>\n",
       "      <td>51842</td>\n",
       "      <td>3.98</td>\n",
       "      <td>732859</td>\n",
       "      <td>0.797569</td>\n",
       "      <td>0.448735</td>\n",
       "      <td>2.687808</td>\n",
       "      <td>3.136544</td>\n",
       "      <td>5184200</td>\n",
       "      <td>1.040400</td>\n",
       "    </tr>\n",
       "    <tr>\n",
       "      <th>3</th>\n",
       "      <td>1988</td>\n",
       "      <td>16</td>\n",
       "      <td>5.7</td>\n",
       "      <td>356</td>\n",
       "      <td>3.45</td>\n",
       "      <td>50951</td>\n",
       "      <td>4.19</td>\n",
       "      <td>720139</td>\n",
       "      <td>0.893877</td>\n",
       "      <td>0.529365</td>\n",
       "      <td>3.083876</td>\n",
       "      <td>3.613242</td>\n",
       "      <td>5095100</td>\n",
       "      <td>1.061208</td>\n",
       "    </tr>\n",
       "    <tr>\n",
       "      <th>4</th>\n",
       "      <td>1989</td>\n",
       "      <td>16</td>\n",
       "      <td>6.2</td>\n",
       "      <td>388</td>\n",
       "      <td>3.60</td>\n",
       "      <td>51241</td>\n",
       "      <td>4.22</td>\n",
       "      <td>775674</td>\n",
       "      <td>0.826468</td>\n",
       "      <td>0.527959</td>\n",
       "      <td>2.975284</td>\n",
       "      <td>3.503243</td>\n",
       "      <td>5124100</td>\n",
       "      <td>1.082432</td>\n",
       "    </tr>\n",
       "  </tbody>\n",
       "</table>\n",
       "</div>"
      ],
      "text/plain": [
       "   jahr  dauer  besucher_gesamt  besucher_tag  bier_preis  bier_konsum  \\\n",
       "0  1985     16              7.1           444        3.20        54541   \n",
       "1  1986     16              6.7           419        3.30        53807   \n",
       "2  1987     16              6.5           406        3.37        51842   \n",
       "3  1988     16              5.7           356        3.45        50951   \n",
       "4  1989     16              6.2           388        3.60        51241   \n",
       "\n",
       "   hendl_preis  hendl_konsum  l_bier_pro_besucher  budget_haendl  budget_bier  \\\n",
       "0         4.77        629520             0.768183       0.422931     2.458186   \n",
       "1         3.92        698137             0.803090       0.408462     2.650196   \n",
       "2         3.98        732859             0.797569       0.448735     2.687808   \n",
       "3         4.19        720139             0.893877       0.529365     3.083876   \n",
       "4         4.22        775674             0.826468       0.527959     2.975284   \n",
       "\n",
       "   budget_gesamt  bier_konsum_l  inflation_2%  \n",
       "0       2.881117        5454100      1.000000  \n",
       "1       3.058658        5380700      1.020000  \n",
       "2       3.136544        5184200      1.040400  \n",
       "3       3.613242        5095100      1.061208  \n",
       "4       3.503243        5124100      1.082432  "
      ]
     },
     "execution_count": 22,
     "metadata": {},
     "output_type": "execute_result"
    }
   ],
   "source": [
    "data = data.merge(df_inflation, on=\"jahr\")\n",
    "data.head()"
   ]
  },
  {
   "cell_type": "code",
   "execution_count": 23,
   "metadata": {},
   "outputs": [
    {
     "data": {
      "text/html": [
       "<div>\n",
       "<style scoped>\n",
       "    .dataframe tbody tr th:only-of-type {\n",
       "        vertical-align: middle;\n",
       "    }\n",
       "\n",
       "    .dataframe tbody tr th {\n",
       "        vertical-align: top;\n",
       "    }\n",
       "\n",
       "    .dataframe thead th {\n",
       "        text-align: right;\n",
       "    }\n",
       "</style>\n",
       "<table border=\"1\" class=\"dataframe\">\n",
       "  <thead>\n",
       "    <tr style=\"text-align: right;\">\n",
       "      <th></th>\n",
       "      <th>jahr</th>\n",
       "      <th>dauer</th>\n",
       "      <th>besucher_gesamt</th>\n",
       "      <th>besucher_tag</th>\n",
       "      <th>bier_preis</th>\n",
       "      <th>bier_konsum</th>\n",
       "      <th>hendl_preis</th>\n",
       "      <th>hendl_konsum</th>\n",
       "      <th>l_bier_pro_besucher</th>\n",
       "      <th>budget_haendl</th>\n",
       "      <th>budget_bier</th>\n",
       "      <th>budget_gesamt</th>\n",
       "      <th>bier_konsum_l</th>\n",
       "      <th>inflation_2%</th>\n",
       "    </tr>\n",
       "  </thead>\n",
       "  <tbody>\n",
       "    <tr>\n",
       "      <th>0</th>\n",
       "      <td>1985</td>\n",
       "      <td>16</td>\n",
       "      <td>7.1</td>\n",
       "      <td>444</td>\n",
       "      <td>3.20</td>\n",
       "      <td>54541</td>\n",
       "      <td>4.77</td>\n",
       "      <td>629520</td>\n",
       "      <td>0.768183</td>\n",
       "      <td>0.422931</td>\n",
       "      <td>2.458186</td>\n",
       "      <td>2.881117</td>\n",
       "      <td>5454100</td>\n",
       "      <td>1.000000</td>\n",
       "    </tr>\n",
       "    <tr>\n",
       "      <th>1</th>\n",
       "      <td>1986</td>\n",
       "      <td>16</td>\n",
       "      <td>6.7</td>\n",
       "      <td>419</td>\n",
       "      <td>3.30</td>\n",
       "      <td>53807</td>\n",
       "      <td>3.92</td>\n",
       "      <td>698137</td>\n",
       "      <td>0.803090</td>\n",
       "      <td>0.408462</td>\n",
       "      <td>2.650196</td>\n",
       "      <td>3.058658</td>\n",
       "      <td>5380700</td>\n",
       "      <td>1.020000</td>\n",
       "    </tr>\n",
       "    <tr>\n",
       "      <th>2</th>\n",
       "      <td>1987</td>\n",
       "      <td>16</td>\n",
       "      <td>6.5</td>\n",
       "      <td>406</td>\n",
       "      <td>3.37</td>\n",
       "      <td>51842</td>\n",
       "      <td>3.98</td>\n",
       "      <td>732859</td>\n",
       "      <td>0.797569</td>\n",
       "      <td>0.448735</td>\n",
       "      <td>2.687808</td>\n",
       "      <td>3.136544</td>\n",
       "      <td>5184200</td>\n",
       "      <td>1.040400</td>\n",
       "    </tr>\n",
       "    <tr>\n",
       "      <th>3</th>\n",
       "      <td>1988</td>\n",
       "      <td>16</td>\n",
       "      <td>5.7</td>\n",
       "      <td>356</td>\n",
       "      <td>3.45</td>\n",
       "      <td>50951</td>\n",
       "      <td>4.19</td>\n",
       "      <td>720139</td>\n",
       "      <td>0.893877</td>\n",
       "      <td>0.529365</td>\n",
       "      <td>3.083876</td>\n",
       "      <td>3.613242</td>\n",
       "      <td>5095100</td>\n",
       "      <td>1.061208</td>\n",
       "    </tr>\n",
       "    <tr>\n",
       "      <th>4</th>\n",
       "      <td>1989</td>\n",
       "      <td>16</td>\n",
       "      <td>6.2</td>\n",
       "      <td>388</td>\n",
       "      <td>3.60</td>\n",
       "      <td>51241</td>\n",
       "      <td>4.22</td>\n",
       "      <td>775674</td>\n",
       "      <td>0.826468</td>\n",
       "      <td>0.527959</td>\n",
       "      <td>2.975284</td>\n",
       "      <td>3.503243</td>\n",
       "      <td>5124100</td>\n",
       "      <td>1.082432</td>\n",
       "    </tr>\n",
       "    <tr>\n",
       "      <th>5</th>\n",
       "      <td>1990</td>\n",
       "      <td>16</td>\n",
       "      <td>6.7</td>\n",
       "      <td>419</td>\n",
       "      <td>3.77</td>\n",
       "      <td>54300</td>\n",
       "      <td>4.47</td>\n",
       "      <td>750947</td>\n",
       "      <td>0.810448</td>\n",
       "      <td>0.501005</td>\n",
       "      <td>3.055388</td>\n",
       "      <td>3.556393</td>\n",
       "      <td>5430000</td>\n",
       "      <td>1.104081</td>\n",
       "    </tr>\n",
       "    <tr>\n",
       "      <th>6</th>\n",
       "      <td>1991</td>\n",
       "      <td>16</td>\n",
       "      <td>6.4</td>\n",
       "      <td>400</td>\n",
       "      <td>4.21</td>\n",
       "      <td>54686</td>\n",
       "      <td>4.81</td>\n",
       "      <td>807710</td>\n",
       "      <td>0.854469</td>\n",
       "      <td>0.607045</td>\n",
       "      <td>3.597313</td>\n",
       "      <td>4.204358</td>\n",
       "      <td>5468600</td>\n",
       "      <td>1.126162</td>\n",
       "    </tr>\n",
       "    <tr>\n",
       "      <th>7</th>\n",
       "      <td>1992</td>\n",
       "      <td>16</td>\n",
       "      <td>5.9</td>\n",
       "      <td>369</td>\n",
       "      <td>4.42</td>\n",
       "      <td>48888</td>\n",
       "      <td>5.11</td>\n",
       "      <td>725612</td>\n",
       "      <td>0.828610</td>\n",
       "      <td>0.628454</td>\n",
       "      <td>3.662457</td>\n",
       "      <td>4.290911</td>\n",
       "      <td>4888800</td>\n",
       "      <td>1.148686</td>\n",
       "    </tr>\n",
       "    <tr>\n",
       "      <th>8</th>\n",
       "      <td>1993</td>\n",
       "      <td>16</td>\n",
       "      <td>6.5</td>\n",
       "      <td>406</td>\n",
       "      <td>4.71</td>\n",
       "      <td>51933</td>\n",
       "      <td>5.25</td>\n",
       "      <td>733517</td>\n",
       "      <td>0.798969</td>\n",
       "      <td>0.592456</td>\n",
       "      <td>3.763145</td>\n",
       "      <td>4.355601</td>\n",
       "      <td>5193300</td>\n",
       "      <td>1.171659</td>\n",
       "    </tr>\n",
       "    <tr>\n",
       "      <th>9</th>\n",
       "      <td>1994</td>\n",
       "      <td>16</td>\n",
       "      <td>6.6</td>\n",
       "      <td>413</td>\n",
       "      <td>4.89</td>\n",
       "      <td>52108</td>\n",
       "      <td>5.39</td>\n",
       "      <td>663135</td>\n",
       "      <td>0.789515</td>\n",
       "      <td>0.541560</td>\n",
       "      <td>3.860729</td>\n",
       "      <td>4.402289</td>\n",
       "      <td>5210800</td>\n",
       "      <td>1.195093</td>\n",
       "    </tr>\n",
       "    <tr>\n",
       "      <th>10</th>\n",
       "      <td>1995</td>\n",
       "      <td>16</td>\n",
       "      <td>6.7</td>\n",
       "      <td>419</td>\n",
       "      <td>5.15</td>\n",
       "      <td>50162</td>\n",
       "      <td>5.54</td>\n",
       "      <td>628890</td>\n",
       "      <td>0.748687</td>\n",
       "      <td>0.520008</td>\n",
       "      <td>3.855736</td>\n",
       "      <td>4.375743</td>\n",
       "      <td>5016200</td>\n",
       "      <td>1.218994</td>\n",
       "    </tr>\n",
       "    <tr>\n",
       "      <th>11</th>\n",
       "      <td>1996</td>\n",
       "      <td>16</td>\n",
       "      <td>6.9</td>\n",
       "      <td>431</td>\n",
       "      <td>5.24</td>\n",
       "      <td>52622</td>\n",
       "      <td>5.45</td>\n",
       "      <td>595580</td>\n",
       "      <td>0.762638</td>\n",
       "      <td>0.470422</td>\n",
       "      <td>3.996221</td>\n",
       "      <td>4.466643</td>\n",
       "      <td>5262200</td>\n",
       "      <td>1.243374</td>\n",
       "    </tr>\n",
       "    <tr>\n",
       "      <th>12</th>\n",
       "      <td>1997</td>\n",
       "      <td>16</td>\n",
       "      <td>6.4</td>\n",
       "      <td>400</td>\n",
       "      <td>5.45</td>\n",
       "      <td>55891</td>\n",
       "      <td>5.38</td>\n",
       "      <td>699562</td>\n",
       "      <td>0.873297</td>\n",
       "      <td>0.588069</td>\n",
       "      <td>4.759468</td>\n",
       "      <td>5.347537</td>\n",
       "      <td>5589100</td>\n",
       "      <td>1.268242</td>\n",
       "    </tr>\n",
       "    <tr>\n",
       "      <th>13</th>\n",
       "      <td>1998</td>\n",
       "      <td>16</td>\n",
       "      <td>6.5</td>\n",
       "      <td>406</td>\n",
       "      <td>5.60</td>\n",
       "      <td>54782</td>\n",
       "      <td>5.34</td>\n",
       "      <td>603746</td>\n",
       "      <td>0.842800</td>\n",
       "      <td>0.496001</td>\n",
       "      <td>4.719680</td>\n",
       "      <td>5.215681</td>\n",
       "      <td>5478200</td>\n",
       "      <td>1.293607</td>\n",
       "    </tr>\n",
       "    <tr>\n",
       "      <th>14</th>\n",
       "      <td>1999</td>\n",
       "      <td>16</td>\n",
       "      <td>6.5</td>\n",
       "      <td>406</td>\n",
       "      <td>5.80</td>\n",
       "      <td>60054</td>\n",
       "      <td>5.38</td>\n",
       "      <td>609661</td>\n",
       "      <td>0.923908</td>\n",
       "      <td>0.504612</td>\n",
       "      <td>5.358665</td>\n",
       "      <td>5.863276</td>\n",
       "      <td>6005400</td>\n",
       "      <td>1.319479</td>\n",
       "    </tr>\n",
       "    <tr>\n",
       "      <th>15</th>\n",
       "      <td>2000</td>\n",
       "      <td>18</td>\n",
       "      <td>6.9</td>\n",
       "      <td>383</td>\n",
       "      <td>6.35</td>\n",
       "      <td>64591</td>\n",
       "      <td>7.85</td>\n",
       "      <td>681242</td>\n",
       "      <td>0.936101</td>\n",
       "      <td>0.775036</td>\n",
       "      <td>5.944244</td>\n",
       "      <td>6.719280</td>\n",
       "      <td>6459100</td>\n",
       "      <td>1.345868</td>\n",
       "    </tr>\n",
       "    <tr>\n",
       "      <th>16</th>\n",
       "      <td>2001</td>\n",
       "      <td>16</td>\n",
       "      <td>5.5</td>\n",
       "      <td>344</td>\n",
       "      <td>6.47</td>\n",
       "      <td>48698</td>\n",
       "      <td>8.12</td>\n",
       "      <td>351705</td>\n",
       "      <td>0.885418</td>\n",
       "      <td>0.519244</td>\n",
       "      <td>5.728656</td>\n",
       "      <td>6.247900</td>\n",
       "      <td>4869800</td>\n",
       "      <td>1.372786</td>\n",
       "    </tr>\n",
       "    <tr>\n",
       "      <th>17</th>\n",
       "      <td>2002</td>\n",
       "      <td>16</td>\n",
       "      <td>5.9</td>\n",
       "      <td>369</td>\n",
       "      <td>6.75</td>\n",
       "      <td>57614</td>\n",
       "      <td>8.10</td>\n",
       "      <td>459259</td>\n",
       "      <td>0.976508</td>\n",
       "      <td>0.630508</td>\n",
       "      <td>6.591432</td>\n",
       "      <td>7.221940</td>\n",
       "      <td>5761400</td>\n",
       "      <td>1.400241</td>\n",
       "    </tr>\n",
       "    <tr>\n",
       "      <th>18</th>\n",
       "      <td>2003</td>\n",
       "      <td>16</td>\n",
       "      <td>6.3</td>\n",
       "      <td>394</td>\n",
       "      <td>6.75</td>\n",
       "      <td>62294</td>\n",
       "      <td>8.14</td>\n",
       "      <td>487487</td>\n",
       "      <td>0.988794</td>\n",
       "      <td>0.629864</td>\n",
       "      <td>6.674357</td>\n",
       "      <td>7.304221</td>\n",
       "      <td>6229400</td>\n",
       "      <td>1.428246</td>\n",
       "    </tr>\n",
       "    <tr>\n",
       "      <th>19</th>\n",
       "      <td>2004</td>\n",
       "      <td>16</td>\n",
       "      <td>5.9</td>\n",
       "      <td>369</td>\n",
       "      <td>7.02</td>\n",
       "      <td>61163</td>\n",
       "      <td>8.28</td>\n",
       "      <td>481649</td>\n",
       "      <td>1.036661</td>\n",
       "      <td>0.675941</td>\n",
       "      <td>7.277360</td>\n",
       "      <td>7.953302</td>\n",
       "      <td>6116300</td>\n",
       "      <td>1.456811</td>\n",
       "    </tr>\n",
       "    <tr>\n",
       "      <th>20</th>\n",
       "      <td>2005</td>\n",
       "      <td>17</td>\n",
       "      <td>6.1</td>\n",
       "      <td>359</td>\n",
       "      <td>7.15</td>\n",
       "      <td>61772</td>\n",
       "      <td>8.35</td>\n",
       "      <td>479610</td>\n",
       "      <td>1.012656</td>\n",
       "      <td>0.656515</td>\n",
       "      <td>7.240489</td>\n",
       "      <td>7.897004</td>\n",
       "      <td>6177200</td>\n",
       "      <td>1.485947</td>\n",
       "    </tr>\n",
       "    <tr>\n",
       "      <th>21</th>\n",
       "      <td>2006</td>\n",
       "      <td>18</td>\n",
       "      <td>6.5</td>\n",
       "      <td>361</td>\n",
       "      <td>7.42</td>\n",
       "      <td>68617</td>\n",
       "      <td>8.50</td>\n",
       "      <td>494135</td>\n",
       "      <td>1.055646</td>\n",
       "      <td>0.646177</td>\n",
       "      <td>7.832894</td>\n",
       "      <td>8.479071</td>\n",
       "      <td>6861700</td>\n",
       "      <td>1.515666</td>\n",
       "    </tr>\n",
       "    <tr>\n",
       "      <th>22</th>\n",
       "      <td>2007</td>\n",
       "      <td>16</td>\n",
       "      <td>6.2</td>\n",
       "      <td>388</td>\n",
       "      <td>7.85</td>\n",
       "      <td>69406</td>\n",
       "      <td>8.87</td>\n",
       "      <td>521872</td>\n",
       "      <td>1.119452</td>\n",
       "      <td>0.746614</td>\n",
       "      <td>8.787695</td>\n",
       "      <td>9.534309</td>\n",
       "      <td>6940600</td>\n",
       "      <td>1.545980</td>\n",
       "    </tr>\n",
       "    <tr>\n",
       "      <th>23</th>\n",
       "      <td>2008</td>\n",
       "      <td>16</td>\n",
       "      <td>6.0</td>\n",
       "      <td>375</td>\n",
       "      <td>8.25</td>\n",
       "      <td>64922</td>\n",
       "      <td>9.06</td>\n",
       "      <td>459356</td>\n",
       "      <td>1.082033</td>\n",
       "      <td>0.693628</td>\n",
       "      <td>8.926775</td>\n",
       "      <td>9.620403</td>\n",
       "      <td>6492200</td>\n",
       "      <td>1.576899</td>\n",
       "    </tr>\n",
       "    <tr>\n",
       "      <th>24</th>\n",
       "      <td>2009</td>\n",
       "      <td>16</td>\n",
       "      <td>5.7</td>\n",
       "      <td>356</td>\n",
       "      <td>8.53</td>\n",
       "      <td>66436</td>\n",
       "      <td>9.18</td>\n",
       "      <td>488137</td>\n",
       "      <td>1.165544</td>\n",
       "      <td>0.786157</td>\n",
       "      <td>9.942089</td>\n",
       "      <td>10.728247</td>\n",
       "      <td>6643600</td>\n",
       "      <td>1.608437</td>\n",
       "    </tr>\n",
       "    <tr>\n",
       "      <th>25</th>\n",
       "      <td>2010</td>\n",
       "      <td>17</td>\n",
       "      <td>6.4</td>\n",
       "      <td>376</td>\n",
       "      <td>8.79</td>\n",
       "      <td>71000</td>\n",
       "      <td>9.60</td>\n",
       "      <td>505901</td>\n",
       "      <td>1.109375</td>\n",
       "      <td>0.758851</td>\n",
       "      <td>9.751406</td>\n",
       "      <td>10.510258</td>\n",
       "      <td>7100000</td>\n",
       "      <td>1.640606</td>\n",
       "    </tr>\n",
       "    <tr>\n",
       "      <th>26</th>\n",
       "      <td>2011</td>\n",
       "      <td>17</td>\n",
       "      <td>6.9</td>\n",
       "      <td>406</td>\n",
       "      <td>9.09</td>\n",
       "      <td>79225</td>\n",
       "      <td>9.83</td>\n",
       "      <td>522821</td>\n",
       "      <td>1.148188</td>\n",
       "      <td>0.744830</td>\n",
       "      <td>10.437033</td>\n",
       "      <td>11.181863</td>\n",
       "      <td>7922500</td>\n",
       "      <td>1.673418</td>\n",
       "    </tr>\n",
       "    <tr>\n",
       "      <th>27</th>\n",
       "      <td>2012</td>\n",
       "      <td>16</td>\n",
       "      <td>6.4</td>\n",
       "      <td>400</td>\n",
       "      <td>9.41</td>\n",
       "      <td>74025</td>\n",
       "      <td>10.07</td>\n",
       "      <td>508958</td>\n",
       "      <td>1.156641</td>\n",
       "      <td>0.800814</td>\n",
       "      <td>10.883988</td>\n",
       "      <td>11.684802</td>\n",
       "      <td>7402500</td>\n",
       "      <td>1.706886</td>\n",
       "    </tr>\n",
       "    <tr>\n",
       "      <th>28</th>\n",
       "      <td>2013</td>\n",
       "      <td>16</td>\n",
       "      <td>6.4</td>\n",
       "      <td>400</td>\n",
       "      <td>9.78</td>\n",
       "      <td>77031</td>\n",
       "      <td>11.10</td>\n",
       "      <td>482361</td>\n",
       "      <td>1.203609</td>\n",
       "      <td>0.836595</td>\n",
       "      <td>11.771300</td>\n",
       "      <td>12.607895</td>\n",
       "      <td>7703100</td>\n",
       "      <td>1.741024</td>\n",
       "    </tr>\n",
       "    <tr>\n",
       "      <th>29</th>\n",
       "      <td>2014</td>\n",
       "      <td>16</td>\n",
       "      <td>6.3</td>\n",
       "      <td>394</td>\n",
       "      <td>9.98</td>\n",
       "      <td>76808</td>\n",
       "      <td>10.49</td>\n",
       "      <td>509420</td>\n",
       "      <td>1.219175</td>\n",
       "      <td>0.848225</td>\n",
       "      <td>12.167363</td>\n",
       "      <td>13.015587</td>\n",
       "      <td>7680800</td>\n",
       "      <td>1.775845</td>\n",
       "    </tr>\n",
       "    <tr>\n",
       "      <th>30</th>\n",
       "      <td>2015</td>\n",
       "      <td>16</td>\n",
       "      <td>5.9</td>\n",
       "      <td>369</td>\n",
       "      <td>10.27</td>\n",
       "      <td>75134</td>\n",
       "      <td>10.75</td>\n",
       "      <td>503510</td>\n",
       "      <td>1.273458</td>\n",
       "      <td>0.917412</td>\n",
       "      <td>13.078410</td>\n",
       "      <td>13.995822</td>\n",
       "      <td>7513400</td>\n",
       "      <td>1.811362</td>\n",
       "    </tr>\n",
       "    <tr>\n",
       "      <th>31</th>\n",
       "      <td>2016</td>\n",
       "      <td>17</td>\n",
       "      <td>5.6</td>\n",
       "      <td>329</td>\n",
       "      <td>10.57</td>\n",
       "      <td>66231</td>\n",
       "      <td>11.00</td>\n",
       "      <td>366876</td>\n",
       "      <td>1.182696</td>\n",
       "      <td>0.720649</td>\n",
       "      <td>12.501101</td>\n",
       "      <td>13.221751</td>\n",
       "      <td>6623100</td>\n",
       "      <td>1.847589</td>\n",
       "    </tr>\n",
       "    <tr>\n",
       "      <th>32</th>\n",
       "      <td>2017</td>\n",
       "      <td>18</td>\n",
       "      <td>6.2</td>\n",
       "      <td>344</td>\n",
       "      <td>10.87</td>\n",
       "      <td>77836</td>\n",
       "      <td>11.41</td>\n",
       "      <td>466747</td>\n",
       "      <td>1.255419</td>\n",
       "      <td>0.858965</td>\n",
       "      <td>13.646408</td>\n",
       "      <td>14.505373</td>\n",
       "      <td>7783600</td>\n",
       "      <td>1.884541</td>\n",
       "    </tr>\n",
       "    <tr>\n",
       "      <th>33</th>\n",
       "      <td>2018</td>\n",
       "      <td>16</td>\n",
       "      <td>6.3</td>\n",
       "      <td>394</td>\n",
       "      <td>11.30</td>\n",
       "      <td>78705</td>\n",
       "      <td>11.67</td>\n",
       "      <td>436492</td>\n",
       "      <td>1.249286</td>\n",
       "      <td>0.808549</td>\n",
       "      <td>14.116929</td>\n",
       "      <td>14.925478</td>\n",
       "      <td>7870500</td>\n",
       "      <td>1.922231</td>\n",
       "    </tr>\n",
       "    <tr>\n",
       "      <th>34</th>\n",
       "      <td>2019</td>\n",
       "      <td>16</td>\n",
       "      <td>6.3</td>\n",
       "      <td>394</td>\n",
       "      <td>11.71</td>\n",
       "      <td>78502</td>\n",
       "      <td>12.15</td>\n",
       "      <td>434998</td>\n",
       "      <td>1.246063</td>\n",
       "      <td>0.838925</td>\n",
       "      <td>14.591403</td>\n",
       "      <td>15.430328</td>\n",
       "      <td>7850200</td>\n",
       "      <td>1.960676</td>\n",
       "    </tr>\n",
       "    <tr>\n",
       "      <th>35</th>\n",
       "      <td>2022</td>\n",
       "      <td>17</td>\n",
       "      <td>5.7</td>\n",
       "      <td>335</td>\n",
       "      <td>13.45</td>\n",
       "      <td>71340</td>\n",
       "      <td>13.96</td>\n",
       "      <td>313636</td>\n",
       "      <td>1.251579</td>\n",
       "      <td>0.768133</td>\n",
       "      <td>16.833737</td>\n",
       "      <td>17.601870</td>\n",
       "      <td>7134000</td>\n",
       "      <td>2.080685</td>\n",
       "    </tr>\n",
       "    <tr>\n",
       "      <th>36</th>\n",
       "      <td>2023</td>\n",
       "      <td>18</td>\n",
       "      <td>7.2</td>\n",
       "      <td>400</td>\n",
       "      <td>14.33</td>\n",
       "      <td>74418</td>\n",
       "      <td>15.89</td>\n",
       "      <td>396141</td>\n",
       "      <td>1.033583</td>\n",
       "      <td>0.874261</td>\n",
       "      <td>14.811249</td>\n",
       "      <td>15.685510</td>\n",
       "      <td>7441800</td>\n",
       "      <td>2.122299</td>\n",
       "    </tr>\n",
       "  </tbody>\n",
       "</table>\n",
       "</div>"
      ],
      "text/plain": [
       "    jahr  dauer  besucher_gesamt  besucher_tag  bier_preis  bier_konsum  \\\n",
       "0   1985     16              7.1           444        3.20        54541   \n",
       "1   1986     16              6.7           419        3.30        53807   \n",
       "2   1987     16              6.5           406        3.37        51842   \n",
       "3   1988     16              5.7           356        3.45        50951   \n",
       "4   1989     16              6.2           388        3.60        51241   \n",
       "5   1990     16              6.7           419        3.77        54300   \n",
       "6   1991     16              6.4           400        4.21        54686   \n",
       "7   1992     16              5.9           369        4.42        48888   \n",
       "8   1993     16              6.5           406        4.71        51933   \n",
       "9   1994     16              6.6           413        4.89        52108   \n",
       "10  1995     16              6.7           419        5.15        50162   \n",
       "11  1996     16              6.9           431        5.24        52622   \n",
       "12  1997     16              6.4           400        5.45        55891   \n",
       "13  1998     16              6.5           406        5.60        54782   \n",
       "14  1999     16              6.5           406        5.80        60054   \n",
       "15  2000     18              6.9           383        6.35        64591   \n",
       "16  2001     16              5.5           344        6.47        48698   \n",
       "17  2002     16              5.9           369        6.75        57614   \n",
       "18  2003     16              6.3           394        6.75        62294   \n",
       "19  2004     16              5.9           369        7.02        61163   \n",
       "20  2005     17              6.1           359        7.15        61772   \n",
       "21  2006     18              6.5           361        7.42        68617   \n",
       "22  2007     16              6.2           388        7.85        69406   \n",
       "23  2008     16              6.0           375        8.25        64922   \n",
       "24  2009     16              5.7           356        8.53        66436   \n",
       "25  2010     17              6.4           376        8.79        71000   \n",
       "26  2011     17              6.9           406        9.09        79225   \n",
       "27  2012     16              6.4           400        9.41        74025   \n",
       "28  2013     16              6.4           400        9.78        77031   \n",
       "29  2014     16              6.3           394        9.98        76808   \n",
       "30  2015     16              5.9           369       10.27        75134   \n",
       "31  2016     17              5.6           329       10.57        66231   \n",
       "32  2017     18              6.2           344       10.87        77836   \n",
       "33  2018     16              6.3           394       11.30        78705   \n",
       "34  2019     16              6.3           394       11.71        78502   \n",
       "35  2022     17              5.7           335       13.45        71340   \n",
       "36  2023     18              7.2           400       14.33        74418   \n",
       "\n",
       "    hendl_preis  hendl_konsum  l_bier_pro_besucher  budget_haendl  \\\n",
       "0          4.77        629520             0.768183       0.422931   \n",
       "1          3.92        698137             0.803090       0.408462   \n",
       "2          3.98        732859             0.797569       0.448735   \n",
       "3          4.19        720139             0.893877       0.529365   \n",
       "4          4.22        775674             0.826468       0.527959   \n",
       "5          4.47        750947             0.810448       0.501005   \n",
       "6          4.81        807710             0.854469       0.607045   \n",
       "7          5.11        725612             0.828610       0.628454   \n",
       "8          5.25        733517             0.798969       0.592456   \n",
       "9          5.39        663135             0.789515       0.541560   \n",
       "10         5.54        628890             0.748687       0.520008   \n",
       "11         5.45        595580             0.762638       0.470422   \n",
       "12         5.38        699562             0.873297       0.588069   \n",
       "13         5.34        603746             0.842800       0.496001   \n",
       "14         5.38        609661             0.923908       0.504612   \n",
       "15         7.85        681242             0.936101       0.775036   \n",
       "16         8.12        351705             0.885418       0.519244   \n",
       "17         8.10        459259             0.976508       0.630508   \n",
       "18         8.14        487487             0.988794       0.629864   \n",
       "19         8.28        481649             1.036661       0.675941   \n",
       "20         8.35        479610             1.012656       0.656515   \n",
       "21         8.50        494135             1.055646       0.646177   \n",
       "22         8.87        521872             1.119452       0.746614   \n",
       "23         9.06        459356             1.082033       0.693628   \n",
       "24         9.18        488137             1.165544       0.786157   \n",
       "25         9.60        505901             1.109375       0.758851   \n",
       "26         9.83        522821             1.148188       0.744830   \n",
       "27        10.07        508958             1.156641       0.800814   \n",
       "28        11.10        482361             1.203609       0.836595   \n",
       "29        10.49        509420             1.219175       0.848225   \n",
       "30        10.75        503510             1.273458       0.917412   \n",
       "31        11.00        366876             1.182696       0.720649   \n",
       "32        11.41        466747             1.255419       0.858965   \n",
       "33        11.67        436492             1.249286       0.808549   \n",
       "34        12.15        434998             1.246063       0.838925   \n",
       "35        13.96        313636             1.251579       0.768133   \n",
       "36        15.89        396141             1.033583       0.874261   \n",
       "\n",
       "    budget_bier  budget_gesamt  bier_konsum_l  inflation_2%  \n",
       "0      2.458186       2.881117        5454100      1.000000  \n",
       "1      2.650196       3.058658        5380700      1.020000  \n",
       "2      2.687808       3.136544        5184200      1.040400  \n",
       "3      3.083876       3.613242        5095100      1.061208  \n",
       "4      2.975284       3.503243        5124100      1.082432  \n",
       "5      3.055388       3.556393        5430000      1.104081  \n",
       "6      3.597313       4.204358        5468600      1.126162  \n",
       "7      3.662457       4.290911        4888800      1.148686  \n",
       "8      3.763145       4.355601        5193300      1.171659  \n",
       "9      3.860729       4.402289        5210800      1.195093  \n",
       "10     3.855736       4.375743        5016200      1.218994  \n",
       "11     3.996221       4.466643        5262200      1.243374  \n",
       "12     4.759468       5.347537        5589100      1.268242  \n",
       "13     4.719680       5.215681        5478200      1.293607  \n",
       "14     5.358665       5.863276        6005400      1.319479  \n",
       "15     5.944244       6.719280        6459100      1.345868  \n",
       "16     5.728656       6.247900        4869800      1.372786  \n",
       "17     6.591432       7.221940        5761400      1.400241  \n",
       "18     6.674357       7.304221        6229400      1.428246  \n",
       "19     7.277360       7.953302        6116300      1.456811  \n",
       "20     7.240489       7.897004        6177200      1.485947  \n",
       "21     7.832894       8.479071        6861700      1.515666  \n",
       "22     8.787695       9.534309        6940600      1.545980  \n",
       "23     8.926775       9.620403        6492200      1.576899  \n",
       "24     9.942089      10.728247        6643600      1.608437  \n",
       "25     9.751406      10.510258        7100000      1.640606  \n",
       "26    10.437033      11.181863        7922500      1.673418  \n",
       "27    10.883988      11.684802        7402500      1.706886  \n",
       "28    11.771300      12.607895        7703100      1.741024  \n",
       "29    12.167363      13.015587        7680800      1.775845  \n",
       "30    13.078410      13.995822        7513400      1.811362  \n",
       "31    12.501101      13.221751        6623100      1.847589  \n",
       "32    13.646408      14.505373        7783600      1.884541  \n",
       "33    14.116929      14.925478        7870500      1.922231  \n",
       "34    14.591403      15.430328        7850200      1.960676  \n",
       "35    16.833737      17.601870        7134000      2.080685  \n",
       "36    14.811249      15.685510        7441800      2.122299  "
      ]
     },
     "execution_count": 23,
     "metadata": {},
     "output_type": "execute_result"
    }
   ],
   "source": [
    "data"
   ]
  },
  {
   "cell_type": "code",
   "execution_count": 24,
   "metadata": {},
   "outputs": [
    {
     "data": {
      "text/plain": [
       "0     1.000000\n",
       "1     0.998700\n",
       "2     1.001197\n",
       "3     1.013912\n",
       "4     1.042099\n",
       "5     1.070235\n",
       "6     1.113580\n",
       "7     1.169927\n",
       "8     1.222223\n",
       "9     1.255101\n",
       "10    1.276563\n",
       "11    1.295073\n",
       "12    1.320197\n",
       "13    1.332211\n",
       "14    1.340071\n",
       "15    1.359368\n",
       "16    1.386284\n",
       "17    1.405969\n",
       "18    1.420450\n",
       "19    1.444172\n",
       "20    1.466557\n",
       "21    1.489728\n",
       "22    1.523992\n",
       "23    1.564073\n",
       "24    1.568922\n",
       "25    1.586180\n",
       "26    1.619172\n",
       "27    1.651718\n",
       "28    1.676493\n",
       "29    1.691749\n",
       "30    1.700377\n",
       "31    1.708709\n",
       "32    1.734511\n",
       "33    1.764518\n",
       "34    1.790103\n",
       "35    1.792609\n",
       "36    1.847643\n",
       "37    1.974576\n",
       "38    2.092063\n",
       "dtype: float64"
      ]
     },
     "execution_count": 24,
     "metadata": {},
     "output_type": "execute_result"
    }
   ],
   "source": [
    "inflation_real = [0, -0.13, 0.25, 1.27, 2.78, 2.70, 4.05, 5.06, 4.47, 2.69, 1.71, 1.45, 1.94, 0.91, 0.59,\n",
    "                  1.44, 1.98, 1.42, 1.03, 1.67, 1.55, 1.58, 2.3, 2.63, 0.31, 1.1, 2.08, 2.01, 1.5, 0.91, 0.51, 0.49, 1.51, 1.73, 1.45, 0.14, 3.07, 6.87, 5.95]\n",
    "\n",
    "inflation_real_cumm = pd.Series([(1 + rate/100)\n",
    "                                for rate in inflation_real]).cumprod()\n",
    "inflation_real_cumm"
   ]
  },
  {
   "cell_type": "code",
   "execution_count": 25,
   "metadata": {},
   "outputs": [
    {
     "data": {
      "text/html": [
       "<div>\n",
       "<style scoped>\n",
       "    .dataframe tbody tr th:only-of-type {\n",
       "        vertical-align: middle;\n",
       "    }\n",
       "\n",
       "    .dataframe tbody tr th {\n",
       "        vertical-align: top;\n",
       "    }\n",
       "\n",
       "    .dataframe thead th {\n",
       "        text-align: right;\n",
       "    }\n",
       "</style>\n",
       "<table border=\"1\" class=\"dataframe\">\n",
       "  <thead>\n",
       "    <tr style=\"text-align: right;\">\n",
       "      <th></th>\n",
       "      <th>jahr</th>\n",
       "      <th>dauer</th>\n",
       "      <th>besucher_gesamt</th>\n",
       "      <th>besucher_tag</th>\n",
       "      <th>bier_preis</th>\n",
       "      <th>bier_konsum</th>\n",
       "      <th>hendl_preis</th>\n",
       "      <th>hendl_konsum</th>\n",
       "      <th>l_bier_pro_besucher</th>\n",
       "      <th>budget_haendl</th>\n",
       "      <th>budget_bier</th>\n",
       "      <th>budget_gesamt</th>\n",
       "      <th>bier_konsum_l</th>\n",
       "      <th>inflation_2%</th>\n",
       "      <th>inflation_real</th>\n",
       "    </tr>\n",
       "  </thead>\n",
       "  <tbody>\n",
       "    <tr>\n",
       "      <th>0</th>\n",
       "      <td>1985</td>\n",
       "      <td>16</td>\n",
       "      <td>7.1</td>\n",
       "      <td>444</td>\n",
       "      <td>3.20</td>\n",
       "      <td>54541</td>\n",
       "      <td>4.77</td>\n",
       "      <td>629520</td>\n",
       "      <td>0.768183</td>\n",
       "      <td>0.422931</td>\n",
       "      <td>2.458186</td>\n",
       "      <td>2.881117</td>\n",
       "      <td>5454100</td>\n",
       "      <td>1.000000</td>\n",
       "      <td>1.000000</td>\n",
       "    </tr>\n",
       "    <tr>\n",
       "      <th>1</th>\n",
       "      <td>1986</td>\n",
       "      <td>16</td>\n",
       "      <td>6.7</td>\n",
       "      <td>419</td>\n",
       "      <td>3.30</td>\n",
       "      <td>53807</td>\n",
       "      <td>3.92</td>\n",
       "      <td>698137</td>\n",
       "      <td>0.803090</td>\n",
       "      <td>0.408462</td>\n",
       "      <td>2.650196</td>\n",
       "      <td>3.058658</td>\n",
       "      <td>5380700</td>\n",
       "      <td>1.020000</td>\n",
       "      <td>0.998700</td>\n",
       "    </tr>\n",
       "    <tr>\n",
       "      <th>2</th>\n",
       "      <td>1987</td>\n",
       "      <td>16</td>\n",
       "      <td>6.5</td>\n",
       "      <td>406</td>\n",
       "      <td>3.37</td>\n",
       "      <td>51842</td>\n",
       "      <td>3.98</td>\n",
       "      <td>732859</td>\n",
       "      <td>0.797569</td>\n",
       "      <td>0.448735</td>\n",
       "      <td>2.687808</td>\n",
       "      <td>3.136544</td>\n",
       "      <td>5184200</td>\n",
       "      <td>1.040400</td>\n",
       "      <td>1.001197</td>\n",
       "    </tr>\n",
       "    <tr>\n",
       "      <th>3</th>\n",
       "      <td>1988</td>\n",
       "      <td>16</td>\n",
       "      <td>5.7</td>\n",
       "      <td>356</td>\n",
       "      <td>3.45</td>\n",
       "      <td>50951</td>\n",
       "      <td>4.19</td>\n",
       "      <td>720139</td>\n",
       "      <td>0.893877</td>\n",
       "      <td>0.529365</td>\n",
       "      <td>3.083876</td>\n",
       "      <td>3.613242</td>\n",
       "      <td>5095100</td>\n",
       "      <td>1.061208</td>\n",
       "      <td>1.013912</td>\n",
       "    </tr>\n",
       "    <tr>\n",
       "      <th>4</th>\n",
       "      <td>1989</td>\n",
       "      <td>16</td>\n",
       "      <td>6.2</td>\n",
       "      <td>388</td>\n",
       "      <td>3.60</td>\n",
       "      <td>51241</td>\n",
       "      <td>4.22</td>\n",
       "      <td>775674</td>\n",
       "      <td>0.826468</td>\n",
       "      <td>0.527959</td>\n",
       "      <td>2.975284</td>\n",
       "      <td>3.503243</td>\n",
       "      <td>5124100</td>\n",
       "      <td>1.082432</td>\n",
       "      <td>1.042099</td>\n",
       "    </tr>\n",
       "    <tr>\n",
       "      <th>5</th>\n",
       "      <td>1990</td>\n",
       "      <td>16</td>\n",
       "      <td>6.7</td>\n",
       "      <td>419</td>\n",
       "      <td>3.77</td>\n",
       "      <td>54300</td>\n",
       "      <td>4.47</td>\n",
       "      <td>750947</td>\n",
       "      <td>0.810448</td>\n",
       "      <td>0.501005</td>\n",
       "      <td>3.055388</td>\n",
       "      <td>3.556393</td>\n",
       "      <td>5430000</td>\n",
       "      <td>1.104081</td>\n",
       "      <td>1.070235</td>\n",
       "    </tr>\n",
       "    <tr>\n",
       "      <th>6</th>\n",
       "      <td>1991</td>\n",
       "      <td>16</td>\n",
       "      <td>6.4</td>\n",
       "      <td>400</td>\n",
       "      <td>4.21</td>\n",
       "      <td>54686</td>\n",
       "      <td>4.81</td>\n",
       "      <td>807710</td>\n",
       "      <td>0.854469</td>\n",
       "      <td>0.607045</td>\n",
       "      <td>3.597313</td>\n",
       "      <td>4.204358</td>\n",
       "      <td>5468600</td>\n",
       "      <td>1.126162</td>\n",
       "      <td>1.113580</td>\n",
       "    </tr>\n",
       "    <tr>\n",
       "      <th>7</th>\n",
       "      <td>1992</td>\n",
       "      <td>16</td>\n",
       "      <td>5.9</td>\n",
       "      <td>369</td>\n",
       "      <td>4.42</td>\n",
       "      <td>48888</td>\n",
       "      <td>5.11</td>\n",
       "      <td>725612</td>\n",
       "      <td>0.828610</td>\n",
       "      <td>0.628454</td>\n",
       "      <td>3.662457</td>\n",
       "      <td>4.290911</td>\n",
       "      <td>4888800</td>\n",
       "      <td>1.148686</td>\n",
       "      <td>1.169927</td>\n",
       "    </tr>\n",
       "    <tr>\n",
       "      <th>8</th>\n",
       "      <td>1993</td>\n",
       "      <td>16</td>\n",
       "      <td>6.5</td>\n",
       "      <td>406</td>\n",
       "      <td>4.71</td>\n",
       "      <td>51933</td>\n",
       "      <td>5.25</td>\n",
       "      <td>733517</td>\n",
       "      <td>0.798969</td>\n",
       "      <td>0.592456</td>\n",
       "      <td>3.763145</td>\n",
       "      <td>4.355601</td>\n",
       "      <td>5193300</td>\n",
       "      <td>1.171659</td>\n",
       "      <td>1.222223</td>\n",
       "    </tr>\n",
       "    <tr>\n",
       "      <th>9</th>\n",
       "      <td>1994</td>\n",
       "      <td>16</td>\n",
       "      <td>6.6</td>\n",
       "      <td>413</td>\n",
       "      <td>4.89</td>\n",
       "      <td>52108</td>\n",
       "      <td>5.39</td>\n",
       "      <td>663135</td>\n",
       "      <td>0.789515</td>\n",
       "      <td>0.541560</td>\n",
       "      <td>3.860729</td>\n",
       "      <td>4.402289</td>\n",
       "      <td>5210800</td>\n",
       "      <td>1.195093</td>\n",
       "      <td>1.255101</td>\n",
       "    </tr>\n",
       "    <tr>\n",
       "      <th>10</th>\n",
       "      <td>1995</td>\n",
       "      <td>16</td>\n",
       "      <td>6.7</td>\n",
       "      <td>419</td>\n",
       "      <td>5.15</td>\n",
       "      <td>50162</td>\n",
       "      <td>5.54</td>\n",
       "      <td>628890</td>\n",
       "      <td>0.748687</td>\n",
       "      <td>0.520008</td>\n",
       "      <td>3.855736</td>\n",
       "      <td>4.375743</td>\n",
       "      <td>5016200</td>\n",
       "      <td>1.218994</td>\n",
       "      <td>1.276563</td>\n",
       "    </tr>\n",
       "    <tr>\n",
       "      <th>11</th>\n",
       "      <td>1996</td>\n",
       "      <td>16</td>\n",
       "      <td>6.9</td>\n",
       "      <td>431</td>\n",
       "      <td>5.24</td>\n",
       "      <td>52622</td>\n",
       "      <td>5.45</td>\n",
       "      <td>595580</td>\n",
       "      <td>0.762638</td>\n",
       "      <td>0.470422</td>\n",
       "      <td>3.996221</td>\n",
       "      <td>4.466643</td>\n",
       "      <td>5262200</td>\n",
       "      <td>1.243374</td>\n",
       "      <td>1.295073</td>\n",
       "    </tr>\n",
       "    <tr>\n",
       "      <th>12</th>\n",
       "      <td>1997</td>\n",
       "      <td>16</td>\n",
       "      <td>6.4</td>\n",
       "      <td>400</td>\n",
       "      <td>5.45</td>\n",
       "      <td>55891</td>\n",
       "      <td>5.38</td>\n",
       "      <td>699562</td>\n",
       "      <td>0.873297</td>\n",
       "      <td>0.588069</td>\n",
       "      <td>4.759468</td>\n",
       "      <td>5.347537</td>\n",
       "      <td>5589100</td>\n",
       "      <td>1.268242</td>\n",
       "      <td>1.320197</td>\n",
       "    </tr>\n",
       "    <tr>\n",
       "      <th>13</th>\n",
       "      <td>1998</td>\n",
       "      <td>16</td>\n",
       "      <td>6.5</td>\n",
       "      <td>406</td>\n",
       "      <td>5.60</td>\n",
       "      <td>54782</td>\n",
       "      <td>5.34</td>\n",
       "      <td>603746</td>\n",
       "      <td>0.842800</td>\n",
       "      <td>0.496001</td>\n",
       "      <td>4.719680</td>\n",
       "      <td>5.215681</td>\n",
       "      <td>5478200</td>\n",
       "      <td>1.293607</td>\n",
       "      <td>1.332211</td>\n",
       "    </tr>\n",
       "    <tr>\n",
       "      <th>14</th>\n",
       "      <td>1999</td>\n",
       "      <td>16</td>\n",
       "      <td>6.5</td>\n",
       "      <td>406</td>\n",
       "      <td>5.80</td>\n",
       "      <td>60054</td>\n",
       "      <td>5.38</td>\n",
       "      <td>609661</td>\n",
       "      <td>0.923908</td>\n",
       "      <td>0.504612</td>\n",
       "      <td>5.358665</td>\n",
       "      <td>5.863276</td>\n",
       "      <td>6005400</td>\n",
       "      <td>1.319479</td>\n",
       "      <td>1.340071</td>\n",
       "    </tr>\n",
       "    <tr>\n",
       "      <th>15</th>\n",
       "      <td>2000</td>\n",
       "      <td>18</td>\n",
       "      <td>6.9</td>\n",
       "      <td>383</td>\n",
       "      <td>6.35</td>\n",
       "      <td>64591</td>\n",
       "      <td>7.85</td>\n",
       "      <td>681242</td>\n",
       "      <td>0.936101</td>\n",
       "      <td>0.775036</td>\n",
       "      <td>5.944244</td>\n",
       "      <td>6.719280</td>\n",
       "      <td>6459100</td>\n",
       "      <td>1.345868</td>\n",
       "      <td>1.359368</td>\n",
       "    </tr>\n",
       "    <tr>\n",
       "      <th>16</th>\n",
       "      <td>2001</td>\n",
       "      <td>16</td>\n",
       "      <td>5.5</td>\n",
       "      <td>344</td>\n",
       "      <td>6.47</td>\n",
       "      <td>48698</td>\n",
       "      <td>8.12</td>\n",
       "      <td>351705</td>\n",
       "      <td>0.885418</td>\n",
       "      <td>0.519244</td>\n",
       "      <td>5.728656</td>\n",
       "      <td>6.247900</td>\n",
       "      <td>4869800</td>\n",
       "      <td>1.372786</td>\n",
       "      <td>1.386284</td>\n",
       "    </tr>\n",
       "    <tr>\n",
       "      <th>17</th>\n",
       "      <td>2002</td>\n",
       "      <td>16</td>\n",
       "      <td>5.9</td>\n",
       "      <td>369</td>\n",
       "      <td>6.75</td>\n",
       "      <td>57614</td>\n",
       "      <td>8.10</td>\n",
       "      <td>459259</td>\n",
       "      <td>0.976508</td>\n",
       "      <td>0.630508</td>\n",
       "      <td>6.591432</td>\n",
       "      <td>7.221940</td>\n",
       "      <td>5761400</td>\n",
       "      <td>1.400241</td>\n",
       "      <td>1.405969</td>\n",
       "    </tr>\n",
       "    <tr>\n",
       "      <th>18</th>\n",
       "      <td>2003</td>\n",
       "      <td>16</td>\n",
       "      <td>6.3</td>\n",
       "      <td>394</td>\n",
       "      <td>6.75</td>\n",
       "      <td>62294</td>\n",
       "      <td>8.14</td>\n",
       "      <td>487487</td>\n",
       "      <td>0.988794</td>\n",
       "      <td>0.629864</td>\n",
       "      <td>6.674357</td>\n",
       "      <td>7.304221</td>\n",
       "      <td>6229400</td>\n",
       "      <td>1.428246</td>\n",
       "      <td>1.420450</td>\n",
       "    </tr>\n",
       "    <tr>\n",
       "      <th>19</th>\n",
       "      <td>2004</td>\n",
       "      <td>16</td>\n",
       "      <td>5.9</td>\n",
       "      <td>369</td>\n",
       "      <td>7.02</td>\n",
       "      <td>61163</td>\n",
       "      <td>8.28</td>\n",
       "      <td>481649</td>\n",
       "      <td>1.036661</td>\n",
       "      <td>0.675941</td>\n",
       "      <td>7.277360</td>\n",
       "      <td>7.953302</td>\n",
       "      <td>6116300</td>\n",
       "      <td>1.456811</td>\n",
       "      <td>1.444172</td>\n",
       "    </tr>\n",
       "    <tr>\n",
       "      <th>20</th>\n",
       "      <td>2005</td>\n",
       "      <td>17</td>\n",
       "      <td>6.1</td>\n",
       "      <td>359</td>\n",
       "      <td>7.15</td>\n",
       "      <td>61772</td>\n",
       "      <td>8.35</td>\n",
       "      <td>479610</td>\n",
       "      <td>1.012656</td>\n",
       "      <td>0.656515</td>\n",
       "      <td>7.240489</td>\n",
       "      <td>7.897004</td>\n",
       "      <td>6177200</td>\n",
       "      <td>1.485947</td>\n",
       "      <td>1.466557</td>\n",
       "    </tr>\n",
       "    <tr>\n",
       "      <th>21</th>\n",
       "      <td>2006</td>\n",
       "      <td>18</td>\n",
       "      <td>6.5</td>\n",
       "      <td>361</td>\n",
       "      <td>7.42</td>\n",
       "      <td>68617</td>\n",
       "      <td>8.50</td>\n",
       "      <td>494135</td>\n",
       "      <td>1.055646</td>\n",
       "      <td>0.646177</td>\n",
       "      <td>7.832894</td>\n",
       "      <td>8.479071</td>\n",
       "      <td>6861700</td>\n",
       "      <td>1.515666</td>\n",
       "      <td>1.489728</td>\n",
       "    </tr>\n",
       "    <tr>\n",
       "      <th>22</th>\n",
       "      <td>2007</td>\n",
       "      <td>16</td>\n",
       "      <td>6.2</td>\n",
       "      <td>388</td>\n",
       "      <td>7.85</td>\n",
       "      <td>69406</td>\n",
       "      <td>8.87</td>\n",
       "      <td>521872</td>\n",
       "      <td>1.119452</td>\n",
       "      <td>0.746614</td>\n",
       "      <td>8.787695</td>\n",
       "      <td>9.534309</td>\n",
       "      <td>6940600</td>\n",
       "      <td>1.545980</td>\n",
       "      <td>1.523992</td>\n",
       "    </tr>\n",
       "    <tr>\n",
       "      <th>23</th>\n",
       "      <td>2008</td>\n",
       "      <td>16</td>\n",
       "      <td>6.0</td>\n",
       "      <td>375</td>\n",
       "      <td>8.25</td>\n",
       "      <td>64922</td>\n",
       "      <td>9.06</td>\n",
       "      <td>459356</td>\n",
       "      <td>1.082033</td>\n",
       "      <td>0.693628</td>\n",
       "      <td>8.926775</td>\n",
       "      <td>9.620403</td>\n",
       "      <td>6492200</td>\n",
       "      <td>1.576899</td>\n",
       "      <td>1.564073</td>\n",
       "    </tr>\n",
       "    <tr>\n",
       "      <th>24</th>\n",
       "      <td>2009</td>\n",
       "      <td>16</td>\n",
       "      <td>5.7</td>\n",
       "      <td>356</td>\n",
       "      <td>8.53</td>\n",
       "      <td>66436</td>\n",
       "      <td>9.18</td>\n",
       "      <td>488137</td>\n",
       "      <td>1.165544</td>\n",
       "      <td>0.786157</td>\n",
       "      <td>9.942089</td>\n",
       "      <td>10.728247</td>\n",
       "      <td>6643600</td>\n",
       "      <td>1.608437</td>\n",
       "      <td>1.568922</td>\n",
       "    </tr>\n",
       "    <tr>\n",
       "      <th>25</th>\n",
       "      <td>2010</td>\n",
       "      <td>17</td>\n",
       "      <td>6.4</td>\n",
       "      <td>376</td>\n",
       "      <td>8.79</td>\n",
       "      <td>71000</td>\n",
       "      <td>9.60</td>\n",
       "      <td>505901</td>\n",
       "      <td>1.109375</td>\n",
       "      <td>0.758851</td>\n",
       "      <td>9.751406</td>\n",
       "      <td>10.510258</td>\n",
       "      <td>7100000</td>\n",
       "      <td>1.640606</td>\n",
       "      <td>1.586180</td>\n",
       "    </tr>\n",
       "    <tr>\n",
       "      <th>26</th>\n",
       "      <td>2011</td>\n",
       "      <td>17</td>\n",
       "      <td>6.9</td>\n",
       "      <td>406</td>\n",
       "      <td>9.09</td>\n",
       "      <td>79225</td>\n",
       "      <td>9.83</td>\n",
       "      <td>522821</td>\n",
       "      <td>1.148188</td>\n",
       "      <td>0.744830</td>\n",
       "      <td>10.437033</td>\n",
       "      <td>11.181863</td>\n",
       "      <td>7922500</td>\n",
       "      <td>1.673418</td>\n",
       "      <td>1.619172</td>\n",
       "    </tr>\n",
       "    <tr>\n",
       "      <th>27</th>\n",
       "      <td>2012</td>\n",
       "      <td>16</td>\n",
       "      <td>6.4</td>\n",
       "      <td>400</td>\n",
       "      <td>9.41</td>\n",
       "      <td>74025</td>\n",
       "      <td>10.07</td>\n",
       "      <td>508958</td>\n",
       "      <td>1.156641</td>\n",
       "      <td>0.800814</td>\n",
       "      <td>10.883988</td>\n",
       "      <td>11.684802</td>\n",
       "      <td>7402500</td>\n",
       "      <td>1.706886</td>\n",
       "      <td>1.651718</td>\n",
       "    </tr>\n",
       "    <tr>\n",
       "      <th>28</th>\n",
       "      <td>2013</td>\n",
       "      <td>16</td>\n",
       "      <td>6.4</td>\n",
       "      <td>400</td>\n",
       "      <td>9.78</td>\n",
       "      <td>77031</td>\n",
       "      <td>11.10</td>\n",
       "      <td>482361</td>\n",
       "      <td>1.203609</td>\n",
       "      <td>0.836595</td>\n",
       "      <td>11.771300</td>\n",
       "      <td>12.607895</td>\n",
       "      <td>7703100</td>\n",
       "      <td>1.741024</td>\n",
       "      <td>1.676493</td>\n",
       "    </tr>\n",
       "    <tr>\n",
       "      <th>29</th>\n",
       "      <td>2014</td>\n",
       "      <td>16</td>\n",
       "      <td>6.3</td>\n",
       "      <td>394</td>\n",
       "      <td>9.98</td>\n",
       "      <td>76808</td>\n",
       "      <td>10.49</td>\n",
       "      <td>509420</td>\n",
       "      <td>1.219175</td>\n",
       "      <td>0.848225</td>\n",
       "      <td>12.167363</td>\n",
       "      <td>13.015587</td>\n",
       "      <td>7680800</td>\n",
       "      <td>1.775845</td>\n",
       "      <td>1.691749</td>\n",
       "    </tr>\n",
       "    <tr>\n",
       "      <th>30</th>\n",
       "      <td>2015</td>\n",
       "      <td>16</td>\n",
       "      <td>5.9</td>\n",
       "      <td>369</td>\n",
       "      <td>10.27</td>\n",
       "      <td>75134</td>\n",
       "      <td>10.75</td>\n",
       "      <td>503510</td>\n",
       "      <td>1.273458</td>\n",
       "      <td>0.917412</td>\n",
       "      <td>13.078410</td>\n",
       "      <td>13.995822</td>\n",
       "      <td>7513400</td>\n",
       "      <td>1.811362</td>\n",
       "      <td>1.700377</td>\n",
       "    </tr>\n",
       "    <tr>\n",
       "      <th>31</th>\n",
       "      <td>2016</td>\n",
       "      <td>17</td>\n",
       "      <td>5.6</td>\n",
       "      <td>329</td>\n",
       "      <td>10.57</td>\n",
       "      <td>66231</td>\n",
       "      <td>11.00</td>\n",
       "      <td>366876</td>\n",
       "      <td>1.182696</td>\n",
       "      <td>0.720649</td>\n",
       "      <td>12.501101</td>\n",
       "      <td>13.221751</td>\n",
       "      <td>6623100</td>\n",
       "      <td>1.847589</td>\n",
       "      <td>1.708709</td>\n",
       "    </tr>\n",
       "    <tr>\n",
       "      <th>32</th>\n",
       "      <td>2017</td>\n",
       "      <td>18</td>\n",
       "      <td>6.2</td>\n",
       "      <td>344</td>\n",
       "      <td>10.87</td>\n",
       "      <td>77836</td>\n",
       "      <td>11.41</td>\n",
       "      <td>466747</td>\n",
       "      <td>1.255419</td>\n",
       "      <td>0.858965</td>\n",
       "      <td>13.646408</td>\n",
       "      <td>14.505373</td>\n",
       "      <td>7783600</td>\n",
       "      <td>1.884541</td>\n",
       "      <td>1.734511</td>\n",
       "    </tr>\n",
       "    <tr>\n",
       "      <th>33</th>\n",
       "      <td>2018</td>\n",
       "      <td>16</td>\n",
       "      <td>6.3</td>\n",
       "      <td>394</td>\n",
       "      <td>11.30</td>\n",
       "      <td>78705</td>\n",
       "      <td>11.67</td>\n",
       "      <td>436492</td>\n",
       "      <td>1.249286</td>\n",
       "      <td>0.808549</td>\n",
       "      <td>14.116929</td>\n",
       "      <td>14.925478</td>\n",
       "      <td>7870500</td>\n",
       "      <td>1.922231</td>\n",
       "      <td>1.764518</td>\n",
       "    </tr>\n",
       "    <tr>\n",
       "      <th>34</th>\n",
       "      <td>2019</td>\n",
       "      <td>16</td>\n",
       "      <td>6.3</td>\n",
       "      <td>394</td>\n",
       "      <td>11.71</td>\n",
       "      <td>78502</td>\n",
       "      <td>12.15</td>\n",
       "      <td>434998</td>\n",
       "      <td>1.246063</td>\n",
       "      <td>0.838925</td>\n",
       "      <td>14.591403</td>\n",
       "      <td>15.430328</td>\n",
       "      <td>7850200</td>\n",
       "      <td>1.960676</td>\n",
       "      <td>1.790103</td>\n",
       "    </tr>\n",
       "    <tr>\n",
       "      <th>35</th>\n",
       "      <td>2022</td>\n",
       "      <td>17</td>\n",
       "      <td>5.7</td>\n",
       "      <td>335</td>\n",
       "      <td>13.45</td>\n",
       "      <td>71340</td>\n",
       "      <td>13.96</td>\n",
       "      <td>313636</td>\n",
       "      <td>1.251579</td>\n",
       "      <td>0.768133</td>\n",
       "      <td>16.833737</td>\n",
       "      <td>17.601870</td>\n",
       "      <td>7134000</td>\n",
       "      <td>2.080685</td>\n",
       "      <td>1.974576</td>\n",
       "    </tr>\n",
       "    <tr>\n",
       "      <th>36</th>\n",
       "      <td>2023</td>\n",
       "      <td>18</td>\n",
       "      <td>7.2</td>\n",
       "      <td>400</td>\n",
       "      <td>14.33</td>\n",
       "      <td>74418</td>\n",
       "      <td>15.89</td>\n",
       "      <td>396141</td>\n",
       "      <td>1.033583</td>\n",
       "      <td>0.874261</td>\n",
       "      <td>14.811249</td>\n",
       "      <td>15.685510</td>\n",
       "      <td>7441800</td>\n",
       "      <td>2.122299</td>\n",
       "      <td>2.092063</td>\n",
       "    </tr>\n",
       "  </tbody>\n",
       "</table>\n",
       "</div>"
      ],
      "text/plain": [
       "    jahr  dauer  besucher_gesamt  besucher_tag  bier_preis  bier_konsum  \\\n",
       "0   1985     16              7.1           444        3.20        54541   \n",
       "1   1986     16              6.7           419        3.30        53807   \n",
       "2   1987     16              6.5           406        3.37        51842   \n",
       "3   1988     16              5.7           356        3.45        50951   \n",
       "4   1989     16              6.2           388        3.60        51241   \n",
       "5   1990     16              6.7           419        3.77        54300   \n",
       "6   1991     16              6.4           400        4.21        54686   \n",
       "7   1992     16              5.9           369        4.42        48888   \n",
       "8   1993     16              6.5           406        4.71        51933   \n",
       "9   1994     16              6.6           413        4.89        52108   \n",
       "10  1995     16              6.7           419        5.15        50162   \n",
       "11  1996     16              6.9           431        5.24        52622   \n",
       "12  1997     16              6.4           400        5.45        55891   \n",
       "13  1998     16              6.5           406        5.60        54782   \n",
       "14  1999     16              6.5           406        5.80        60054   \n",
       "15  2000     18              6.9           383        6.35        64591   \n",
       "16  2001     16              5.5           344        6.47        48698   \n",
       "17  2002     16              5.9           369        6.75        57614   \n",
       "18  2003     16              6.3           394        6.75        62294   \n",
       "19  2004     16              5.9           369        7.02        61163   \n",
       "20  2005     17              6.1           359        7.15        61772   \n",
       "21  2006     18              6.5           361        7.42        68617   \n",
       "22  2007     16              6.2           388        7.85        69406   \n",
       "23  2008     16              6.0           375        8.25        64922   \n",
       "24  2009     16              5.7           356        8.53        66436   \n",
       "25  2010     17              6.4           376        8.79        71000   \n",
       "26  2011     17              6.9           406        9.09        79225   \n",
       "27  2012     16              6.4           400        9.41        74025   \n",
       "28  2013     16              6.4           400        9.78        77031   \n",
       "29  2014     16              6.3           394        9.98        76808   \n",
       "30  2015     16              5.9           369       10.27        75134   \n",
       "31  2016     17              5.6           329       10.57        66231   \n",
       "32  2017     18              6.2           344       10.87        77836   \n",
       "33  2018     16              6.3           394       11.30        78705   \n",
       "34  2019     16              6.3           394       11.71        78502   \n",
       "35  2022     17              5.7           335       13.45        71340   \n",
       "36  2023     18              7.2           400       14.33        74418   \n",
       "\n",
       "    hendl_preis  hendl_konsum  l_bier_pro_besucher  budget_haendl  \\\n",
       "0          4.77        629520             0.768183       0.422931   \n",
       "1          3.92        698137             0.803090       0.408462   \n",
       "2          3.98        732859             0.797569       0.448735   \n",
       "3          4.19        720139             0.893877       0.529365   \n",
       "4          4.22        775674             0.826468       0.527959   \n",
       "5          4.47        750947             0.810448       0.501005   \n",
       "6          4.81        807710             0.854469       0.607045   \n",
       "7          5.11        725612             0.828610       0.628454   \n",
       "8          5.25        733517             0.798969       0.592456   \n",
       "9          5.39        663135             0.789515       0.541560   \n",
       "10         5.54        628890             0.748687       0.520008   \n",
       "11         5.45        595580             0.762638       0.470422   \n",
       "12         5.38        699562             0.873297       0.588069   \n",
       "13         5.34        603746             0.842800       0.496001   \n",
       "14         5.38        609661             0.923908       0.504612   \n",
       "15         7.85        681242             0.936101       0.775036   \n",
       "16         8.12        351705             0.885418       0.519244   \n",
       "17         8.10        459259             0.976508       0.630508   \n",
       "18         8.14        487487             0.988794       0.629864   \n",
       "19         8.28        481649             1.036661       0.675941   \n",
       "20         8.35        479610             1.012656       0.656515   \n",
       "21         8.50        494135             1.055646       0.646177   \n",
       "22         8.87        521872             1.119452       0.746614   \n",
       "23         9.06        459356             1.082033       0.693628   \n",
       "24         9.18        488137             1.165544       0.786157   \n",
       "25         9.60        505901             1.109375       0.758851   \n",
       "26         9.83        522821             1.148188       0.744830   \n",
       "27        10.07        508958             1.156641       0.800814   \n",
       "28        11.10        482361             1.203609       0.836595   \n",
       "29        10.49        509420             1.219175       0.848225   \n",
       "30        10.75        503510             1.273458       0.917412   \n",
       "31        11.00        366876             1.182696       0.720649   \n",
       "32        11.41        466747             1.255419       0.858965   \n",
       "33        11.67        436492             1.249286       0.808549   \n",
       "34        12.15        434998             1.246063       0.838925   \n",
       "35        13.96        313636             1.251579       0.768133   \n",
       "36        15.89        396141             1.033583       0.874261   \n",
       "\n",
       "    budget_bier  budget_gesamt  bier_konsum_l  inflation_2%  inflation_real  \n",
       "0      2.458186       2.881117        5454100      1.000000        1.000000  \n",
       "1      2.650196       3.058658        5380700      1.020000        0.998700  \n",
       "2      2.687808       3.136544        5184200      1.040400        1.001197  \n",
       "3      3.083876       3.613242        5095100      1.061208        1.013912  \n",
       "4      2.975284       3.503243        5124100      1.082432        1.042099  \n",
       "5      3.055388       3.556393        5430000      1.104081        1.070235  \n",
       "6      3.597313       4.204358        5468600      1.126162        1.113580  \n",
       "7      3.662457       4.290911        4888800      1.148686        1.169927  \n",
       "8      3.763145       4.355601        5193300      1.171659        1.222223  \n",
       "9      3.860729       4.402289        5210800      1.195093        1.255101  \n",
       "10     3.855736       4.375743        5016200      1.218994        1.276563  \n",
       "11     3.996221       4.466643        5262200      1.243374        1.295073  \n",
       "12     4.759468       5.347537        5589100      1.268242        1.320197  \n",
       "13     4.719680       5.215681        5478200      1.293607        1.332211  \n",
       "14     5.358665       5.863276        6005400      1.319479        1.340071  \n",
       "15     5.944244       6.719280        6459100      1.345868        1.359368  \n",
       "16     5.728656       6.247900        4869800      1.372786        1.386284  \n",
       "17     6.591432       7.221940        5761400      1.400241        1.405969  \n",
       "18     6.674357       7.304221        6229400      1.428246        1.420450  \n",
       "19     7.277360       7.953302        6116300      1.456811        1.444172  \n",
       "20     7.240489       7.897004        6177200      1.485947        1.466557  \n",
       "21     7.832894       8.479071        6861700      1.515666        1.489728  \n",
       "22     8.787695       9.534309        6940600      1.545980        1.523992  \n",
       "23     8.926775       9.620403        6492200      1.576899        1.564073  \n",
       "24     9.942089      10.728247        6643600      1.608437        1.568922  \n",
       "25     9.751406      10.510258        7100000      1.640606        1.586180  \n",
       "26    10.437033      11.181863        7922500      1.673418        1.619172  \n",
       "27    10.883988      11.684802        7402500      1.706886        1.651718  \n",
       "28    11.771300      12.607895        7703100      1.741024        1.676493  \n",
       "29    12.167363      13.015587        7680800      1.775845        1.691749  \n",
       "30    13.078410      13.995822        7513400      1.811362        1.700377  \n",
       "31    12.501101      13.221751        6623100      1.847589        1.708709  \n",
       "32    13.646408      14.505373        7783600      1.884541        1.734511  \n",
       "33    14.116929      14.925478        7870500      1.922231        1.764518  \n",
       "34    14.591403      15.430328        7850200      1.960676        1.790103  \n",
       "35    16.833737      17.601870        7134000      2.080685        1.974576  \n",
       "36    14.811249      15.685510        7441800      2.122299        2.092063  "
      ]
     },
     "execution_count": 25,
     "metadata": {},
     "output_type": "execute_result"
    }
   ],
   "source": [
    "\n",
    "\n",
    "\n",
    "\n",
    "df_inflation_real = pd.DataFrame(\n",
    "    {\"jahr\": range(1985, 2024), \"inflation_real\": inflation_real_cumm})\n",
    "data = data.merge(df_inflation_real, on=\"jahr\")\n",
    "data"
   ]
  },
  {
   "cell_type": "code",
   "execution_count": 26,
   "metadata": {},
   "outputs": [
    {
     "data": {
      "application/vnd.plotly.v1+json": {
       "config": {
        "plotlyServerURL": "https://plot.ly"
       },
       "data": [
        {
         "hovertemplate": "jahr=%{x}<br>budget_gesamt_inflationsbereinigt=%{y}<extra></extra>",
         "legendgroup": "",
         "line": {
          "color": "#636efa",
          "dash": "solid"
         },
         "marker": {
          "symbol": "circle"
         },
         "mode": "lines",
         "name": "",
         "orientation": "v",
         "showlegend": false,
         "type": "scatter",
         "x": [
          1985,
          1986,
          1987,
          1988,
          1989,
          1990,
          1991,
          1992,
          1993,
          1994,
          1995,
          1996,
          1997,
          1998,
          1999,
          2000,
          2001,
          2002,
          2003,
          2004,
          2005,
          2006,
          2007,
          2008,
          2009,
          2010,
          2011,
          2012,
          2013,
          2014,
          2015,
          2016,
          2017,
          2018,
          2019,
          2022,
          2023
         ],
         "xaxis": "x",
         "y": [
          2.881116957746479,
          3.062639198121737,
          3.1327943391438597,
          3.563664138114621,
          3.3617186383424142,
          3.3230008202633363,
          3.7755332970706386,
          3.667673779544929,
          3.5636720143531266,
          3.507519188018711,
          3.4277541219209353,
          3.4489511372935806,
          4.050558957623543,
          3.9150554360597662,
          4.375346841091877,
          4.942943505925121,
          4.506941825730306,
          5.136628582334595,
          5.142186672123524,
          5.507170807484382,
          5.384724822317916,
          5.6916898654603365,
          6.256141121497962,
          6.150865613670247,
          6.8379750343056775,
          6.626145589236351,
          6.90591322516457,
          7.0743338600425,
          7.520396243208948,
          7.693566613364787,
          8.231009275100524,
          7.737858603856529,
          8.362803971728967,
          8.458672456569442,
          8.619797647983283,
          8.914254764353378,
          7.497628660367883
         ],
         "yaxis": "y"
        }
       ],
       "layout": {
        "legend": {
         "tracegroupgap": 0
        },
        "margin": {
         "t": 60
        },
        "template": {
         "data": {
          "bar": [
           {
            "error_x": {
             "color": "#2a3f5f"
            },
            "error_y": {
             "color": "#2a3f5f"
            },
            "marker": {
             "line": {
              "color": "#E5ECF6",
              "width": 0.5
             },
             "pattern": {
              "fillmode": "overlay",
              "size": 10,
              "solidity": 0.2
             }
            },
            "type": "bar"
           }
          ],
          "barpolar": [
           {
            "marker": {
             "line": {
              "color": "#E5ECF6",
              "width": 0.5
             },
             "pattern": {
              "fillmode": "overlay",
              "size": 10,
              "solidity": 0.2
             }
            },
            "type": "barpolar"
           }
          ],
          "carpet": [
           {
            "aaxis": {
             "endlinecolor": "#2a3f5f",
             "gridcolor": "white",
             "linecolor": "white",
             "minorgridcolor": "white",
             "startlinecolor": "#2a3f5f"
            },
            "baxis": {
             "endlinecolor": "#2a3f5f",
             "gridcolor": "white",
             "linecolor": "white",
             "minorgridcolor": "white",
             "startlinecolor": "#2a3f5f"
            },
            "type": "carpet"
           }
          ],
          "choropleth": [
           {
            "colorbar": {
             "outlinewidth": 0,
             "ticks": ""
            },
            "type": "choropleth"
           }
          ],
          "contour": [
           {
            "colorbar": {
             "outlinewidth": 0,
             "ticks": ""
            },
            "colorscale": [
             [
              0,
              "#0d0887"
             ],
             [
              0.1111111111111111,
              "#46039f"
             ],
             [
              0.2222222222222222,
              "#7201a8"
             ],
             [
              0.3333333333333333,
              "#9c179e"
             ],
             [
              0.4444444444444444,
              "#bd3786"
             ],
             [
              0.5555555555555556,
              "#d8576b"
             ],
             [
              0.6666666666666666,
              "#ed7953"
             ],
             [
              0.7777777777777778,
              "#fb9f3a"
             ],
             [
              0.8888888888888888,
              "#fdca26"
             ],
             [
              1,
              "#f0f921"
             ]
            ],
            "type": "contour"
           }
          ],
          "contourcarpet": [
           {
            "colorbar": {
             "outlinewidth": 0,
             "ticks": ""
            },
            "type": "contourcarpet"
           }
          ],
          "heatmap": [
           {
            "colorbar": {
             "outlinewidth": 0,
             "ticks": ""
            },
            "colorscale": [
             [
              0,
              "#0d0887"
             ],
             [
              0.1111111111111111,
              "#46039f"
             ],
             [
              0.2222222222222222,
              "#7201a8"
             ],
             [
              0.3333333333333333,
              "#9c179e"
             ],
             [
              0.4444444444444444,
              "#bd3786"
             ],
             [
              0.5555555555555556,
              "#d8576b"
             ],
             [
              0.6666666666666666,
              "#ed7953"
             ],
             [
              0.7777777777777778,
              "#fb9f3a"
             ],
             [
              0.8888888888888888,
              "#fdca26"
             ],
             [
              1,
              "#f0f921"
             ]
            ],
            "type": "heatmap"
           }
          ],
          "heatmapgl": [
           {
            "colorbar": {
             "outlinewidth": 0,
             "ticks": ""
            },
            "colorscale": [
             [
              0,
              "#0d0887"
             ],
             [
              0.1111111111111111,
              "#46039f"
             ],
             [
              0.2222222222222222,
              "#7201a8"
             ],
             [
              0.3333333333333333,
              "#9c179e"
             ],
             [
              0.4444444444444444,
              "#bd3786"
             ],
             [
              0.5555555555555556,
              "#d8576b"
             ],
             [
              0.6666666666666666,
              "#ed7953"
             ],
             [
              0.7777777777777778,
              "#fb9f3a"
             ],
             [
              0.8888888888888888,
              "#fdca26"
             ],
             [
              1,
              "#f0f921"
             ]
            ],
            "type": "heatmapgl"
           }
          ],
          "histogram": [
           {
            "marker": {
             "pattern": {
              "fillmode": "overlay",
              "size": 10,
              "solidity": 0.2
             }
            },
            "type": "histogram"
           }
          ],
          "histogram2d": [
           {
            "colorbar": {
             "outlinewidth": 0,
             "ticks": ""
            },
            "colorscale": [
             [
              0,
              "#0d0887"
             ],
             [
              0.1111111111111111,
              "#46039f"
             ],
             [
              0.2222222222222222,
              "#7201a8"
             ],
             [
              0.3333333333333333,
              "#9c179e"
             ],
             [
              0.4444444444444444,
              "#bd3786"
             ],
             [
              0.5555555555555556,
              "#d8576b"
             ],
             [
              0.6666666666666666,
              "#ed7953"
             ],
             [
              0.7777777777777778,
              "#fb9f3a"
             ],
             [
              0.8888888888888888,
              "#fdca26"
             ],
             [
              1,
              "#f0f921"
             ]
            ],
            "type": "histogram2d"
           }
          ],
          "histogram2dcontour": [
           {
            "colorbar": {
             "outlinewidth": 0,
             "ticks": ""
            },
            "colorscale": [
             [
              0,
              "#0d0887"
             ],
             [
              0.1111111111111111,
              "#46039f"
             ],
             [
              0.2222222222222222,
              "#7201a8"
             ],
             [
              0.3333333333333333,
              "#9c179e"
             ],
             [
              0.4444444444444444,
              "#bd3786"
             ],
             [
              0.5555555555555556,
              "#d8576b"
             ],
             [
              0.6666666666666666,
              "#ed7953"
             ],
             [
              0.7777777777777778,
              "#fb9f3a"
             ],
             [
              0.8888888888888888,
              "#fdca26"
             ],
             [
              1,
              "#f0f921"
             ]
            ],
            "type": "histogram2dcontour"
           }
          ],
          "mesh3d": [
           {
            "colorbar": {
             "outlinewidth": 0,
             "ticks": ""
            },
            "type": "mesh3d"
           }
          ],
          "parcoords": [
           {
            "line": {
             "colorbar": {
              "outlinewidth": 0,
              "ticks": ""
             }
            },
            "type": "parcoords"
           }
          ],
          "pie": [
           {
            "automargin": true,
            "type": "pie"
           }
          ],
          "scatter": [
           {
            "fillpattern": {
             "fillmode": "overlay",
             "size": 10,
             "solidity": 0.2
            },
            "type": "scatter"
           }
          ],
          "scatter3d": [
           {
            "line": {
             "colorbar": {
              "outlinewidth": 0,
              "ticks": ""
             }
            },
            "marker": {
             "colorbar": {
              "outlinewidth": 0,
              "ticks": ""
             }
            },
            "type": "scatter3d"
           }
          ],
          "scattercarpet": [
           {
            "marker": {
             "colorbar": {
              "outlinewidth": 0,
              "ticks": ""
             }
            },
            "type": "scattercarpet"
           }
          ],
          "scattergeo": [
           {
            "marker": {
             "colorbar": {
              "outlinewidth": 0,
              "ticks": ""
             }
            },
            "type": "scattergeo"
           }
          ],
          "scattergl": [
           {
            "marker": {
             "colorbar": {
              "outlinewidth": 0,
              "ticks": ""
             }
            },
            "type": "scattergl"
           }
          ],
          "scattermapbox": [
           {
            "marker": {
             "colorbar": {
              "outlinewidth": 0,
              "ticks": ""
             }
            },
            "type": "scattermapbox"
           }
          ],
          "scatterpolar": [
           {
            "marker": {
             "colorbar": {
              "outlinewidth": 0,
              "ticks": ""
             }
            },
            "type": "scatterpolar"
           }
          ],
          "scatterpolargl": [
           {
            "marker": {
             "colorbar": {
              "outlinewidth": 0,
              "ticks": ""
             }
            },
            "type": "scatterpolargl"
           }
          ],
          "scatterternary": [
           {
            "marker": {
             "colorbar": {
              "outlinewidth": 0,
              "ticks": ""
             }
            },
            "type": "scatterternary"
           }
          ],
          "surface": [
           {
            "colorbar": {
             "outlinewidth": 0,
             "ticks": ""
            },
            "colorscale": [
             [
              0,
              "#0d0887"
             ],
             [
              0.1111111111111111,
              "#46039f"
             ],
             [
              0.2222222222222222,
              "#7201a8"
             ],
             [
              0.3333333333333333,
              "#9c179e"
             ],
             [
              0.4444444444444444,
              "#bd3786"
             ],
             [
              0.5555555555555556,
              "#d8576b"
             ],
             [
              0.6666666666666666,
              "#ed7953"
             ],
             [
              0.7777777777777778,
              "#fb9f3a"
             ],
             [
              0.8888888888888888,
              "#fdca26"
             ],
             [
              1,
              "#f0f921"
             ]
            ],
            "type": "surface"
           }
          ],
          "table": [
           {
            "cells": {
             "fill": {
              "color": "#EBF0F8"
             },
             "line": {
              "color": "white"
             }
            },
            "header": {
             "fill": {
              "color": "#C8D4E3"
             },
             "line": {
              "color": "white"
             }
            },
            "type": "table"
           }
          ]
         },
         "layout": {
          "annotationdefaults": {
           "arrowcolor": "#2a3f5f",
           "arrowhead": 0,
           "arrowwidth": 1
          },
          "autotypenumbers": "strict",
          "coloraxis": {
           "colorbar": {
            "outlinewidth": 0,
            "ticks": ""
           }
          },
          "colorscale": {
           "diverging": [
            [
             0,
             "#8e0152"
            ],
            [
             0.1,
             "#c51b7d"
            ],
            [
             0.2,
             "#de77ae"
            ],
            [
             0.3,
             "#f1b6da"
            ],
            [
             0.4,
             "#fde0ef"
            ],
            [
             0.5,
             "#f7f7f7"
            ],
            [
             0.6,
             "#e6f5d0"
            ],
            [
             0.7,
             "#b8e186"
            ],
            [
             0.8,
             "#7fbc41"
            ],
            [
             0.9,
             "#4d9221"
            ],
            [
             1,
             "#276419"
            ]
           ],
           "sequential": [
            [
             0,
             "#0d0887"
            ],
            [
             0.1111111111111111,
             "#46039f"
            ],
            [
             0.2222222222222222,
             "#7201a8"
            ],
            [
             0.3333333333333333,
             "#9c179e"
            ],
            [
             0.4444444444444444,
             "#bd3786"
            ],
            [
             0.5555555555555556,
             "#d8576b"
            ],
            [
             0.6666666666666666,
             "#ed7953"
            ],
            [
             0.7777777777777778,
             "#fb9f3a"
            ],
            [
             0.8888888888888888,
             "#fdca26"
            ],
            [
             1,
             "#f0f921"
            ]
           ],
           "sequentialminus": [
            [
             0,
             "#0d0887"
            ],
            [
             0.1111111111111111,
             "#46039f"
            ],
            [
             0.2222222222222222,
             "#7201a8"
            ],
            [
             0.3333333333333333,
             "#9c179e"
            ],
            [
             0.4444444444444444,
             "#bd3786"
            ],
            [
             0.5555555555555556,
             "#d8576b"
            ],
            [
             0.6666666666666666,
             "#ed7953"
            ],
            [
             0.7777777777777778,
             "#fb9f3a"
            ],
            [
             0.8888888888888888,
             "#fdca26"
            ],
            [
             1,
             "#f0f921"
            ]
           ]
          },
          "colorway": [
           "#636efa",
           "#EF553B",
           "#00cc96",
           "#ab63fa",
           "#FFA15A",
           "#19d3f3",
           "#FF6692",
           "#B6E880",
           "#FF97FF",
           "#FECB52"
          ],
          "font": {
           "color": "#2a3f5f"
          },
          "geo": {
           "bgcolor": "white",
           "lakecolor": "white",
           "landcolor": "#E5ECF6",
           "showlakes": true,
           "showland": true,
           "subunitcolor": "white"
          },
          "hoverlabel": {
           "align": "left"
          },
          "hovermode": "closest",
          "mapbox": {
           "style": "light"
          },
          "paper_bgcolor": "white",
          "plot_bgcolor": "#E5ECF6",
          "polar": {
           "angularaxis": {
            "gridcolor": "white",
            "linecolor": "white",
            "ticks": ""
           },
           "bgcolor": "#E5ECF6",
           "radialaxis": {
            "gridcolor": "white",
            "linecolor": "white",
            "ticks": ""
           }
          },
          "scene": {
           "xaxis": {
            "backgroundcolor": "#E5ECF6",
            "gridcolor": "white",
            "gridwidth": 2,
            "linecolor": "white",
            "showbackground": true,
            "ticks": "",
            "zerolinecolor": "white"
           },
           "yaxis": {
            "backgroundcolor": "#E5ECF6",
            "gridcolor": "white",
            "gridwidth": 2,
            "linecolor": "white",
            "showbackground": true,
            "ticks": "",
            "zerolinecolor": "white"
           },
           "zaxis": {
            "backgroundcolor": "#E5ECF6",
            "gridcolor": "white",
            "gridwidth": 2,
            "linecolor": "white",
            "showbackground": true,
            "ticks": "",
            "zerolinecolor": "white"
           }
          },
          "shapedefaults": {
           "line": {
            "color": "#2a3f5f"
           }
          },
          "ternary": {
           "aaxis": {
            "gridcolor": "white",
            "linecolor": "white",
            "ticks": ""
           },
           "baxis": {
            "gridcolor": "white",
            "linecolor": "white",
            "ticks": ""
           },
           "bgcolor": "#E5ECF6",
           "caxis": {
            "gridcolor": "white",
            "linecolor": "white",
            "ticks": ""
           }
          },
          "title": {
           "x": 0.05
          },
          "xaxis": {
           "automargin": true,
           "gridcolor": "white",
           "linecolor": "white",
           "ticks": "",
           "title": {
            "standoff": 15
           },
           "zerolinecolor": "white",
           "zerolinewidth": 2
          },
          "yaxis": {
           "automargin": true,
           "gridcolor": "white",
           "linecolor": "white",
           "ticks": "",
           "title": {
            "standoff": 15
           },
           "zerolinecolor": "white",
           "zerolinewidth": 2
          }
         }
        },
        "xaxis": {
         "anchor": "y",
         "domain": [
          0,
          1
         ],
         "title": {
          "text": "jahr"
         }
        },
        "yaxis": {
         "anchor": "x",
         "domain": [
          0,
          1
         ],
         "title": {
          "text": "budget_gesamt_inflationsbereinigt"
         }
        }
       }
      }
     },
     "metadata": {},
     "output_type": "display_data"
    }
   ],
   "source": [
    "data[\"budget_gesamt_inflationsbereinigt\"] = data[\"budget_gesamt\"] / \\\n",
    "    data[\"inflation_real\"]\n",
    "\n",
    "\n",
    "px.line(data, \"jahr\", \"budget_gesamt_inflationsbereinigt\")"
   ]
  },
  {
   "cell_type": "markdown",
   "metadata": {},
   "source": [
    "Es scheint so, als würde der Absatz(Bierkonsum) zwar mit dem Preis korrelieren, aber postiv, also höherer Preis -> mehr Absatz. Eine Kausalität haben wir nicht hinreichend untersucht. \n",
    "\n",
    "Vermutung: Da das Gesamtbudget jährlich steigt, steigt auch der Absatz. Das müsste aber genauer untersucht werden."
   ]
  },
  {
   "cell_type": "markdown",
   "metadata": {},
   "source": [
    "##### Offene Hypothesen\n",
    "\n",
    "- Der Bierkonsum je Person hat abgenommen\n",
    "- Die Besucherzahlen sind gestiegen\n",
    "- Bier ist auch inflationsbereinigt teurer geworden -> Inflationsdaten suchen\n",
    "- Der Preis von Bier ist stärker als der von Hähnchen gestiegen\n",
    "- Der Bierpreis steigt propotional mit dem BIP -> BIP herausfinden"
   ]
  },
  {
   "cell_type": "markdown",
   "metadata": {},
   "source": [
    "- Der Bierkonsum Pro Person hat generell nicht abgenommen\n",
    "- Die Besucherzahlen haben im Durchschnitt sowohl pro Trag als auch insgesamt abgenommen\n",
    "- Bier ist auch inflationsbereinigt teurer geworden\n",
    "- Der Preis von Bier ist stärker gestiegen"
   ]
  },
  {
   "cell_type": "code",
   "execution_count": 27,
   "metadata": {},
   "outputs": [
    {
     "data": {
      "application/vnd.plotly.v1+json": {
       "config": {
        "plotlyServerURL": "https://plot.ly"
       },
       "data": [
        {
         "hovertemplate": "jahr=%{x}<br>besucher_gesamt=%{y}<extra></extra>",
         "legendgroup": "",
         "marker": {
          "color": "#636efa",
          "symbol": "circle"
         },
         "mode": "markers",
         "name": "",
         "orientation": "v",
         "showlegend": false,
         "type": "scatter",
         "x": [
          1985,
          1986,
          1987,
          1988,
          1989,
          1990,
          1991,
          1992,
          1993,
          1994,
          1995,
          1996,
          1997,
          1998,
          1999,
          2000,
          2001,
          2002,
          2003,
          2004,
          2005,
          2006,
          2007,
          2008,
          2009,
          2010,
          2011,
          2012,
          2013,
          2014,
          2015,
          2016,
          2017,
          2018,
          2019,
          2022,
          2023
         ],
         "xaxis": "x",
         "y": [
          7.1,
          6.7,
          6.5,
          5.7,
          6.2,
          6.7,
          6.4,
          5.9,
          6.5,
          6.6,
          6.7,
          6.9,
          6.4,
          6.5,
          6.5,
          6.9,
          5.5,
          5.9,
          6.3,
          5.9,
          6.1,
          6.5,
          6.2,
          6,
          5.7,
          6.4,
          6.9,
          6.4,
          6.4,
          6.3,
          5.9,
          5.6,
          6.2,
          6.3,
          6.3,
          5.7,
          7.2
         ],
         "yaxis": "y"
        },
        {
         "hovertemplate": "<b>OLS trendline</b><br>besucher_gesamt = -0.00856395 * jahr + 23.4761<br>R<sup>2</sup>=0.050479<br><br>jahr=%{x}<br>besucher_gesamt=%{y} <b>(trend)</b><extra></extra>",
         "legendgroup": "",
         "marker": {
          "color": "#636efa",
          "symbol": "circle"
         },
         "mode": "lines",
         "name": "",
         "showlegend": false,
         "type": "scatter",
         "x": [
          1985,
          1986,
          1987,
          1988,
          1989,
          1990,
          1991,
          1992,
          1993,
          1994,
          1995,
          1996,
          1997,
          1998,
          1999,
          2000,
          2001,
          2002,
          2003,
          2004,
          2005,
          2006,
          2007,
          2008,
          2009,
          2010,
          2011,
          2012,
          2013,
          2014,
          2015,
          2016,
          2017,
          2018,
          2019,
          2022,
          2023
         ],
         "xaxis": "x",
         "y": [
          6.47669848816907,
          6.468134541807494,
          6.459570595445918,
          6.451006649084341,
          6.442442702722765,
          6.433878756361189,
          6.4253148099996125,
          6.416750863638036,
          6.408186917276463,
          6.399622970914887,
          6.391059024553311,
          6.3824950781917345,
          6.373931131830158,
          6.365367185468582,
          6.3568032391070055,
          6.348239292745429,
          6.339675346383853,
          6.331111400022277,
          6.3225474536607,
          6.313983507299124,
          6.305419560937548,
          6.296855614575971,
          6.288291668214395,
          6.279727721852819,
          6.271163775491246,
          6.26259982912967,
          6.254035882768093,
          6.245471936406517,
          6.236907990044941,
          6.228344043683364,
          6.219780097321788,
          6.211216150960212,
          6.202652204598635,
          6.194088258237059,
          6.185524311875483,
          6.159832472790754,
          6.1512685264291775
         ],
         "yaxis": "y"
        }
       ],
       "layout": {
        "legend": {
         "tracegroupgap": 0
        },
        "margin": {
         "t": 60
        },
        "template": {
         "data": {
          "bar": [
           {
            "error_x": {
             "color": "#2a3f5f"
            },
            "error_y": {
             "color": "#2a3f5f"
            },
            "marker": {
             "line": {
              "color": "#E5ECF6",
              "width": 0.5
             },
             "pattern": {
              "fillmode": "overlay",
              "size": 10,
              "solidity": 0.2
             }
            },
            "type": "bar"
           }
          ],
          "barpolar": [
           {
            "marker": {
             "line": {
              "color": "#E5ECF6",
              "width": 0.5
             },
             "pattern": {
              "fillmode": "overlay",
              "size": 10,
              "solidity": 0.2
             }
            },
            "type": "barpolar"
           }
          ],
          "carpet": [
           {
            "aaxis": {
             "endlinecolor": "#2a3f5f",
             "gridcolor": "white",
             "linecolor": "white",
             "minorgridcolor": "white",
             "startlinecolor": "#2a3f5f"
            },
            "baxis": {
             "endlinecolor": "#2a3f5f",
             "gridcolor": "white",
             "linecolor": "white",
             "minorgridcolor": "white",
             "startlinecolor": "#2a3f5f"
            },
            "type": "carpet"
           }
          ],
          "choropleth": [
           {
            "colorbar": {
             "outlinewidth": 0,
             "ticks": ""
            },
            "type": "choropleth"
           }
          ],
          "contour": [
           {
            "colorbar": {
             "outlinewidth": 0,
             "ticks": ""
            },
            "colorscale": [
             [
              0,
              "#0d0887"
             ],
             [
              0.1111111111111111,
              "#46039f"
             ],
             [
              0.2222222222222222,
              "#7201a8"
             ],
             [
              0.3333333333333333,
              "#9c179e"
             ],
             [
              0.4444444444444444,
              "#bd3786"
             ],
             [
              0.5555555555555556,
              "#d8576b"
             ],
             [
              0.6666666666666666,
              "#ed7953"
             ],
             [
              0.7777777777777778,
              "#fb9f3a"
             ],
             [
              0.8888888888888888,
              "#fdca26"
             ],
             [
              1,
              "#f0f921"
             ]
            ],
            "type": "contour"
           }
          ],
          "contourcarpet": [
           {
            "colorbar": {
             "outlinewidth": 0,
             "ticks": ""
            },
            "type": "contourcarpet"
           }
          ],
          "heatmap": [
           {
            "colorbar": {
             "outlinewidth": 0,
             "ticks": ""
            },
            "colorscale": [
             [
              0,
              "#0d0887"
             ],
             [
              0.1111111111111111,
              "#46039f"
             ],
             [
              0.2222222222222222,
              "#7201a8"
             ],
             [
              0.3333333333333333,
              "#9c179e"
             ],
             [
              0.4444444444444444,
              "#bd3786"
             ],
             [
              0.5555555555555556,
              "#d8576b"
             ],
             [
              0.6666666666666666,
              "#ed7953"
             ],
             [
              0.7777777777777778,
              "#fb9f3a"
             ],
             [
              0.8888888888888888,
              "#fdca26"
             ],
             [
              1,
              "#f0f921"
             ]
            ],
            "type": "heatmap"
           }
          ],
          "heatmapgl": [
           {
            "colorbar": {
             "outlinewidth": 0,
             "ticks": ""
            },
            "colorscale": [
             [
              0,
              "#0d0887"
             ],
             [
              0.1111111111111111,
              "#46039f"
             ],
             [
              0.2222222222222222,
              "#7201a8"
             ],
             [
              0.3333333333333333,
              "#9c179e"
             ],
             [
              0.4444444444444444,
              "#bd3786"
             ],
             [
              0.5555555555555556,
              "#d8576b"
             ],
             [
              0.6666666666666666,
              "#ed7953"
             ],
             [
              0.7777777777777778,
              "#fb9f3a"
             ],
             [
              0.8888888888888888,
              "#fdca26"
             ],
             [
              1,
              "#f0f921"
             ]
            ],
            "type": "heatmapgl"
           }
          ],
          "histogram": [
           {
            "marker": {
             "pattern": {
              "fillmode": "overlay",
              "size": 10,
              "solidity": 0.2
             }
            },
            "type": "histogram"
           }
          ],
          "histogram2d": [
           {
            "colorbar": {
             "outlinewidth": 0,
             "ticks": ""
            },
            "colorscale": [
             [
              0,
              "#0d0887"
             ],
             [
              0.1111111111111111,
              "#46039f"
             ],
             [
              0.2222222222222222,
              "#7201a8"
             ],
             [
              0.3333333333333333,
              "#9c179e"
             ],
             [
              0.4444444444444444,
              "#bd3786"
             ],
             [
              0.5555555555555556,
              "#d8576b"
             ],
             [
              0.6666666666666666,
              "#ed7953"
             ],
             [
              0.7777777777777778,
              "#fb9f3a"
             ],
             [
              0.8888888888888888,
              "#fdca26"
             ],
             [
              1,
              "#f0f921"
             ]
            ],
            "type": "histogram2d"
           }
          ],
          "histogram2dcontour": [
           {
            "colorbar": {
             "outlinewidth": 0,
             "ticks": ""
            },
            "colorscale": [
             [
              0,
              "#0d0887"
             ],
             [
              0.1111111111111111,
              "#46039f"
             ],
             [
              0.2222222222222222,
              "#7201a8"
             ],
             [
              0.3333333333333333,
              "#9c179e"
             ],
             [
              0.4444444444444444,
              "#bd3786"
             ],
             [
              0.5555555555555556,
              "#d8576b"
             ],
             [
              0.6666666666666666,
              "#ed7953"
             ],
             [
              0.7777777777777778,
              "#fb9f3a"
             ],
             [
              0.8888888888888888,
              "#fdca26"
             ],
             [
              1,
              "#f0f921"
             ]
            ],
            "type": "histogram2dcontour"
           }
          ],
          "mesh3d": [
           {
            "colorbar": {
             "outlinewidth": 0,
             "ticks": ""
            },
            "type": "mesh3d"
           }
          ],
          "parcoords": [
           {
            "line": {
             "colorbar": {
              "outlinewidth": 0,
              "ticks": ""
             }
            },
            "type": "parcoords"
           }
          ],
          "pie": [
           {
            "automargin": true,
            "type": "pie"
           }
          ],
          "scatter": [
           {
            "fillpattern": {
             "fillmode": "overlay",
             "size": 10,
             "solidity": 0.2
            },
            "type": "scatter"
           }
          ],
          "scatter3d": [
           {
            "line": {
             "colorbar": {
              "outlinewidth": 0,
              "ticks": ""
             }
            },
            "marker": {
             "colorbar": {
              "outlinewidth": 0,
              "ticks": ""
             }
            },
            "type": "scatter3d"
           }
          ],
          "scattercarpet": [
           {
            "marker": {
             "colorbar": {
              "outlinewidth": 0,
              "ticks": ""
             }
            },
            "type": "scattercarpet"
           }
          ],
          "scattergeo": [
           {
            "marker": {
             "colorbar": {
              "outlinewidth": 0,
              "ticks": ""
             }
            },
            "type": "scattergeo"
           }
          ],
          "scattergl": [
           {
            "marker": {
             "colorbar": {
              "outlinewidth": 0,
              "ticks": ""
             }
            },
            "type": "scattergl"
           }
          ],
          "scattermapbox": [
           {
            "marker": {
             "colorbar": {
              "outlinewidth": 0,
              "ticks": ""
             }
            },
            "type": "scattermapbox"
           }
          ],
          "scatterpolar": [
           {
            "marker": {
             "colorbar": {
              "outlinewidth": 0,
              "ticks": ""
             }
            },
            "type": "scatterpolar"
           }
          ],
          "scatterpolargl": [
           {
            "marker": {
             "colorbar": {
              "outlinewidth": 0,
              "ticks": ""
             }
            },
            "type": "scatterpolargl"
           }
          ],
          "scatterternary": [
           {
            "marker": {
             "colorbar": {
              "outlinewidth": 0,
              "ticks": ""
             }
            },
            "type": "scatterternary"
           }
          ],
          "surface": [
           {
            "colorbar": {
             "outlinewidth": 0,
             "ticks": ""
            },
            "colorscale": [
             [
              0,
              "#0d0887"
             ],
             [
              0.1111111111111111,
              "#46039f"
             ],
             [
              0.2222222222222222,
              "#7201a8"
             ],
             [
              0.3333333333333333,
              "#9c179e"
             ],
             [
              0.4444444444444444,
              "#bd3786"
             ],
             [
              0.5555555555555556,
              "#d8576b"
             ],
             [
              0.6666666666666666,
              "#ed7953"
             ],
             [
              0.7777777777777778,
              "#fb9f3a"
             ],
             [
              0.8888888888888888,
              "#fdca26"
             ],
             [
              1,
              "#f0f921"
             ]
            ],
            "type": "surface"
           }
          ],
          "table": [
           {
            "cells": {
             "fill": {
              "color": "#EBF0F8"
             },
             "line": {
              "color": "white"
             }
            },
            "header": {
             "fill": {
              "color": "#C8D4E3"
             },
             "line": {
              "color": "white"
             }
            },
            "type": "table"
           }
          ]
         },
         "layout": {
          "annotationdefaults": {
           "arrowcolor": "#2a3f5f",
           "arrowhead": 0,
           "arrowwidth": 1
          },
          "autotypenumbers": "strict",
          "coloraxis": {
           "colorbar": {
            "outlinewidth": 0,
            "ticks": ""
           }
          },
          "colorscale": {
           "diverging": [
            [
             0,
             "#8e0152"
            ],
            [
             0.1,
             "#c51b7d"
            ],
            [
             0.2,
             "#de77ae"
            ],
            [
             0.3,
             "#f1b6da"
            ],
            [
             0.4,
             "#fde0ef"
            ],
            [
             0.5,
             "#f7f7f7"
            ],
            [
             0.6,
             "#e6f5d0"
            ],
            [
             0.7,
             "#b8e186"
            ],
            [
             0.8,
             "#7fbc41"
            ],
            [
             0.9,
             "#4d9221"
            ],
            [
             1,
             "#276419"
            ]
           ],
           "sequential": [
            [
             0,
             "#0d0887"
            ],
            [
             0.1111111111111111,
             "#46039f"
            ],
            [
             0.2222222222222222,
             "#7201a8"
            ],
            [
             0.3333333333333333,
             "#9c179e"
            ],
            [
             0.4444444444444444,
             "#bd3786"
            ],
            [
             0.5555555555555556,
             "#d8576b"
            ],
            [
             0.6666666666666666,
             "#ed7953"
            ],
            [
             0.7777777777777778,
             "#fb9f3a"
            ],
            [
             0.8888888888888888,
             "#fdca26"
            ],
            [
             1,
             "#f0f921"
            ]
           ],
           "sequentialminus": [
            [
             0,
             "#0d0887"
            ],
            [
             0.1111111111111111,
             "#46039f"
            ],
            [
             0.2222222222222222,
             "#7201a8"
            ],
            [
             0.3333333333333333,
             "#9c179e"
            ],
            [
             0.4444444444444444,
             "#bd3786"
            ],
            [
             0.5555555555555556,
             "#d8576b"
            ],
            [
             0.6666666666666666,
             "#ed7953"
            ],
            [
             0.7777777777777778,
             "#fb9f3a"
            ],
            [
             0.8888888888888888,
             "#fdca26"
            ],
            [
             1,
             "#f0f921"
            ]
           ]
          },
          "colorway": [
           "#636efa",
           "#EF553B",
           "#00cc96",
           "#ab63fa",
           "#FFA15A",
           "#19d3f3",
           "#FF6692",
           "#B6E880",
           "#FF97FF",
           "#FECB52"
          ],
          "font": {
           "color": "#2a3f5f"
          },
          "geo": {
           "bgcolor": "white",
           "lakecolor": "white",
           "landcolor": "#E5ECF6",
           "showlakes": true,
           "showland": true,
           "subunitcolor": "white"
          },
          "hoverlabel": {
           "align": "left"
          },
          "hovermode": "closest",
          "mapbox": {
           "style": "light"
          },
          "paper_bgcolor": "white",
          "plot_bgcolor": "#E5ECF6",
          "polar": {
           "angularaxis": {
            "gridcolor": "white",
            "linecolor": "white",
            "ticks": ""
           },
           "bgcolor": "#E5ECF6",
           "radialaxis": {
            "gridcolor": "white",
            "linecolor": "white",
            "ticks": ""
           }
          },
          "scene": {
           "xaxis": {
            "backgroundcolor": "#E5ECF6",
            "gridcolor": "white",
            "gridwidth": 2,
            "linecolor": "white",
            "showbackground": true,
            "ticks": "",
            "zerolinecolor": "white"
           },
           "yaxis": {
            "backgroundcolor": "#E5ECF6",
            "gridcolor": "white",
            "gridwidth": 2,
            "linecolor": "white",
            "showbackground": true,
            "ticks": "",
            "zerolinecolor": "white"
           },
           "zaxis": {
            "backgroundcolor": "#E5ECF6",
            "gridcolor": "white",
            "gridwidth": 2,
            "linecolor": "white",
            "showbackground": true,
            "ticks": "",
            "zerolinecolor": "white"
           }
          },
          "shapedefaults": {
           "line": {
            "color": "#2a3f5f"
           }
          },
          "ternary": {
           "aaxis": {
            "gridcolor": "white",
            "linecolor": "white",
            "ticks": ""
           },
           "baxis": {
            "gridcolor": "white",
            "linecolor": "white",
            "ticks": ""
           },
           "bgcolor": "#E5ECF6",
           "caxis": {
            "gridcolor": "white",
            "linecolor": "white",
            "ticks": ""
           }
          },
          "title": {
           "x": 0.05
          },
          "xaxis": {
           "automargin": true,
           "gridcolor": "white",
           "linecolor": "white",
           "ticks": "",
           "title": {
            "standoff": 15
           },
           "zerolinecolor": "white",
           "zerolinewidth": 2
          },
          "yaxis": {
           "automargin": true,
           "gridcolor": "white",
           "linecolor": "white",
           "ticks": "",
           "title": {
            "standoff": 15
           },
           "zerolinecolor": "white",
           "zerolinewidth": 2
          }
         }
        },
        "xaxis": {
         "anchor": "y",
         "domain": [
          0,
          1
         ],
         "title": {
          "text": "jahr"
         }
        },
        "yaxis": {
         "anchor": "x",
         "domain": [
          0,
          1
         ],
         "title": {
          "text": "besucher_gesamt"
         }
        }
       }
      }
     },
     "metadata": {},
     "output_type": "display_data"
    }
   ],
   "source": [
    "# Die Besucherzahlen sind gestiegen\n",
    "\n",
    "px.scatter(data, \"jahr\",\"besucher_gesamt\", trendline=\"ols\")"
   ]
  },
  {
   "cell_type": "code",
   "execution_count": 28,
   "metadata": {},
   "outputs": [
    {
     "name": "stdout",
     "output_type": "stream",
     "text": [
      "4.4781249999999995\n",
      "4.053571428571429\n"
     ]
    }
   ],
   "source": [
    "# Preis von Bier ist stärler gestiegen als der von Hähnchen\n",
    "\n",
    "print(data[\"bier_preis\"].max() / data[\"bier_preis\"].min())\n",
    "print(data[\"hendl_preis\"].max() / data[\"hendl_preis\"].min())"
   ]
  },
  {
   "cell_type": "markdown",
   "metadata": {},
   "source": [
    "Neue Hypothese:\n",
    "\n",
    "- Wenn der Bierpreis stärker als das BIP steigt, dann sinkt die verkaufte Menge"
   ]
  },
  {
   "cell_type": "code",
   "execution_count": 29,
   "metadata": {},
   "outputs": [
    {
     "data": {
      "text/html": [
       "<div>\n",
       "<style scoped>\n",
       "    .dataframe tbody tr th:only-of-type {\n",
       "        vertical-align: middle;\n",
       "    }\n",
       "\n",
       "    .dataframe tbody tr th {\n",
       "        vertical-align: top;\n",
       "    }\n",
       "\n",
       "    .dataframe thead th {\n",
       "        text-align: right;\n",
       "    }\n",
       "</style>\n",
       "<table border=\"1\" class=\"dataframe\">\n",
       "  <thead>\n",
       "    <tr style=\"text-align: right;\">\n",
       "      <th></th>\n",
       "      <th>jahr</th>\n",
       "      <th>bip</th>\n",
       "    </tr>\n",
       "  </thead>\n",
       "  <tbody>\n",
       "    <tr>\n",
       "      <th>0</th>\n",
       "      <td>1970</td>\n",
       "      <td>360.60</td>\n",
       "    </tr>\n",
       "    <tr>\n",
       "      <th>1</th>\n",
       "      <td>1971</td>\n",
       "      <td>400.24</td>\n",
       "    </tr>\n",
       "    <tr>\n",
       "      <th>2</th>\n",
       "      <td>1972</td>\n",
       "      <td>436.37</td>\n",
       "    </tr>\n",
       "    <tr>\n",
       "      <th>3</th>\n",
       "      <td>1973</td>\n",
       "      <td>486.02</td>\n",
       "    </tr>\n",
       "    <tr>\n",
       "      <th>4</th>\n",
       "      <td>1974</td>\n",
       "      <td>526.02</td>\n",
       "    </tr>\n",
       "    <tr>\n",
       "      <th>5</th>\n",
       "      <td>1975</td>\n",
       "      <td>551.01</td>\n",
       "    </tr>\n",
       "    <tr>\n",
       "      <th>6</th>\n",
       "      <td>1976</td>\n",
       "      <td>597.40</td>\n",
       "    </tr>\n",
       "    <tr>\n",
       "      <th>7</th>\n",
       "      <td>1977</td>\n",
       "      <td>636.54</td>\n",
       "    </tr>\n",
       "    <tr>\n",
       "      <th>8</th>\n",
       "      <td>1978</td>\n",
       "      <td>678.94</td>\n",
       "    </tr>\n",
       "    <tr>\n",
       "      <th>9</th>\n",
       "      <td>1979</td>\n",
       "      <td>737.37</td>\n",
       "    </tr>\n",
       "    <tr>\n",
       "      <th>10</th>\n",
       "      <td>1980</td>\n",
       "      <td>788.52</td>\n",
       "    </tr>\n",
       "    <tr>\n",
       "      <th>11</th>\n",
       "      <td>1981</td>\n",
       "      <td>825.79</td>\n",
       "    </tr>\n",
       "    <tr>\n",
       "      <th>12</th>\n",
       "      <td>1982</td>\n",
       "      <td>860.21</td>\n",
       "    </tr>\n",
       "    <tr>\n",
       "      <th>13</th>\n",
       "      <td>1983</td>\n",
       "      <td>898.27</td>\n",
       "    </tr>\n",
       "    <tr>\n",
       "      <th>14</th>\n",
       "      <td>1984</td>\n",
       "      <td>942.00</td>\n",
       "    </tr>\n",
       "    <tr>\n",
       "      <th>15</th>\n",
       "      <td>1985</td>\n",
       "      <td>984.41</td>\n",
       "    </tr>\n",
       "    <tr>\n",
       "      <th>16</th>\n",
       "      <td>1986</td>\n",
       "      <td>1037.13</td>\n",
       "    </tr>\n",
       "    <tr>\n",
       "      <th>17</th>\n",
       "      <td>1987</td>\n",
       "      <td>1065.13</td>\n",
       "    </tr>\n",
       "    <tr>\n",
       "      <th>18</th>\n",
       "      <td>1988</td>\n",
       "      <td>1123.29</td>\n",
       "    </tr>\n",
       "    <tr>\n",
       "      <th>19</th>\n",
       "      <td>1989</td>\n",
       "      <td>1200.66</td>\n",
       "    </tr>\n",
       "    <tr>\n",
       "      <th>20</th>\n",
       "      <td>1990</td>\n",
       "      <td>1306.68</td>\n",
       "    </tr>\n",
       "    <tr>\n",
       "      <th>21</th>\n",
       "      <td>1991</td>\n",
       "      <td>1585.80</td>\n",
       "    </tr>\n",
       "    <tr>\n",
       "      <th>22</th>\n",
       "      <td>1992</td>\n",
       "      <td>1702.06</td>\n",
       "    </tr>\n",
       "    <tr>\n",
       "      <th>23</th>\n",
       "      <td>1993</td>\n",
       "      <td>1750.89</td>\n",
       "    </tr>\n",
       "    <tr>\n",
       "      <th>24</th>\n",
       "      <td>1994</td>\n",
       "      <td>1829.55</td>\n",
       "    </tr>\n",
       "    <tr>\n",
       "      <th>25</th>\n",
       "      <td>1995</td>\n",
       "      <td>1894.61</td>\n",
       "    </tr>\n",
       "    <tr>\n",
       "      <th>26</th>\n",
       "      <td>1996</td>\n",
       "      <td>1921.38</td>\n",
       "    </tr>\n",
       "    <tr>\n",
       "      <th>27</th>\n",
       "      <td>1997</td>\n",
       "      <td>1961.15</td>\n",
       "    </tr>\n",
       "    <tr>\n",
       "      <th>28</th>\n",
       "      <td>1998</td>\n",
       "      <td>2014.42</td>\n",
       "    </tr>\n",
       "    <tr>\n",
       "      <th>29</th>\n",
       "      <td>1999</td>\n",
       "      <td>2059.48</td>\n",
       "    </tr>\n",
       "    <tr>\n",
       "      <th>30</th>\n",
       "      <td>2000</td>\n",
       "      <td>2109.09</td>\n",
       "    </tr>\n",
       "    <tr>\n",
       "      <th>31</th>\n",
       "      <td>2001</td>\n",
       "      <td>2172.54</td>\n",
       "    </tr>\n",
       "    <tr>\n",
       "      <th>32</th>\n",
       "      <td>2002</td>\n",
       "      <td>2198.12</td>\n",
       "    </tr>\n",
       "    <tr>\n",
       "      <th>33</th>\n",
       "      <td>2003</td>\n",
       "      <td>2211.57</td>\n",
       "    </tr>\n",
       "    <tr>\n",
       "      <th>34</th>\n",
       "      <td>2004</td>\n",
       "      <td>2262.52</td>\n",
       "    </tr>\n",
       "    <tr>\n",
       "      <th>35</th>\n",
       "      <td>2005</td>\n",
       "      <td>2288.31</td>\n",
       "    </tr>\n",
       "    <tr>\n",
       "      <th>36</th>\n",
       "      <td>2006</td>\n",
       "      <td>2385.08</td>\n",
       "    </tr>\n",
       "    <tr>\n",
       "      <th>37</th>\n",
       "      <td>2007</td>\n",
       "      <td>2499.55</td>\n",
       "    </tr>\n",
       "    <tr>\n",
       "      <th>38</th>\n",
       "      <td>2008</td>\n",
       "      <td>2546.49</td>\n",
       "    </tr>\n",
       "    <tr>\n",
       "      <th>39</th>\n",
       "      <td>2009</td>\n",
       "      <td>2445.73</td>\n",
       "    </tr>\n",
       "    <tr>\n",
       "      <th>40</th>\n",
       "      <td>2010</td>\n",
       "      <td>2564.40</td>\n",
       "    </tr>\n",
       "    <tr>\n",
       "      <th>41</th>\n",
       "      <td>2011</td>\n",
       "      <td>2693.56</td>\n",
       "    </tr>\n",
       "    <tr>\n",
       "      <th>42</th>\n",
       "      <td>2012</td>\n",
       "      <td>2745.31</td>\n",
       "    </tr>\n",
       "    <tr>\n",
       "      <th>43</th>\n",
       "      <td>2013</td>\n",
       "      <td>2811.35</td>\n",
       "    </tr>\n",
       "    <tr>\n",
       "      <th>44</th>\n",
       "      <td>2014</td>\n",
       "      <td>2927.43</td>\n",
       "    </tr>\n",
       "    <tr>\n",
       "      <th>45</th>\n",
       "      <td>2015</td>\n",
       "      <td>3026.18</td>\n",
       "    </tr>\n",
       "    <tr>\n",
       "      <th>46</th>\n",
       "      <td>2016</td>\n",
       "      <td>3134.74</td>\n",
       "    </tr>\n",
       "    <tr>\n",
       "      <th>47</th>\n",
       "      <td>2017</td>\n",
       "      <td>3267.16</td>\n",
       "    </tr>\n",
       "    <tr>\n",
       "      <th>48</th>\n",
       "      <td>2018</td>\n",
       "      <td>3365.45</td>\n",
       "    </tr>\n",
       "    <tr>\n",
       "      <th>49</th>\n",
       "      <td>2019</td>\n",
       "      <td>3473.26</td>\n",
       "    </tr>\n",
       "    <tr>\n",
       "      <th>50</th>\n",
       "      <td>2020</td>\n",
       "      <td>3405.43</td>\n",
       "    </tr>\n",
       "    <tr>\n",
       "      <th>51</th>\n",
       "      <td>2021</td>\n",
       "      <td>3601.75</td>\n",
       "    </tr>\n",
       "    <tr>\n",
       "      <th>52</th>\n",
       "      <td>2022</td>\n",
       "      <td>3869.90</td>\n",
       "    </tr>\n",
       "  </tbody>\n",
       "</table>\n",
       "</div>"
      ],
      "text/plain": [
       "    jahr      bip\n",
       "0   1970   360.60\n",
       "1   1971   400.24\n",
       "2   1972   436.37\n",
       "3   1973   486.02\n",
       "4   1974   526.02\n",
       "5   1975   551.01\n",
       "6   1976   597.40\n",
       "7   1977   636.54\n",
       "8   1978   678.94\n",
       "9   1979   737.37\n",
       "10  1980   788.52\n",
       "11  1981   825.79\n",
       "12  1982   860.21\n",
       "13  1983   898.27\n",
       "14  1984   942.00\n",
       "15  1985   984.41\n",
       "16  1986  1037.13\n",
       "17  1987  1065.13\n",
       "18  1988  1123.29\n",
       "19  1989  1200.66\n",
       "20  1990  1306.68\n",
       "21  1991  1585.80\n",
       "22  1992  1702.06\n",
       "23  1993  1750.89\n",
       "24  1994  1829.55\n",
       "25  1995  1894.61\n",
       "26  1996  1921.38\n",
       "27  1997  1961.15\n",
       "28  1998  2014.42\n",
       "29  1999  2059.48\n",
       "30  2000  2109.09\n",
       "31  2001  2172.54\n",
       "32  2002  2198.12\n",
       "33  2003  2211.57\n",
       "34  2004  2262.52\n",
       "35  2005  2288.31\n",
       "36  2006  2385.08\n",
       "37  2007  2499.55\n",
       "38  2008  2546.49\n",
       "39  2009  2445.73\n",
       "40  2010  2564.40\n",
       "41  2011  2693.56\n",
       "42  2012  2745.31\n",
       "43  2013  2811.35\n",
       "44  2014  2927.43\n",
       "45  2015  3026.18\n",
       "46  2016  3134.74\n",
       "47  2017  3267.16\n",
       "48  2018  3365.45\n",
       "49  2019  3473.26\n",
       "50  2020  3405.43\n",
       "51  2021  3601.75\n",
       "52  2022  3869.90"
      ]
     },
     "execution_count": 29,
     "metadata": {},
     "output_type": "execute_result"
    }
   ],
   "source": [
    "bip = pd.read_json(\"../datasets/oktoberfest/bip.json\", typ='series')\n",
    "bip = bip.reset_index()\n",
    "bip.columns = ['jahr', 'bip']\n",
    "bip"
   ]
  },
  {
   "cell_type": "code",
   "execution_count": 30,
   "metadata": {},
   "outputs": [],
   "source": [
    "data = data.merge(bip, on=\"jahr\", how=\"left\")"
   ]
  },
  {
   "cell_type": "code",
   "execution_count": 31,
   "metadata": {},
   "outputs": [
    {
     "data": {
      "text/html": [
       "<div>\n",
       "<style scoped>\n",
       "    .dataframe tbody tr th:only-of-type {\n",
       "        vertical-align: middle;\n",
       "    }\n",
       "\n",
       "    .dataframe tbody tr th {\n",
       "        vertical-align: top;\n",
       "    }\n",
       "\n",
       "    .dataframe thead th {\n",
       "        text-align: right;\n",
       "    }\n",
       "</style>\n",
       "<table border=\"1\" class=\"dataframe\">\n",
       "  <thead>\n",
       "    <tr style=\"text-align: right;\">\n",
       "      <th></th>\n",
       "      <th>jahr</th>\n",
       "      <th>bier_preis</th>\n",
       "      <th>bip</th>\n",
       "    </tr>\n",
       "  </thead>\n",
       "  <tbody>\n",
       "    <tr>\n",
       "      <th>0</th>\n",
       "      <td>1985</td>\n",
       "      <td>3.20</td>\n",
       "      <td>984.41</td>\n",
       "    </tr>\n",
       "    <tr>\n",
       "      <th>1</th>\n",
       "      <td>1986</td>\n",
       "      <td>3.30</td>\n",
       "      <td>1037.13</td>\n",
       "    </tr>\n",
       "    <tr>\n",
       "      <th>2</th>\n",
       "      <td>1987</td>\n",
       "      <td>3.37</td>\n",
       "      <td>1065.13</td>\n",
       "    </tr>\n",
       "    <tr>\n",
       "      <th>3</th>\n",
       "      <td>1988</td>\n",
       "      <td>3.45</td>\n",
       "      <td>1123.29</td>\n",
       "    </tr>\n",
       "    <tr>\n",
       "      <th>4</th>\n",
       "      <td>1989</td>\n",
       "      <td>3.60</td>\n",
       "      <td>1200.66</td>\n",
       "    </tr>\n",
       "  </tbody>\n",
       "</table>\n",
       "</div>"
      ],
      "text/plain": [
       "   jahr  bier_preis      bip\n",
       "0  1985        3.20   984.41\n",
       "1  1986        3.30  1037.13\n",
       "2  1987        3.37  1065.13\n",
       "3  1988        3.45  1123.29\n",
       "4  1989        3.60  1200.66"
      ]
     },
     "execution_count": 31,
     "metadata": {},
     "output_type": "execute_result"
    }
   ],
   "source": [
    "bip_and_price = data[[\"jahr\", \"bier_preis\", \"bip\"]]\n",
    "bip_and_price.head()"
   ]
  },
  {
   "cell_type": "code",
   "execution_count": 32,
   "metadata": {},
   "outputs": [
    {
     "name": "stderr",
     "output_type": "stream",
     "text": [
      "/var/folders/t5/m580657s5rxblthmnv5y6vfm0000gn/T/ipykernel_9164/4274604214.py:1: SettingWithCopyWarning:\n",
      "\n",
      "\n",
      "A value is trying to be set on a copy of a slice from a DataFrame.\n",
      "Try using .loc[row_indexer,col_indexer] = value instead\n",
      "\n",
      "See the caveats in the documentation: https://pandas.pydata.org/pandas-docs/stable/user_guide/indexing.html#returning-a-view-versus-a-copy\n",
      "\n",
      "/var/folders/t5/m580657s5rxblthmnv5y6vfm0000gn/T/ipykernel_9164/4274604214.py:3: SettingWithCopyWarning:\n",
      "\n",
      "\n",
      "A value is trying to be set on a copy of a slice from a DataFrame.\n",
      "Try using .loc[row_indexer,col_indexer] = value instead\n",
      "\n",
      "See the caveats in the documentation: https://pandas.pydata.org/pandas-docs/stable/user_guide/indexing.html#returning-a-view-versus-a-copy\n",
      "\n"
     ]
    }
   ],
   "source": [
    "bip_and_price[\"bier_preis_scaled\"] = bip_and_price[\"bier_preis\"] / \\\n",
    "    bip_and_price.loc[0, \"bier_preis\"]\n",
    "bip_and_price[\"bip_scaled\"] = bip_and_price[\"bip\"] / \\\n",
    "    bip_and_price.loc[0, \"bip\"]"
   ]
  },
  {
   "cell_type": "code",
   "execution_count": 33,
   "metadata": {},
   "outputs": [
    {
     "data": {
      "application/vnd.plotly.v1+json": {
       "config": {
        "plotlyServerURL": "https://plot.ly"
       },
       "data": [
        {
         "hovertemplate": "variable=bier_preis_scaled<br>jahr=%{x}<br>value=%{y}<extra></extra>",
         "legendgroup": "bier_preis_scaled",
         "line": {
          "color": "#636efa",
          "dash": "solid"
         },
         "marker": {
          "symbol": "circle"
         },
         "mode": "lines",
         "name": "bier_preis_scaled",
         "orientation": "v",
         "showlegend": true,
         "type": "scatter",
         "x": [
          1985,
          1986,
          1987,
          1988,
          1989,
          1990,
          1991,
          1992,
          1993,
          1994,
          1995,
          1996,
          1997,
          1998,
          1999,
          2000,
          2001,
          2002,
          2003,
          2004,
          2005,
          2006,
          2007,
          2008,
          2009,
          2010,
          2011,
          2012,
          2013,
          2014,
          2015,
          2016,
          2017,
          2018,
          2019,
          2022,
          2023
         ],
         "xaxis": "x",
         "y": [
          1,
          1.0312499999999998,
          1.0531249999999999,
          1.078125,
          1.125,
          1.1781249999999999,
          1.3156249999999998,
          1.3812499999999999,
          1.4718749999999998,
          1.5281249999999997,
          1.609375,
          1.6375,
          1.703125,
          1.7499999999999998,
          1.8124999999999998,
          1.9843749999999998,
          2.0218749999999996,
          2.109375,
          2.109375,
          2.1937499999999996,
          2.234375,
          2.3187499999999996,
          2.4531249999999996,
          2.578125,
          2.6656249999999995,
          2.7468749999999997,
          2.8406249999999997,
          2.940625,
          3.0562499999999995,
          3.11875,
          3.2093749999999996,
          3.303125,
          3.3968749999999996,
          3.53125,
          3.6593750000000003,
          4.203124999999999,
          4.4781249999999995
         ],
         "yaxis": "y"
        },
        {
         "hovertemplate": "variable=bip_scaled<br>jahr=%{x}<br>value=%{y}<extra></extra>",
         "legendgroup": "bip_scaled",
         "line": {
          "color": "#EF553B",
          "dash": "solid"
         },
         "marker": {
          "symbol": "circle"
         },
         "mode": "lines",
         "name": "bip_scaled",
         "orientation": "v",
         "showlegend": true,
         "type": "scatter",
         "x": [
          1985,
          1986,
          1987,
          1988,
          1989,
          1990,
          1991,
          1992,
          1993,
          1994,
          1995,
          1996,
          1997,
          1998,
          1999,
          2000,
          2001,
          2002,
          2003,
          2004,
          2005,
          2006,
          2007,
          2008,
          2009,
          2010,
          2011,
          2012,
          2013,
          2014,
          2015,
          2016,
          2017,
          2018,
          2019,
          2022,
          2023
         ],
         "xaxis": "x",
         "y": [
          1,
          1.0535549212218487,
          1.0819983543442266,
          1.1410794282869943,
          1.2196747290255079,
          1.3273737568695971,
          1.6109141516238152,
          1.7290153492955171,
          1.7786186649871498,
          1.858524395323087,
          1.9246147438567263,
          1.9518086975955142,
          1.9922085309982631,
          2.046322162513587,
          2.092095773102671,
          2.142491441574141,
          2.2069462927032437,
          2.2329314005343304,
          2.246594406802044,
          2.2983512967157993,
          2.324549730295304,
          2.422852266840036,
          2.5391351164657006,
          2.5868185004215722,
          2.484462774656901,
          2.6050121392509222,
          2.736217632896862,
          2.7887871923284,
          2.8558730610213225,
          2.973791408051523,
          3.0741053016527666,
          3.1843845552158143,
          3.3189016771467172,
          3.418748285775236,
          3.528265661665363,
          3.9311872085817905,
          null
         ],
         "yaxis": "y"
        }
       ],
       "layout": {
        "legend": {
         "title": {
          "text": "variable"
         },
         "tracegroupgap": 0
        },
        "margin": {
         "t": 60
        },
        "template": {
         "data": {
          "bar": [
           {
            "error_x": {
             "color": "#2a3f5f"
            },
            "error_y": {
             "color": "#2a3f5f"
            },
            "marker": {
             "line": {
              "color": "#E5ECF6",
              "width": 0.5
             },
             "pattern": {
              "fillmode": "overlay",
              "size": 10,
              "solidity": 0.2
             }
            },
            "type": "bar"
           }
          ],
          "barpolar": [
           {
            "marker": {
             "line": {
              "color": "#E5ECF6",
              "width": 0.5
             },
             "pattern": {
              "fillmode": "overlay",
              "size": 10,
              "solidity": 0.2
             }
            },
            "type": "barpolar"
           }
          ],
          "carpet": [
           {
            "aaxis": {
             "endlinecolor": "#2a3f5f",
             "gridcolor": "white",
             "linecolor": "white",
             "minorgridcolor": "white",
             "startlinecolor": "#2a3f5f"
            },
            "baxis": {
             "endlinecolor": "#2a3f5f",
             "gridcolor": "white",
             "linecolor": "white",
             "minorgridcolor": "white",
             "startlinecolor": "#2a3f5f"
            },
            "type": "carpet"
           }
          ],
          "choropleth": [
           {
            "colorbar": {
             "outlinewidth": 0,
             "ticks": ""
            },
            "type": "choropleth"
           }
          ],
          "contour": [
           {
            "colorbar": {
             "outlinewidth": 0,
             "ticks": ""
            },
            "colorscale": [
             [
              0,
              "#0d0887"
             ],
             [
              0.1111111111111111,
              "#46039f"
             ],
             [
              0.2222222222222222,
              "#7201a8"
             ],
             [
              0.3333333333333333,
              "#9c179e"
             ],
             [
              0.4444444444444444,
              "#bd3786"
             ],
             [
              0.5555555555555556,
              "#d8576b"
             ],
             [
              0.6666666666666666,
              "#ed7953"
             ],
             [
              0.7777777777777778,
              "#fb9f3a"
             ],
             [
              0.8888888888888888,
              "#fdca26"
             ],
             [
              1,
              "#f0f921"
             ]
            ],
            "type": "contour"
           }
          ],
          "contourcarpet": [
           {
            "colorbar": {
             "outlinewidth": 0,
             "ticks": ""
            },
            "type": "contourcarpet"
           }
          ],
          "heatmap": [
           {
            "colorbar": {
             "outlinewidth": 0,
             "ticks": ""
            },
            "colorscale": [
             [
              0,
              "#0d0887"
             ],
             [
              0.1111111111111111,
              "#46039f"
             ],
             [
              0.2222222222222222,
              "#7201a8"
             ],
             [
              0.3333333333333333,
              "#9c179e"
             ],
             [
              0.4444444444444444,
              "#bd3786"
             ],
             [
              0.5555555555555556,
              "#d8576b"
             ],
             [
              0.6666666666666666,
              "#ed7953"
             ],
             [
              0.7777777777777778,
              "#fb9f3a"
             ],
             [
              0.8888888888888888,
              "#fdca26"
             ],
             [
              1,
              "#f0f921"
             ]
            ],
            "type": "heatmap"
           }
          ],
          "heatmapgl": [
           {
            "colorbar": {
             "outlinewidth": 0,
             "ticks": ""
            },
            "colorscale": [
             [
              0,
              "#0d0887"
             ],
             [
              0.1111111111111111,
              "#46039f"
             ],
             [
              0.2222222222222222,
              "#7201a8"
             ],
             [
              0.3333333333333333,
              "#9c179e"
             ],
             [
              0.4444444444444444,
              "#bd3786"
             ],
             [
              0.5555555555555556,
              "#d8576b"
             ],
             [
              0.6666666666666666,
              "#ed7953"
             ],
             [
              0.7777777777777778,
              "#fb9f3a"
             ],
             [
              0.8888888888888888,
              "#fdca26"
             ],
             [
              1,
              "#f0f921"
             ]
            ],
            "type": "heatmapgl"
           }
          ],
          "histogram": [
           {
            "marker": {
             "pattern": {
              "fillmode": "overlay",
              "size": 10,
              "solidity": 0.2
             }
            },
            "type": "histogram"
           }
          ],
          "histogram2d": [
           {
            "colorbar": {
             "outlinewidth": 0,
             "ticks": ""
            },
            "colorscale": [
             [
              0,
              "#0d0887"
             ],
             [
              0.1111111111111111,
              "#46039f"
             ],
             [
              0.2222222222222222,
              "#7201a8"
             ],
             [
              0.3333333333333333,
              "#9c179e"
             ],
             [
              0.4444444444444444,
              "#bd3786"
             ],
             [
              0.5555555555555556,
              "#d8576b"
             ],
             [
              0.6666666666666666,
              "#ed7953"
             ],
             [
              0.7777777777777778,
              "#fb9f3a"
             ],
             [
              0.8888888888888888,
              "#fdca26"
             ],
             [
              1,
              "#f0f921"
             ]
            ],
            "type": "histogram2d"
           }
          ],
          "histogram2dcontour": [
           {
            "colorbar": {
             "outlinewidth": 0,
             "ticks": ""
            },
            "colorscale": [
             [
              0,
              "#0d0887"
             ],
             [
              0.1111111111111111,
              "#46039f"
             ],
             [
              0.2222222222222222,
              "#7201a8"
             ],
             [
              0.3333333333333333,
              "#9c179e"
             ],
             [
              0.4444444444444444,
              "#bd3786"
             ],
             [
              0.5555555555555556,
              "#d8576b"
             ],
             [
              0.6666666666666666,
              "#ed7953"
             ],
             [
              0.7777777777777778,
              "#fb9f3a"
             ],
             [
              0.8888888888888888,
              "#fdca26"
             ],
             [
              1,
              "#f0f921"
             ]
            ],
            "type": "histogram2dcontour"
           }
          ],
          "mesh3d": [
           {
            "colorbar": {
             "outlinewidth": 0,
             "ticks": ""
            },
            "type": "mesh3d"
           }
          ],
          "parcoords": [
           {
            "line": {
             "colorbar": {
              "outlinewidth": 0,
              "ticks": ""
             }
            },
            "type": "parcoords"
           }
          ],
          "pie": [
           {
            "automargin": true,
            "type": "pie"
           }
          ],
          "scatter": [
           {
            "fillpattern": {
             "fillmode": "overlay",
             "size": 10,
             "solidity": 0.2
            },
            "type": "scatter"
           }
          ],
          "scatter3d": [
           {
            "line": {
             "colorbar": {
              "outlinewidth": 0,
              "ticks": ""
             }
            },
            "marker": {
             "colorbar": {
              "outlinewidth": 0,
              "ticks": ""
             }
            },
            "type": "scatter3d"
           }
          ],
          "scattercarpet": [
           {
            "marker": {
             "colorbar": {
              "outlinewidth": 0,
              "ticks": ""
             }
            },
            "type": "scattercarpet"
           }
          ],
          "scattergeo": [
           {
            "marker": {
             "colorbar": {
              "outlinewidth": 0,
              "ticks": ""
             }
            },
            "type": "scattergeo"
           }
          ],
          "scattergl": [
           {
            "marker": {
             "colorbar": {
              "outlinewidth": 0,
              "ticks": ""
             }
            },
            "type": "scattergl"
           }
          ],
          "scattermapbox": [
           {
            "marker": {
             "colorbar": {
              "outlinewidth": 0,
              "ticks": ""
             }
            },
            "type": "scattermapbox"
           }
          ],
          "scatterpolar": [
           {
            "marker": {
             "colorbar": {
              "outlinewidth": 0,
              "ticks": ""
             }
            },
            "type": "scatterpolar"
           }
          ],
          "scatterpolargl": [
           {
            "marker": {
             "colorbar": {
              "outlinewidth": 0,
              "ticks": ""
             }
            },
            "type": "scatterpolargl"
           }
          ],
          "scatterternary": [
           {
            "marker": {
             "colorbar": {
              "outlinewidth": 0,
              "ticks": ""
             }
            },
            "type": "scatterternary"
           }
          ],
          "surface": [
           {
            "colorbar": {
             "outlinewidth": 0,
             "ticks": ""
            },
            "colorscale": [
             [
              0,
              "#0d0887"
             ],
             [
              0.1111111111111111,
              "#46039f"
             ],
             [
              0.2222222222222222,
              "#7201a8"
             ],
             [
              0.3333333333333333,
              "#9c179e"
             ],
             [
              0.4444444444444444,
              "#bd3786"
             ],
             [
              0.5555555555555556,
              "#d8576b"
             ],
             [
              0.6666666666666666,
              "#ed7953"
             ],
             [
              0.7777777777777778,
              "#fb9f3a"
             ],
             [
              0.8888888888888888,
              "#fdca26"
             ],
             [
              1,
              "#f0f921"
             ]
            ],
            "type": "surface"
           }
          ],
          "table": [
           {
            "cells": {
             "fill": {
              "color": "#EBF0F8"
             },
             "line": {
              "color": "white"
             }
            },
            "header": {
             "fill": {
              "color": "#C8D4E3"
             },
             "line": {
              "color": "white"
             }
            },
            "type": "table"
           }
          ]
         },
         "layout": {
          "annotationdefaults": {
           "arrowcolor": "#2a3f5f",
           "arrowhead": 0,
           "arrowwidth": 1
          },
          "autotypenumbers": "strict",
          "coloraxis": {
           "colorbar": {
            "outlinewidth": 0,
            "ticks": ""
           }
          },
          "colorscale": {
           "diverging": [
            [
             0,
             "#8e0152"
            ],
            [
             0.1,
             "#c51b7d"
            ],
            [
             0.2,
             "#de77ae"
            ],
            [
             0.3,
             "#f1b6da"
            ],
            [
             0.4,
             "#fde0ef"
            ],
            [
             0.5,
             "#f7f7f7"
            ],
            [
             0.6,
             "#e6f5d0"
            ],
            [
             0.7,
             "#b8e186"
            ],
            [
             0.8,
             "#7fbc41"
            ],
            [
             0.9,
             "#4d9221"
            ],
            [
             1,
             "#276419"
            ]
           ],
           "sequential": [
            [
             0,
             "#0d0887"
            ],
            [
             0.1111111111111111,
             "#46039f"
            ],
            [
             0.2222222222222222,
             "#7201a8"
            ],
            [
             0.3333333333333333,
             "#9c179e"
            ],
            [
             0.4444444444444444,
             "#bd3786"
            ],
            [
             0.5555555555555556,
             "#d8576b"
            ],
            [
             0.6666666666666666,
             "#ed7953"
            ],
            [
             0.7777777777777778,
             "#fb9f3a"
            ],
            [
             0.8888888888888888,
             "#fdca26"
            ],
            [
             1,
             "#f0f921"
            ]
           ],
           "sequentialminus": [
            [
             0,
             "#0d0887"
            ],
            [
             0.1111111111111111,
             "#46039f"
            ],
            [
             0.2222222222222222,
             "#7201a8"
            ],
            [
             0.3333333333333333,
             "#9c179e"
            ],
            [
             0.4444444444444444,
             "#bd3786"
            ],
            [
             0.5555555555555556,
             "#d8576b"
            ],
            [
             0.6666666666666666,
             "#ed7953"
            ],
            [
             0.7777777777777778,
             "#fb9f3a"
            ],
            [
             0.8888888888888888,
             "#fdca26"
            ],
            [
             1,
             "#f0f921"
            ]
           ]
          },
          "colorway": [
           "#636efa",
           "#EF553B",
           "#00cc96",
           "#ab63fa",
           "#FFA15A",
           "#19d3f3",
           "#FF6692",
           "#B6E880",
           "#FF97FF",
           "#FECB52"
          ],
          "font": {
           "color": "#2a3f5f"
          },
          "geo": {
           "bgcolor": "white",
           "lakecolor": "white",
           "landcolor": "#E5ECF6",
           "showlakes": true,
           "showland": true,
           "subunitcolor": "white"
          },
          "hoverlabel": {
           "align": "left"
          },
          "hovermode": "closest",
          "mapbox": {
           "style": "light"
          },
          "paper_bgcolor": "white",
          "plot_bgcolor": "#E5ECF6",
          "polar": {
           "angularaxis": {
            "gridcolor": "white",
            "linecolor": "white",
            "ticks": ""
           },
           "bgcolor": "#E5ECF6",
           "radialaxis": {
            "gridcolor": "white",
            "linecolor": "white",
            "ticks": ""
           }
          },
          "scene": {
           "xaxis": {
            "backgroundcolor": "#E5ECF6",
            "gridcolor": "white",
            "gridwidth": 2,
            "linecolor": "white",
            "showbackground": true,
            "ticks": "",
            "zerolinecolor": "white"
           },
           "yaxis": {
            "backgroundcolor": "#E5ECF6",
            "gridcolor": "white",
            "gridwidth": 2,
            "linecolor": "white",
            "showbackground": true,
            "ticks": "",
            "zerolinecolor": "white"
           },
           "zaxis": {
            "backgroundcolor": "#E5ECF6",
            "gridcolor": "white",
            "gridwidth": 2,
            "linecolor": "white",
            "showbackground": true,
            "ticks": "",
            "zerolinecolor": "white"
           }
          },
          "shapedefaults": {
           "line": {
            "color": "#2a3f5f"
           }
          },
          "ternary": {
           "aaxis": {
            "gridcolor": "white",
            "linecolor": "white",
            "ticks": ""
           },
           "baxis": {
            "gridcolor": "white",
            "linecolor": "white",
            "ticks": ""
           },
           "bgcolor": "#E5ECF6",
           "caxis": {
            "gridcolor": "white",
            "linecolor": "white",
            "ticks": ""
           }
          },
          "title": {
           "x": 0.05
          },
          "xaxis": {
           "automargin": true,
           "gridcolor": "white",
           "linecolor": "white",
           "ticks": "",
           "title": {
            "standoff": 15
           },
           "zerolinecolor": "white",
           "zerolinewidth": 2
          },
          "yaxis": {
           "automargin": true,
           "gridcolor": "white",
           "linecolor": "white",
           "ticks": "",
           "title": {
            "standoff": 15
           },
           "zerolinecolor": "white",
           "zerolinewidth": 2
          }
         }
        },
        "xaxis": {
         "anchor": "y",
         "domain": [
          0,
          1
         ],
         "title": {
          "text": "jahr"
         }
        },
        "yaxis": {
         "anchor": "x",
         "domain": [
          0,
          1
         ],
         "title": {
          "text": "value"
         }
        }
       }
      }
     },
     "metadata": {},
     "output_type": "display_data"
    }
   ],
   "source": [
    "\n",
    "\n",
    "px.line(bip_and_price, \"jahr\", [\"bier_preis_scaled\", \"bip_scaled\"])"
   ]
  },
  {
   "cell_type": "code",
   "execution_count": 34,
   "metadata": {},
   "outputs": [],
   "source": [
    "data[\"bier_konsum_l_tag\"] = data[\"bier_konsum_l\"] / data[\"dauer\"]"
   ]
  },
  {
   "cell_type": "code",
   "execution_count": 35,
   "metadata": {},
   "outputs": [
    {
     "data": {
      "application/vnd.plotly.v1+json": {
       "config": {
        "plotlyServerURL": "https://plot.ly"
       },
       "data": [
        {
         "hovertemplate": "jahr=%{x}<br>bier_konsum_l_tag=%{y}<extra></extra>",
         "legendgroup": "",
         "marker": {
          "color": "#636efa",
          "symbol": "circle"
         },
         "mode": "markers",
         "name": "",
         "orientation": "v",
         "showlegend": false,
         "type": "scatter",
         "x": [
          1985,
          1986,
          1987,
          1988,
          1989,
          1990,
          1991,
          1992,
          1993,
          1994,
          1995,
          1996,
          1997,
          1998,
          1999,
          2000,
          2001,
          2002,
          2003,
          2004,
          2005,
          2006,
          2007,
          2008,
          2009,
          2010,
          2011,
          2012,
          2013,
          2014,
          2015,
          2016,
          2017,
          2018,
          2019,
          2022,
          2023
         ],
         "xaxis": "x",
         "y": [
          340881.25,
          336293.75,
          324012.5,
          318443.75,
          320256.25,
          339375,
          341787.5,
          305550,
          324581.25,
          325675,
          313512.5,
          328887.5,
          349318.75,
          342387.5,
          375337.5,
          358838.8888888889,
          304362.5,
          360087.5,
          389337.5,
          382268.75,
          363364.70588235295,
          381205.55555555556,
          433787.5,
          405762.5,
          415225,
          417647.0588235294,
          466029.4117647059,
          462656.25,
          481443.75,
          480050,
          469587.5,
          389594.1176470588,
          432422.22222222225,
          491906.25,
          490637.5,
          419647.0588235294,
          413433.3333333333
         ],
         "yaxis": "y"
        },
        {
         "hovertemplate": "<b>OLS trendline</b><br>bier_konsum_l_tag = 4488.53 * jahr + -8.60734e+06<br>R<sup>2</sup>=0.712007<br><br>jahr=%{x}<br>bier_konsum_l_tag=%{y} <b>(trend)</b><extra></extra>",
         "legendgroup": "",
         "marker": {
          "color": "#636efa",
          "symbol": "circle"
         },
         "mode": "lines",
         "name": "",
         "showlegend": false,
         "type": "scatter",
         "x": [
          1985,
          1986,
          1987,
          1988,
          1989,
          1990,
          1991,
          1992,
          1993,
          1994,
          1995,
          1996,
          1997,
          1998,
          1999,
          2000,
          2001,
          2002,
          2003,
          2004,
          2005,
          2006,
          2007,
          2008,
          2009,
          2010,
          2011,
          2012,
          2013,
          2014,
          2015,
          2016,
          2017,
          2018,
          2019,
          2022,
          2023
         ],
         "xaxis": "x",
         "y": [
          302386.0185133517,
          306874.5441371538,
          311363.069760954,
          315851.5953847561,
          320340.1210085582,
          324828.64663235843,
          329317.1722561605,
          333805.6978799626,
          338294.22350376286,
          342782.74912756495,
          347271.2747513652,
          351759.8003751673,
          356248.3259989694,
          360736.8516227696,
          365225.3772465717,
          369713.9028703738,
          374202.42849417403,
          378690.9541179761,
          383179.4797417782,
          387668.00536557846,
          392156.53098938055,
          396645.0566131808,
          401133.5822369829,
          405622.107860785,
          410110.6334845852,
          414599.1591083873,
          419087.6847321894,
          423576.21035598963,
          428064.73597979173,
          432553.26160359196,
          437041.78722739406,
          441530.31285119615,
          446018.8384749964,
          450507.3640987985,
          454995.8897226006,
          468461.466594005,
          472949.99221780524
         ],
         "yaxis": "y"
        }
       ],
       "layout": {
        "legend": {
         "tracegroupgap": 0
        },
        "margin": {
         "t": 60
        },
        "template": {
         "data": {
          "bar": [
           {
            "error_x": {
             "color": "#2a3f5f"
            },
            "error_y": {
             "color": "#2a3f5f"
            },
            "marker": {
             "line": {
              "color": "#E5ECF6",
              "width": 0.5
             },
             "pattern": {
              "fillmode": "overlay",
              "size": 10,
              "solidity": 0.2
             }
            },
            "type": "bar"
           }
          ],
          "barpolar": [
           {
            "marker": {
             "line": {
              "color": "#E5ECF6",
              "width": 0.5
             },
             "pattern": {
              "fillmode": "overlay",
              "size": 10,
              "solidity": 0.2
             }
            },
            "type": "barpolar"
           }
          ],
          "carpet": [
           {
            "aaxis": {
             "endlinecolor": "#2a3f5f",
             "gridcolor": "white",
             "linecolor": "white",
             "minorgridcolor": "white",
             "startlinecolor": "#2a3f5f"
            },
            "baxis": {
             "endlinecolor": "#2a3f5f",
             "gridcolor": "white",
             "linecolor": "white",
             "minorgridcolor": "white",
             "startlinecolor": "#2a3f5f"
            },
            "type": "carpet"
           }
          ],
          "choropleth": [
           {
            "colorbar": {
             "outlinewidth": 0,
             "ticks": ""
            },
            "type": "choropleth"
           }
          ],
          "contour": [
           {
            "colorbar": {
             "outlinewidth": 0,
             "ticks": ""
            },
            "colorscale": [
             [
              0,
              "#0d0887"
             ],
             [
              0.1111111111111111,
              "#46039f"
             ],
             [
              0.2222222222222222,
              "#7201a8"
             ],
             [
              0.3333333333333333,
              "#9c179e"
             ],
             [
              0.4444444444444444,
              "#bd3786"
             ],
             [
              0.5555555555555556,
              "#d8576b"
             ],
             [
              0.6666666666666666,
              "#ed7953"
             ],
             [
              0.7777777777777778,
              "#fb9f3a"
             ],
             [
              0.8888888888888888,
              "#fdca26"
             ],
             [
              1,
              "#f0f921"
             ]
            ],
            "type": "contour"
           }
          ],
          "contourcarpet": [
           {
            "colorbar": {
             "outlinewidth": 0,
             "ticks": ""
            },
            "type": "contourcarpet"
           }
          ],
          "heatmap": [
           {
            "colorbar": {
             "outlinewidth": 0,
             "ticks": ""
            },
            "colorscale": [
             [
              0,
              "#0d0887"
             ],
             [
              0.1111111111111111,
              "#46039f"
             ],
             [
              0.2222222222222222,
              "#7201a8"
             ],
             [
              0.3333333333333333,
              "#9c179e"
             ],
             [
              0.4444444444444444,
              "#bd3786"
             ],
             [
              0.5555555555555556,
              "#d8576b"
             ],
             [
              0.6666666666666666,
              "#ed7953"
             ],
             [
              0.7777777777777778,
              "#fb9f3a"
             ],
             [
              0.8888888888888888,
              "#fdca26"
             ],
             [
              1,
              "#f0f921"
             ]
            ],
            "type": "heatmap"
           }
          ],
          "heatmapgl": [
           {
            "colorbar": {
             "outlinewidth": 0,
             "ticks": ""
            },
            "colorscale": [
             [
              0,
              "#0d0887"
             ],
             [
              0.1111111111111111,
              "#46039f"
             ],
             [
              0.2222222222222222,
              "#7201a8"
             ],
             [
              0.3333333333333333,
              "#9c179e"
             ],
             [
              0.4444444444444444,
              "#bd3786"
             ],
             [
              0.5555555555555556,
              "#d8576b"
             ],
             [
              0.6666666666666666,
              "#ed7953"
             ],
             [
              0.7777777777777778,
              "#fb9f3a"
             ],
             [
              0.8888888888888888,
              "#fdca26"
             ],
             [
              1,
              "#f0f921"
             ]
            ],
            "type": "heatmapgl"
           }
          ],
          "histogram": [
           {
            "marker": {
             "pattern": {
              "fillmode": "overlay",
              "size": 10,
              "solidity": 0.2
             }
            },
            "type": "histogram"
           }
          ],
          "histogram2d": [
           {
            "colorbar": {
             "outlinewidth": 0,
             "ticks": ""
            },
            "colorscale": [
             [
              0,
              "#0d0887"
             ],
             [
              0.1111111111111111,
              "#46039f"
             ],
             [
              0.2222222222222222,
              "#7201a8"
             ],
             [
              0.3333333333333333,
              "#9c179e"
             ],
             [
              0.4444444444444444,
              "#bd3786"
             ],
             [
              0.5555555555555556,
              "#d8576b"
             ],
             [
              0.6666666666666666,
              "#ed7953"
             ],
             [
              0.7777777777777778,
              "#fb9f3a"
             ],
             [
              0.8888888888888888,
              "#fdca26"
             ],
             [
              1,
              "#f0f921"
             ]
            ],
            "type": "histogram2d"
           }
          ],
          "histogram2dcontour": [
           {
            "colorbar": {
             "outlinewidth": 0,
             "ticks": ""
            },
            "colorscale": [
             [
              0,
              "#0d0887"
             ],
             [
              0.1111111111111111,
              "#46039f"
             ],
             [
              0.2222222222222222,
              "#7201a8"
             ],
             [
              0.3333333333333333,
              "#9c179e"
             ],
             [
              0.4444444444444444,
              "#bd3786"
             ],
             [
              0.5555555555555556,
              "#d8576b"
             ],
             [
              0.6666666666666666,
              "#ed7953"
             ],
             [
              0.7777777777777778,
              "#fb9f3a"
             ],
             [
              0.8888888888888888,
              "#fdca26"
             ],
             [
              1,
              "#f0f921"
             ]
            ],
            "type": "histogram2dcontour"
           }
          ],
          "mesh3d": [
           {
            "colorbar": {
             "outlinewidth": 0,
             "ticks": ""
            },
            "type": "mesh3d"
           }
          ],
          "parcoords": [
           {
            "line": {
             "colorbar": {
              "outlinewidth": 0,
              "ticks": ""
             }
            },
            "type": "parcoords"
           }
          ],
          "pie": [
           {
            "automargin": true,
            "type": "pie"
           }
          ],
          "scatter": [
           {
            "fillpattern": {
             "fillmode": "overlay",
             "size": 10,
             "solidity": 0.2
            },
            "type": "scatter"
           }
          ],
          "scatter3d": [
           {
            "line": {
             "colorbar": {
              "outlinewidth": 0,
              "ticks": ""
             }
            },
            "marker": {
             "colorbar": {
              "outlinewidth": 0,
              "ticks": ""
             }
            },
            "type": "scatter3d"
           }
          ],
          "scattercarpet": [
           {
            "marker": {
             "colorbar": {
              "outlinewidth": 0,
              "ticks": ""
             }
            },
            "type": "scattercarpet"
           }
          ],
          "scattergeo": [
           {
            "marker": {
             "colorbar": {
              "outlinewidth": 0,
              "ticks": ""
             }
            },
            "type": "scattergeo"
           }
          ],
          "scattergl": [
           {
            "marker": {
             "colorbar": {
              "outlinewidth": 0,
              "ticks": ""
             }
            },
            "type": "scattergl"
           }
          ],
          "scattermapbox": [
           {
            "marker": {
             "colorbar": {
              "outlinewidth": 0,
              "ticks": ""
             }
            },
            "type": "scattermapbox"
           }
          ],
          "scatterpolar": [
           {
            "marker": {
             "colorbar": {
              "outlinewidth": 0,
              "ticks": ""
             }
            },
            "type": "scatterpolar"
           }
          ],
          "scatterpolargl": [
           {
            "marker": {
             "colorbar": {
              "outlinewidth": 0,
              "ticks": ""
             }
            },
            "type": "scatterpolargl"
           }
          ],
          "scatterternary": [
           {
            "marker": {
             "colorbar": {
              "outlinewidth": 0,
              "ticks": ""
             }
            },
            "type": "scatterternary"
           }
          ],
          "surface": [
           {
            "colorbar": {
             "outlinewidth": 0,
             "ticks": ""
            },
            "colorscale": [
             [
              0,
              "#0d0887"
             ],
             [
              0.1111111111111111,
              "#46039f"
             ],
             [
              0.2222222222222222,
              "#7201a8"
             ],
             [
              0.3333333333333333,
              "#9c179e"
             ],
             [
              0.4444444444444444,
              "#bd3786"
             ],
             [
              0.5555555555555556,
              "#d8576b"
             ],
             [
              0.6666666666666666,
              "#ed7953"
             ],
             [
              0.7777777777777778,
              "#fb9f3a"
             ],
             [
              0.8888888888888888,
              "#fdca26"
             ],
             [
              1,
              "#f0f921"
             ]
            ],
            "type": "surface"
           }
          ],
          "table": [
           {
            "cells": {
             "fill": {
              "color": "#EBF0F8"
             },
             "line": {
              "color": "white"
             }
            },
            "header": {
             "fill": {
              "color": "#C8D4E3"
             },
             "line": {
              "color": "white"
             }
            },
            "type": "table"
           }
          ]
         },
         "layout": {
          "annotationdefaults": {
           "arrowcolor": "#2a3f5f",
           "arrowhead": 0,
           "arrowwidth": 1
          },
          "autotypenumbers": "strict",
          "coloraxis": {
           "colorbar": {
            "outlinewidth": 0,
            "ticks": ""
           }
          },
          "colorscale": {
           "diverging": [
            [
             0,
             "#8e0152"
            ],
            [
             0.1,
             "#c51b7d"
            ],
            [
             0.2,
             "#de77ae"
            ],
            [
             0.3,
             "#f1b6da"
            ],
            [
             0.4,
             "#fde0ef"
            ],
            [
             0.5,
             "#f7f7f7"
            ],
            [
             0.6,
             "#e6f5d0"
            ],
            [
             0.7,
             "#b8e186"
            ],
            [
             0.8,
             "#7fbc41"
            ],
            [
             0.9,
             "#4d9221"
            ],
            [
             1,
             "#276419"
            ]
           ],
           "sequential": [
            [
             0,
             "#0d0887"
            ],
            [
             0.1111111111111111,
             "#46039f"
            ],
            [
             0.2222222222222222,
             "#7201a8"
            ],
            [
             0.3333333333333333,
             "#9c179e"
            ],
            [
             0.4444444444444444,
             "#bd3786"
            ],
            [
             0.5555555555555556,
             "#d8576b"
            ],
            [
             0.6666666666666666,
             "#ed7953"
            ],
            [
             0.7777777777777778,
             "#fb9f3a"
            ],
            [
             0.8888888888888888,
             "#fdca26"
            ],
            [
             1,
             "#f0f921"
            ]
           ],
           "sequentialminus": [
            [
             0,
             "#0d0887"
            ],
            [
             0.1111111111111111,
             "#46039f"
            ],
            [
             0.2222222222222222,
             "#7201a8"
            ],
            [
             0.3333333333333333,
             "#9c179e"
            ],
            [
             0.4444444444444444,
             "#bd3786"
            ],
            [
             0.5555555555555556,
             "#d8576b"
            ],
            [
             0.6666666666666666,
             "#ed7953"
            ],
            [
             0.7777777777777778,
             "#fb9f3a"
            ],
            [
             0.8888888888888888,
             "#fdca26"
            ],
            [
             1,
             "#f0f921"
            ]
           ]
          },
          "colorway": [
           "#636efa",
           "#EF553B",
           "#00cc96",
           "#ab63fa",
           "#FFA15A",
           "#19d3f3",
           "#FF6692",
           "#B6E880",
           "#FF97FF",
           "#FECB52"
          ],
          "font": {
           "color": "#2a3f5f"
          },
          "geo": {
           "bgcolor": "white",
           "lakecolor": "white",
           "landcolor": "#E5ECF6",
           "showlakes": true,
           "showland": true,
           "subunitcolor": "white"
          },
          "hoverlabel": {
           "align": "left"
          },
          "hovermode": "closest",
          "mapbox": {
           "style": "light"
          },
          "paper_bgcolor": "white",
          "plot_bgcolor": "#E5ECF6",
          "polar": {
           "angularaxis": {
            "gridcolor": "white",
            "linecolor": "white",
            "ticks": ""
           },
           "bgcolor": "#E5ECF6",
           "radialaxis": {
            "gridcolor": "white",
            "linecolor": "white",
            "ticks": ""
           }
          },
          "scene": {
           "xaxis": {
            "backgroundcolor": "#E5ECF6",
            "gridcolor": "white",
            "gridwidth": 2,
            "linecolor": "white",
            "showbackground": true,
            "ticks": "",
            "zerolinecolor": "white"
           },
           "yaxis": {
            "backgroundcolor": "#E5ECF6",
            "gridcolor": "white",
            "gridwidth": 2,
            "linecolor": "white",
            "showbackground": true,
            "ticks": "",
            "zerolinecolor": "white"
           },
           "zaxis": {
            "backgroundcolor": "#E5ECF6",
            "gridcolor": "white",
            "gridwidth": 2,
            "linecolor": "white",
            "showbackground": true,
            "ticks": "",
            "zerolinecolor": "white"
           }
          },
          "shapedefaults": {
           "line": {
            "color": "#2a3f5f"
           }
          },
          "ternary": {
           "aaxis": {
            "gridcolor": "white",
            "linecolor": "white",
            "ticks": ""
           },
           "baxis": {
            "gridcolor": "white",
            "linecolor": "white",
            "ticks": ""
           },
           "bgcolor": "#E5ECF6",
           "caxis": {
            "gridcolor": "white",
            "linecolor": "white",
            "ticks": ""
           }
          },
          "title": {
           "x": 0.05
          },
          "xaxis": {
           "automargin": true,
           "gridcolor": "white",
           "linecolor": "white",
           "ticks": "",
           "title": {
            "standoff": 15
           },
           "zerolinecolor": "white",
           "zerolinewidth": 2
          },
          "yaxis": {
           "automargin": true,
           "gridcolor": "white",
           "linecolor": "white",
           "ticks": "",
           "title": {
            "standoff": 15
           },
           "zerolinecolor": "white",
           "zerolinewidth": 2
          }
         }
        },
        "xaxis": {
         "anchor": "y",
         "domain": [
          0,
          1
         ],
         "range": [
          2006,
          2023
         ],
         "title": {
          "text": "jahr"
         }
        },
        "yaxis": {
         "anchor": "x",
         "domain": [
          0,
          1
         ],
         "title": {
          "text": "bier_konsum_l_tag"
         }
        }
       }
      }
     },
     "metadata": {},
     "output_type": "display_data"
    }
   ],
   "source": [
    "px.scatter(data, \"jahr\", \"bier_konsum_l_tag\", range_x=(2006, 2023), trendline=\"ols\")"
   ]
  },
  {
   "cell_type": "code",
   "execution_count": 36,
   "metadata": {},
   "outputs": [
    {
     "name": "stderr",
     "output_type": "stream",
     "text": [
      "/var/folders/t5/m580657s5rxblthmnv5y6vfm0000gn/T/ipykernel_9164/3919428467.py:1: FutureWarning:\n",
      "\n",
      "The default fill_method='pad' in DataFrame.pct_change is deprecated and will be removed in a future version. Either fill in any non-leading NA values prior to calling pct_change or specify 'fill_method=None' to not fill NA values.\n",
      "\n"
     ]
    },
    {
     "data": {
      "text/html": [
       "<div>\n",
       "<style scoped>\n",
       "    .dataframe tbody tr th:only-of-type {\n",
       "        vertical-align: middle;\n",
       "    }\n",
       "\n",
       "    .dataframe tbody tr th {\n",
       "        vertical-align: top;\n",
       "    }\n",
       "\n",
       "    .dataframe thead th {\n",
       "        text-align: right;\n",
       "    }\n",
       "</style>\n",
       "<table border=\"1\" class=\"dataframe\">\n",
       "  <thead>\n",
       "    <tr style=\"text-align: right;\">\n",
       "      <th></th>\n",
       "      <th>bier_preis</th>\n",
       "      <th>bip</th>\n",
       "      <th>bier_preis_scaled</th>\n",
       "      <th>bip_scaled</th>\n",
       "    </tr>\n",
       "    <tr>\n",
       "      <th>jahr</th>\n",
       "      <th></th>\n",
       "      <th></th>\n",
       "      <th></th>\n",
       "      <th></th>\n",
       "    </tr>\n",
       "  </thead>\n",
       "  <tbody>\n",
       "    <tr>\n",
       "      <th>1985</th>\n",
       "      <td>NaN</td>\n",
       "      <td>NaN</td>\n",
       "      <td>NaN</td>\n",
       "      <td>NaN</td>\n",
       "    </tr>\n",
       "    <tr>\n",
       "      <th>1986</th>\n",
       "      <td>0.031250</td>\n",
       "      <td>0.053555</td>\n",
       "      <td>0.031250</td>\n",
       "      <td>0.053555</td>\n",
       "    </tr>\n",
       "    <tr>\n",
       "      <th>1987</th>\n",
       "      <td>0.021212</td>\n",
       "      <td>0.026998</td>\n",
       "      <td>0.021212</td>\n",
       "      <td>0.026998</td>\n",
       "    </tr>\n",
       "    <tr>\n",
       "      <th>1988</th>\n",
       "      <td>0.023739</td>\n",
       "      <td>0.054604</td>\n",
       "      <td>0.023739</td>\n",
       "      <td>0.054604</td>\n",
       "    </tr>\n",
       "    <tr>\n",
       "      <th>1989</th>\n",
       "      <td>0.043478</td>\n",
       "      <td>0.068878</td>\n",
       "      <td>0.043478</td>\n",
       "      <td>0.068878</td>\n",
       "    </tr>\n",
       "  </tbody>\n",
       "</table>\n",
       "</div>"
      ],
      "text/plain": [
       "      bier_preis       bip  bier_preis_scaled  bip_scaled\n",
       "jahr                                                     \n",
       "1985         NaN       NaN                NaN         NaN\n",
       "1986    0.031250  0.053555           0.031250    0.053555\n",
       "1987    0.021212  0.026998           0.021212    0.026998\n",
       "1988    0.023739  0.054604           0.023739    0.054604\n",
       "1989    0.043478  0.068878           0.043478    0.068878"
      ]
     },
     "execution_count": 36,
     "metadata": {},
     "output_type": "execute_result"
    }
   ],
   "source": [
    "bip_and_price_diff = bip_and_price.set_index(\"jahr\").pct_change()\n",
    "bip_and_price_diff.head()"
   ]
  },
  {
   "cell_type": "code",
   "execution_count": 37,
   "metadata": {},
   "outputs": [
    {
     "data": {
      "application/vnd.plotly.v1+json": {
       "config": {
        "plotlyServerURL": "https://plot.ly"
       },
       "data": [
        {
         "hovertemplate": "variable=bier_preis_scaled<br>jahr=%{x}<br>value=%{y}<extra></extra>",
         "legendgroup": "bier_preis_scaled",
         "line": {
          "color": "#636efa",
          "dash": "solid"
         },
         "marker": {
          "symbol": "circle"
         },
         "mode": "lines",
         "name": "bier_preis_scaled",
         "orientation": "v",
         "showlegend": true,
         "type": "scatter",
         "x": [
          1985,
          1986,
          1987,
          1988,
          1989,
          1990,
          1991,
          1992,
          1993,
          1994,
          1995,
          1996,
          1997,
          1998,
          1999,
          2000,
          2001,
          2002,
          2003,
          2004,
          2005,
          2006,
          2007,
          2008,
          2009,
          2010,
          2011,
          2012,
          2013,
          2014,
          2015,
          2016,
          2017,
          2018,
          2019,
          2022,
          2023
         ],
         "xaxis": "x",
         "y": [
          null,
          0.031249999999999778,
          0.021212121212121238,
          0.023738872403560984,
          0.04347826086956519,
          0.047222222222222054,
          0.11671087533156488,
          0.04988123515439424,
          0.06561085972850678,
          0.03821656050955413,
          0.05316973415132953,
          0.01747572815533971,
          0.040076335877862634,
          0.02752293577981635,
          0.03571428571428581,
          0.09482758620689657,
          0.018897637795275424,
          0.043276661514683346,
          0,
          0.039999999999999813,
          0.0185185185185186,
          0.03776223776223753,
          0.05795148247978443,
          0.050955414012739064,
          0.033939393939393714,
          0.030480656506447934,
          0.03412969283276457,
          0.035203520352035333,
          0.03931987247608926,
          0.020449897750511425,
          0.029058116232464792,
          0.02921129503407993,
          0.02838221381267725,
          0.03955841766329349,
          0.036283185840708,
          0.14859094790777072,
          0.06542750929368046
         ],
         "yaxis": "y"
        },
        {
         "hovertemplate": "variable=bip_scaled<br>jahr=%{x}<br>value=%{y}<extra></extra>",
         "legendgroup": "bip_scaled",
         "line": {
          "color": "#EF553B",
          "dash": "solid"
         },
         "marker": {
          "symbol": "circle"
         },
         "mode": "lines",
         "name": "bip_scaled",
         "orientation": "v",
         "showlegend": true,
         "type": "scatter",
         "x": [
          1985,
          1986,
          1987,
          1988,
          1989,
          1990,
          1991,
          1992,
          1993,
          1994,
          1995,
          1996,
          1997,
          1998,
          1999,
          2000,
          2001,
          2002,
          2003,
          2004,
          2005,
          2006,
          2007,
          2008,
          2009,
          2010,
          2011,
          2012,
          2013,
          2014,
          2015,
          2016,
          2017,
          2018,
          2019,
          2022,
          2023
         ],
         "xaxis": "x",
         "y": [
          null,
          0.053554921221848684,
          0.026997579859805443,
          0.054603663402589264,
          0.0688780279357959,
          0.08830143421118364,
          0.21361006520341608,
          0.07331315424391471,
          0.028688765378423797,
          0.04492572348919688,
          0.03556065699215649,
          0.01412955700645524,
          0.020698664501556108,
          0.02716263416872744,
          0.022368721517856294,
          0.024088604890554866,
          0.03008406469140712,
          0.011774236607841493,
          0.006118865212090263,
          0.023037932328617172,
          0.01139879426480217,
          0.04228885072389654,
          0.047994197259630944,
          0.01877938028845172,
          -0.039568189939877985,
          0.04852130038884117,
          0.050366557479332164,
          0.019212492017998573,
          0.02405557113768575,
          0.041289771817809795,
          0.033732659704929,
          0.03587360963326702,
          0.04224273783471677,
          0.03008423217718148,
          0.03203434904693281,
          0.1141981884454375,
          0
         ],
         "yaxis": "y"
        }
       ],
       "layout": {
        "legend": {
         "title": {
          "text": "variable"
         },
         "tracegroupgap": 0
        },
        "margin": {
         "t": 60
        },
        "template": {
         "data": {
          "bar": [
           {
            "error_x": {
             "color": "#2a3f5f"
            },
            "error_y": {
             "color": "#2a3f5f"
            },
            "marker": {
             "line": {
              "color": "#E5ECF6",
              "width": 0.5
             },
             "pattern": {
              "fillmode": "overlay",
              "size": 10,
              "solidity": 0.2
             }
            },
            "type": "bar"
           }
          ],
          "barpolar": [
           {
            "marker": {
             "line": {
              "color": "#E5ECF6",
              "width": 0.5
             },
             "pattern": {
              "fillmode": "overlay",
              "size": 10,
              "solidity": 0.2
             }
            },
            "type": "barpolar"
           }
          ],
          "carpet": [
           {
            "aaxis": {
             "endlinecolor": "#2a3f5f",
             "gridcolor": "white",
             "linecolor": "white",
             "minorgridcolor": "white",
             "startlinecolor": "#2a3f5f"
            },
            "baxis": {
             "endlinecolor": "#2a3f5f",
             "gridcolor": "white",
             "linecolor": "white",
             "minorgridcolor": "white",
             "startlinecolor": "#2a3f5f"
            },
            "type": "carpet"
           }
          ],
          "choropleth": [
           {
            "colorbar": {
             "outlinewidth": 0,
             "ticks": ""
            },
            "type": "choropleth"
           }
          ],
          "contour": [
           {
            "colorbar": {
             "outlinewidth": 0,
             "ticks": ""
            },
            "colorscale": [
             [
              0,
              "#0d0887"
             ],
             [
              0.1111111111111111,
              "#46039f"
             ],
             [
              0.2222222222222222,
              "#7201a8"
             ],
             [
              0.3333333333333333,
              "#9c179e"
             ],
             [
              0.4444444444444444,
              "#bd3786"
             ],
             [
              0.5555555555555556,
              "#d8576b"
             ],
             [
              0.6666666666666666,
              "#ed7953"
             ],
             [
              0.7777777777777778,
              "#fb9f3a"
             ],
             [
              0.8888888888888888,
              "#fdca26"
             ],
             [
              1,
              "#f0f921"
             ]
            ],
            "type": "contour"
           }
          ],
          "contourcarpet": [
           {
            "colorbar": {
             "outlinewidth": 0,
             "ticks": ""
            },
            "type": "contourcarpet"
           }
          ],
          "heatmap": [
           {
            "colorbar": {
             "outlinewidth": 0,
             "ticks": ""
            },
            "colorscale": [
             [
              0,
              "#0d0887"
             ],
             [
              0.1111111111111111,
              "#46039f"
             ],
             [
              0.2222222222222222,
              "#7201a8"
             ],
             [
              0.3333333333333333,
              "#9c179e"
             ],
             [
              0.4444444444444444,
              "#bd3786"
             ],
             [
              0.5555555555555556,
              "#d8576b"
             ],
             [
              0.6666666666666666,
              "#ed7953"
             ],
             [
              0.7777777777777778,
              "#fb9f3a"
             ],
             [
              0.8888888888888888,
              "#fdca26"
             ],
             [
              1,
              "#f0f921"
             ]
            ],
            "type": "heatmap"
           }
          ],
          "heatmapgl": [
           {
            "colorbar": {
             "outlinewidth": 0,
             "ticks": ""
            },
            "colorscale": [
             [
              0,
              "#0d0887"
             ],
             [
              0.1111111111111111,
              "#46039f"
             ],
             [
              0.2222222222222222,
              "#7201a8"
             ],
             [
              0.3333333333333333,
              "#9c179e"
             ],
             [
              0.4444444444444444,
              "#bd3786"
             ],
             [
              0.5555555555555556,
              "#d8576b"
             ],
             [
              0.6666666666666666,
              "#ed7953"
             ],
             [
              0.7777777777777778,
              "#fb9f3a"
             ],
             [
              0.8888888888888888,
              "#fdca26"
             ],
             [
              1,
              "#f0f921"
             ]
            ],
            "type": "heatmapgl"
           }
          ],
          "histogram": [
           {
            "marker": {
             "pattern": {
              "fillmode": "overlay",
              "size": 10,
              "solidity": 0.2
             }
            },
            "type": "histogram"
           }
          ],
          "histogram2d": [
           {
            "colorbar": {
             "outlinewidth": 0,
             "ticks": ""
            },
            "colorscale": [
             [
              0,
              "#0d0887"
             ],
             [
              0.1111111111111111,
              "#46039f"
             ],
             [
              0.2222222222222222,
              "#7201a8"
             ],
             [
              0.3333333333333333,
              "#9c179e"
             ],
             [
              0.4444444444444444,
              "#bd3786"
             ],
             [
              0.5555555555555556,
              "#d8576b"
             ],
             [
              0.6666666666666666,
              "#ed7953"
             ],
             [
              0.7777777777777778,
              "#fb9f3a"
             ],
             [
              0.8888888888888888,
              "#fdca26"
             ],
             [
              1,
              "#f0f921"
             ]
            ],
            "type": "histogram2d"
           }
          ],
          "histogram2dcontour": [
           {
            "colorbar": {
             "outlinewidth": 0,
             "ticks": ""
            },
            "colorscale": [
             [
              0,
              "#0d0887"
             ],
             [
              0.1111111111111111,
              "#46039f"
             ],
             [
              0.2222222222222222,
              "#7201a8"
             ],
             [
              0.3333333333333333,
              "#9c179e"
             ],
             [
              0.4444444444444444,
              "#bd3786"
             ],
             [
              0.5555555555555556,
              "#d8576b"
             ],
             [
              0.6666666666666666,
              "#ed7953"
             ],
             [
              0.7777777777777778,
              "#fb9f3a"
             ],
             [
              0.8888888888888888,
              "#fdca26"
             ],
             [
              1,
              "#f0f921"
             ]
            ],
            "type": "histogram2dcontour"
           }
          ],
          "mesh3d": [
           {
            "colorbar": {
             "outlinewidth": 0,
             "ticks": ""
            },
            "type": "mesh3d"
           }
          ],
          "parcoords": [
           {
            "line": {
             "colorbar": {
              "outlinewidth": 0,
              "ticks": ""
             }
            },
            "type": "parcoords"
           }
          ],
          "pie": [
           {
            "automargin": true,
            "type": "pie"
           }
          ],
          "scatter": [
           {
            "fillpattern": {
             "fillmode": "overlay",
             "size": 10,
             "solidity": 0.2
            },
            "type": "scatter"
           }
          ],
          "scatter3d": [
           {
            "line": {
             "colorbar": {
              "outlinewidth": 0,
              "ticks": ""
             }
            },
            "marker": {
             "colorbar": {
              "outlinewidth": 0,
              "ticks": ""
             }
            },
            "type": "scatter3d"
           }
          ],
          "scattercarpet": [
           {
            "marker": {
             "colorbar": {
              "outlinewidth": 0,
              "ticks": ""
             }
            },
            "type": "scattercarpet"
           }
          ],
          "scattergeo": [
           {
            "marker": {
             "colorbar": {
              "outlinewidth": 0,
              "ticks": ""
             }
            },
            "type": "scattergeo"
           }
          ],
          "scattergl": [
           {
            "marker": {
             "colorbar": {
              "outlinewidth": 0,
              "ticks": ""
             }
            },
            "type": "scattergl"
           }
          ],
          "scattermapbox": [
           {
            "marker": {
             "colorbar": {
              "outlinewidth": 0,
              "ticks": ""
             }
            },
            "type": "scattermapbox"
           }
          ],
          "scatterpolar": [
           {
            "marker": {
             "colorbar": {
              "outlinewidth": 0,
              "ticks": ""
             }
            },
            "type": "scatterpolar"
           }
          ],
          "scatterpolargl": [
           {
            "marker": {
             "colorbar": {
              "outlinewidth": 0,
              "ticks": ""
             }
            },
            "type": "scatterpolargl"
           }
          ],
          "scatterternary": [
           {
            "marker": {
             "colorbar": {
              "outlinewidth": 0,
              "ticks": ""
             }
            },
            "type": "scatterternary"
           }
          ],
          "surface": [
           {
            "colorbar": {
             "outlinewidth": 0,
             "ticks": ""
            },
            "colorscale": [
             [
              0,
              "#0d0887"
             ],
             [
              0.1111111111111111,
              "#46039f"
             ],
             [
              0.2222222222222222,
              "#7201a8"
             ],
             [
              0.3333333333333333,
              "#9c179e"
             ],
             [
              0.4444444444444444,
              "#bd3786"
             ],
             [
              0.5555555555555556,
              "#d8576b"
             ],
             [
              0.6666666666666666,
              "#ed7953"
             ],
             [
              0.7777777777777778,
              "#fb9f3a"
             ],
             [
              0.8888888888888888,
              "#fdca26"
             ],
             [
              1,
              "#f0f921"
             ]
            ],
            "type": "surface"
           }
          ],
          "table": [
           {
            "cells": {
             "fill": {
              "color": "#EBF0F8"
             },
             "line": {
              "color": "white"
             }
            },
            "header": {
             "fill": {
              "color": "#C8D4E3"
             },
             "line": {
              "color": "white"
             }
            },
            "type": "table"
           }
          ]
         },
         "layout": {
          "annotationdefaults": {
           "arrowcolor": "#2a3f5f",
           "arrowhead": 0,
           "arrowwidth": 1
          },
          "autotypenumbers": "strict",
          "coloraxis": {
           "colorbar": {
            "outlinewidth": 0,
            "ticks": ""
           }
          },
          "colorscale": {
           "diverging": [
            [
             0,
             "#8e0152"
            ],
            [
             0.1,
             "#c51b7d"
            ],
            [
             0.2,
             "#de77ae"
            ],
            [
             0.3,
             "#f1b6da"
            ],
            [
             0.4,
             "#fde0ef"
            ],
            [
             0.5,
             "#f7f7f7"
            ],
            [
             0.6,
             "#e6f5d0"
            ],
            [
             0.7,
             "#b8e186"
            ],
            [
             0.8,
             "#7fbc41"
            ],
            [
             0.9,
             "#4d9221"
            ],
            [
             1,
             "#276419"
            ]
           ],
           "sequential": [
            [
             0,
             "#0d0887"
            ],
            [
             0.1111111111111111,
             "#46039f"
            ],
            [
             0.2222222222222222,
             "#7201a8"
            ],
            [
             0.3333333333333333,
             "#9c179e"
            ],
            [
             0.4444444444444444,
             "#bd3786"
            ],
            [
             0.5555555555555556,
             "#d8576b"
            ],
            [
             0.6666666666666666,
             "#ed7953"
            ],
            [
             0.7777777777777778,
             "#fb9f3a"
            ],
            [
             0.8888888888888888,
             "#fdca26"
            ],
            [
             1,
             "#f0f921"
            ]
           ],
           "sequentialminus": [
            [
             0,
             "#0d0887"
            ],
            [
             0.1111111111111111,
             "#46039f"
            ],
            [
             0.2222222222222222,
             "#7201a8"
            ],
            [
             0.3333333333333333,
             "#9c179e"
            ],
            [
             0.4444444444444444,
             "#bd3786"
            ],
            [
             0.5555555555555556,
             "#d8576b"
            ],
            [
             0.6666666666666666,
             "#ed7953"
            ],
            [
             0.7777777777777778,
             "#fb9f3a"
            ],
            [
             0.8888888888888888,
             "#fdca26"
            ],
            [
             1,
             "#f0f921"
            ]
           ]
          },
          "colorway": [
           "#636efa",
           "#EF553B",
           "#00cc96",
           "#ab63fa",
           "#FFA15A",
           "#19d3f3",
           "#FF6692",
           "#B6E880",
           "#FF97FF",
           "#FECB52"
          ],
          "font": {
           "color": "#2a3f5f"
          },
          "geo": {
           "bgcolor": "white",
           "lakecolor": "white",
           "landcolor": "#E5ECF6",
           "showlakes": true,
           "showland": true,
           "subunitcolor": "white"
          },
          "hoverlabel": {
           "align": "left"
          },
          "hovermode": "closest",
          "mapbox": {
           "style": "light"
          },
          "paper_bgcolor": "white",
          "plot_bgcolor": "#E5ECF6",
          "polar": {
           "angularaxis": {
            "gridcolor": "white",
            "linecolor": "white",
            "ticks": ""
           },
           "bgcolor": "#E5ECF6",
           "radialaxis": {
            "gridcolor": "white",
            "linecolor": "white",
            "ticks": ""
           }
          },
          "scene": {
           "xaxis": {
            "backgroundcolor": "#E5ECF6",
            "gridcolor": "white",
            "gridwidth": 2,
            "linecolor": "white",
            "showbackground": true,
            "ticks": "",
            "zerolinecolor": "white"
           },
           "yaxis": {
            "backgroundcolor": "#E5ECF6",
            "gridcolor": "white",
            "gridwidth": 2,
            "linecolor": "white",
            "showbackground": true,
            "ticks": "",
            "zerolinecolor": "white"
           },
           "zaxis": {
            "backgroundcolor": "#E5ECF6",
            "gridcolor": "white",
            "gridwidth": 2,
            "linecolor": "white",
            "showbackground": true,
            "ticks": "",
            "zerolinecolor": "white"
           }
          },
          "shapedefaults": {
           "line": {
            "color": "#2a3f5f"
           }
          },
          "ternary": {
           "aaxis": {
            "gridcolor": "white",
            "linecolor": "white",
            "ticks": ""
           },
           "baxis": {
            "gridcolor": "white",
            "linecolor": "white",
            "ticks": ""
           },
           "bgcolor": "#E5ECF6",
           "caxis": {
            "gridcolor": "white",
            "linecolor": "white",
            "ticks": ""
           }
          },
          "title": {
           "x": 0.05
          },
          "xaxis": {
           "automargin": true,
           "gridcolor": "white",
           "linecolor": "white",
           "ticks": "",
           "title": {
            "standoff": 15
           },
           "zerolinecolor": "white",
           "zerolinewidth": 2
          },
          "yaxis": {
           "automargin": true,
           "gridcolor": "white",
           "linecolor": "white",
           "ticks": "",
           "title": {
            "standoff": 15
           },
           "zerolinecolor": "white",
           "zerolinewidth": 2
          }
         }
        },
        "xaxis": {
         "anchor": "y",
         "domain": [
          0,
          1
         ],
         "title": {
          "text": "jahr"
         }
        },
        "yaxis": {
         "anchor": "x",
         "domain": [
          0,
          1
         ],
         "title": {
          "text": "value"
         }
        }
       }
      }
     },
     "metadata": {},
     "output_type": "display_data"
    }
   ],
   "source": [
    "# Wir schauen uns lieber die Veränderung der Preise je Jahr an\n",
    "\n",
    "\n",
    "px.line(bip_and_price_diff,  y=[\"bier_preis_scaled\", \"bip_scaled\"])"
   ]
  },
  {
   "cell_type": "code",
   "execution_count": 38,
   "metadata": {},
   "outputs": [
    {
     "data": {
      "application/vnd.plotly.v1+json": {
       "config": {
        "plotlyServerURL": "https://plot.ly"
       },
       "data": [
        {
         "hovertemplate": "variable=0<br>jahr=%{x}<br>value=%{y}<extra></extra>",
         "legendgroup": "0",
         "line": {
          "color": "#636efa",
          "dash": "solid"
         },
         "marker": {
          "symbol": "circle"
         },
         "mode": "lines",
         "name": "0",
         "orientation": "v",
         "showlegend": true,
         "type": "scatter",
         "x": [
          1985,
          1986,
          1987,
          1988,
          1989,
          1990,
          1991,
          1992,
          1993,
          1994,
          1995,
          1996,
          1997,
          1998,
          1999,
          2000,
          2001,
          2002,
          2003,
          2004,
          2005,
          2006,
          2007,
          2008,
          2009,
          2010,
          2011,
          2012,
          2013,
          2014,
          2015,
          2016,
          2017,
          2018,
          2019,
          2022,
          2023
         ],
         "xaxis": "x",
         "y": [
          null,
          -0.022304921221848906,
          -0.005785458647684205,
          -0.03086479099902828,
          -0.025399767066230705,
          -0.041079211988961584,
          -0.0968991898718512,
          -0.02343191908952047,
          0.03692209435008298,
          -0.0067091629796427465,
          0.017609077159173037,
          0.003346171148884469,
          0.019377671376306527,
          0.000360301611088909,
          0.013345564196429516,
          0.07073898131634171,
          -0.011186426896131696,
          0.03150242490684185,
          -0.006118865212090263,
          0.01696206767138264,
          0.007119724253716431,
          -0.004526612961659016,
          0.009957285220153489,
          0.032176033724287345,
          0.0735075838792717,
          -0.018040643882393237,
          -0.016236864646567595,
          0.01599102833403676,
          0.015264301338403508,
          -0.02083987406729837,
          -0.00467454347246421,
          -0.006662314599187091,
          -0.013860524022039522,
          0.009474185486112008,
          0.00424883679377519,
          0.03439275946233322,
          0.06542750929368046
         ],
         "yaxis": "y"
        }
       ],
       "layout": {
        "legend": {
         "title": {
          "text": "variable"
         },
         "tracegroupgap": 0
        },
        "margin": {
         "t": 60
        },
        "template": {
         "data": {
          "bar": [
           {
            "error_x": {
             "color": "#2a3f5f"
            },
            "error_y": {
             "color": "#2a3f5f"
            },
            "marker": {
             "line": {
              "color": "#E5ECF6",
              "width": 0.5
             },
             "pattern": {
              "fillmode": "overlay",
              "size": 10,
              "solidity": 0.2
             }
            },
            "type": "bar"
           }
          ],
          "barpolar": [
           {
            "marker": {
             "line": {
              "color": "#E5ECF6",
              "width": 0.5
             },
             "pattern": {
              "fillmode": "overlay",
              "size": 10,
              "solidity": 0.2
             }
            },
            "type": "barpolar"
           }
          ],
          "carpet": [
           {
            "aaxis": {
             "endlinecolor": "#2a3f5f",
             "gridcolor": "white",
             "linecolor": "white",
             "minorgridcolor": "white",
             "startlinecolor": "#2a3f5f"
            },
            "baxis": {
             "endlinecolor": "#2a3f5f",
             "gridcolor": "white",
             "linecolor": "white",
             "minorgridcolor": "white",
             "startlinecolor": "#2a3f5f"
            },
            "type": "carpet"
           }
          ],
          "choropleth": [
           {
            "colorbar": {
             "outlinewidth": 0,
             "ticks": ""
            },
            "type": "choropleth"
           }
          ],
          "contour": [
           {
            "colorbar": {
             "outlinewidth": 0,
             "ticks": ""
            },
            "colorscale": [
             [
              0,
              "#0d0887"
             ],
             [
              0.1111111111111111,
              "#46039f"
             ],
             [
              0.2222222222222222,
              "#7201a8"
             ],
             [
              0.3333333333333333,
              "#9c179e"
             ],
             [
              0.4444444444444444,
              "#bd3786"
             ],
             [
              0.5555555555555556,
              "#d8576b"
             ],
             [
              0.6666666666666666,
              "#ed7953"
             ],
             [
              0.7777777777777778,
              "#fb9f3a"
             ],
             [
              0.8888888888888888,
              "#fdca26"
             ],
             [
              1,
              "#f0f921"
             ]
            ],
            "type": "contour"
           }
          ],
          "contourcarpet": [
           {
            "colorbar": {
             "outlinewidth": 0,
             "ticks": ""
            },
            "type": "contourcarpet"
           }
          ],
          "heatmap": [
           {
            "colorbar": {
             "outlinewidth": 0,
             "ticks": ""
            },
            "colorscale": [
             [
              0,
              "#0d0887"
             ],
             [
              0.1111111111111111,
              "#46039f"
             ],
             [
              0.2222222222222222,
              "#7201a8"
             ],
             [
              0.3333333333333333,
              "#9c179e"
             ],
             [
              0.4444444444444444,
              "#bd3786"
             ],
             [
              0.5555555555555556,
              "#d8576b"
             ],
             [
              0.6666666666666666,
              "#ed7953"
             ],
             [
              0.7777777777777778,
              "#fb9f3a"
             ],
             [
              0.8888888888888888,
              "#fdca26"
             ],
             [
              1,
              "#f0f921"
             ]
            ],
            "type": "heatmap"
           }
          ],
          "heatmapgl": [
           {
            "colorbar": {
             "outlinewidth": 0,
             "ticks": ""
            },
            "colorscale": [
             [
              0,
              "#0d0887"
             ],
             [
              0.1111111111111111,
              "#46039f"
             ],
             [
              0.2222222222222222,
              "#7201a8"
             ],
             [
              0.3333333333333333,
              "#9c179e"
             ],
             [
              0.4444444444444444,
              "#bd3786"
             ],
             [
              0.5555555555555556,
              "#d8576b"
             ],
             [
              0.6666666666666666,
              "#ed7953"
             ],
             [
              0.7777777777777778,
              "#fb9f3a"
             ],
             [
              0.8888888888888888,
              "#fdca26"
             ],
             [
              1,
              "#f0f921"
             ]
            ],
            "type": "heatmapgl"
           }
          ],
          "histogram": [
           {
            "marker": {
             "pattern": {
              "fillmode": "overlay",
              "size": 10,
              "solidity": 0.2
             }
            },
            "type": "histogram"
           }
          ],
          "histogram2d": [
           {
            "colorbar": {
             "outlinewidth": 0,
             "ticks": ""
            },
            "colorscale": [
             [
              0,
              "#0d0887"
             ],
             [
              0.1111111111111111,
              "#46039f"
             ],
             [
              0.2222222222222222,
              "#7201a8"
             ],
             [
              0.3333333333333333,
              "#9c179e"
             ],
             [
              0.4444444444444444,
              "#bd3786"
             ],
             [
              0.5555555555555556,
              "#d8576b"
             ],
             [
              0.6666666666666666,
              "#ed7953"
             ],
             [
              0.7777777777777778,
              "#fb9f3a"
             ],
             [
              0.8888888888888888,
              "#fdca26"
             ],
             [
              1,
              "#f0f921"
             ]
            ],
            "type": "histogram2d"
           }
          ],
          "histogram2dcontour": [
           {
            "colorbar": {
             "outlinewidth": 0,
             "ticks": ""
            },
            "colorscale": [
             [
              0,
              "#0d0887"
             ],
             [
              0.1111111111111111,
              "#46039f"
             ],
             [
              0.2222222222222222,
              "#7201a8"
             ],
             [
              0.3333333333333333,
              "#9c179e"
             ],
             [
              0.4444444444444444,
              "#bd3786"
             ],
             [
              0.5555555555555556,
              "#d8576b"
             ],
             [
              0.6666666666666666,
              "#ed7953"
             ],
             [
              0.7777777777777778,
              "#fb9f3a"
             ],
             [
              0.8888888888888888,
              "#fdca26"
             ],
             [
              1,
              "#f0f921"
             ]
            ],
            "type": "histogram2dcontour"
           }
          ],
          "mesh3d": [
           {
            "colorbar": {
             "outlinewidth": 0,
             "ticks": ""
            },
            "type": "mesh3d"
           }
          ],
          "parcoords": [
           {
            "line": {
             "colorbar": {
              "outlinewidth": 0,
              "ticks": ""
             }
            },
            "type": "parcoords"
           }
          ],
          "pie": [
           {
            "automargin": true,
            "type": "pie"
           }
          ],
          "scatter": [
           {
            "fillpattern": {
             "fillmode": "overlay",
             "size": 10,
             "solidity": 0.2
            },
            "type": "scatter"
           }
          ],
          "scatter3d": [
           {
            "line": {
             "colorbar": {
              "outlinewidth": 0,
              "ticks": ""
             }
            },
            "marker": {
             "colorbar": {
              "outlinewidth": 0,
              "ticks": ""
             }
            },
            "type": "scatter3d"
           }
          ],
          "scattercarpet": [
           {
            "marker": {
             "colorbar": {
              "outlinewidth": 0,
              "ticks": ""
             }
            },
            "type": "scattercarpet"
           }
          ],
          "scattergeo": [
           {
            "marker": {
             "colorbar": {
              "outlinewidth": 0,
              "ticks": ""
             }
            },
            "type": "scattergeo"
           }
          ],
          "scattergl": [
           {
            "marker": {
             "colorbar": {
              "outlinewidth": 0,
              "ticks": ""
             }
            },
            "type": "scattergl"
           }
          ],
          "scattermapbox": [
           {
            "marker": {
             "colorbar": {
              "outlinewidth": 0,
              "ticks": ""
             }
            },
            "type": "scattermapbox"
           }
          ],
          "scatterpolar": [
           {
            "marker": {
             "colorbar": {
              "outlinewidth": 0,
              "ticks": ""
             }
            },
            "type": "scatterpolar"
           }
          ],
          "scatterpolargl": [
           {
            "marker": {
             "colorbar": {
              "outlinewidth": 0,
              "ticks": ""
             }
            },
            "type": "scatterpolargl"
           }
          ],
          "scatterternary": [
           {
            "marker": {
             "colorbar": {
              "outlinewidth": 0,
              "ticks": ""
             }
            },
            "type": "scatterternary"
           }
          ],
          "surface": [
           {
            "colorbar": {
             "outlinewidth": 0,
             "ticks": ""
            },
            "colorscale": [
             [
              0,
              "#0d0887"
             ],
             [
              0.1111111111111111,
              "#46039f"
             ],
             [
              0.2222222222222222,
              "#7201a8"
             ],
             [
              0.3333333333333333,
              "#9c179e"
             ],
             [
              0.4444444444444444,
              "#bd3786"
             ],
             [
              0.5555555555555556,
              "#d8576b"
             ],
             [
              0.6666666666666666,
              "#ed7953"
             ],
             [
              0.7777777777777778,
              "#fb9f3a"
             ],
             [
              0.8888888888888888,
              "#fdca26"
             ],
             [
              1,
              "#f0f921"
             ]
            ],
            "type": "surface"
           }
          ],
          "table": [
           {
            "cells": {
             "fill": {
              "color": "#EBF0F8"
             },
             "line": {
              "color": "white"
             }
            },
            "header": {
             "fill": {
              "color": "#C8D4E3"
             },
             "line": {
              "color": "white"
             }
            },
            "type": "table"
           }
          ]
         },
         "layout": {
          "annotationdefaults": {
           "arrowcolor": "#2a3f5f",
           "arrowhead": 0,
           "arrowwidth": 1
          },
          "autotypenumbers": "strict",
          "coloraxis": {
           "colorbar": {
            "outlinewidth": 0,
            "ticks": ""
           }
          },
          "colorscale": {
           "diverging": [
            [
             0,
             "#8e0152"
            ],
            [
             0.1,
             "#c51b7d"
            ],
            [
             0.2,
             "#de77ae"
            ],
            [
             0.3,
             "#f1b6da"
            ],
            [
             0.4,
             "#fde0ef"
            ],
            [
             0.5,
             "#f7f7f7"
            ],
            [
             0.6,
             "#e6f5d0"
            ],
            [
             0.7,
             "#b8e186"
            ],
            [
             0.8,
             "#7fbc41"
            ],
            [
             0.9,
             "#4d9221"
            ],
            [
             1,
             "#276419"
            ]
           ],
           "sequential": [
            [
             0,
             "#0d0887"
            ],
            [
             0.1111111111111111,
             "#46039f"
            ],
            [
             0.2222222222222222,
             "#7201a8"
            ],
            [
             0.3333333333333333,
             "#9c179e"
            ],
            [
             0.4444444444444444,
             "#bd3786"
            ],
            [
             0.5555555555555556,
             "#d8576b"
            ],
            [
             0.6666666666666666,
             "#ed7953"
            ],
            [
             0.7777777777777778,
             "#fb9f3a"
            ],
            [
             0.8888888888888888,
             "#fdca26"
            ],
            [
             1,
             "#f0f921"
            ]
           ],
           "sequentialminus": [
            [
             0,
             "#0d0887"
            ],
            [
             0.1111111111111111,
             "#46039f"
            ],
            [
             0.2222222222222222,
             "#7201a8"
            ],
            [
             0.3333333333333333,
             "#9c179e"
            ],
            [
             0.4444444444444444,
             "#bd3786"
            ],
            [
             0.5555555555555556,
             "#d8576b"
            ],
            [
             0.6666666666666666,
             "#ed7953"
            ],
            [
             0.7777777777777778,
             "#fb9f3a"
            ],
            [
             0.8888888888888888,
             "#fdca26"
            ],
            [
             1,
             "#f0f921"
            ]
           ]
          },
          "colorway": [
           "#636efa",
           "#EF553B",
           "#00cc96",
           "#ab63fa",
           "#FFA15A",
           "#19d3f3",
           "#FF6692",
           "#B6E880",
           "#FF97FF",
           "#FECB52"
          ],
          "font": {
           "color": "#2a3f5f"
          },
          "geo": {
           "bgcolor": "white",
           "lakecolor": "white",
           "landcolor": "#E5ECF6",
           "showlakes": true,
           "showland": true,
           "subunitcolor": "white"
          },
          "hoverlabel": {
           "align": "left"
          },
          "hovermode": "closest",
          "mapbox": {
           "style": "light"
          },
          "paper_bgcolor": "white",
          "plot_bgcolor": "#E5ECF6",
          "polar": {
           "angularaxis": {
            "gridcolor": "white",
            "linecolor": "white",
            "ticks": ""
           },
           "bgcolor": "#E5ECF6",
           "radialaxis": {
            "gridcolor": "white",
            "linecolor": "white",
            "ticks": ""
           }
          },
          "scene": {
           "xaxis": {
            "backgroundcolor": "#E5ECF6",
            "gridcolor": "white",
            "gridwidth": 2,
            "linecolor": "white",
            "showbackground": true,
            "ticks": "",
            "zerolinecolor": "white"
           },
           "yaxis": {
            "backgroundcolor": "#E5ECF6",
            "gridcolor": "white",
            "gridwidth": 2,
            "linecolor": "white",
            "showbackground": true,
            "ticks": "",
            "zerolinecolor": "white"
           },
           "zaxis": {
            "backgroundcolor": "#E5ECF6",
            "gridcolor": "white",
            "gridwidth": 2,
            "linecolor": "white",
            "showbackground": true,
            "ticks": "",
            "zerolinecolor": "white"
           }
          },
          "shapedefaults": {
           "line": {
            "color": "#2a3f5f"
           }
          },
          "ternary": {
           "aaxis": {
            "gridcolor": "white",
            "linecolor": "white",
            "ticks": ""
           },
           "baxis": {
            "gridcolor": "white",
            "linecolor": "white",
            "ticks": ""
           },
           "bgcolor": "#E5ECF6",
           "caxis": {
            "gridcolor": "white",
            "linecolor": "white",
            "ticks": ""
           }
          },
          "title": {
           "x": 0.05
          },
          "xaxis": {
           "automargin": true,
           "gridcolor": "white",
           "linecolor": "white",
           "ticks": "",
           "title": {
            "standoff": 15
           },
           "zerolinecolor": "white",
           "zerolinewidth": 2
          },
          "yaxis": {
           "automargin": true,
           "gridcolor": "white",
           "linecolor": "white",
           "ticks": "",
           "title": {
            "standoff": 15
           },
           "zerolinecolor": "white",
           "zerolinewidth": 2
          }
         }
        },
        "xaxis": {
         "anchor": "y",
         "domain": [
          0,
          1
         ],
         "title": {
          "text": "jahr"
         }
        },
        "yaxis": {
         "anchor": "x",
         "domain": [
          0,
          1
         ],
         "title": {
          "text": "value"
         }
        }
       }
      }
     },
     "metadata": {},
     "output_type": "display_data"
    }
   ],
   "source": [
    "px.line(bip_and_price_diff[\"bier_preis_scaled\"] - bip_and_price_diff[\"bip_scaled\"])"
   ]
  },
  {
   "cell_type": "code",
   "execution_count": 39,
   "metadata": {},
   "outputs": [
    {
     "data": {
      "application/vnd.plotly.v1+json": {
       "config": {
        "plotlyServerURL": "https://plot.ly"
       },
       "data": [
        {
         "alignmentgroup": "True",
         "hovertemplate": "jahr=%{x}<br>bier_konsum_l_tag=%{y}<extra></extra>",
         "legendgroup": "",
         "marker": {
          "color": "#636efa",
          "pattern": {
           "shape": ""
          }
         },
         "name": "",
         "offsetgroup": "",
         "orientation": "v",
         "showlegend": false,
         "textposition": "auto",
         "type": "bar",
         "x": [
          1985,
          1986,
          1987,
          1988,
          1989,
          1990,
          1991,
          1992,
          1993,
          1994,
          1995,
          1996,
          1997,
          1998,
          1999,
          2000,
          2001,
          2002,
          2003,
          2004,
          2005,
          2006,
          2007,
          2008,
          2009,
          2010,
          2011,
          2012,
          2013,
          2014,
          2015,
          2016,
          2017,
          2018,
          2019,
          2022,
          2023
         ],
         "xaxis": "x",
         "y": [
          340881.25,
          336293.75,
          324012.5,
          318443.75,
          320256.25,
          339375,
          341787.5,
          305550,
          324581.25,
          325675,
          313512.5,
          328887.5,
          349318.75,
          342387.5,
          375337.5,
          358838.8888888889,
          304362.5,
          360087.5,
          389337.5,
          382268.75,
          363364.70588235295,
          381205.55555555556,
          433787.5,
          405762.5,
          415225,
          417647.0588235294,
          466029.4117647059,
          462656.25,
          481443.75,
          480050,
          469587.5,
          389594.1176470588,
          432422.22222222225,
          491906.25,
          490637.5,
          419647.0588235294,
          413433.3333333333
         ],
         "yaxis": "y"
        }
       ],
       "layout": {
        "barmode": "relative",
        "legend": {
         "tracegroupgap": 0
        },
        "margin": {
         "t": 60
        },
        "template": {
         "data": {
          "bar": [
           {
            "error_x": {
             "color": "#2a3f5f"
            },
            "error_y": {
             "color": "#2a3f5f"
            },
            "marker": {
             "line": {
              "color": "#E5ECF6",
              "width": 0.5
             },
             "pattern": {
              "fillmode": "overlay",
              "size": 10,
              "solidity": 0.2
             }
            },
            "type": "bar"
           }
          ],
          "barpolar": [
           {
            "marker": {
             "line": {
              "color": "#E5ECF6",
              "width": 0.5
             },
             "pattern": {
              "fillmode": "overlay",
              "size": 10,
              "solidity": 0.2
             }
            },
            "type": "barpolar"
           }
          ],
          "carpet": [
           {
            "aaxis": {
             "endlinecolor": "#2a3f5f",
             "gridcolor": "white",
             "linecolor": "white",
             "minorgridcolor": "white",
             "startlinecolor": "#2a3f5f"
            },
            "baxis": {
             "endlinecolor": "#2a3f5f",
             "gridcolor": "white",
             "linecolor": "white",
             "minorgridcolor": "white",
             "startlinecolor": "#2a3f5f"
            },
            "type": "carpet"
           }
          ],
          "choropleth": [
           {
            "colorbar": {
             "outlinewidth": 0,
             "ticks": ""
            },
            "type": "choropleth"
           }
          ],
          "contour": [
           {
            "colorbar": {
             "outlinewidth": 0,
             "ticks": ""
            },
            "colorscale": [
             [
              0,
              "#0d0887"
             ],
             [
              0.1111111111111111,
              "#46039f"
             ],
             [
              0.2222222222222222,
              "#7201a8"
             ],
             [
              0.3333333333333333,
              "#9c179e"
             ],
             [
              0.4444444444444444,
              "#bd3786"
             ],
             [
              0.5555555555555556,
              "#d8576b"
             ],
             [
              0.6666666666666666,
              "#ed7953"
             ],
             [
              0.7777777777777778,
              "#fb9f3a"
             ],
             [
              0.8888888888888888,
              "#fdca26"
             ],
             [
              1,
              "#f0f921"
             ]
            ],
            "type": "contour"
           }
          ],
          "contourcarpet": [
           {
            "colorbar": {
             "outlinewidth": 0,
             "ticks": ""
            },
            "type": "contourcarpet"
           }
          ],
          "heatmap": [
           {
            "colorbar": {
             "outlinewidth": 0,
             "ticks": ""
            },
            "colorscale": [
             [
              0,
              "#0d0887"
             ],
             [
              0.1111111111111111,
              "#46039f"
             ],
             [
              0.2222222222222222,
              "#7201a8"
             ],
             [
              0.3333333333333333,
              "#9c179e"
             ],
             [
              0.4444444444444444,
              "#bd3786"
             ],
             [
              0.5555555555555556,
              "#d8576b"
             ],
             [
              0.6666666666666666,
              "#ed7953"
             ],
             [
              0.7777777777777778,
              "#fb9f3a"
             ],
             [
              0.8888888888888888,
              "#fdca26"
             ],
             [
              1,
              "#f0f921"
             ]
            ],
            "type": "heatmap"
           }
          ],
          "heatmapgl": [
           {
            "colorbar": {
             "outlinewidth": 0,
             "ticks": ""
            },
            "colorscale": [
             [
              0,
              "#0d0887"
             ],
             [
              0.1111111111111111,
              "#46039f"
             ],
             [
              0.2222222222222222,
              "#7201a8"
             ],
             [
              0.3333333333333333,
              "#9c179e"
             ],
             [
              0.4444444444444444,
              "#bd3786"
             ],
             [
              0.5555555555555556,
              "#d8576b"
             ],
             [
              0.6666666666666666,
              "#ed7953"
             ],
             [
              0.7777777777777778,
              "#fb9f3a"
             ],
             [
              0.8888888888888888,
              "#fdca26"
             ],
             [
              1,
              "#f0f921"
             ]
            ],
            "type": "heatmapgl"
           }
          ],
          "histogram": [
           {
            "marker": {
             "pattern": {
              "fillmode": "overlay",
              "size": 10,
              "solidity": 0.2
             }
            },
            "type": "histogram"
           }
          ],
          "histogram2d": [
           {
            "colorbar": {
             "outlinewidth": 0,
             "ticks": ""
            },
            "colorscale": [
             [
              0,
              "#0d0887"
             ],
             [
              0.1111111111111111,
              "#46039f"
             ],
             [
              0.2222222222222222,
              "#7201a8"
             ],
             [
              0.3333333333333333,
              "#9c179e"
             ],
             [
              0.4444444444444444,
              "#bd3786"
             ],
             [
              0.5555555555555556,
              "#d8576b"
             ],
             [
              0.6666666666666666,
              "#ed7953"
             ],
             [
              0.7777777777777778,
              "#fb9f3a"
             ],
             [
              0.8888888888888888,
              "#fdca26"
             ],
             [
              1,
              "#f0f921"
             ]
            ],
            "type": "histogram2d"
           }
          ],
          "histogram2dcontour": [
           {
            "colorbar": {
             "outlinewidth": 0,
             "ticks": ""
            },
            "colorscale": [
             [
              0,
              "#0d0887"
             ],
             [
              0.1111111111111111,
              "#46039f"
             ],
             [
              0.2222222222222222,
              "#7201a8"
             ],
             [
              0.3333333333333333,
              "#9c179e"
             ],
             [
              0.4444444444444444,
              "#bd3786"
             ],
             [
              0.5555555555555556,
              "#d8576b"
             ],
             [
              0.6666666666666666,
              "#ed7953"
             ],
             [
              0.7777777777777778,
              "#fb9f3a"
             ],
             [
              0.8888888888888888,
              "#fdca26"
             ],
             [
              1,
              "#f0f921"
             ]
            ],
            "type": "histogram2dcontour"
           }
          ],
          "mesh3d": [
           {
            "colorbar": {
             "outlinewidth": 0,
             "ticks": ""
            },
            "type": "mesh3d"
           }
          ],
          "parcoords": [
           {
            "line": {
             "colorbar": {
              "outlinewidth": 0,
              "ticks": ""
             }
            },
            "type": "parcoords"
           }
          ],
          "pie": [
           {
            "automargin": true,
            "type": "pie"
           }
          ],
          "scatter": [
           {
            "fillpattern": {
             "fillmode": "overlay",
             "size": 10,
             "solidity": 0.2
            },
            "type": "scatter"
           }
          ],
          "scatter3d": [
           {
            "line": {
             "colorbar": {
              "outlinewidth": 0,
              "ticks": ""
             }
            },
            "marker": {
             "colorbar": {
              "outlinewidth": 0,
              "ticks": ""
             }
            },
            "type": "scatter3d"
           }
          ],
          "scattercarpet": [
           {
            "marker": {
             "colorbar": {
              "outlinewidth": 0,
              "ticks": ""
             }
            },
            "type": "scattercarpet"
           }
          ],
          "scattergeo": [
           {
            "marker": {
             "colorbar": {
              "outlinewidth": 0,
              "ticks": ""
             }
            },
            "type": "scattergeo"
           }
          ],
          "scattergl": [
           {
            "marker": {
             "colorbar": {
              "outlinewidth": 0,
              "ticks": ""
             }
            },
            "type": "scattergl"
           }
          ],
          "scattermapbox": [
           {
            "marker": {
             "colorbar": {
              "outlinewidth": 0,
              "ticks": ""
             }
            },
            "type": "scattermapbox"
           }
          ],
          "scatterpolar": [
           {
            "marker": {
             "colorbar": {
              "outlinewidth": 0,
              "ticks": ""
             }
            },
            "type": "scatterpolar"
           }
          ],
          "scatterpolargl": [
           {
            "marker": {
             "colorbar": {
              "outlinewidth": 0,
              "ticks": ""
             }
            },
            "type": "scatterpolargl"
           }
          ],
          "scatterternary": [
           {
            "marker": {
             "colorbar": {
              "outlinewidth": 0,
              "ticks": ""
             }
            },
            "type": "scatterternary"
           }
          ],
          "surface": [
           {
            "colorbar": {
             "outlinewidth": 0,
             "ticks": ""
            },
            "colorscale": [
             [
              0,
              "#0d0887"
             ],
             [
              0.1111111111111111,
              "#46039f"
             ],
             [
              0.2222222222222222,
              "#7201a8"
             ],
             [
              0.3333333333333333,
              "#9c179e"
             ],
             [
              0.4444444444444444,
              "#bd3786"
             ],
             [
              0.5555555555555556,
              "#d8576b"
             ],
             [
              0.6666666666666666,
              "#ed7953"
             ],
             [
              0.7777777777777778,
              "#fb9f3a"
             ],
             [
              0.8888888888888888,
              "#fdca26"
             ],
             [
              1,
              "#f0f921"
             ]
            ],
            "type": "surface"
           }
          ],
          "table": [
           {
            "cells": {
             "fill": {
              "color": "#EBF0F8"
             },
             "line": {
              "color": "white"
             }
            },
            "header": {
             "fill": {
              "color": "#C8D4E3"
             },
             "line": {
              "color": "white"
             }
            },
            "type": "table"
           }
          ]
         },
         "layout": {
          "annotationdefaults": {
           "arrowcolor": "#2a3f5f",
           "arrowhead": 0,
           "arrowwidth": 1
          },
          "autotypenumbers": "strict",
          "coloraxis": {
           "colorbar": {
            "outlinewidth": 0,
            "ticks": ""
           }
          },
          "colorscale": {
           "diverging": [
            [
             0,
             "#8e0152"
            ],
            [
             0.1,
             "#c51b7d"
            ],
            [
             0.2,
             "#de77ae"
            ],
            [
             0.3,
             "#f1b6da"
            ],
            [
             0.4,
             "#fde0ef"
            ],
            [
             0.5,
             "#f7f7f7"
            ],
            [
             0.6,
             "#e6f5d0"
            ],
            [
             0.7,
             "#b8e186"
            ],
            [
             0.8,
             "#7fbc41"
            ],
            [
             0.9,
             "#4d9221"
            ],
            [
             1,
             "#276419"
            ]
           ],
           "sequential": [
            [
             0,
             "#0d0887"
            ],
            [
             0.1111111111111111,
             "#46039f"
            ],
            [
             0.2222222222222222,
             "#7201a8"
            ],
            [
             0.3333333333333333,
             "#9c179e"
            ],
            [
             0.4444444444444444,
             "#bd3786"
            ],
            [
             0.5555555555555556,
             "#d8576b"
            ],
            [
             0.6666666666666666,
             "#ed7953"
            ],
            [
             0.7777777777777778,
             "#fb9f3a"
            ],
            [
             0.8888888888888888,
             "#fdca26"
            ],
            [
             1,
             "#f0f921"
            ]
           ],
           "sequentialminus": [
            [
             0,
             "#0d0887"
            ],
            [
             0.1111111111111111,
             "#46039f"
            ],
            [
             0.2222222222222222,
             "#7201a8"
            ],
            [
             0.3333333333333333,
             "#9c179e"
            ],
            [
             0.4444444444444444,
             "#bd3786"
            ],
            [
             0.5555555555555556,
             "#d8576b"
            ],
            [
             0.6666666666666666,
             "#ed7953"
            ],
            [
             0.7777777777777778,
             "#fb9f3a"
            ],
            [
             0.8888888888888888,
             "#fdca26"
            ],
            [
             1,
             "#f0f921"
            ]
           ]
          },
          "colorway": [
           "#636efa",
           "#EF553B",
           "#00cc96",
           "#ab63fa",
           "#FFA15A",
           "#19d3f3",
           "#FF6692",
           "#B6E880",
           "#FF97FF",
           "#FECB52"
          ],
          "font": {
           "color": "#2a3f5f"
          },
          "geo": {
           "bgcolor": "white",
           "lakecolor": "white",
           "landcolor": "#E5ECF6",
           "showlakes": true,
           "showland": true,
           "subunitcolor": "white"
          },
          "hoverlabel": {
           "align": "left"
          },
          "hovermode": "closest",
          "mapbox": {
           "style": "light"
          },
          "paper_bgcolor": "white",
          "plot_bgcolor": "#E5ECF6",
          "polar": {
           "angularaxis": {
            "gridcolor": "white",
            "linecolor": "white",
            "ticks": ""
           },
           "bgcolor": "#E5ECF6",
           "radialaxis": {
            "gridcolor": "white",
            "linecolor": "white",
            "ticks": ""
           }
          },
          "scene": {
           "xaxis": {
            "backgroundcolor": "#E5ECF6",
            "gridcolor": "white",
            "gridwidth": 2,
            "linecolor": "white",
            "showbackground": true,
            "ticks": "",
            "zerolinecolor": "white"
           },
           "yaxis": {
            "backgroundcolor": "#E5ECF6",
            "gridcolor": "white",
            "gridwidth": 2,
            "linecolor": "white",
            "showbackground": true,
            "ticks": "",
            "zerolinecolor": "white"
           },
           "zaxis": {
            "backgroundcolor": "#E5ECF6",
            "gridcolor": "white",
            "gridwidth": 2,
            "linecolor": "white",
            "showbackground": true,
            "ticks": "",
            "zerolinecolor": "white"
           }
          },
          "shapedefaults": {
           "line": {
            "color": "#2a3f5f"
           }
          },
          "ternary": {
           "aaxis": {
            "gridcolor": "white",
            "linecolor": "white",
            "ticks": ""
           },
           "baxis": {
            "gridcolor": "white",
            "linecolor": "white",
            "ticks": ""
           },
           "bgcolor": "#E5ECF6",
           "caxis": {
            "gridcolor": "white",
            "linecolor": "white",
            "ticks": ""
           }
          },
          "title": {
           "x": 0.05
          },
          "xaxis": {
           "automargin": true,
           "gridcolor": "white",
           "linecolor": "white",
           "ticks": "",
           "title": {
            "standoff": 15
           },
           "zerolinecolor": "white",
           "zerolinewidth": 2
          },
          "yaxis": {
           "automargin": true,
           "gridcolor": "white",
           "linecolor": "white",
           "ticks": "",
           "title": {
            "standoff": 15
           },
           "zerolinecolor": "white",
           "zerolinewidth": 2
          }
         }
        },
        "xaxis": {
         "anchor": "y",
         "domain": [
          0,
          1
         ],
         "title": {
          "text": "jahr"
         }
        },
        "yaxis": {
         "anchor": "x",
         "domain": [
          0,
          1
         ],
         "title": {
          "text": "bier_konsum_l_tag"
         }
        }
       }
      }
     },
     "metadata": {},
     "output_type": "display_data"
    }
   ],
   "source": [
    "px.bar(data, \"jahr\", \"bier_konsum_l_tag\")"
   ]
  },
  {
   "cell_type": "code",
   "execution_count": null,
   "metadata": {},
   "outputs": [
    {
     "data": {
      "text/plain": []
     },
     "execution_count": 40,
     "metadata": {},
     "output_type": "execute_result"
    },
    {
     "name": "stderr",
     "output_type": "stream",
     "text": [
      "2024-11-14 10:01:53,430 - INFO     - Executing shutdown due to inactivity...\n",
      "2024-11-14 10:01:53,582 - INFO     - Executing shutdown...\n",
      "2024-11-14 10:01:53,583 - INFO     - Not running with the Werkzeug Server, exiting by searching gc for BaseWSGIServer\n"
     ]
    }
   ],
   "source": [
    "import dtale\n",
    "\n",
    "dtale.show(data, open_browser=True)"
   ]
  }
 ],
 "metadata": {
  "kernelspec": {
   "display_name": "venv",
   "language": "python",
   "name": "python3"
  },
  "language_info": {
   "codemirror_mode": {
    "name": "ipython",
    "version": 3
   },
   "file_extension": ".py",
   "mimetype": "text/x-python",
   "name": "python",
   "nbconvert_exporter": "python",
   "pygments_lexer": "ipython3",
   "version": "3.11.10"
  }
 },
 "nbformat": 4,
 "nbformat_minor": 2
}
