{
 "cells": [
  {
   "cell_type": "code",
   "execution_count": 1,
   "metadata": {},
   "outputs": [],
   "source": [
    "import pandas as pd\n",
    "import seaborn as sns"
   ]
  },
  {
   "cell_type": "code",
   "execution_count": 2,
   "metadata": {},
   "outputs": [
    {
     "data": {
      "text/html": [
       "<div>\n",
       "<style scoped>\n",
       "    .dataframe tbody tr th:only-of-type {\n",
       "        vertical-align: middle;\n",
       "    }\n",
       "\n",
       "    .dataframe tbody tr th {\n",
       "        vertical-align: top;\n",
       "    }\n",
       "\n",
       "    .dataframe thead th {\n",
       "        text-align: right;\n",
       "    }\n",
       "</style>\n",
       "<table border=\"1\" class=\"dataframe\">\n",
       "  <thead>\n",
       "    <tr style=\"text-align: right;\">\n",
       "      <th></th>\n",
       "      <th>Author</th>\n",
       "      <th>Year</th>\n",
       "      <th>User Rating</th>\n",
       "      <th>Reviews</th>\n",
       "      <th>Name</th>\n",
       "      <th>Price</th>\n",
       "      <th>Genre</th>\n",
       "    </tr>\n",
       "  </thead>\n",
       "  <tbody>\n",
       "    <tr>\n",
       "      <th>0</th>\n",
       "      <td>Abraham Verghese</td>\n",
       "      <td>2010</td>\n",
       "      <td>4.6</td>\n",
       "      <td>4866</td>\n",
       "      <td>Cutting for Stone</td>\n",
       "      <td>11.0</td>\n",
       "      <td>Fiction</td>\n",
       "    </tr>\n",
       "    <tr>\n",
       "      <th>1</th>\n",
       "      <td>Abraham Verghese</td>\n",
       "      <td>2011</td>\n",
       "      <td>4.6</td>\n",
       "      <td>4866</td>\n",
       "      <td>Cutting for Stone</td>\n",
       "      <td>11.0</td>\n",
       "      <td>Fiction</td>\n",
       "    </tr>\n",
       "    <tr>\n",
       "      <th>2</th>\n",
       "      <td>Adam Gasiewski</td>\n",
       "      <td>2017</td>\n",
       "      <td>4.4</td>\n",
       "      <td>3113</td>\n",
       "      <td>Milk and Vine: Inspirational Quotes From Class...</td>\n",
       "      <td>6.0</td>\n",
       "      <td>Non Fiction</td>\n",
       "    </tr>\n",
       "    <tr>\n",
       "      <th>3</th>\n",
       "      <td>Adam Mansbach</td>\n",
       "      <td>2011</td>\n",
       "      <td>4.8</td>\n",
       "      <td>9568</td>\n",
       "      <td>Go the F**k to Sleep</td>\n",
       "      <td>9.0</td>\n",
       "      <td>Fiction</td>\n",
       "    </tr>\n",
       "    <tr>\n",
       "      <th>4</th>\n",
       "      <td>Adir Levy</td>\n",
       "      <td>2019</td>\n",
       "      <td>4.8</td>\n",
       "      <td>8170</td>\n",
       "      <td>What Should Danny Do? (The Power to Choose Ser...</td>\n",
       "      <td>13.0</td>\n",
       "      <td>Fiction</td>\n",
       "    </tr>\n",
       "  </tbody>\n",
       "</table>\n",
       "</div>"
      ],
      "text/plain": [
       "             Author  Year  User Rating  Reviews  \\\n",
       "0  Abraham Verghese  2010          4.6     4866   \n",
       "1  Abraham Verghese  2011          4.6     4866   \n",
       "2    Adam Gasiewski  2017          4.4     3113   \n",
       "3     Adam Mansbach  2011          4.8     9568   \n",
       "4         Adir Levy  2019          4.8     8170   \n",
       "\n",
       "                                                Name  Price        Genre  \n",
       "0                                  Cutting for Stone   11.0      Fiction  \n",
       "1                                  Cutting for Stone   11.0      Fiction  \n",
       "2  Milk and Vine: Inspirational Quotes From Class...    6.0  Non Fiction  \n",
       "3                               Go the F**k to Sleep    9.0      Fiction  \n",
       "4  What Should Danny Do? (The Power to Choose Ser...   13.0      Fiction  "
      ]
     },
     "execution_count": 2,
     "metadata": {},
     "output_type": "execute_result"
    }
   ],
   "source": [
    "df = pd.read_csv(\"../data/cleaned_data.csv\", index_col=0)\n",
    "df.head()"
   ]
  },
  {
   "cell_type": "code",
   "execution_count": 3,
   "metadata": {},
   "outputs": [
    {
     "data": {
      "text/plain": [
       "<Axes: xlabel='Price', ylabel='Count'>"
      ]
     },
     "execution_count": 3,
     "metadata": {},
     "output_type": "execute_result"
    },
    {
     "data": {
      "image/png": "[encoded data removed]",
      "text/plain": [
       "<Figure size 640x480 with 1 Axes>"
      ]
     },
     "metadata": {},
     "output_type": "display_data"
    }
   ],
   "source": [
    "# Wie sind eigentlich die Preise verteilt\n",
    "\n",
    "sns.histplot(df, x=\"Price\")"
   ]
  },
  {
   "cell_type": "code",
   "execution_count": null,
   "metadata": {},
   "outputs": [],
   "source": [
    "# Wie sind die Autoren verteilt?\n",
    "# Welche Autoren tauchen am häufigsten auf?\n",
    "# Wie haben sich die Buchpreise über die Jahre entwickelt?\n",
    "# Welche Bücher tauchen am häufigsten auf?\n",
    "# Welches Genre ist beliebter? War das schon immer so?\n",
    "# Wie sid die Reviews verteilt?\n",
    "# Gibt es einen Zusammenhang zwischen Anzahl an Reviews und der Häufigkeit der Bücher in den Top 50\n",
    "# Wie sind die User Ratings verteilt?\n",
    "# Gibt es einen Zusammenhang zwischen Preis und Anzahl der Reviews?\n",
    "# Gibt es einen Zusammenhang zwischen User Rating und Reviews"
   ]
  }
 ],
 "metadata": {
  "kernelspec": {
   "display_name": "venv",
   "language": "python",
   "name": "python3"
  },
  "language_info": {
   "codemirror_mode": {
    "name": "ipython",
    "version": 3
   },
   "file_extension": ".py",
   "mimetype": "text/x-python",
   "name": "python",
   "nbconvert_exporter": "python",
   "pygments_lexer": "ipython3",
   "version": "3.11.10"
  }
 },
 "nbformat": 4,
 "nbformat_minor": 2
}
