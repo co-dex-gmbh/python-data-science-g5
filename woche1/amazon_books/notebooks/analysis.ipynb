{
 "cells": [
  {
   "cell_type": "code",
   "execution_count": 5,
   "metadata": {},
   "outputs": [],
   "source": [
    "import pandas as pd\n",
    "import seaborn as sns"
   ]
  },
  {
   "cell_type": "code",
   "execution_count": 4,
   "metadata": {},
   "outputs": [
    {
     "data": {
      "text/html": [
       "<div>\n",
       "<style scoped>\n",
       "    .dataframe tbody tr th:only-of-type {\n",
       "        vertical-align: middle;\n",
       "    }\n",
       "\n",
       "    .dataframe tbody tr th {\n",
       "        vertical-align: top;\n",
       "    }\n",
       "\n",
       "    .dataframe thead th {\n",
       "        text-align: right;\n",
       "    }\n",
       "</style>\n",
       "<table border=\"1\" class=\"dataframe\">\n",
       "  <thead>\n",
       "    <tr style=\"text-align: right;\">\n",
       "      <th></th>\n",
       "      <th>Author</th>\n",
       "      <th>Year</th>\n",
       "      <th>User Rating</th>\n",
       "      <th>Reviews</th>\n",
       "      <th>Name</th>\n",
       "      <th>Price</th>\n",
       "      <th>Genre</th>\n",
       "    </tr>\n",
       "  </thead>\n",
       "  <tbody>\n",
       "    <tr>\n",
       "      <th>0</th>\n",
       "      <td>Abraham Verghese</td>\n",
       "      <td>2010</td>\n",
       "      <td>4.6</td>\n",
       "      <td>4866</td>\n",
       "      <td>Cutting for Stone</td>\n",
       "      <td>11.0</td>\n",
       "      <td>Fiction</td>\n",
       "    </tr>\n",
       "    <tr>\n",
       "      <th>1</th>\n",
       "      <td>Abraham Verghese</td>\n",
       "      <td>2011</td>\n",
       "      <td>4.6</td>\n",
       "      <td>4866</td>\n",
       "      <td>Cutting for Stone</td>\n",
       "      <td>11.0</td>\n",
       "      <td>Fiction</td>\n",
       "    </tr>\n",
       "    <tr>\n",
       "      <th>2</th>\n",
       "      <td>Adam Gasiewski</td>\n",
       "      <td>2017</td>\n",
       "      <td>4.4</td>\n",
       "      <td>3113</td>\n",
       "      <td>Milk and Vine: Inspirational Quotes From Class...</td>\n",
       "      <td>6.0</td>\n",
       "      <td>Non Fiction</td>\n",
       "    </tr>\n",
       "    <tr>\n",
       "      <th>3</th>\n",
       "      <td>Adam Mansbach</td>\n",
       "      <td>2011</td>\n",
       "      <td>4.8</td>\n",
       "      <td>9568</td>\n",
       "      <td>Go the F**k to Sleep</td>\n",
       "      <td>9.0</td>\n",
       "      <td>Fiction</td>\n",
       "    </tr>\n",
       "    <tr>\n",
       "      <th>4</th>\n",
       "      <td>Adir Levy</td>\n",
       "      <td>2019</td>\n",
       "      <td>4.8</td>\n",
       "      <td>8170</td>\n",
       "      <td>What Should Danny Do? (The Power to Choose Ser...</td>\n",
       "      <td>13.0</td>\n",
       "      <td>Fiction</td>\n",
       "    </tr>\n",
       "  </tbody>\n",
       "</table>\n",
       "</div>"
      ],
      "text/plain": [
       "             Author  Year  User Rating  Reviews  \\\n",
       "0  Abraham Verghese  2010          4.6     4866   \n",
       "1  Abraham Verghese  2011          4.6     4866   \n",
       "2    Adam Gasiewski  2017          4.4     3113   \n",
       "3     Adam Mansbach  2011          4.8     9568   \n",
       "4         Adir Levy  2019          4.8     8170   \n",
       "\n",
       "                                                Name  Price        Genre  \n",
       "0                                  Cutting for Stone   11.0      Fiction  \n",
       "1                                  Cutting for Stone   11.0      Fiction  \n",
       "2  Milk and Vine: Inspirational Quotes From Class...    6.0  Non Fiction  \n",
       "3                               Go the F**k to Sleep    9.0      Fiction  \n",
       "4  What Should Danny Do? (The Power to Choose Ser...   13.0      Fiction  "
      ]
     },
     "execution_count": 4,
     "metadata": {},
     "output_type": "execute_result"
    }
   ],
   "source": [
    "df = pd.read_csv(\"../data/cleaned_data.csv\", index_col=0)\n",
    "df.head()"
   ]
  },
  {
   "cell_type": "code",
   "execution_count": 6,
   "metadata": {},
   "outputs": [
    {
     "data": {
      "text/plain": [
       "<Axes: xlabel='Price', ylabel='Count'>"
      ]
     },
     "execution_count": 6,
     "metadata": {},
     "output_type": "execute_result"
    },
    {
     "data": {
      "image/png": "[encoded data removed]",
      "text/plain": [
       "<Figure size 640x480 with 1 Axes>"
      ]
     },
     "metadata": {},
     "output_type": "display_data"
    }
   ],
   "source": [
    "# Wie sind eigentlich die Preise verteilt\n",
    "\n",
    "sns.histplot(df, x=\"Price\")"
   ]
  },
  {
   "cell_type": "code",
   "execution_count": null,
   "metadata": {},
   "outputs": [
    {
     "data": {
      "text/html": [
       "<div>\n",
       "<style scoped>\n",
       "    .dataframe tbody tr th:only-of-type {\n",
       "        vertical-align: middle;\n",
       "    }\n",
       "\n",
       "    .dataframe tbody tr th {\n",
       "        vertical-align: top;\n",
       "    }\n",
       "\n",
       "    .dataframe thead th {\n",
       "        text-align: right;\n",
       "    }\n",
       "</style>\n",
       "<table border=\"1\" class=\"dataframe\">\n",
       "  <thead>\n",
       "    <tr style=\"text-align: right;\">\n",
       "      <th></th>\n",
       "      <th>Year</th>\n",
       "      <th>User Rating</th>\n",
       "      <th>Reviews</th>\n",
       "      <th>Price</th>\n",
       "    </tr>\n",
       "  </thead>\n",
       "  <tbody>\n",
       "    <tr>\n",
       "      <th>count</th>\n",
       "      <td>546.000000</td>\n",
       "      <td>546.000000</td>\n",
       "      <td>546.000000</td>\n",
       "      <td>546.000000</td>\n",
       "    </tr>\n",
       "    <tr>\n",
       "      <th>mean</th>\n",
       "      <td>2014.014652</td>\n",
       "      <td>4.617399</td>\n",
       "      <td>11858.560440</td>\n",
       "      <td>13.114469</td>\n",
       "    </tr>\n",
       "    <tr>\n",
       "      <th>std</th>\n",
       "      <td>3.166882</td>\n",
       "      <td>0.227490</td>\n",
       "      <td>11629.168907</td>\n",
       "      <td>10.871273</td>\n",
       "    </tr>\n",
       "    <tr>\n",
       "      <th>min</th>\n",
       "      <td>2009.000000</td>\n",
       "      <td>3.300000</td>\n",
       "      <td>37.000000</td>\n",
       "      <td>0.000000</td>\n",
       "    </tr>\n",
       "    <tr>\n",
       "      <th>25%</th>\n",
       "      <td>2011.000000</td>\n",
       "      <td>4.500000</td>\n",
       "      <td>4023.500000</td>\n",
       "      <td>7.000000</td>\n",
       "    </tr>\n",
       "    <tr>\n",
       "      <th>50%</th>\n",
       "      <td>2014.000000</td>\n",
       "      <td>4.700000</td>\n",
       "      <td>8535.500000</td>\n",
       "      <td>11.000000</td>\n",
       "    </tr>\n",
       "    <tr>\n",
       "      <th>75%</th>\n",
       "      <td>2017.000000</td>\n",
       "      <td>4.800000</td>\n",
       "      <td>17030.500000</td>\n",
       "      <td>16.000000</td>\n",
       "    </tr>\n",
       "    <tr>\n",
       "      <th>max</th>\n",
       "      <td>2019.000000</td>\n",
       "      <td>4.900000</td>\n",
       "      <td>87841.000000</td>\n",
       "      <td>105.000000</td>\n",
       "    </tr>\n",
       "  </tbody>\n",
       "</table>\n",
       "</div>"
      ],
      "text/plain": [
       "              Year  User Rating       Reviews       Price\n",
       "count   546.000000   546.000000    546.000000  546.000000\n",
       "mean   2014.014652     4.617399  11858.560440   13.114469\n",
       "std       3.166882     0.227490  11629.168907   10.871273\n",
       "min    2009.000000     3.300000     37.000000    0.000000\n",
       "25%    2011.000000     4.500000   4023.500000    7.000000\n",
       "50%    2014.000000     4.700000   8535.500000   11.000000\n",
       "75%    2017.000000     4.800000  17030.500000   16.000000\n",
       "max    2019.000000     4.900000  87841.000000  105.000000"
      ]
     },
     "execution_count": 7,
     "metadata": {},
     "output_type": "execute_result"
    }
   ],
   "source": []
  }
 ],
 "metadata": {
  "kernelspec": {
   "display_name": "venv",
   "language": "python",
   "name": "python3"
  },
  "language_info": {
   "codemirror_mode": {
    "name": "ipython",
    "version": 3
   },
   "file_extension": ".py",
   "mimetype": "text/x-python",
   "name": "python",
   "nbconvert_exporter": "python",
   "pygments_lexer": "ipython3",
   "version": "3.11.10"
  }
 },
 "nbformat": 4,
 "nbformat_minor": 2
}
