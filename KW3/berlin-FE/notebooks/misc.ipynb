{
 "cells": [
  {
   "cell_type": "code",
   "execution_count": 5,
   "metadata": {},
   "outputs": [],
   "source": [
    "import pandas as pd\n",
    "import seaborn as sns"
   ]
  },
  {
   "cell_type": "code",
   "execution_count": 2,
   "metadata": {},
   "outputs": [
    {
     "data": {
      "text/html": [
       "<div>\n",
       "<style scoped>\n",
       "    .dataframe tbody tr th:only-of-type {\n",
       "        vertical-align: middle;\n",
       "    }\n",
       "\n",
       "    .dataframe tbody tr th {\n",
       "        vertical-align: top;\n",
       "    }\n",
       "\n",
       "    .dataframe thead th {\n",
       "        text-align: right;\n",
       "    }\n",
       "</style>\n",
       "<table border=\"1\" class=\"dataframe\">\n",
       "  <thead>\n",
       "    <tr style=\"text-align: right;\">\n",
       "      <th></th>\n",
       "      <th>calls_received_day</th>\n",
       "      <th>call_count</th>\n",
       "      <th>answer_time_mean</th>\n",
       "      <th>answer_time_median</th>\n",
       "      <th>answer_time_std</th>\n",
       "      <th>call_count_not_answered</th>\n",
       "      <th>call_count_112</th>\n",
       "      <th>answer_time_mean_112</th>\n",
       "      <th>answer_time_median_112</th>\n",
       "      <th>answer_time_std_112</th>\n",
       "      <th>call_count_112_not_answered</th>\n",
       "    </tr>\n",
       "  </thead>\n",
       "  <tbody>\n",
       "    <tr>\n",
       "      <th>0</th>\n",
       "      <td>2024-01-01</td>\n",
       "      <td>3958</td>\n",
       "      <td>42.62</td>\n",
       "      <td>16.03</td>\n",
       "      <td>57.07</td>\n",
       "      <td>2151</td>\n",
       "      <td>3710</td>\n",
       "      <td>44.13</td>\n",
       "      <td>17.16</td>\n",
       "      <td>57.66</td>\n",
       "      <td>2129</td>\n",
       "    </tr>\n",
       "    <tr>\n",
       "      <th>1</th>\n",
       "      <td>2024-01-02</td>\n",
       "      <td>2705</td>\n",
       "      <td>11.20</td>\n",
       "      <td>4.50</td>\n",
       "      <td>17.61</td>\n",
       "      <td>562</td>\n",
       "      <td>2509</td>\n",
       "      <td>11.11</td>\n",
       "      <td>4.36</td>\n",
       "      <td>17.65</td>\n",
       "      <td>537</td>\n",
       "    </tr>\n",
       "    <tr>\n",
       "      <th>2</th>\n",
       "      <td>2024-01-03</td>\n",
       "      <td>2457</td>\n",
       "      <td>25.27</td>\n",
       "      <td>9.43</td>\n",
       "      <td>35.46</td>\n",
       "      <td>822</td>\n",
       "      <td>2266</td>\n",
       "      <td>25.81</td>\n",
       "      <td>9.33</td>\n",
       "      <td>35.93</td>\n",
       "      <td>803</td>\n",
       "    </tr>\n",
       "    <tr>\n",
       "      <th>3</th>\n",
       "      <td>2024-01-04</td>\n",
       "      <td>2369</td>\n",
       "      <td>18.32</td>\n",
       "      <td>9.10</td>\n",
       "      <td>23.09</td>\n",
       "      <td>749</td>\n",
       "      <td>2174</td>\n",
       "      <td>18.22</td>\n",
       "      <td>9.09</td>\n",
       "      <td>22.59</td>\n",
       "      <td>738</td>\n",
       "    </tr>\n",
       "    <tr>\n",
       "      <th>4</th>\n",
       "      <td>2024-01-05</td>\n",
       "      <td>2397</td>\n",
       "      <td>22.09</td>\n",
       "      <td>12.21</td>\n",
       "      <td>25.95</td>\n",
       "      <td>788</td>\n",
       "      <td>2189</td>\n",
       "      <td>21.61</td>\n",
       "      <td>11.88</td>\n",
       "      <td>25.08</td>\n",
       "      <td>773</td>\n",
       "    </tr>\n",
       "  </tbody>\n",
       "</table>\n",
       "</div>"
      ],
      "text/plain": [
       "  calls_received_day  call_count  answer_time_mean  answer_time_median  \\\n",
       "0         2024-01-01        3958             42.62               16.03   \n",
       "1         2024-01-02        2705             11.20                4.50   \n",
       "2         2024-01-03        2457             25.27                9.43   \n",
       "3         2024-01-04        2369             18.32                9.10   \n",
       "4         2024-01-05        2397             22.09               12.21   \n",
       "\n",
       "   answer_time_std  call_count_not_answered  call_count_112  \\\n",
       "0            57.07                     2151            3710   \n",
       "1            17.61                      562            2509   \n",
       "2            35.46                      822            2266   \n",
       "3            23.09                      749            2174   \n",
       "4            25.95                      788            2189   \n",
       "\n",
       "   answer_time_mean_112  answer_time_median_112  answer_time_std_112  \\\n",
       "0                 44.13                   17.16                57.66   \n",
       "1                 11.11                    4.36                17.65   \n",
       "2                 25.81                    9.33                35.93   \n",
       "3                 18.22                    9.09                22.59   \n",
       "4                 21.61                   11.88                25.08   \n",
       "\n",
       "   call_count_112_not_answered  \n",
       "0                         2129  \n",
       "1                          537  \n",
       "2                          803  \n",
       "3                          738  \n",
       "4                          773  "
      ]
     },
     "execution_count": 2,
     "metadata": {},
     "output_type": "execute_result"
    }
   ],
   "source": [
    "df = pd.read_csv(\"../data/BFw_call_data_daily.csv\")\n",
    "df.head()"
   ]
  },
  {
   "cell_type": "code",
   "execution_count": 3,
   "metadata": {},
   "outputs": [
    {
     "name": "stdout",
     "output_type": "stream",
     "text": [
      "<class 'pandas.core.frame.DataFrame'>\n",
      "RangeIndex: 366 entries, 0 to 365\n",
      "Data columns (total 11 columns):\n",
      " #   Column                       Non-Null Count  Dtype  \n",
      "---  ------                       --------------  -----  \n",
      " 0   calls_received_day           366 non-null    object \n",
      " 1   call_count                   366 non-null    int64  \n",
      " 2   answer_time_mean             366 non-null    float64\n",
      " 3   answer_time_median           366 non-null    float64\n",
      " 4   answer_time_std              366 non-null    float64\n",
      " 5   call_count_not_answered      366 non-null    int64  \n",
      " 6   call_count_112               366 non-null    int64  \n",
      " 7   answer_time_mean_112         366 non-null    float64\n",
      " 8   answer_time_median_112       366 non-null    float64\n",
      " 9   answer_time_std_112          366 non-null    float64\n",
      " 10  call_count_112_not_answered  366 non-null    int64  \n",
      "dtypes: float64(6), int64(4), object(1)\n",
      "memory usage: 31.6+ KB\n"
     ]
    }
   ],
   "source": [
    "df.info()"
   ]
  },
  {
   "cell_type": "code",
   "execution_count": 4,
   "metadata": {},
   "outputs": [
    {
     "data": {
      "text/html": [
       "<div>\n",
       "<style scoped>\n",
       "    .dataframe tbody tr th:only-of-type {\n",
       "        vertical-align: middle;\n",
       "    }\n",
       "\n",
       "    .dataframe tbody tr th {\n",
       "        vertical-align: top;\n",
       "    }\n",
       "\n",
       "    .dataframe thead th {\n",
       "        text-align: right;\n",
       "    }\n",
       "</style>\n",
       "<table border=\"1\" class=\"dataframe\">\n",
       "  <thead>\n",
       "    <tr style=\"text-align: right;\">\n",
       "      <th></th>\n",
       "      <th>call_count</th>\n",
       "      <th>answer_time_mean</th>\n",
       "      <th>answer_time_median</th>\n",
       "      <th>answer_time_std</th>\n",
       "      <th>call_count_not_answered</th>\n",
       "      <th>call_count_112</th>\n",
       "      <th>answer_time_mean_112</th>\n",
       "      <th>answer_time_median_112</th>\n",
       "      <th>answer_time_std_112</th>\n",
       "      <th>call_count_112_not_answered</th>\n",
       "    </tr>\n",
       "  </thead>\n",
       "  <tbody>\n",
       "    <tr>\n",
       "      <th>count</th>\n",
       "      <td>366.000000</td>\n",
       "      <td>366.000000</td>\n",
       "      <td>366.000000</td>\n",
       "      <td>366.000000</td>\n",
       "      <td>366.000000</td>\n",
       "      <td>366.000000</td>\n",
       "      <td>366.000000</td>\n",
       "      <td>366.000000</td>\n",
       "      <td>366.000000</td>\n",
       "      <td>366.000000</td>\n",
       "    </tr>\n",
       "    <tr>\n",
       "      <th>mean</th>\n",
       "      <td>2455.281421</td>\n",
       "      <td>26.631475</td>\n",
       "      <td>13.034563</td>\n",
       "      <td>33.871093</td>\n",
       "      <td>846.795082</td>\n",
       "      <td>2286.076503</td>\n",
       "      <td>26.996776</td>\n",
       "      <td>13.481311</td>\n",
       "      <td>33.643825</td>\n",
       "      <td>834.098361</td>\n",
       "    </tr>\n",
       "    <tr>\n",
       "      <th>std</th>\n",
       "      <td>230.526556</td>\n",
       "      <td>9.687113</td>\n",
       "      <td>6.163539</td>\n",
       "      <td>10.804843</td>\n",
       "      <td>203.874966</td>\n",
       "      <td>219.740431</td>\n",
       "      <td>10.247332</td>\n",
       "      <td>6.797235</td>\n",
       "      <td>10.957243</td>\n",
       "      <td>201.818164</td>\n",
       "    </tr>\n",
       "    <tr>\n",
       "      <th>min</th>\n",
       "      <td>1990.000000</td>\n",
       "      <td>10.210000</td>\n",
       "      <td>3.700000</td>\n",
       "      <td>13.730000</td>\n",
       "      <td>407.000000</td>\n",
       "      <td>1859.000000</td>\n",
       "      <td>9.830000</td>\n",
       "      <td>3.600000</td>\n",
       "      <td>13.540000</td>\n",
       "      <td>402.000000</td>\n",
       "    </tr>\n",
       "    <tr>\n",
       "      <th>25%</th>\n",
       "      <td>2307.250000</td>\n",
       "      <td>19.925000</td>\n",
       "      <td>8.480000</td>\n",
       "      <td>26.335000</td>\n",
       "      <td>716.250000</td>\n",
       "      <td>2144.250000</td>\n",
       "      <td>19.895000</td>\n",
       "      <td>8.375000</td>\n",
       "      <td>25.930000</td>\n",
       "      <td>706.250000</td>\n",
       "    </tr>\n",
       "    <tr>\n",
       "      <th>50%</th>\n",
       "      <td>2419.500000</td>\n",
       "      <td>25.160000</td>\n",
       "      <td>12.055000</td>\n",
       "      <td>32.390000</td>\n",
       "      <td>822.500000</td>\n",
       "      <td>2254.000000</td>\n",
       "      <td>25.455000</td>\n",
       "      <td>12.140000</td>\n",
       "      <td>32.285000</td>\n",
       "      <td>808.000000</td>\n",
       "    </tr>\n",
       "    <tr>\n",
       "      <th>75%</th>\n",
       "      <td>2565.500000</td>\n",
       "      <td>31.650000</td>\n",
       "      <td>16.570000</td>\n",
       "      <td>38.305000</td>\n",
       "      <td>954.500000</td>\n",
       "      <td>2386.750000</td>\n",
       "      <td>32.222500</td>\n",
       "      <td>17.325000</td>\n",
       "      <td>38.392500</td>\n",
       "      <td>940.750000</td>\n",
       "    </tr>\n",
       "    <tr>\n",
       "      <th>max</th>\n",
       "      <td>3958.000000</td>\n",
       "      <td>66.110000</td>\n",
       "      <td>39.170000</td>\n",
       "      <td>94.760000</td>\n",
       "      <td>2151.000000</td>\n",
       "      <td>3710.000000</td>\n",
       "      <td>68.590000</td>\n",
       "      <td>42.010000</td>\n",
       "      <td>95.980000</td>\n",
       "      <td>2129.000000</td>\n",
       "    </tr>\n",
       "  </tbody>\n",
       "</table>\n",
       "</div>"
      ],
      "text/plain": [
       "        call_count  answer_time_mean  answer_time_median  answer_time_std  \\\n",
       "count   366.000000        366.000000          366.000000       366.000000   \n",
       "mean   2455.281421         26.631475           13.034563        33.871093   \n",
       "std     230.526556          9.687113            6.163539        10.804843   \n",
       "min    1990.000000         10.210000            3.700000        13.730000   \n",
       "25%    2307.250000         19.925000            8.480000        26.335000   \n",
       "50%    2419.500000         25.160000           12.055000        32.390000   \n",
       "75%    2565.500000         31.650000           16.570000        38.305000   \n",
       "max    3958.000000         66.110000           39.170000        94.760000   \n",
       "\n",
       "       call_count_not_answered  call_count_112  answer_time_mean_112  \\\n",
       "count               366.000000      366.000000            366.000000   \n",
       "mean                846.795082     2286.076503             26.996776   \n",
       "std                 203.874966      219.740431             10.247332   \n",
       "min                 407.000000     1859.000000              9.830000   \n",
       "25%                 716.250000     2144.250000             19.895000   \n",
       "50%                 822.500000     2254.000000             25.455000   \n",
       "75%                 954.500000     2386.750000             32.222500   \n",
       "max                2151.000000     3710.000000             68.590000   \n",
       "\n",
       "       answer_time_median_112  answer_time_std_112  \\\n",
       "count              366.000000           366.000000   \n",
       "mean                13.481311            33.643825   \n",
       "std                  6.797235            10.957243   \n",
       "min                  3.600000            13.540000   \n",
       "25%                  8.375000            25.930000   \n",
       "50%                 12.140000            32.285000   \n",
       "75%                 17.325000            38.392500   \n",
       "max                 42.010000            95.980000   \n",
       "\n",
       "       call_count_112_not_answered  \n",
       "count                   366.000000  \n",
       "mean                    834.098361  \n",
       "std                     201.818164  \n",
       "min                     402.000000  \n",
       "25%                     706.250000  \n",
       "50%                     808.000000  \n",
       "75%                     940.750000  \n",
       "max                    2129.000000  "
      ]
     },
     "execution_count": 4,
     "metadata": {},
     "output_type": "execute_result"
    }
   ],
   "source": [
    "df.describe()"
   ]
  },
  {
   "cell_type": "code",
   "execution_count": 7,
   "metadata": {},
   "outputs": [
    {
     "data": {
      "text/plain": [
       "<Axes: >"
      ]
     },
     "execution_count": 7,
     "metadata": {},
     "output_type": "execute_result"
    },
    {
     "data": {
      "image/png": "[encoded data removed]",
      "text/plain": [
       "<Figure size 640x480 with 1 Axes>"
      ]
     },
     "metadata": {},
     "output_type": "display_data"
    }
   ],
   "source": [
    "sns.boxplot(df)"
   ]
  },
  {
   "cell_type": "code",
   "execution_count": 14,
   "metadata": {},
   "outputs": [
    {
     "data": {
      "text/html": [
       "<div>\n",
       "<style scoped>\n",
       "    .dataframe tbody tr th:only-of-type {\n",
       "        vertical-align: middle;\n",
       "    }\n",
       "\n",
       "    .dataframe tbody tr th {\n",
       "        vertical-align: top;\n",
       "    }\n",
       "\n",
       "    .dataframe thead th {\n",
       "        text-align: right;\n",
       "    }\n",
       "</style>\n",
       "<table border=\"1\" class=\"dataframe\">\n",
       "  <thead>\n",
       "    <tr style=\"text-align: right;\">\n",
       "      <th></th>\n",
       "      <th>mission_date</th>\n",
       "      <th>mission_type</th>\n",
       "      <th>dispatchcode_category</th>\n",
       "      <th>dispatchcode_criticality</th>\n",
       "      <th>mission_location_district</th>\n",
       "      <th>response_time</th>\n",
       "      <th>units_non_berlin_involed</th>\n",
       "      <th>units_several_involved</th>\n",
       "      <th>units_reinforcements_called</th>\n",
       "      <th>units_organisations</th>\n",
       "      <th>firstresponder_alarmed</th>\n",
       "      <th>firstresponder_indication</th>\n",
       "      <th>firstresponder_first_arrival</th>\n",
       "      <th>units_first_type</th>\n",
       "      <th>emergency_doctor_involved</th>\n",
       "    </tr>\n",
       "  </thead>\n",
       "  <tbody>\n",
       "    <tr>\n",
       "      <th>0</th>\n",
       "      <td>2024-04-20</td>\n",
       "      <td>Notverlegung</td>\n",
       "      <td>NaN</td>\n",
       "      <td>NaN</td>\n",
       "      <td>Mitte</td>\n",
       "      <td>267.0</td>\n",
       "      <td>False</td>\n",
       "      <td>False</td>\n",
       "      <td>False</td>\n",
       "      <td>ORG_BW</td>\n",
       "      <td>False</td>\n",
       "      <td>False</td>\n",
       "      <td>False</td>\n",
       "      <td>RTW-BW</td>\n",
       "      <td>False</td>\n",
       "    </tr>\n",
       "    <tr>\n",
       "      <th>1</th>\n",
       "      <td>2024-06-15</td>\n",
       "      <td>Notverlegung</td>\n",
       "      <td>NaN</td>\n",
       "      <td>NaN</td>\n",
       "      <td>Steglitz-Zehlendorf</td>\n",
       "      <td>NaN</td>\n",
       "      <td>False</td>\n",
       "      <td>True</td>\n",
       "      <td>True</td>\n",
       "      <td>ORG_BFW</td>\n",
       "      <td>False</td>\n",
       "      <td>False</td>\n",
       "      <td>False</td>\n",
       "      <td>RTW-C</td>\n",
       "      <td>True</td>\n",
       "    </tr>\n",
       "    <tr>\n",
       "      <th>2</th>\n",
       "      <td>2024-03-21</td>\n",
       "      <td>Rettungsdienst</td>\n",
       "      <td>NaN</td>\n",
       "      <td>NaN</td>\n",
       "      <td>Tempelhof-Schöneberg</td>\n",
       "      <td>NaN</td>\n",
       "      <td>False</td>\n",
       "      <td>True</td>\n",
       "      <td>False</td>\n",
       "      <td>ORG_BFW</td>\n",
       "      <td>False</td>\n",
       "      <td>False</td>\n",
       "      <td>False</td>\n",
       "      <td>RTW-C</td>\n",
       "      <td>True</td>\n",
       "    </tr>\n",
       "    <tr>\n",
       "      <th>3</th>\n",
       "      <td>2024-02-21</td>\n",
       "      <td>Brand</td>\n",
       "      <td>NaN</td>\n",
       "      <td>NaN</td>\n",
       "      <td>Spandau</td>\n",
       "      <td>658.0</td>\n",
       "      <td>False</td>\n",
       "      <td>True</td>\n",
       "      <td>False</td>\n",
       "      <td>ORG_BFW</td>\n",
       "      <td>False</td>\n",
       "      <td>False</td>\n",
       "      <td>False</td>\n",
       "      <td>ELW1-C</td>\n",
       "      <td>False</td>\n",
       "    </tr>\n",
       "    <tr>\n",
       "      <th>4</th>\n",
       "      <td>2024-01-01</td>\n",
       "      <td>Rettungsdienst</td>\n",
       "      <td>NaN</td>\n",
       "      <td>NaN</td>\n",
       "      <td>Neukölln</td>\n",
       "      <td>503.0</td>\n",
       "      <td>False</td>\n",
       "      <td>False</td>\n",
       "      <td>False</td>\n",
       "      <td>ORG_DRK</td>\n",
       "      <td>False</td>\n",
       "      <td>False</td>\n",
       "      <td>False</td>\n",
       "      <td>RTW-C</td>\n",
       "      <td>False</td>\n",
       "    </tr>\n",
       "  </tbody>\n",
       "</table>\n",
       "</div>"
      ],
      "text/plain": [
       "  mission_date    mission_type  dispatchcode_category  \\\n",
       "0   2024-04-20    Notverlegung                    NaN   \n",
       "1   2024-06-15    Notverlegung                    NaN   \n",
       "2   2024-03-21  Rettungsdienst                    NaN   \n",
       "3   2024-02-21           Brand                    NaN   \n",
       "4   2024-01-01  Rettungsdienst                    NaN   \n",
       "\n",
       "  dispatchcode_criticality mission_location_district  response_time  \\\n",
       "0                      NaN                     Mitte          267.0   \n",
       "1                      NaN       Steglitz-Zehlendorf            NaN   \n",
       "2                      NaN      Tempelhof-Schöneberg            NaN   \n",
       "3                      NaN                   Spandau          658.0   \n",
       "4                      NaN                  Neukölln          503.0   \n",
       "\n",
       "   units_non_berlin_involed  units_several_involved  \\\n",
       "0                     False                   False   \n",
       "1                     False                    True   \n",
       "2                     False                    True   \n",
       "3                     False                    True   \n",
       "4                     False                   False   \n",
       "\n",
       "   units_reinforcements_called units_organisations  firstresponder_alarmed  \\\n",
       "0                        False              ORG_BW                   False   \n",
       "1                         True             ORG_BFW                   False   \n",
       "2                        False             ORG_BFW                   False   \n",
       "3                        False             ORG_BFW                   False   \n",
       "4                        False             ORG_DRK                   False   \n",
       "\n",
       "   firstresponder_indication  firstresponder_first_arrival units_first_type  \\\n",
       "0                      False                         False           RTW-BW   \n",
       "1                      False                         False            RTW-C   \n",
       "2                      False                         False            RTW-C   \n",
       "3                      False                         False           ELW1-C   \n",
       "4                      False                         False            RTW-C   \n",
       "\n",
       "   emergency_doctor_involved  \n",
       "0                      False  \n",
       "1                       True  \n",
       "2                       True  \n",
       "3                      False  \n",
       "4                      False  "
      ]
     },
     "execution_count": 14,
     "metadata": {},
     "output_type": "execute_result"
    }
   ],
   "source": [
    "import pandas as pd\n",
    "\n",
    "df = pd.read_csv(\"../data/mission_data_set_open_data_2024.csv\", index_col=0)\n",
    "df.head()\n",
    "\n"
   ]
  },
  {
   "cell_type": "code",
   "execution_count": 16,
   "metadata": {},
   "outputs": [
    {
     "data": {
      "text/plain": [
       "array([nan, 'D', 'C', 'A', 'E', 'B', 'O'], dtype=object)"
      ]
     },
     "execution_count": 16,
     "metadata": {},
     "output_type": "execute_result"
    }
   ],
   "source": [
    "df[\"dispatchcode_criticality\"].unique()"
   ]
  },
  {
   "cell_type": "code",
   "execution_count": 17,
   "metadata": {},
   "outputs": [
    {
     "data": {
      "text/plain": [
       "<Axes: >"
      ]
     },
     "execution_count": 17,
     "metadata": {},
     "output_type": "execute_result"
    },
    {
     "data": {
      "image/png": "[encoded data removed]",
      "text/plain": [
       "<Figure size 640x480 with 1 Axes>"
      ]
     },
     "metadata": {},
     "output_type": "display_data"
    }
   ],
   "source": [
    "df[\"dispatchcode_criticality\"].hist()"
   ]
  },
  {
   "cell_type": "code",
   "execution_count": 20,
   "metadata": {},
   "outputs": [
    {
     "data": {
      "text/plain": [
       "<Axes: >"
      ]
     },
     "execution_count": 20,
     "metadata": {},
     "output_type": "execute_result"
    },
    {
     "data": {
      "image/png": "[encoded data removed]",
      "text/plain": [
       "<Figure size 640x480 with 1 Axes>"
      ]
     },
     "metadata": {},
     "output_type": "display_data"
    }
   ],
   "source": [
    "df[df[\"emergency_doctor_involved\"] == True][\"dispatchcode_criticality\"].hist()"
   ]
  },
  {
   "cell_type": "code",
   "execution_count": 21,
   "metadata": {},
   "outputs": [
    {
     "data": {
      "text/plain": [
       "<Axes: >"
      ]
     },
     "execution_count": 21,
     "metadata": {},
     "output_type": "execute_result"
    },
    {
     "data": {
      "image/png": "[encoded data removed]",
      "text/plain": [
       "<Figure size 640x480 with 1 Axes>"
      ]
     },
     "metadata": {},
     "output_type": "display_data"
    }
   ],
   "source": [
    "df[df[\"emergency_doctor_involved\"] == False][\"dispatchcode_criticality\"].hist()"
   ]
  }
 ],
 "metadata": {
  "kernelspec": {
   "display_name": "venv",
   "language": "python",
   "name": "python3"
  },
  "language_info": {
   "codemirror_mode": {
    "name": "ipython",
    "version": 3
   },
   "file_extension": ".py",
   "mimetype": "text/x-python",
   "name": "python",
   "nbconvert_exporter": "python",
   "pygments_lexer": "ipython3",
   "version": "3.11.10"
  }
 },
 "nbformat": 4,
 "nbformat_minor": 2
}
