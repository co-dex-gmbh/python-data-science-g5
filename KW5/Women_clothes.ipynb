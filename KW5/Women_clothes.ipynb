{
 "cells": [
  {
   "cell_type": "markdown",
   "id": "770588b2-e351-4288-a13f-f40d4ef5f59d",
   "metadata": {},
   "source": [
    "# Module Importieren"
   ]
  },
  {
   "cell_type": "code",
   "execution_count": 1,
   "id": "82fb0e44-7364-4bd3-97cc-7f76ca42d39b",
   "metadata": {},
   "outputs": [],
   "source": [
    "# Module Importieren\n",
    "import pandas as pd\n",
    "import numpy as np\n",
    "import nltk\n",
    "import spacy\n",
    "import re\n",
    "import string\n",
    "from sklearn.feature_extraction.text import CountVectorizer\n",
    "\n",
    "# Kaggle Datensatz:\n",
    "# https://www.kaggle.com/datasets/nicapotato/womens-ecommerce-clothing-reviews?resource=download"
   ]
  },
  {
   "cell_type": "code",
   "execution_count": 2,
   "id": "8490defb-45a8-49f0-be45-84e2a22f2797",
   "metadata": {},
   "outputs": [],
   "source": [
    "# Datensatz einlesen\n",
    "data = pd.read_csv(\"Datensätze/Womens Clothing E-Commerce Reviews.csv\", index_col=\"Unnamed: 0\")"
   ]
  },
  {
   "cell_type": "markdown",
   "id": "4573baab-cd09-4834-95ca-3d60179527ee",
   "metadata": {},
   "source": [
    "# Daten verstehen"
   ]
  },
  {
   "cell_type": "code",
   "execution_count": 3,
   "id": "7378bd8d-88eb-47ab-85ef-bf09f1e001ce",
   "metadata": {},
   "outputs": [
    {
     "data": {
      "text/html": [
       "<div>\n",
       "<style scoped>\n",
       "    .dataframe tbody tr th:only-of-type {\n",
       "        vertical-align: middle;\n",
       "    }\n",
       "\n",
       "    .dataframe tbody tr th {\n",
       "        vertical-align: top;\n",
       "    }\n",
       "\n",
       "    .dataframe thead th {\n",
       "        text-align: right;\n",
       "    }\n",
       "</style>\n",
       "<table border=\"1\" class=\"dataframe\">\n",
       "  <thead>\n",
       "    <tr style=\"text-align: right;\">\n",
       "      <th></th>\n",
       "      <th>Clothing ID</th>\n",
       "      <th>Age</th>\n",
       "      <th>Title</th>\n",
       "      <th>Review Text</th>\n",
       "      <th>Rating</th>\n",
       "      <th>Recommended IND</th>\n",
       "      <th>Positive Feedback Count</th>\n",
       "      <th>Division Name</th>\n",
       "      <th>Department Name</th>\n",
       "      <th>Class Name</th>\n",
       "    </tr>\n",
       "  </thead>\n",
       "  <tbody>\n",
       "    <tr>\n",
       "      <th>0</th>\n",
       "      <td>767</td>\n",
       "      <td>33</td>\n",
       "      <td>NaN</td>\n",
       "      <td>Absolutely wonderful - silky and sexy and comf...</td>\n",
       "      <td>4</td>\n",
       "      <td>1</td>\n",
       "      <td>0</td>\n",
       "      <td>Initmates</td>\n",
       "      <td>Intimate</td>\n",
       "      <td>Intimates</td>\n",
       "    </tr>\n",
       "    <tr>\n",
       "      <th>1</th>\n",
       "      <td>1080</td>\n",
       "      <td>34</td>\n",
       "      <td>NaN</td>\n",
       "      <td>Love this dress!  it's sooo pretty.  i happene...</td>\n",
       "      <td>5</td>\n",
       "      <td>1</td>\n",
       "      <td>4</td>\n",
       "      <td>General</td>\n",
       "      <td>Dresses</td>\n",
       "      <td>Dresses</td>\n",
       "    </tr>\n",
       "    <tr>\n",
       "      <th>2</th>\n",
       "      <td>1077</td>\n",
       "      <td>60</td>\n",
       "      <td>Some major design flaws</td>\n",
       "      <td>I had such high hopes for this dress and reall...</td>\n",
       "      <td>3</td>\n",
       "      <td>0</td>\n",
       "      <td>0</td>\n",
       "      <td>General</td>\n",
       "      <td>Dresses</td>\n",
       "      <td>Dresses</td>\n",
       "    </tr>\n",
       "    <tr>\n",
       "      <th>3</th>\n",
       "      <td>1049</td>\n",
       "      <td>50</td>\n",
       "      <td>My favorite buy!</td>\n",
       "      <td>I love, love, love this jumpsuit. it's fun, fl...</td>\n",
       "      <td>5</td>\n",
       "      <td>1</td>\n",
       "      <td>0</td>\n",
       "      <td>General Petite</td>\n",
       "      <td>Bottoms</td>\n",
       "      <td>Pants</td>\n",
       "    </tr>\n",
       "    <tr>\n",
       "      <th>4</th>\n",
       "      <td>847</td>\n",
       "      <td>47</td>\n",
       "      <td>Flattering shirt</td>\n",
       "      <td>This shirt is very flattering to all due to th...</td>\n",
       "      <td>5</td>\n",
       "      <td>1</td>\n",
       "      <td>6</td>\n",
       "      <td>General</td>\n",
       "      <td>Tops</td>\n",
       "      <td>Blouses</td>\n",
       "    </tr>\n",
       "  </tbody>\n",
       "</table>\n",
       "</div>"
      ],
      "text/plain": [
       "   Clothing ID  Age                    Title  \\\n",
       "0          767   33                      NaN   \n",
       "1         1080   34                      NaN   \n",
       "2         1077   60  Some major design flaws   \n",
       "3         1049   50         My favorite buy!   \n",
       "4          847   47         Flattering shirt   \n",
       "\n",
       "                                         Review Text  Rating  Recommended IND  \\\n",
       "0  Absolutely wonderful - silky and sexy and comf...       4                1   \n",
       "1  Love this dress!  it's sooo pretty.  i happene...       5                1   \n",
       "2  I had such high hopes for this dress and reall...       3                0   \n",
       "3  I love, love, love this jumpsuit. it's fun, fl...       5                1   \n",
       "4  This shirt is very flattering to all due to th...       5                1   \n",
       "\n",
       "   Positive Feedback Count   Division Name Department Name Class Name  \n",
       "0                        0       Initmates        Intimate  Intimates  \n",
       "1                        4         General         Dresses    Dresses  \n",
       "2                        0         General         Dresses    Dresses  \n",
       "3                        0  General Petite         Bottoms      Pants  \n",
       "4                        6         General            Tops    Blouses  "
      ]
     },
     "execution_count": 3,
     "metadata": {},
     "output_type": "execute_result"
    }
   ],
   "source": [
    "data.head()"
   ]
  },
  {
   "cell_type": "code",
   "execution_count": 4,
   "id": "9e087d68-bf3b-4bca-9a07-5ae3a05aca8d",
   "metadata": {},
   "outputs": [
    {
     "name": "stdout",
     "output_type": "stream",
     "text": [
      "CLOTHING ID:               1206\n",
      "AGE:                       77\n",
      "TITLE:                     13994\n",
      "REVIEW TEXT:               22635\n",
      "RATING:                    5\n",
      "RECOMMENDED IND:           2\n",
      "POSITIVE FEEDBACK COUNT:   82\n",
      "DIVISION NAME:             4\n",
      "DEPARTMENT NAME:           7\n",
      "CLASS NAME:                21\n"
     ]
    }
   ],
   "source": [
    "# Einzigartige Einträge plotten\n",
    "for column in data.columns:\n",
    "    space = \" \" * (23 - len(column)) \n",
    "    print(f\"{column.upper()}: \", space, len(data.loc[:, column].unique()))"
   ]
  },
  {
   "cell_type": "code",
   "execution_count": 6,
   "id": "18e32ef6-dee0-4423-afd3-d7f66863b196",
   "metadata": {},
   "outputs": [
    {
     "data": {
      "text/plain": [
       "Clothing ID                   0\n",
       "Age                           0\n",
       "Title                      3810\n",
       "Review Text                 845\n",
       "Rating                        0\n",
       "Recommended IND               0\n",
       "Positive Feedback Count       0\n",
       "Division Name                14\n",
       "Department Name              14\n",
       "Class Name                   14\n",
       "dtype: int64"
      ]
     },
     "execution_count": 6,
     "metadata": {},
     "output_type": "execute_result"
    }
   ],
   "source": [
    "# Fehlende Werte\n",
    "data.isna().sum()"
   ]
  },
  {
   "cell_type": "code",
   "execution_count": 7,
   "id": "206f2865-ed73-4a0d-9849-2ffe7cb79798",
   "metadata": {},
   "outputs": [
    {
     "data": {
      "text/html": [
       "<div>\n",
       "<style scoped>\n",
       "    .dataframe tbody tr th:only-of-type {\n",
       "        vertical-align: middle;\n",
       "    }\n",
       "\n",
       "    .dataframe tbody tr th {\n",
       "        vertical-align: top;\n",
       "    }\n",
       "\n",
       "    .dataframe thead th {\n",
       "        text-align: right;\n",
       "    }\n",
       "</style>\n",
       "<table border=\"1\" class=\"dataframe\">\n",
       "  <thead>\n",
       "    <tr style=\"text-align: right;\">\n",
       "      <th></th>\n",
       "      <th>Clothing ID</th>\n",
       "      <th>Age</th>\n",
       "      <th>Rating</th>\n",
       "      <th>Recommended IND</th>\n",
       "      <th>Positive Feedback Count</th>\n",
       "    </tr>\n",
       "  </thead>\n",
       "  <tbody>\n",
       "    <tr>\n",
       "      <th>count</th>\n",
       "      <td>23486.000000</td>\n",
       "      <td>23486.000000</td>\n",
       "      <td>23486.000000</td>\n",
       "      <td>23486.000000</td>\n",
       "      <td>23486.000000</td>\n",
       "    </tr>\n",
       "    <tr>\n",
       "      <th>mean</th>\n",
       "      <td>918.118709</td>\n",
       "      <td>43.198544</td>\n",
       "      <td>4.196032</td>\n",
       "      <td>0.822362</td>\n",
       "      <td>2.535936</td>\n",
       "    </tr>\n",
       "    <tr>\n",
       "      <th>std</th>\n",
       "      <td>203.298980</td>\n",
       "      <td>12.279544</td>\n",
       "      <td>1.110031</td>\n",
       "      <td>0.382216</td>\n",
       "      <td>5.702202</td>\n",
       "    </tr>\n",
       "    <tr>\n",
       "      <th>min</th>\n",
       "      <td>0.000000</td>\n",
       "      <td>18.000000</td>\n",
       "      <td>1.000000</td>\n",
       "      <td>0.000000</td>\n",
       "      <td>0.000000</td>\n",
       "    </tr>\n",
       "    <tr>\n",
       "      <th>25%</th>\n",
       "      <td>861.000000</td>\n",
       "      <td>34.000000</td>\n",
       "      <td>4.000000</td>\n",
       "      <td>1.000000</td>\n",
       "      <td>0.000000</td>\n",
       "    </tr>\n",
       "    <tr>\n",
       "      <th>50%</th>\n",
       "      <td>936.000000</td>\n",
       "      <td>41.000000</td>\n",
       "      <td>5.000000</td>\n",
       "      <td>1.000000</td>\n",
       "      <td>1.000000</td>\n",
       "    </tr>\n",
       "    <tr>\n",
       "      <th>75%</th>\n",
       "      <td>1078.000000</td>\n",
       "      <td>52.000000</td>\n",
       "      <td>5.000000</td>\n",
       "      <td>1.000000</td>\n",
       "      <td>3.000000</td>\n",
       "    </tr>\n",
       "    <tr>\n",
       "      <th>max</th>\n",
       "      <td>1205.000000</td>\n",
       "      <td>99.000000</td>\n",
       "      <td>5.000000</td>\n",
       "      <td>1.000000</td>\n",
       "      <td>122.000000</td>\n",
       "    </tr>\n",
       "  </tbody>\n",
       "</table>\n",
       "</div>"
      ],
      "text/plain": [
       "        Clothing ID           Age        Rating  Recommended IND  \\\n",
       "count  23486.000000  23486.000000  23486.000000     23486.000000   \n",
       "mean     918.118709     43.198544      4.196032         0.822362   \n",
       "std      203.298980     12.279544      1.110031         0.382216   \n",
       "min        0.000000     18.000000      1.000000         0.000000   \n",
       "25%      861.000000     34.000000      4.000000         1.000000   \n",
       "50%      936.000000     41.000000      5.000000         1.000000   \n",
       "75%     1078.000000     52.000000      5.000000         1.000000   \n",
       "max     1205.000000     99.000000      5.000000         1.000000   \n",
       "\n",
       "       Positive Feedback Count  \n",
       "count             23486.000000  \n",
       "mean                  2.535936  \n",
       "std                   5.702202  \n",
       "min                   0.000000  \n",
       "25%                   0.000000  \n",
       "50%                   1.000000  \n",
       "75%                   3.000000  \n",
       "max                 122.000000  "
      ]
     },
     "execution_count": 7,
     "metadata": {},
     "output_type": "execute_result"
    }
   ],
   "source": [
    "# Describe\n",
    "data.describe()"
   ]
  },
  {
   "cell_type": "markdown",
   "id": "e8da9775-0ba8-497a-9dbc-7ac7bddbc883",
   "metadata": {},
   "source": [
    "# Preparation"
   ]
  },
  {
   "cell_type": "code",
   "execution_count": 8,
   "id": "a185eef8-38ed-4b00-b6d9-0d5c05616805",
   "metadata": {},
   "outputs": [],
   "source": [
    "# Nan's durch lehre Strings in 'Review Text' ersetzen\n",
    "data[\"Review Text\"] = data[\"Review Text\"].fillna(\"\")"
   ]
  },
  {
   "cell_type": "code",
   "execution_count": 9,
   "id": "361f9736-855a-4cae-b3e4-4efef7c2cecc",
   "metadata": {},
   "outputs": [],
   "source": [
    "# Funktion: Text Cleaner (ohne Stopwörter)\n",
    "\n",
    "# Satzzeichen einlesen\n",
    "punctuation = string.punctuation\n",
    "\n",
    "# nlp-Funktion initialisieren\n",
    "nlp = spacy.load(\"en_core_web_sm\")\n",
    "\n",
    "# Stopwörter einlesen\n",
    "stopwords = nltk.corpus.stopwords.words(\"english\")\n",
    "\n",
    "# text_cleaner\n",
    "def text_cleaner(text):\n",
    "    doc = nlp(text)\n",
    "    text_list_lemmatized = [token.lemma_.lower() for token in doc if token.text not in punctuation and token.lemma_.lower() not in stopwords]\n",
    "    final_text = \" \".join(text_list_lemmatized)\n",
    "    return final_text\n",
    "\n",
    "# Lemmatisierung der Spalte 'Review Text'\n",
    "data[\"Review Text Lemmatized\"] = data[\"Review Text\"].apply(text_cleaner)"
   ]
  },
  {
   "cell_type": "code",
   "execution_count": 73,
   "id": "690f209e-7e11-458d-bb2d-5edc2cab76f3",
   "metadata": {},
   "outputs": [],
   "source": [
    "# Funktion: Text Cleaner (mit Stopwörter)\n",
    "def text_cleaner_with_stopwords(text):\n",
    "    doc = nlp(text)\n",
    "    text_list_lemmatized = [token.lemma_.lower() for token in doc if token.text not in punctuation]\n",
    "    final_text = \" \".join(text_list_lemmatized)\n",
    "    return final_text\n",
    "\n",
    "# Lemmatisierung der Spalte 'Review Text' mit Stopwörtern\n",
    "data[\"Review Text Lemmatized with Stopwords\"] = data[\"Review Text\"].apply(text_cleaner_with_stopwords)"
   ]
  },
  {
   "cell_type": "code",
   "execution_count": 27,
   "id": "96074d51-2aea-4aec-9fd2-509d2a754767",
   "metadata": {},
   "outputs": [],
   "source": [
    "# Funktion: Word Count\n",
    "def text_word_count(text):\n",
    "    doc = nlp(text)\n",
    "    text_only_words = [token.text for token in doc if token.text not in punctuation]\n",
    "    word_count = len(text_only_words)\n",
    "    return word_count\n",
    "\n",
    "# Zählung aller Wörter\n",
    "data[\"Review Text Word Count\"] = data[\"Review Text\"].apply(text_word_count)"
   ]
  },
  {
   "cell_type": "markdown",
   "id": "66316a4a-532e-41a3-8877-d8904f744e5c",
   "metadata": {},
   "source": [
    "# Aufgabe 1"
   ]
  },
  {
   "cell_type": "code",
   "execution_count": 38,
   "id": "9d1ed3c2-9481-40b9-94db-0db13df7d396",
   "metadata": {},
   "outputs": [
    {
     "data": {
      "text/plain": [
       "count    23486.000000\n",
       "mean        59.751469\n",
       "std         31.148234\n",
       "min          0.000000\n",
       "25%         34.000000\n",
       "50%         59.000000\n",
       "75%         90.000000\n",
       "max        119.000000\n",
       "Name: Review Text Word Count, dtype: float64"
      ]
     },
     "execution_count": 38,
     "metadata": {},
     "output_type": "execute_result"
    }
   ],
   "source": [
    "# Aufgabe 1:\n",
    "# Wie viele Wörter enthält durchschnittlich ein Review?\n",
    "data[\"Review Text Word Count\"].describe()"
   ]
  },
  {
   "cell_type": "markdown",
   "id": "bb7ec83f-df8b-432d-935b-4e635ec3db29",
   "metadata": {},
   "source": [
    "# CountVectorizer"
   ]
  },
  {
   "cell_type": "code",
   "execution_count": 10,
   "id": "58ef1c86-d969-4e63-806a-375ab3d8476e",
   "metadata": {},
   "outputs": [],
   "source": [
    "# Vektorisieren mit CountVectorizer (ohne Stopwörter)\n",
    "\n",
    "# Initialisierung\n",
    "count_vectorizer = CountVectorizer()\n",
    "\n",
    "# fit_transform\n",
    "vectorized_review = count_vectorizer.fit_transform(data[\"Review Text Lemmatized\"])\n",
    "\n",
    "# Umwandeln in DataFrame\n",
    "features_train_transformed = pd.DataFrame(vectorized_review.toarray(), columns=count_vectorizer.get_feature_names_out())"
   ]
  },
  {
   "cell_type": "code",
   "execution_count": 74,
   "id": "32555029-5bcc-4309-ac21-63eeccf8fb92",
   "metadata": {},
   "outputs": [],
   "source": [
    "# Vektorisieren mit CountVectorizer (mit Stopwörter)\n",
    "\n",
    "# Initialisierung\n",
    "count_vectorizer_ws = CountVectorizer()\n",
    "\n",
    "# fit_transform\n",
    "vectorized_review_ws = count_vectorizer_ws.fit_transform(data[\"Review Text Lemmatized with Stopwords\"])\n",
    "\n",
    "# Umwandeln in DataFrame\n",
    "features_train_transformed_ws = pd.DataFrame(vectorized_review_ws.toarray(), columns=count_vectorizer_ws.get_feature_names_out())"
   ]
  },
  {
   "cell_type": "markdown",
   "id": "39333f50-7314-4579-a9ee-4f51869d4412",
   "metadata": {},
   "source": [
    "# Aufgabe 2"
   ]
  },
  {
   "cell_type": "code",
   "execution_count": 72,
   "id": "7a419b1f-acc8-4b28-bfbd-1c6760ceb7ae",
   "metadata": {},
   "outputs": [
    {
     "data": {
      "text/html": [
       "<div>\n",
       "<style scoped>\n",
       "    .dataframe tbody tr th:only-of-type {\n",
       "        vertical-align: middle;\n",
       "    }\n",
       "\n",
       "    .dataframe tbody tr th {\n",
       "        vertical-align: top;\n",
       "    }\n",
       "\n",
       "    .dataframe thead th {\n",
       "        text-align: right;\n",
       "    }\n",
       "</style>\n",
       "<table border=\"1\" class=\"dataframe\">\n",
       "  <thead>\n",
       "    <tr style=\"text-align: right;\">\n",
       "      <th></th>\n",
       "      <th>absolute</th>\n",
       "      <th>relative [%]</th>\n",
       "    </tr>\n",
       "  </thead>\n",
       "  <tbody>\n",
       "    <tr>\n",
       "      <th>dress</th>\n",
       "      <td>12105</td>\n",
       "      <td>51.54</td>\n",
       "    </tr>\n",
       "    <tr>\n",
       "      <th>fit</th>\n",
       "      <td>10892</td>\n",
       "      <td>46.38</td>\n",
       "    </tr>\n",
       "    <tr>\n",
       "      <th>love</th>\n",
       "      <td>10317</td>\n",
       "      <td>43.93</td>\n",
       "    </tr>\n",
       "    <tr>\n",
       "      <th>size</th>\n",
       "      <td>10300</td>\n",
       "      <td>43.86</td>\n",
       "    </tr>\n",
       "    <tr>\n",
       "      <th>wear</th>\n",
       "      <td>10081</td>\n",
       "      <td>42.92</td>\n",
       "    </tr>\n",
       "    <tr>\n",
       "      <th>look</th>\n",
       "      <td>9237</td>\n",
       "      <td>39.33</td>\n",
       "    </tr>\n",
       "    <tr>\n",
       "      <th>top</th>\n",
       "      <td>8367</td>\n",
       "      <td>35.63</td>\n",
       "    </tr>\n",
       "    <tr>\n",
       "      <th>like</th>\n",
       "      <td>7738</td>\n",
       "      <td>32.95</td>\n",
       "    </tr>\n",
       "    <tr>\n",
       "      <th>color</th>\n",
       "      <td>7087</td>\n",
       "      <td>30.18</td>\n",
       "    </tr>\n",
       "    <tr>\n",
       "      <th>great</th>\n",
       "      <td>6126</td>\n",
       "      <td>26.08</td>\n",
       "    </tr>\n",
       "  </tbody>\n",
       "</table>\n",
       "</div>"
      ],
      "text/plain": [
       "       absolute  relative [%]\n",
       "dress     12105         51.54\n",
       "fit       10892         46.38\n",
       "love      10317         43.93\n",
       "size      10300         43.86\n",
       "wear      10081         42.92\n",
       "look       9237         39.33\n",
       "top        8367         35.63\n",
       "like       7738         32.95\n",
       "color      7087         30.18\n",
       "great      6126         26.08"
      ]
     },
     "execution_count": 72,
     "metadata": {},
     "output_type": "execute_result"
    }
   ],
   "source": [
    "# Aufgabe 2\n",
    "# Was sind die 10 häufigsten Wörter in allen Reviews?\n",
    "\n",
    "# Ohne Stopwörter:\n",
    "\n",
    "# Initialisierung eines DataFrames\n",
    "word_count = pd.DataFrame(columns=[\"absolute\", \"relative [%]\"])\n",
    "\n",
    "# Bestimmung der absoluten Anzahl aller Wörter + absteigende Sortierung\n",
    "word_count[\"absolute\"] = np.sum(features_train_transformed, axis=0).sort_values(ascending=False)\n",
    "\n",
    "# Bestimmung der relativen Anzahl aller Wörter\n",
    "word_count[\"relative [%]\"] = round(100 * word_count[\"absolute\"]/len(data), 2)\n",
    "\n",
    "# 10 häufigsten Wörter\n",
    "word_count[:10]"
   ]
  },
  {
   "cell_type": "code",
   "execution_count": 82,
   "id": "791aca8d-c8fa-4834-b4cf-fc4b7d0a38b7",
   "metadata": {},
   "outputs": [
    {
     "data": {
      "text/html": [
       "<div>\n",
       "<style scoped>\n",
       "    .dataframe tbody tr th:only-of-type {\n",
       "        vertical-align: middle;\n",
       "    }\n",
       "\n",
       "    .dataframe tbody tr th {\n",
       "        vertical-align: top;\n",
       "    }\n",
       "\n",
       "    .dataframe thead th {\n",
       "        text-align: right;\n",
       "    }\n",
       "</style>\n",
       "<table border=\"1\" class=\"dataframe\">\n",
       "  <thead>\n",
       "    <tr style=\"text-align: right;\">\n",
       "      <th></th>\n",
       "      <th>absolute</th>\n",
       "      <th>relative [%]</th>\n",
       "    </tr>\n",
       "  </thead>\n",
       "  <tbody>\n",
       "    <tr>\n",
       "      <th>be</th>\n",
       "      <td>81998</td>\n",
       "      <td>349.14</td>\n",
       "    </tr>\n",
       "    <tr>\n",
       "      <th>the</th>\n",
       "      <td>76168</td>\n",
       "      <td>324.31</td>\n",
       "    </tr>\n",
       "    <tr>\n",
       "      <th>it</th>\n",
       "      <td>49290</td>\n",
       "      <td>209.87</td>\n",
       "    </tr>\n",
       "    <tr>\n",
       "      <th>and</th>\n",
       "      <td>49010</td>\n",
       "      <td>208.68</td>\n",
       "    </tr>\n",
       "    <tr>\n",
       "      <th>this</th>\n",
       "      <td>25761</td>\n",
       "      <td>109.69</td>\n",
       "    </tr>\n",
       "    <tr>\n",
       "      <th>to</th>\n",
       "      <td>24599</td>\n",
       "      <td>104.74</td>\n",
       "    </tr>\n",
       "    <tr>\n",
       "      <th>in</th>\n",
       "      <td>20754</td>\n",
       "      <td>88.37</td>\n",
       "    </tr>\n",
       "    <tr>\n",
       "      <th>not</th>\n",
       "      <td>18258</td>\n",
       "      <td>77.74</td>\n",
       "    </tr>\n",
       "    <tr>\n",
       "      <th>but</th>\n",
       "      <td>16556</td>\n",
       "      <td>70.49</td>\n",
       "    </tr>\n",
       "    <tr>\n",
       "      <th>on</th>\n",
       "      <td>15331</td>\n",
       "      <td>65.28</td>\n",
       "    </tr>\n",
       "  </tbody>\n",
       "</table>\n",
       "</div>"
      ],
      "text/plain": [
       "      absolute  relative [%]\n",
       "be       81998        349.14\n",
       "the      76168        324.31\n",
       "it       49290        209.87\n",
       "and      49010        208.68\n",
       "this     25761        109.69\n",
       "to       24599        104.74\n",
       "in       20754         88.37\n",
       "not      18258         77.74\n",
       "but      16556         70.49\n",
       "on       15331         65.28"
      ]
     },
     "execution_count": 82,
     "metadata": {},
     "output_type": "execute_result"
    }
   ],
   "source": [
    "# Ohne Stopwörter:\n",
    "\n",
    "# Initialisierung eines DataFrames\n",
    "word_count_ws = pd.DataFrame(columns=[\"absolute\", \"relative [%]\"])\n",
    "\n",
    "# Bestimmung der absoluten Anzahl aller Wörter + absteigende Sortierung\n",
    "word_count_ws[\"absolute\"] = np.sum(features_train_transformed_ws, axis=0).sort_values(ascending=False)\n",
    "\n",
    "# Bestimmung der relativen Anzahl aller Wörter\n",
    "word_count_ws[\"relative [%]\"] = round(100 * word_count_ws[\"absolute\"]/len(data), 2)\n",
    "\n",
    "# 10 häufigsten Wörter\n",
    "word_count_ws[:10]"
   ]
  },
  {
   "cell_type": "markdown",
   "id": "c65a57a7-0b1a-4213-a4fb-a4698e68bb32",
   "metadata": {},
   "source": [
    "# Aufgabe 3"
   ]
  },
  {
   "cell_type": "code",
   "execution_count": 89,
   "id": "245f9816-0b14-496d-82e0-5daef05cb0fc",
   "metadata": {},
   "outputs": [
    {
     "name": "stdout",
     "output_type": "stream",
     "text": [
      "Azahl einzigartiger Wörter ohne Stopwörter:   11436\n",
      "Azahl einzigartiger Wörter mit Stopwörter:    11494\n"
     ]
    }
   ],
   "source": [
    "# Aufgabe 3\n",
    "# Wie viele einzigartige Wörter gibt es insgesamt?\n",
    "\n",
    "print(\"Azahl einzigartiger Wörter ohne Stopwörter:  \", len(word_count))\n",
    "print(\"Azahl einzigartiger Wörter mit Stopwörter:   \", len(word_count_ws))"
   ]
  }
 ],
 "metadata": {
  "kernelspec": {
   "display_name": "Python 3 (ipykernel)",
   "language": "python",
   "name": "python3"
  },
  "language_info": {
   "codemirror_mode": {
    "name": "ipython",
    "version": 3
   },
   "file_extension": ".py",
   "mimetype": "text/x-python",
   "name": "python",
   "nbconvert_exporter": "python",
   "pygments_lexer": "ipython3",
   "version": "3.12.3"
  }
 },
 "nbformat": 4,
 "nbformat_minor": 5
}
