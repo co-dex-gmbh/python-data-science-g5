{
 "cells": [
  {
   "cell_type": "code",
   "execution_count": 1,
   "metadata": {},
   "outputs": [
    {
     "data": {
      "text/html": [
       "<div>\n",
       "<style scoped>\n",
       "    .dataframe tbody tr th:only-of-type {\n",
       "        vertical-align: middle;\n",
       "    }\n",
       "\n",
       "    .dataframe tbody tr th {\n",
       "        vertical-align: top;\n",
       "    }\n",
       "\n",
       "    .dataframe thead th {\n",
       "        text-align: right;\n",
       "    }\n",
       "</style>\n",
       "<table border=\"1\" class=\"dataframe\">\n",
       "  <thead>\n",
       "    <tr style=\"text-align: right;\">\n",
       "      <th></th>\n",
       "      <th>Clothing ID</th>\n",
       "      <th>Age</th>\n",
       "      <th>Title</th>\n",
       "      <th>Review Text</th>\n",
       "      <th>Rating</th>\n",
       "      <th>Recommended IND</th>\n",
       "      <th>Positive Feedback Count</th>\n",
       "      <th>Division Name</th>\n",
       "      <th>Department Name</th>\n",
       "      <th>Class Name</th>\n",
       "    </tr>\n",
       "  </thead>\n",
       "  <tbody>\n",
       "    <tr>\n",
       "      <th>0</th>\n",
       "      <td>767</td>\n",
       "      <td>33</td>\n",
       "      <td>NaN</td>\n",
       "      <td>Absolutely wonderful - silky and sexy and comf...</td>\n",
       "      <td>4</td>\n",
       "      <td>1</td>\n",
       "      <td>0</td>\n",
       "      <td>Initmates</td>\n",
       "      <td>Intimate</td>\n",
       "      <td>Intimates</td>\n",
       "    </tr>\n",
       "    <tr>\n",
       "      <th>1</th>\n",
       "      <td>1080</td>\n",
       "      <td>34</td>\n",
       "      <td>NaN</td>\n",
       "      <td>Love this dress!  it's sooo pretty.  i happene...</td>\n",
       "      <td>5</td>\n",
       "      <td>1</td>\n",
       "      <td>4</td>\n",
       "      <td>General</td>\n",
       "      <td>Dresses</td>\n",
       "      <td>Dresses</td>\n",
       "    </tr>\n",
       "    <tr>\n",
       "      <th>2</th>\n",
       "      <td>1077</td>\n",
       "      <td>60</td>\n",
       "      <td>Some major design flaws</td>\n",
       "      <td>I had such high hopes for this dress and reall...</td>\n",
       "      <td>3</td>\n",
       "      <td>0</td>\n",
       "      <td>0</td>\n",
       "      <td>General</td>\n",
       "      <td>Dresses</td>\n",
       "      <td>Dresses</td>\n",
       "    </tr>\n",
       "    <tr>\n",
       "      <th>3</th>\n",
       "      <td>1049</td>\n",
       "      <td>50</td>\n",
       "      <td>My favorite buy!</td>\n",
       "      <td>I love, love, love this jumpsuit. it's fun, fl...</td>\n",
       "      <td>5</td>\n",
       "      <td>1</td>\n",
       "      <td>0</td>\n",
       "      <td>General Petite</td>\n",
       "      <td>Bottoms</td>\n",
       "      <td>Pants</td>\n",
       "    </tr>\n",
       "    <tr>\n",
       "      <th>4</th>\n",
       "      <td>847</td>\n",
       "      <td>47</td>\n",
       "      <td>Flattering shirt</td>\n",
       "      <td>This shirt is very flattering to all due to th...</td>\n",
       "      <td>5</td>\n",
       "      <td>1</td>\n",
       "      <td>6</td>\n",
       "      <td>General</td>\n",
       "      <td>Tops</td>\n",
       "      <td>Blouses</td>\n",
       "    </tr>\n",
       "  </tbody>\n",
       "</table>\n",
       "</div>"
      ],
      "text/plain": [
       "   Clothing ID  Age                    Title  \\\n",
       "0          767   33                      NaN   \n",
       "1         1080   34                      NaN   \n",
       "2         1077   60  Some major design flaws   \n",
       "3         1049   50         My favorite buy!   \n",
       "4          847   47         Flattering shirt   \n",
       "\n",
       "                                         Review Text  Rating  Recommended IND  \\\n",
       "0  Absolutely wonderful - silky and sexy and comf...       4                1   \n",
       "1  Love this dress!  it's sooo pretty.  i happene...       5                1   \n",
       "2  I had such high hopes for this dress and reall...       3                0   \n",
       "3  I love, love, love this jumpsuit. it's fun, fl...       5                1   \n",
       "4  This shirt is very flattering to all due to th...       5                1   \n",
       "\n",
       "   Positive Feedback Count   Division Name Department Name Class Name  \n",
       "0                        0       Initmates        Intimate  Intimates  \n",
       "1                        4         General         Dresses    Dresses  \n",
       "2                        0         General         Dresses    Dresses  \n",
       "3                        0  General Petite         Bottoms      Pants  \n",
       "4                        6         General            Tops    Blouses  "
      ]
     },
     "execution_count": 1,
     "metadata": {},
     "output_type": "execute_result"
    }
   ],
   "source": [
    "import pandas as pd\n",
    "\n",
    "df = pd.read_csv('data/Womens Clothing E-Commerce Reviews.csv', index_col=0)\n",
    "df.head()"
   ]
  },
  {
   "cell_type": "markdown",
   "metadata": {},
   "source": [
    "Analysieren Sie die Review-Texte hinsichtlich ihrer Länge und häufigsten Wörter.\n",
    "\n",
    "- Wie viele Wörter enthält durchschnittlich ein Review?\n",
    "- Was sind die 10 häufigsten Wörter in allen Reviews?\n",
    "- Wie viele einzigartige Wörter gibt es insgesamt?"
   ]
  },
  {
   "cell_type": "code",
   "execution_count": 4,
   "metadata": {},
   "outputs": [
    {
     "name": "stderr",
     "output_type": "stream",
     "text": [
      "[nltk_data] Downloading package stopwords to\n",
      "[nltk_data]     /Users/benedikt/nltk_data...\n",
      "[nltk_data]   Package stopwords is already up-to-date!\n",
      "[nltk_data] Downloading package punkt to /Users/benedikt/nltk_data...\n",
      "[nltk_data]   Package punkt is already up-to-date!\n"
     ]
    },
    {
     "name": "stdout",
     "output_type": "stream",
     "text": [
      "Average number of words per review: 58.030869454142895\n",
      "10 most common words using nltk: [('dress', 10497), ('love', 8940), ('size', 8700), ('top', 7348), ('fit', 7275), ('like', 7010), ('wear', 6422), ('great', 6100), ('would', 5428), ('5', 5007)]\n",
      "10 most common words using spacy: [('dress', 10542), ('love', 8946), ('size', 8751), ('fit', 7309), ('like', 7145), ('wear', 6436), ('great', 6103), ('fabric', 4790), ('small', 4704), ('color', 4593)]\n",
      "Total unique words using nltk: 13768\n",
      "Total unique words using spacy: 13231\n"
     ]
    }
   ],
   "source": [
    "import nltk\n",
    "from collections import Counter\n",
    "import spacy\n",
    "from nltk.corpus import stopwords\n",
    "from nltk.tokenize import word_tokenize\n",
    "\n",
    "# Download the stopwords from nltk\n",
    "nltk.download('stopwords')\n",
    "nltk.download('punkt')\n",
    "# Initialize spacy model\n",
    "nlp = spacy.load('en_core_web_sm')\n",
    "\n",
    "# Handle missing values by filling them with an empty string\n",
    "df[\"Review Text\"] = df[\"Review Text\"].fillna(\"\")\n",
    "\n",
    "df_lower = df[\"Review Text\"].str.lower()\n",
    "\n",
    "average_words_per_review = df_lower.str.split().str.len().mean()\n",
    "print(f\"Average number of words per review: {average_words_per_review}\")\n",
    "\n",
    "# Remove stopwords and tokenize using nltk\n",
    "stop_words = set(stopwords.words('english'))\n",
    "df_lower_no_stopwords = df_lower.apply(lambda x: ' '.join([word for word in word_tokenize(x) if word.isalnum() and word not in stop_words]))\n",
    "\n",
    "# Find the 10 most common words using nltk\n",
    "all_words = ' '.join(df_lower_no_stopwords).split()\n",
    "word_freq_nltk = Counter(all_words)\n",
    "common_words_nltk = word_freq_nltk.most_common(10)\n",
    "print(f\"10 most common words using nltk: {common_words_nltk}\")\n",
    "\n",
    "# Tokenize and remove stopwords using spacy\n",
    "df_lower_no_stopwords_spacy = df_lower.apply(lambda x: ' '.join([token.text for token in nlp(x) if not token.is_stop and token.is_alpha]))\n",
    "\n",
    "# Find the 10 most common words using spacy\n",
    "all_words_spacy = ' '.join(df_lower_no_stopwords_spacy).split()\n",
    "word_freq_spacy = Counter(all_words_spacy)\n",
    "common_words_spacy = word_freq_spacy.most_common(10)\n",
    "print(f\"10 most common words using spacy: {common_words_spacy}\")\n",
    "\n",
    "# Count unique words using nltk\n",
    "unique_words_nltk = len(set(all_words))\n",
    "print(f\"Total unique words using nltk: {unique_words_nltk}\")\n",
    "\n",
    "# Count unique words using spacy\n",
    "unique_words_spacy = len(set(all_words_spacy))\n",
    "print(f\"Total unique words using spacy: {unique_words_spacy}\")"
   ]
  },
  {
   "cell_type": "markdown",
   "metadata": {},
   "source": [
    "Identifizieren Sie Produktmarken, Größenangaben und andere relevante Entities in den Reviews.\n",
    "\n",
    "- Welche Entities werden in diesem Review erkannt?\n",
    "- Welche Größenangaben kommen in den Reviews am häufigsten vor?\n",
    "- Welche Produkttypen werden am häufigsten genannt?"
   ]
  },
  {
   "cell_type": "code",
   "execution_count": 5,
   "metadata": {},
   "outputs": [
    {
     "name": "stdout",
     "output_type": "stream",
     "text": [
      "                                         Review Text  \\\n",
      "0  Absolutely wonderful - silky and sexy and comf...   \n",
      "1  Love this dress!  it's sooo pretty.  i happene...   \n",
      "2  I had such high hopes for this dress and reall...   \n",
      "3  I love, love, love this jumpsuit. it's fun, fl...   \n",
      "4  This shirt is very flattering to all due to th...   \n",
      "\n",
      "                               entities  \n",
      "0                                    []  \n",
      "1                     [(5'8, CARDINAL)]  \n",
      "2  [(half, CARDINAL), (half, CARDINAL)]  \n",
      "3                                    []  \n",
      "4                                    []  \n",
      "Most common sizes: [('a ton', 75), ('a few inches', 36), ('5 feet', 29), ('a couple inches', 16), ('about 2 inches', 14), ('2 inches', 14), ('120 pounds', 13), ('130 pounds', 13), ('a couple of inches', 12), ('145 pounds', 12)]\n",
      "Most common product types: [('billowy', 3), ('0-2/xs', 1), ('macintosh', 1), ('buttons.i', 1), (\"5'9\", 1), ('dd34', 1), ('sz26', 1), ('yuck', 1), ('quality.verses', 1), ('dress.fabric', 1)]\n"
     ]
    }
   ],
   "source": [
    "# Extract entities from the reviews using spacy\n",
    "df['entities'] = df_lower.apply(lambda x: [(ent.text, ent.label_) for ent in nlp(x).ents])\n",
    "\n",
    "# Display the first few rows of the dataframe with entities\n",
    "print(df[['Review Text', 'entities']].head())\n",
    "\n",
    "# Extract sizes and product types from the entities\n",
    "sizes = []\n",
    "product_types = []\n",
    "\n",
    "for entities in df['entities']:\n",
    "    for entity in entities:\n",
    "        if entity[1] == 'QUANTITY':\n",
    "            sizes.append(entity[0])\n",
    "        elif entity[1] == 'PRODUCT':\n",
    "            product_types.append(entity[0])\n",
    "\n",
    "# Find the most common sizes and product types\n",
    "common_sizes = Counter(sizes).most_common(10)\n",
    "common_product_types = Counter(product_types).most_common(10)\n",
    "\n",
    "print(f\"Most common sizes: {common_sizes}\")\n",
    "print(f\"Most common product types: {common_product_types}\")"
   ]
  },
  {
   "cell_type": "code",
   "execution_count": 8,
   "metadata": {},
   "outputs": [
    {
     "name": "stderr",
     "output_type": "stream",
     "text": [
      "[nltk_data] Downloading package vader_lexicon to\n",
      "[nltk_data]     /Users/benedikt/nltk_data...\n",
      "[nltk_data]   Package vader_lexicon is already up-to-date!\n"
     ]
    },
    {
     "name": "stdout",
     "output_type": "stream",
     "text": [
      "                                         Review Text  polarity_textblob  \\\n",
      "0  Absolutely wonderful - silky and sexy and comf...           0.633333   \n",
      "1  Love this dress!  it's sooo pretty.  i happene...           0.339583   \n",
      "2  I had such high hopes for this dress and reall...           0.073675   \n",
      "3  I love, love, love this jumpsuit. it's fun, fl...           0.550000   \n",
      "4  This shirt is very flattering to all due to th...           0.512891   \n",
      "\n",
      "   polarity_nltk  polarity_spacy  \n",
      "0         0.8932        0.633333  \n",
      "1         0.9729        0.339583  \n",
      "2         0.9427        0.073675  \n",
      "3         0.5727        0.550000  \n",
      "4         0.9291        0.512891  \n"
     ]
    }
   ],
   "source": [
    "from textblob import TextBlob\n",
    "from spacy.tokens import Doc\n",
    "\n",
    "nltk.download('vader_lexicon')\n",
    "\n",
    "# Register the polarity extension with spaCy\n",
    "Doc.set_extension('polarity', getter=lambda doc: TextBlob(doc.text).sentiment.polarity)\n",
    "\n",
    "# Function to get the polarity of a review using TextBlob\n",
    "def get_polarity_textblob(text):\n",
    "    return TextBlob(text).sentiment.polarity\n",
    "\n",
    "# Function to get the polarity of a review using nltk\n",
    "def get_polarity_nltk(text):\n",
    "    from nltk.sentiment.vader import SentimentIntensityAnalyzer\n",
    "    sia = SentimentIntensityAnalyzer()\n",
    "    return sia.polarity_scores(text)['compound']\n",
    "\n",
    "# Function to get the polarity of a review using spacy\n",
    "def get_polarity_spacy(text):\n",
    "    doc = nlp(text)\n",
    "    return doc._.polarity\n",
    "\n",
    "# Apply the functions to the 'Review Text' column\n",
    "df['polarity_textblob'] = df['Review Text'].apply(get_polarity_textblob)\n",
    "df['polarity_nltk'] = df['Review Text'].apply(get_polarity_nltk)\n",
    "df['polarity_spacy'] = df['Review Text'].apply(get_polarity_spacy)\n",
    "\n",
    "# Display the first few rows of the dataframe with polarity\n",
    "print(df[['Review Text', 'polarity_textblob', 'polarity_nltk', 'polarity_spacy']].head())"
   ]
  },
  {
   "cell_type": "code",
   "execution_count": null,
   "metadata": {},
   "outputs": [
    {
     "data": {
      "text/plain": [
       "0        Absolutely wonderful - silky and sexy and comf...\n",
       "1        Love this dress!  it's sooo pretty.  i happene...\n",
       "2        I had such high hopes for this dress and reall...\n",
       "3        I love, love, love this jumpsuit. it's fun, fl...\n",
       "4        This shirt is very flattering to all due to th...\n",
       "                               ...                        \n",
       "23481    I was very happy to snag this dress at such a ...\n",
       "23482    It reminds me of maternity clothes. soft, stre...\n",
       "23483    This fit well, but the top was very see throug...\n",
       "23484    I bought this dress for a wedding i have this ...\n",
       "23485    This dress in a lovely platinum is feminine an...\n",
       "Name: Review Text, Length: 23486, dtype: object"
      ]
     },
     "execution_count": 15,
     "metadata": {},
     "output_type": "execute_result"
    }
   ],
   "source": [
    "from nltk.sentiment.vader import SentimentIntensityAnalyzer\n",
    "import nltk\n",
    "df = pd.read_csv('data/Womens Clothing E-Commerce Reviews.csv', index_col=0)\n",
    "df.head()\n",
    "\n",
    "# nltk.download('vader_lexicon')\n",
    "\n",
    "model = SentimentIntensityAnalyzer()\n",
    "\n",
    "\n",
    "df[\"Review Text\"] = df[\"Review Text\"].fillna(\"\")\n",
    "df[\"Review Text\"]"
   ]
  },
  {
   "cell_type": "code",
   "execution_count": 39,
   "metadata": {},
   "outputs": [
    {
     "name": "stderr",
     "output_type": "stream",
     "text": [
      "[nltk_data] Downloading package punkt_tab to\n",
      "[nltk_data]     /Users/benedikt/nltk_data...\n",
      "[nltk_data]   Package punkt_tab is already up-to-date!\n"
     ]
    },
    {
     "data": {
      "text/plain": [
       "0        1.6092\n",
       "1        3.4903\n",
       "2        1.9360\n",
       "3        4.1279\n",
       "4        1.8002\n",
       "          ...  \n",
       "23481    1.6822\n",
       "23482    1.0498\n",
       "23483    1.9204\n",
       "23484    2.2763\n",
       "23485    2.0244\n",
       "Name: vader_scores, Length: 23486, dtype: float64"
      ]
     },
     "execution_count": 39,
     "metadata": {},
     "output_type": "execute_result"
    }
   ],
   "source": [
    "from nltk.tokenize import word_tokenize\n",
    "import numpy as np\n",
    "\n",
    "nltk.download(\"punkt_tab\")\n",
    "# zu hause\n",
    "# nltk.download(\"all\")\n",
    "\n",
    "\n",
    "def get_vader_score(review):\n",
    "    tokenized_words = word_tokenize(review)\n",
    "    return np.sum([model.polarity_scores(tokenized_word)['compound'] for tokenized_word in tokenized_words])\n",
    "\n",
    "df[\"vader_scores\"] = df[\"Review Text\"].apply(get_vader_score)\n",
    "df[\"vader_scores\"]"
   ]
  },
  {
   "cell_type": "code",
   "execution_count": 5,
   "metadata": {},
   "outputs": [
    {
     "name": "stdout",
     "output_type": "stream",
     "text": [
      "                                         Review Text  \\\n",
      "0  Absolutely wonderful - silky and sexy and comf...   \n",
      "1  Love this dress!  it's sooo pretty.  i happene...   \n",
      "2  I had such high hopes for this dress and reall...   \n",
      "3  I love, love, love this jumpsuit. it's fun, fl...   \n",
      "4  This shirt is very flattering to all due to th...   \n",
      "\n",
      "                                       word_polarity  \n",
      "0  {'Absolutely': 0.0, 'wonderful': 0.5719, '-': ...  \n",
      "1  {'Love': 0.6369, 'this': 0.0, 'dress': 0.0, '!...  \n",
      "2  {'I': 0.0, 'had': 0.0, 'such': 0.0, 'high': 0....  \n",
      "3  {'I': 0.0, 'love': 0.6369, ',': 0.0, 'this': 0...  \n",
      "4  {'This': 0.0, 'shirt': 0.0, 'is': 0.0, 'very':...  \n"
     ]
    }
   ],
   "source": [
    "from nltk.sentiment.vader import SentimentIntensityAnalyzer\n",
    "from nltk.tokenize import word_tokenize\n",
    "\n",
    "\n",
    "sia = SentimentIntensityAnalyzer()\n",
    "\n",
    "\n",
    "def get_word_polarity(review):\n",
    "    words = word_tokenize(review)\n",
    "    return {word: sia.polarity_scores(word)['compound'] for word in words}\n",
    "\n",
    "\n",
    "df['Review Text'] = df['Review Text'].fillna('')\n",
    "df['word_polarity'] = df['Review Text'].apply(get_word_polarity)\n",
    "\n",
    "print(df[['Review Text', 'word_polarity']].head())"
   ]
  },
  {
   "cell_type": "code",
   "execution_count": 6,
   "metadata": {},
   "outputs": [
    {
     "name": "stdout",
     "output_type": "stream",
     "text": [
      "                                         Review Text  polarity_score\n",
      "0  Absolutely wonderful - silky and sexy and comf...          0.8932\n",
      "1  Love this dress!  it's sooo pretty.  i happene...          0.9729\n",
      "2  I had such high hopes for this dress and reall...          0.9427\n",
      "3  I love, love, love this jumpsuit. it's fun, fl...          0.5727\n",
      "4  This shirt is very flattering to all due to th...          0.9291\n"
     ]
    }
   ],
   "source": [
    "df['polarity_score'] = df['Review Text'].apply(lambda x: sia.polarity_scores(x)['compound'])\n",
    "\n",
    "print(df[['Review Text', 'polarity_score']].head())"
   ]
  },
  {
   "cell_type": "code",
   "execution_count": 24,
   "metadata": {},
   "outputs": [],
   "source": [
    "df[\"Review Length (split ' ')\"] = df[\"Review Text\"].str.split().apply(len)\n",
    "df[\"Review Length (word_tokens)\"] = df[\"Review Text\"].apply(lambda x: len(word_tokenize(x) if isinstance(x, str) else 0))"
   ]
  },
  {
   "cell_type": "code",
   "execution_count": 30,
   "metadata": {},
   "outputs": [
    {
     "name": "stdout",
     "output_type": "stream",
     "text": [
      "count    23486.000000\n",
      "mean        66.987865\n",
      "std         34.509467\n",
      "min          0.000000\n",
      "25%         39.000000\n",
      "50%         66.000000\n",
      "75%        101.000000\n",
      "max        139.000000\n",
      "Name: Review Length (word_tokens), dtype: float64\n",
      "count    23486.000000\n",
      "mean        58.030869\n",
      "std         30.176433\n",
      "min          0.000000\n",
      "25%         34.000000\n",
      "50%         57.000000\n",
      "75%         87.000000\n",
      "max        115.000000\n",
      "Name: Review Length (split ' '), dtype: float64\n"
     ]
    }
   ],
   "source": [
    "print(df[\"Review Length (word_tokens)\"].describe())\n",
    "print(df[\"Review Length (split ' ')\"].describe())"
   ]
  },
  {
   "cell_type": "code",
   "execution_count": 41,
   "metadata": {},
   "outputs": [
    {
     "data": {
      "text/plain": [
       "<Axes: xlabel='Rating', ylabel='vader_scores'>"
      ]
     },
     "execution_count": 41,
     "metadata": {},
     "output_type": "execute_result"
    },
    {
     "data": {
      "image/png": "[encoded data removed]",
      "text/plain": [
       "<Figure size 640x480 with 1 Axes>"
      ]
     },
     "metadata": {},
     "output_type": "display_data"
    }
   ],
   "source": [
    "import seaborn as sns \n",
    "\n",
    "sns.boxplot(df, x=\"Rating\", y=\"vader_scores\")"
   ]
  }
 ],
 "metadata": {
  "kernelspec": {
   "display_name": "venv",
   "language": "python",
   "name": "python3"
  },
  "language_info": {
   "codemirror_mode": {
    "name": "ipython",
    "version": 3
   },
   "file_extension": ".py",
   "mimetype": "text/x-python",
   "name": "python",
   "nbconvert_exporter": "python",
   "pygments_lexer": "ipython3",
   "version": "3.12.7"
  }
 },
 "nbformat": 4,
 "nbformat_minor": 2
}
